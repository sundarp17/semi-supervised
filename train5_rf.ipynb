{
  "nbformat": 4,
  "nbformat_minor": 0,
  "metadata": {
    "colab": {
      "name": "train5_rf.ipynb",
      "provenance": [],
      "authorship_tag": "ABX9TyP9RVnhpXfzsAm4y77u3PPZ",
      "include_colab_link": true
    },
    "kernelspec": {
      "name": "python3",
      "display_name": "Python 3"
    }
  },
  "cells": [
    {
      "cell_type": "markdown",
      "metadata": {
        "id": "view-in-github",
        "colab_type": "text"
      },
      "source": [
        "<a href=\"https://colab.research.google.com/github/sundarp17/semi-supervised/blob/main/train5_rf.ipynb\" target=\"_parent\"><img src=\"https://colab.research.google.com/assets/colab-badge.svg\" alt=\"Open In Colab\"/></a>"
      ]
    },
    {
      "cell_type": "code",
      "metadata": {
        "id": "BSNaH-G5e9XK"
      },
      "source": [
        "import numpy as np\r\n",
        "import pandas as pd"
      ],
      "execution_count": null,
      "outputs": []
    },
    {
      "cell_type": "code",
      "metadata": {
        "id": "yMMnSj98r48p"
      },
      "source": [
        "\r\n",
        "train5 = pd.read_csv(r'/content/train_data5.csv')\r\n",
        "test = pd.read_csv(r'/content/test_data.csv')"
      ],
      "execution_count": null,
      "outputs": []
    },
    {
      "cell_type": "code",
      "metadata": {
        "id": "YXsEmIOrr8sa"
      },
      "source": [
        "\r\n",
        "train5['Target'] = train5['Target'].replace(['Others'],'Invalid')\r\n"
      ],
      "execution_count": null,
      "outputs": []
    },
    {
      "cell_type": "code",
      "metadata": {
        "colab": {
          "base_uri": "https://localhost:8080/"
        },
        "id": "gyCyM6OHsExq",
        "outputId": "e6dc25b5-7c74-455d-d03d-78b5d4dfee5f"
      },
      "source": [
        "train5['Target'].unique()"
      ],
      "execution_count": null,
      "outputs": [
        {
          "output_type": "execute_result",
          "data": {
            "text/plain": [
              "array(['Invalid', 'Issue', 'Analysis', 'Facts', 'Conclusion',\n",
              "       'Rule/Law/Holding'], dtype=object)"
            ]
          },
          "metadata": {
            "tags": []
          },
          "execution_count": 4
        }
      ]
    },
    {
      "cell_type": "code",
      "metadata": {
        "colab": {
          "base_uri": "https://localhost:8080/"
        },
        "id": "XRWq-Ak9sGCr",
        "outputId": "b4bf771a-4f21-46e0-d3e0-7dc72de173a9"
      },
      "source": [
        "#cleaning\r\n",
        "import nltk\r\n",
        "import re\r\n",
        "import string\r\n",
        "nltk.download('stopwords')\r\n",
        "nltk.download('wordnet')\r\n",
        "stopword=nltk.corpus.stopwords.words('english')\r\n",
        "from nltk.stem import WordNetLemmatizer\r\n",
        "wl= WordNetLemmatizer()\r\n",
        "\r\n",
        "def clean_text(text):\r\n",
        "  text=\"\".join([word.lower() for word in text if word not in string.punctuation])\r\n",
        "  tokens = re.split('\\W+',text)\r\n",
        "  text = [wl.lemmatize(word) for word in tokens if word not in stopword]\r\n",
        "  return text"
      ],
      "execution_count": null,
      "outputs": [
        {
          "output_type": "stream",
          "text": [
            "[nltk_data] Downloading package stopwords to /root/nltk_data...\n",
            "[nltk_data]   Unzipping corpora/stopwords.zip.\n",
            "[nltk_data] Downloading package wordnet to /root/nltk_data...\n",
            "[nltk_data]   Unzipping corpora/wordnet.zip.\n"
          ],
          "name": "stdout"
        }
      ]
    },
    {
      "cell_type": "code",
      "metadata": {
        "id": "fAVBbrf8sLpd"
      },
      "source": [
        "from sklearn.feature_extraction.text import TfidfVectorizer\r\n",
        "\r\n",
        "tfidf_vect = TfidfVectorizer(analyzer = clean_text)\r\n",
        "\r\n",
        "train5_Xtfidf = tfidf_vect.fit_transform(train5['Sentence'])\r\n"
      ],
      "execution_count": null,
      "outputs": []
    },
    {
      "cell_type": "code",
      "metadata": {
        "id": "LiDNOGMlsXjn"
      },
      "source": [
        "test['Target']=test['Target'].replace(['Others'],'Invalid')\r\n",
        "test['Sentence'] = test['Sentence'].apply(lambda x: \" \".join(x.lower() for x in str(x).split()))\r\n",
        "test['Sentence'] = test['Sentence'].str.replace('[^\\w\\s]','')\r\n",
        "from nltk.corpus import stopwords\r\n",
        "words = stopwords.words('english')\r\n",
        "test['Sentence'] = test['Sentence'].apply(lambda x: \" \".join(x for x in x.split() if x not in words))"
      ],
      "execution_count": null,
      "outputs": []
    },
    {
      "cell_type": "code",
      "metadata": {
        "colab": {
          "base_uri": "https://localhost:8080/"
        },
        "id": "kiXsxzUysh_t",
        "outputId": "554b2bc9-06a3-4556-fcd8-b017cb695714"
      },
      "source": [
        "unlabel_1 = test.loc[:100]\r\n",
        "print(\"length of unlabel_1\",len(unlabel_1))\r\n",
        "unlabel_2 = test.loc[101:200]\r\n",
        "print(\"length of unlabel_2\",len(unlabel_2))\r\n",
        "unlabel_3 = test.loc[201:300]\r\n",
        "print(\"length of unlabel_3\",len(unlabel_3))\r\n",
        "unlabel_4 = test.loc[301:400]\r\n",
        "print(\"length of unlabel_4\",len(unlabel_4))\r\n",
        "unlabel_5 = test.loc[401:]\r\n",
        "print(\"length of unlabel_5\",len(unlabel_5))"
      ],
      "execution_count": null,
      "outputs": [
        {
          "output_type": "stream",
          "text": [
            "length of unlabel_1 101\n",
            "length of unlabel_2 100\n",
            "length of unlabel_3 100\n",
            "length of unlabel_4 100\n",
            "length of unlabel_5 120\n"
          ],
          "name": "stdout"
        }
      ]
    },
    {
      "cell_type": "code",
      "metadata": {
        "colab": {
          "base_uri": "https://localhost:8080/",
          "height": 195
        },
        "id": "fjmpfwMKsnAk",
        "outputId": "87aaf801-2a47-4e74-ab8c-8c3b865b766b"
      },
      "source": [
        "unlabel_2.reset_index(inplace=True)\r\n",
        "del unlabel_2['index']\r\n",
        "unlabel_2.head()"
      ],
      "execution_count": null,
      "outputs": [
        {
          "output_type": "execute_result",
          "data": {
            "text/html": [
              "<div>\n",
              "<style scoped>\n",
              "    .dataframe tbody tr th:only-of-type {\n",
              "        vertical-align: middle;\n",
              "    }\n",
              "\n",
              "    .dataframe tbody tr th {\n",
              "        vertical-align: top;\n",
              "    }\n",
              "\n",
              "    .dataframe thead th {\n",
              "        text-align: right;\n",
              "    }\n",
              "</style>\n",
              "<table border=\"1\" class=\"dataframe\">\n",
              "  <thead>\n",
              "    <tr style=\"text-align: right;\">\n",
              "      <th></th>\n",
              "      <th>Unnamed: 0</th>\n",
              "      <th>Sentence</th>\n",
              "      <th>Target</th>\n",
              "    </tr>\n",
              "  </thead>\n",
              "  <tbody>\n",
              "    <tr>\n",
              "      <th>0</th>\n",
              "      <td>1207</td>\n",
              "      <td>examination occurred night middle may testifie...</td>\n",
              "      <td>Invalid</td>\n",
              "    </tr>\n",
              "    <tr>\n",
              "      <th>1</th>\n",
              "      <td>3400</td>\n",
              "      <td>undisputed testimony reflects appellant drivin...</td>\n",
              "      <td>Facts</td>\n",
              "    </tr>\n",
              "    <tr>\n",
              "      <th>2</th>\n",
              "      <td>2072</td>\n",
              "      <td>appellant testify offer evidence behalf</td>\n",
              "      <td>Facts</td>\n",
              "    </tr>\n",
              "    <tr>\n",
              "      <th>3</th>\n",
              "      <td>517</td>\n",
              "      <td>56 uniform act regulating traffic highways gis...</td>\n",
              "      <td>Rule/Law/Holding</td>\n",
              "    </tr>\n",
              "    <tr>\n",
              "      <th>4</th>\n",
              "      <td>906</td>\n",
              "      <td>agreed accompany gave pawn ticket money reclai...</td>\n",
              "      <td>Facts</td>\n",
              "    </tr>\n",
              "  </tbody>\n",
              "</table>\n",
              "</div>"
            ],
            "text/plain": [
              "   Unnamed: 0  ...            Target\n",
              "0        1207  ...           Invalid\n",
              "1        3400  ...             Facts\n",
              "2        2072  ...             Facts\n",
              "3         517  ...  Rule/Law/Holding\n",
              "4         906  ...             Facts\n",
              "\n",
              "[5 rows x 3 columns]"
            ]
          },
          "metadata": {
            "tags": []
          },
          "execution_count": 9
        }
      ]
    },
    {
      "cell_type": "code",
      "metadata": {
        "colab": {
          "base_uri": "https://localhost:8080/",
          "height": 195
        },
        "id": "or3mI32wsupE",
        "outputId": "f4ecbe37-27f9-44a2-9acd-7f19abf3b03c"
      },
      "source": [
        "unlabel_3.reset_index(inplace=True)\r\n",
        "del unlabel_3['index']\r\n",
        "unlabel_3.head()"
      ],
      "execution_count": null,
      "outputs": [
        {
          "output_type": "execute_result",
          "data": {
            "text/html": [
              "<div>\n",
              "<style scoped>\n",
              "    .dataframe tbody tr th:only-of-type {\n",
              "        vertical-align: middle;\n",
              "    }\n",
              "\n",
              "    .dataframe tbody tr th {\n",
              "        vertical-align: top;\n",
              "    }\n",
              "\n",
              "    .dataframe thead th {\n",
              "        text-align: right;\n",
              "    }\n",
              "</style>\n",
              "<table border=\"1\" class=\"dataframe\">\n",
              "  <thead>\n",
              "    <tr style=\"text-align: right;\">\n",
              "      <th></th>\n",
              "      <th>Unnamed: 0</th>\n",
              "      <th>Sentence</th>\n",
              "      <th>Target</th>\n",
              "    </tr>\n",
              "  </thead>\n",
              "  <tbody>\n",
              "    <tr>\n",
              "      <th>0</th>\n",
              "      <td>1882</td>\n",
              "      <td>find evidence amply sufficient sustain juryâs ...</td>\n",
              "      <td>Analysis</td>\n",
              "    </tr>\n",
              "    <tr>\n",
              "      <th>1</th>\n",
              "      <td>964</td>\n",
              "      <td>actions show thatâ</td>\n",
              "      <td>Invalid</td>\n",
              "    </tr>\n",
              "    <tr>\n",
              "      <th>2</th>\n",
              "      <td>1417</td>\n",
              "      <td>certification attending physician shown filed ...</td>\n",
              "      <td>Facts</td>\n",
              "    </tr>\n",
              "    <tr>\n",
              "      <th>3</th>\n",
              "      <td>2932</td>\n",
              "      <td>testified agent bland first left automobile wa...</td>\n",
              "      <td>Facts</td>\n",
              "    </tr>\n",
              "    <tr>\n",
              "      <th>4</th>\n",
              "      <td>1584</td>\n",
              "      <td>officer testified could smell odor alcohol app...</td>\n",
              "      <td>Facts</td>\n",
              "    </tr>\n",
              "  </tbody>\n",
              "</table>\n",
              "</div>"
            ],
            "text/plain": [
              "   Unnamed: 0                                           Sentence    Target\n",
              "0        1882  find evidence amply sufficient sustain juryâs ...  Analysis\n",
              "1         964                                 actions show thatâ   Invalid\n",
              "2        1417  certification attending physician shown filed ...     Facts\n",
              "3        2932  testified agent bland first left automobile wa...     Facts\n",
              "4        1584  officer testified could smell odor alcohol app...     Facts"
            ]
          },
          "metadata": {
            "tags": []
          },
          "execution_count": 10
        }
      ]
    },
    {
      "cell_type": "code",
      "metadata": {
        "colab": {
          "base_uri": "https://localhost:8080/",
          "height": 195
        },
        "id": "2xe3MWluszTz",
        "outputId": "7c209a72-5502-4e3d-ba39-5dfa952e318c"
      },
      "source": [
        "unlabel_4.reset_index(inplace=True)\r\n",
        "del unlabel_4['index']\r\n",
        "unlabel_4.head()"
      ],
      "execution_count": null,
      "outputs": [
        {
          "output_type": "execute_result",
          "data": {
            "text/html": [
              "<div>\n",
              "<style scoped>\n",
              "    .dataframe tbody tr th:only-of-type {\n",
              "        vertical-align: middle;\n",
              "    }\n",
              "\n",
              "    .dataframe tbody tr th {\n",
              "        vertical-align: top;\n",
              "    }\n",
              "\n",
              "    .dataframe thead th {\n",
              "        text-align: right;\n",
              "    }\n",
              "</style>\n",
              "<table border=\"1\" class=\"dataframe\">\n",
              "  <thead>\n",
              "    <tr style=\"text-align: right;\">\n",
              "      <th></th>\n",
              "      <th>Unnamed: 0</th>\n",
              "      <th>Sentence</th>\n",
              "      <th>Target</th>\n",
              "    </tr>\n",
              "  </thead>\n",
              "  <tbody>\n",
              "    <tr>\n",
              "      <th>0</th>\n",
              "      <td>266</td>\n",
              "      <td>section 6 pl</td>\n",
              "      <td>Invalid</td>\n",
              "    </tr>\n",
              "    <tr>\n",
              "      <th>1</th>\n",
              "      <td>3469</td>\n",
              "      <td>amended answer appellant alleged bond invalid ...</td>\n",
              "      <td>Analysis</td>\n",
              "    </tr>\n",
              "    <tr>\n",
              "      <th>2</th>\n",
              "      <td>1471</td>\n",
              "      <td>evidence sufficient support conviction appella...</td>\n",
              "      <td>Analysis</td>\n",
              "    </tr>\n",
              "    <tr>\n",
              "      <th>3</th>\n",
              "      <td>1990</td>\n",
              "      <td>cases cited note 19</td>\n",
              "      <td>Invalid</td>\n",
              "    </tr>\n",
              "    <tr>\n",
              "      <th>4</th>\n",
              "      <td>2757</td>\n",
              "      <td>july 8 1960 order entered revoking said probat...</td>\n",
              "      <td>Facts</td>\n",
              "    </tr>\n",
              "  </tbody>\n",
              "</table>\n",
              "</div>"
            ],
            "text/plain": [
              "   Unnamed: 0                                           Sentence    Target\n",
              "0         266                                       section 6 pl   Invalid\n",
              "1        3469  amended answer appellant alleged bond invalid ...  Analysis\n",
              "2        1471  evidence sufficient support conviction appella...  Analysis\n",
              "3        1990                                cases cited note 19   Invalid\n",
              "4        2757  july 8 1960 order entered revoking said probat...     Facts"
            ]
          },
          "metadata": {
            "tags": []
          },
          "execution_count": 11
        }
      ]
    },
    {
      "cell_type": "code",
      "metadata": {
        "colab": {
          "base_uri": "https://localhost:8080/",
          "height": 195
        },
        "id": "-dCJpImWtH8K",
        "outputId": "388a31ad-377b-4c6d-8008-6af5fa9561ed"
      },
      "source": [
        "unlabel_5.reset_index(inplace=True)\r\n",
        "del unlabel_5['index']\r\n",
        "unlabel_5.head()"
      ],
      "execution_count": null,
      "outputs": [
        {
          "output_type": "execute_result",
          "data": {
            "text/html": [
              "<div>\n",
              "<style scoped>\n",
              "    .dataframe tbody tr th:only-of-type {\n",
              "        vertical-align: middle;\n",
              "    }\n",
              "\n",
              "    .dataframe tbody tr th {\n",
              "        vertical-align: top;\n",
              "    }\n",
              "\n",
              "    .dataframe thead th {\n",
              "        text-align: right;\n",
              "    }\n",
              "</style>\n",
              "<table border=\"1\" class=\"dataframe\">\n",
              "  <thead>\n",
              "    <tr style=\"text-align: right;\">\n",
              "      <th></th>\n",
              "      <th>Unnamed: 0</th>\n",
              "      <th>Sentence</th>\n",
              "      <th>Target</th>\n",
              "    </tr>\n",
              "  </thead>\n",
              "  <tbody>\n",
              "    <tr>\n",
              "      <th>0</th>\n",
              "      <td>2979</td>\n",
              "      <td>overrule appellantâs contention court erred pe...</td>\n",
              "      <td>Analysis</td>\n",
              "    </tr>\n",
              "    <tr>\n",
              "      <th>1</th>\n",
              "      <td>2135</td>\n",
              "      <td>state regarded authority case</td>\n",
              "      <td>Invalid</td>\n",
              "    </tr>\n",
              "    <tr>\n",
              "      <th>2</th>\n",
              "      <td>1591</td>\n",
              "      <td>testimony adduced appellant mother lillie mae ...</td>\n",
              "      <td>Facts</td>\n",
              "    </tr>\n",
              "    <tr>\n",
              "      <th>3</th>\n",
              "      <td>658</td>\n",
              "      <td>appellant needle marks inside left elbow</td>\n",
              "      <td>Facts</td>\n",
              "    </tr>\n",
              "    <tr>\n",
              "      <th>4</th>\n",
              "      <td>2562</td>\n",
              "      <td>analysis contents 3 capsules chemist kenneth a...</td>\n",
              "      <td>Facts</td>\n",
              "    </tr>\n",
              "  </tbody>\n",
              "</table>\n",
              "</div>"
            ],
            "text/plain": [
              "   Unnamed: 0                                           Sentence    Target\n",
              "0        2979  overrule appellantâs contention court erred pe...  Analysis\n",
              "1        2135                      state regarded authority case   Invalid\n",
              "2        1591  testimony adduced appellant mother lillie mae ...     Facts\n",
              "3         658           appellant needle marks inside left elbow     Facts\n",
              "4        2562  analysis contents 3 capsules chemist kenneth a...     Facts"
            ]
          },
          "metadata": {
            "tags": []
          },
          "execution_count": 12
        }
      ]
    },
    {
      "cell_type": "code",
      "metadata": {
        "colab": {
          "base_uri": "https://localhost:8080/"
        },
        "id": "Nep-udrpCJOC",
        "outputId": "95b16a62-728c-47f3-e0cc-09c8ba3455cf"
      },
      "source": [
        "from sklearn.model_selection import train_test_split\r\n",
        "from sklearn.ensemble import RandomForestClassifier\r\n",
        "from sklearn.metrics import accuracy_score\r\n",
        "from sklearn.metrics import classification_report\r\n",
        "from sklearn.calibration import CalibratedClassifierCV\r\n",
        "\r\n",
        "\r\n",
        "X_train, x_val, Y_train, y_val = train_test_split(train5_Xtfidf,train5['Target'],test_size=0.26,random_state=42)\r\n",
        "support = RandomForestClassifier()\r\n",
        "clf = support.fit(X_train, Y_train)\r\n",
        "calibrator = CalibratedClassifierCV(clf, cv='prefit')\r\n",
        "model=calibrator.fit(X_train, Y_train)\r\n",
        "pred_svm = model.predict(x_val)\r\n",
        "print('Accuracy %s' % accuracy_score(pred_svm,y_val))\r\n",
        "print(classification_report(y_val,pred_svm))"
      ],
      "execution_count": null,
      "outputs": [
        {
          "output_type": "stream",
          "text": [
            "Accuracy 0.6736725663716814\n",
            "                  precision    recall  f1-score   support\n",
            "\n",
            "        Analysis       0.53      0.33      0.40       126\n",
            "      Conclusion       0.68      0.42      0.52        45\n",
            "           Facts       0.73      0.89      0.80       483\n",
            "         Invalid       0.52      0.56      0.54       133\n",
            "           Issue       0.61      0.48      0.53        48\n",
            "Rule/Law/Holding       0.68      0.30      0.42        69\n",
            "\n",
            "        accuracy                           0.67       904\n",
            "       macro avg       0.63      0.50      0.54       904\n",
            "    weighted avg       0.66      0.67      0.65       904\n",
            "\n"
          ],
          "name": "stdout"
        }
      ]
    },
    {
      "cell_type": "code",
      "metadata": {
        "id": "7r9d3GPtCuWA"
      },
      "source": [
        "x_un1 = tfidf_vect.transform(unlabel_1['Sentence'])\r\n",
        "pred_unlabel_1 = model.predict_proba(x_un1)"
      ],
      "execution_count": null,
      "outputs": []
    },
    {
      "cell_type": "code",
      "metadata": {
        "colab": {
          "base_uri": "https://localhost:8080/"
        },
        "id": "wFMRO90AC6d2",
        "outputId": "90576792-3574-4841-f60f-4aced2185d6f"
      },
      "source": [
        "import numpy as np\r\n",
        "pos=[]\r\n",
        "large=[]\r\n",
        "ind = []\r\n",
        "i=0\r\n",
        "for j in pred_unlabel_1:\r\n",
        "  if max(j)> 0.98:\r\n",
        "    ind.append(np.argmax(j))\r\n",
        "    large.append(max(j))\r\n",
        "    pos.append(i)\r\n",
        "  i+=1\r\n",
        "\r\n",
        "\r\n",
        "print(ind)\r\n",
        "print(large)\r\n",
        "print(pos)\r\n",
        "print(len(ind))\r\n",
        "print(len(large))\r\n",
        "print(len(pos))"
      ],
      "execution_count": null,
      "outputs": [
        {
          "output_type": "stream",
          "text": [
            "[2, 3, 3, 2, 2, 1, 3, 0, 2, 2, 2, 2, 2, 2, 2, 2, 3, 2, 3, 2, 2, 2, 0, 1, 2, 2, 2, 2, 2, 2, 2, 2, 3, 2, 2, 3, 3, 2, 2, 2, 2, 2, 2, 2, 2, 2, 2, 1, 3, 3, 2, 2, 2, 2, 2, 5, 2, 2, 2, 3, 2, 2]\n",
            "[0.9974351165201536, 0.9849854129572863, 0.9987429192192518, 0.9988570982054542, 0.981858520777507, 0.9920805629796468, 0.9980249751934395, 0.9959672487801902, 0.9981361504969356, 0.9822834001381117, 0.9961023002134669, 0.9852487482858603, 0.9968359323943297, 0.9830752169851161, 0.9974123427395627, 0.9967533648437162, 0.9979840829107637, 0.9982380275903336, 0.9978262652774287, 0.9950131913547647, 0.9917697524846761, 0.9980591016731087, 0.9979231048903597, 0.9991188293859796, 0.9844541354505655, 0.9980565502644747, 0.9905395116061392, 0.9949160366645681, 0.9945904164032532, 0.9957988591557267, 0.9919535017514605, 0.983643430687629, 0.9918304382390785, 0.9816233141837276, 0.994216575908202, 0.9911618696272662, 0.9855371645277154, 0.995004122237642, 0.9896432934347913, 0.9813066882529359, 0.9968532664589325, 0.9978172359426065, 0.9850801503264096, 0.9978680097483255, 0.9912875255841308, 0.9926918918650973, 0.9986443691671766, 0.9833165437268203, 0.9974302102691585, 0.9974960862637037, 0.9808266974674247, 0.9943318049097721, 0.9936857754432719, 0.996760889605293, 0.9830815387268309, 0.9980539599098813, 0.9978859791957928, 0.9984800983963836, 0.9982265546273341, 0.9973048148878172, 0.9913544750594399, 0.9912377160377642]\n",
            "[0, 2, 4, 5, 6, 7, 8, 10, 11, 12, 14, 16, 17, 18, 19, 21, 22, 23, 26, 27, 28, 29, 30, 31, 32, 34, 35, 36, 37, 39, 40, 41, 43, 45, 48, 49, 51, 52, 54, 55, 56, 59, 60, 62, 69, 70, 76, 78, 80, 84, 85, 87, 88, 89, 91, 93, 94, 95, 96, 98, 99, 100]\n",
            "62\n",
            "62\n",
            "62\n"
          ],
          "name": "stdout"
        }
      ]
    },
    {
      "cell_type": "code",
      "metadata": {
        "colab": {
          "base_uri": "https://localhost:8080/",
          "height": 195
        },
        "id": "WQo3GF7nC_7W",
        "outputId": "55baa0b6-94a5-45ad-fa4a-0582c0ac6c5c"
      },
      "source": [
        "unlabel_1=unlabel_1.loc[pos,:]\r\n",
        "unlabel_1.head()"
      ],
      "execution_count": null,
      "outputs": [
        {
          "output_type": "execute_result",
          "data": {
            "text/html": [
              "<div>\n",
              "<style scoped>\n",
              "    .dataframe tbody tr th:only-of-type {\n",
              "        vertical-align: middle;\n",
              "    }\n",
              "\n",
              "    .dataframe tbody tr th {\n",
              "        vertical-align: top;\n",
              "    }\n",
              "\n",
              "    .dataframe thead th {\n",
              "        text-align: right;\n",
              "    }\n",
              "</style>\n",
              "<table border=\"1\" class=\"dataframe\">\n",
              "  <thead>\n",
              "    <tr style=\"text-align: right;\">\n",
              "      <th></th>\n",
              "      <th>Unnamed: 0</th>\n",
              "      <th>Sentence</th>\n",
              "      <th>Target</th>\n",
              "    </tr>\n",
              "  </thead>\n",
              "  <tbody>\n",
              "    <tr>\n",
              "      <th>0</th>\n",
              "      <td>2173</td>\n",
              "      <td>darden sr testified âœi saw staggering â prett...</td>\n",
              "      <td>Facts</td>\n",
              "    </tr>\n",
              "    <tr>\n",
              "      <th>2</th>\n",
              "      <td>525</td>\n",
              "      <td>85 22 sw 140 wherein accused acting upon advic...</td>\n",
              "      <td>Rule/Law/Holding</td>\n",
              "    </tr>\n",
              "    <tr>\n",
              "      <th>4</th>\n",
              "      <td>79</td>\n",
              "      <td>eligible leaves renew contacts family</td>\n",
              "      <td>Facts</td>\n",
              "    </tr>\n",
              "    <tr>\n",
              "      <th>5</th>\n",
              "      <td>1955</td>\n",
              "      <td>got downstairs ponce went car wife left home</td>\n",
              "      <td>Facts</td>\n",
              "    </tr>\n",
              "    <tr>\n",
              "      <th>6</th>\n",
              "      <td>324</td>\n",
              "      <td>defendant argues impossible reconcile plaintif...</td>\n",
              "      <td>Facts</td>\n",
              "    </tr>\n",
              "  </tbody>\n",
              "</table>\n",
              "</div>"
            ],
            "text/plain": [
              "   Unnamed: 0  ...            Target\n",
              "0        2173  ...             Facts\n",
              "2         525  ...  Rule/Law/Holding\n",
              "4          79  ...             Facts\n",
              "5        1955  ...             Facts\n",
              "6         324  ...             Facts\n",
              "\n",
              "[5 rows x 3 columns]"
            ]
          },
          "metadata": {
            "tags": []
          },
          "execution_count": 16
        }
      ]
    },
    {
      "cell_type": "code",
      "metadata": {
        "colab": {
          "base_uri": "https://localhost:8080/"
        },
        "id": "vfZ0vrIMDje2",
        "outputId": "be0ecfd8-7f5a-4425-a875-d5b94c03b89e"
      },
      "source": [
        "frame_1 = [train5,unlabel_1]\r\n",
        "train5_1 = pd.concat(frame_1)\r\n",
        "len(train5_1)"
      ],
      "execution_count": null,
      "outputs": [
        {
          "output_type": "execute_result",
          "data": {
            "text/plain": [
              "3538"
            ]
          },
          "metadata": {
            "tags": []
          },
          "execution_count": 17
        }
      ]
    },
    {
      "cell_type": "code",
      "metadata": {
        "colab": {
          "base_uri": "https://localhost:8080/"
        },
        "id": "a5zkcYr5Dvoc",
        "outputId": "edaa82b8-2396-48e4-8625-2b7d13271a54"
      },
      "source": [
        "x_train_1 = tfidf_vect.transform(train5_1['Sentence'])\r\n",
        "x_train_1.shape\r\n",
        "X_train, x_val, Y_train, y_val = train_test_split(x_train_1,train5_1['Target'],test_size=0.2,random_state=42)\r\n",
        "support = RandomForestClassifier()\r\n",
        "clf = support.fit(X_train, Y_train)\r\n",
        "calibrator = CalibratedClassifierCV(clf, cv='prefit')\r\n",
        "model_1=calibrator.fit(X_train, Y_train)\r\n",
        "pred_svm = model_1.predict(x_val)\r\n",
        "print('Accuracy %s' % accuracy_score(pred_svm,y_val))\r\n",
        "print(classification_report(y_val,pred_svm))"
      ],
      "execution_count": null,
      "outputs": [
        {
          "output_type": "stream",
          "text": [
            "Accuracy 0.6694915254237288\n",
            "                  precision    recall  f1-score   support\n",
            "\n",
            "        Analysis       0.50      0.32      0.39        92\n",
            "      Conclusion       0.62      0.47      0.54        32\n",
            "           Facts       0.72      0.88      0.79       376\n",
            "         Invalid       0.61      0.59      0.60       112\n",
            "           Issue       0.59      0.37      0.46        43\n",
            "Rule/Law/Holding       0.60      0.34      0.43        53\n",
            "\n",
            "        accuracy                           0.67       708\n",
            "       macro avg       0.61      0.49      0.53       708\n",
            "    weighted avg       0.65      0.67      0.65       708\n",
            "\n"
          ],
          "name": "stdout"
        }
      ]
    },
    {
      "cell_type": "code",
      "metadata": {
        "colab": {
          "base_uri": "https://localhost:8080/"
        },
        "id": "QEY_x7YFD9D4",
        "outputId": "5b9d2b0e-b19e-4b4c-e076-f2dedeb717a4"
      },
      "source": [
        "x_un2 = tfidf_vect.transform(unlabel_2['Sentence'])\r\n",
        "pred_unlabel_2 = model_1.predict_proba(x_un2)\r\n",
        "pos=[]\r\n",
        "large=[]\r\n",
        "ind = []\r\n",
        "i=0\r\n",
        "for j in pred_unlabel_2:\r\n",
        "  if max(j)> 0.98:\r\n",
        "    ind.append(np.argmax(j))\r\n",
        "    large.append(max(j))\r\n",
        "    pos.append(i)\r\n",
        "  i+=1\r\n",
        "\r\n",
        "\r\n",
        "print(ind)\r\n",
        "print(large)\r\n",
        "print(pos)\r\n",
        "print(len(ind))\r\n",
        "print(len(large))\r\n",
        "print(len(pos))"
      ],
      "execution_count": null,
      "outputs": [
        {
          "output_type": "stream",
          "text": [
            "[2, 2, 2, 2, 2, 2, 2, 2, 2, 2, 2, 2, 2, 2, 2, 2, 2, 2, 1, 3, 3, 2, 3, 1, 2, 2, 2, 2, 1, 2, 2, 3, 2, 2, 2, 2, 2, 2, 2, 3, 3, 3, 2, 3, 1, 2, 2, 2, 5, 3, 4, 2]\n",
            "[0.9988648531822005, 0.9990835119616182, 0.993483092293512, 0.9951407962407568, 0.9980905664117989, 0.9978389898116025, 0.9989986059076981, 0.9951887309525308, 0.9987357712457249, 0.997739732496616, 0.995940697595126, 0.9895716720364978, 0.9880253417464252, 0.988171522410247, 0.9964032669015249, 0.998553159284933, 0.9976920723924834, 0.9990425293095047, 0.9812418073841982, 0.983178447582084, 0.9988805849442117, 0.9879421190596682, 0.998958935821447, 0.9954210422367592, 0.9972444026096227, 0.9985602460335868, 0.9902684488557479, 0.9893815955611349, 0.9829222075060533, 0.9988962866926716, 0.9948786139440743, 0.9888695868992701, 0.9989661857073031, 0.999012076239854, 0.9987107074328126, 0.998907845201117, 0.9979180277840713, 0.9965738011373132, 0.9957012205250311, 0.9950404868947692, 0.9961189150276856, 0.9990710426513665, 0.9910952293911333, 0.9990991495212596, 0.9958384329568024, 0.997229823174011, 0.9980041686151334, 0.9892701849778851, 0.9968611219875655, 0.9912148380625019, 0.9926504148610238, 0.9986747673215465]\n",
            "[1, 2, 3, 6, 7, 8, 12, 15, 17, 20, 22, 23, 25, 26, 27, 29, 32, 37, 38, 40, 42, 44, 46, 49, 50, 54, 55, 56, 57, 59, 60, 61, 63, 64, 66, 69, 70, 71, 77, 78, 79, 80, 81, 83, 86, 88, 91, 92, 93, 95, 96, 99]\n",
            "52\n",
            "52\n",
            "52\n"
          ],
          "name": "stdout"
        }
      ]
    },
    {
      "cell_type": "code",
      "metadata": {
        "colab": {
          "base_uri": "https://localhost:8080/",
          "height": 195
        },
        "id": "cuHrgR4KEEh5",
        "outputId": "7d2f6d7c-ad28-4b55-9f01-1ca8a45d1c39"
      },
      "source": [
        "unlabel_2 = unlabel_2.loc[pos,:]\r\n",
        "unlabel_2.head()"
      ],
      "execution_count": null,
      "outputs": [
        {
          "output_type": "execute_result",
          "data": {
            "text/html": [
              "<div>\n",
              "<style scoped>\n",
              "    .dataframe tbody tr th:only-of-type {\n",
              "        vertical-align: middle;\n",
              "    }\n",
              "\n",
              "    .dataframe tbody tr th {\n",
              "        vertical-align: top;\n",
              "    }\n",
              "\n",
              "    .dataframe thead th {\n",
              "        text-align: right;\n",
              "    }\n",
              "</style>\n",
              "<table border=\"1\" class=\"dataframe\">\n",
              "  <thead>\n",
              "    <tr style=\"text-align: right;\">\n",
              "      <th></th>\n",
              "      <th>Unnamed: 0</th>\n",
              "      <th>Sentence</th>\n",
              "      <th>Target</th>\n",
              "    </tr>\n",
              "  </thead>\n",
              "  <tbody>\n",
              "    <tr>\n",
              "      <th>1</th>\n",
              "      <td>3400</td>\n",
              "      <td>undisputed testimony reflects appellant drivin...</td>\n",
              "      <td>Facts</td>\n",
              "    </tr>\n",
              "    <tr>\n",
              "      <th>2</th>\n",
              "      <td>2072</td>\n",
              "      <td>appellant testify offer evidence behalf</td>\n",
              "      <td>Facts</td>\n",
              "    </tr>\n",
              "    <tr>\n",
              "      <th>3</th>\n",
              "      <td>517</td>\n",
              "      <td>56 uniform act regulating traffic highways gis...</td>\n",
              "      <td>Rule/Law/Holding</td>\n",
              "    </tr>\n",
              "    <tr>\n",
              "      <th>6</th>\n",
              "      <td>570</td>\n",
              "      <td>appellant performed work asked 7500 money ther...</td>\n",
              "      <td>Facts</td>\n",
              "    </tr>\n",
              "    <tr>\n",
              "      <th>7</th>\n",
              "      <td>3150</td>\n",
              "      <td>finding door facing street seen man walking pr...</td>\n",
              "      <td>Facts</td>\n",
              "    </tr>\n",
              "  </tbody>\n",
              "</table>\n",
              "</div>"
            ],
            "text/plain": [
              "   Unnamed: 0  ...            Target\n",
              "1        3400  ...             Facts\n",
              "2        2072  ...             Facts\n",
              "3         517  ...  Rule/Law/Holding\n",
              "6         570  ...             Facts\n",
              "7        3150  ...             Facts\n",
              "\n",
              "[5 rows x 3 columns]"
            ]
          },
          "metadata": {
            "tags": []
          },
          "execution_count": 20
        }
      ]
    },
    {
      "cell_type": "code",
      "metadata": {
        "colab": {
          "base_uri": "https://localhost:8080/"
        },
        "id": "0QOzPxMPER3c",
        "outputId": "68deeeed-e5cf-4ebc-c230-7511f2d789a9"
      },
      "source": [
        "frame_2 = [train5_1,unlabel_2]\r\n",
        "train5_2 = pd.concat(frame_2)\r\n",
        "len(train5_2)"
      ],
      "execution_count": null,
      "outputs": [
        {
          "output_type": "execute_result",
          "data": {
            "text/plain": [
              "3590"
            ]
          },
          "metadata": {
            "tags": []
          },
          "execution_count": 21
        }
      ]
    },
    {
      "cell_type": "code",
      "metadata": {
        "colab": {
          "base_uri": "https://localhost:8080/"
        },
        "id": "hSaWvUz4EbM3",
        "outputId": "5227decd-b241-4e75-cd51-8baa78f78a01"
      },
      "source": [
        "x_train_2 = tfidf_vect.transform(train5_2['Sentence'])\r\n",
        "X_train, x_val, Y_train, y_val = train_test_split(x_train_2,train5_2['Target'],test_size=0.27,random_state=2)\r\n",
        "support = RandomForestClassifier()\r\n",
        "clf = support.fit(X_train, Y_train)\r\n",
        "calibrator = CalibratedClassifierCV(clf, cv='prefit')\r\n",
        "model_2=calibrator.fit(X_train, Y_train)\r\n",
        "pred_svm = model_2.predict(x_val)\r\n",
        "print('Accuracy %s' % accuracy_score(pred_svm,y_val))\r\n",
        "print(classification_report(y_val,pred_svm))"
      ],
      "execution_count": null,
      "outputs": [
        {
          "output_type": "stream",
          "text": [
            "Accuracy 0.622680412371134\n",
            "                  precision    recall  f1-score   support\n",
            "\n",
            "        Analysis       0.51      0.34      0.40       158\n",
            "      Conclusion       0.60      0.36      0.45        50\n",
            "           Facts       0.67      0.88      0.76       474\n",
            "         Invalid       0.50      0.48      0.49       155\n",
            "           Issue       0.73      0.30      0.43        73\n",
            "Rule/Law/Holding       0.57      0.33      0.42        60\n",
            "\n",
            "        accuracy                           0.62       970\n",
            "       macro avg       0.60      0.45      0.49       970\n",
            "    weighted avg       0.61      0.62      0.60       970\n",
            "\n"
          ],
          "name": "stdout"
        }
      ]
    },
    {
      "cell_type": "code",
      "metadata": {
        "colab": {
          "base_uri": "https://localhost:8080/"
        },
        "id": "KOEPX84mFDmX",
        "outputId": "120801c8-c3f0-46a2-a0d1-5e658dcfc2ed"
      },
      "source": [
        "x_un3 = tfidf_vect.transform(unlabel_3['Sentence'])\r\n",
        "pred_unlabel_3 = model_2.predict_proba(x_un3)\r\n",
        "\r\n",
        "pos=[]\r\n",
        "large=[]\r\n",
        "ind = []\r\n",
        "i=0\r\n",
        "for j in pred_unlabel_3:\r\n",
        "  if max(j)> 0.98:\r\n",
        "    ind.append(np.argmax(j))\r\n",
        "    large.append(max(j))\r\n",
        "    pos.append(i)\r\n",
        "  i+=1\r\n",
        "\r\n",
        "\r\n",
        "print(ind)\r\n",
        "print(large)\r\n",
        "print(pos)\r\n",
        "print(len(ind))\r\n",
        "print(len(large))\r\n",
        "print(len(pos))"
      ],
      "execution_count": null,
      "outputs": [
        {
          "output_type": "stream",
          "text": [
            "[0, 3, 2, 2, 2, 3, 2, 2, 3, 2, 2, 2, 3, 3, 2, 2, 2, 2, 2, 2, 2, 2, 2, 2, 2, 2, 2, 2, 2, 2, 2, 2, 2, 2, 2, 2, 2, 3, 2, 3, 1, 5, 2, 2, 2, 2, 2, 2, 2, 3, 2, 2, 3, 2, 2, 2, 3, 2, 0, 2, 2, 2, 4, 2, 2, 2, 2, 2, 2]\n",
            "[0.9968447644903444, 0.9881617021310508, 0.9963993281129763, 0.9975626889969225, 0.9975325637249343, 0.9922705285483965, 0.998591293030565, 0.9980998001524511, 0.9979032140703138, 0.9891796148682584, 0.9985073182544835, 0.9904854395841276, 0.9987186124944049, 0.9988985662096763, 0.9983674074444568, 0.99449094494172, 0.9931541226175103, 0.9985214129991613, 0.9840123575774601, 0.9970095545507218, 0.9968249768122692, 0.9983079872264637, 0.993999250497221, 0.9891896782500978, 0.9981873241096745, 0.9935422926107838, 0.9853283531255927, 0.9978512782951895, 0.9982441557205202, 0.9981397970578788, 0.9833653103677182, 0.9980798320714049, 0.9931659936762348, 0.997535484310675, 0.9984623846952655, 0.9828963859642126, 0.9985673709625408, 0.9907373626508638, 0.9988170601306225, 0.9976730310042008, 0.9989437254138793, 0.9963125386903808, 0.9911908589317087, 0.9989009070701326, 0.9959115212503197, 0.998913994130591, 0.9971396032267292, 0.998392088645442, 0.9984050109085809, 0.9988154863816174, 0.9980106771254421, 0.983918076160609, 0.9956327466681885, 0.9987922308587296, 0.9964168207029852, 0.9948192517156751, 0.9852463701467099, 0.9838476956923354, 0.9916175626887161, 0.9946064877996981, 0.9983894338815857, 0.997856261461558, 0.9971602289558885, 0.9986648616170071, 0.9827693439123197, 0.9869964601384024, 0.9985669394999835, 0.9960907284704494, 0.9946117915683187]\n",
            "[0, 1, 2, 3, 4, 5, 7, 8, 9, 10, 12, 13, 14, 15, 17, 18, 19, 20, 24, 25, 26, 27, 28, 29, 30, 31, 33, 34, 35, 36, 39, 40, 41, 42, 43, 46, 49, 50, 52, 54, 56, 58, 59, 63, 64, 65, 67, 68, 70, 71, 72, 73, 74, 75, 78, 79, 82, 83, 85, 87, 88, 89, 90, 91, 92, 95, 96, 97, 98]\n",
            "69\n",
            "69\n",
            "69\n"
          ],
          "name": "stdout"
        }
      ]
    },
    {
      "cell_type": "code",
      "metadata": {
        "colab": {
          "base_uri": "https://localhost:8080/"
        },
        "id": "OfMhW3EkFN_e",
        "outputId": "8087c64c-aa35-49dd-e2a0-acf355f02240"
      },
      "source": [
        "unlabel_3=unlabel_3.loc[pos,:]\r\n",
        "frame_3 = [train5_2,unlabel_3]\r\n",
        "train5_3 = pd.concat(frame_3)\r\n",
        "\r\n",
        "x_train_3 = tfidf_vect.transform(train5_3['Sentence'])\r\n",
        "X_train, x_val, Y_train, y_val = train_test_split(x_train_3,train5_3['Target'],test_size=0.2,random_state=42)\r\n",
        "support = RandomForestClassifier()\r\n",
        "clf = support.fit(X_train, Y_train)\r\n",
        "calibrator = CalibratedClassifierCV(clf, cv='prefit')\r\n",
        "model_3=calibrator.fit(X_train, Y_train)\r\n",
        "pred_svm = model_3.predict(x_val)\r\n",
        "print('Accuracy %s' % accuracy_score(pred_svm,y_val))\r\n",
        "print(classification_report(y_val,pred_svm))"
      ],
      "execution_count": null,
      "outputs": [
        {
          "output_type": "stream",
          "text": [
            "Accuracy 0.6420765027322405\n",
            "                  precision    recall  f1-score   support\n",
            "\n",
            "        Analysis       0.43      0.25      0.31        97\n",
            "      Conclusion       0.77      0.49      0.60        41\n",
            "           Facts       0.70      0.87      0.78       388\n",
            "         Invalid       0.51      0.53      0.52       116\n",
            "           Issue       0.55      0.33      0.41        36\n",
            "Rule/Law/Holding       0.58      0.28      0.38        54\n",
            "\n",
            "        accuracy                           0.64       732\n",
            "       macro avg       0.59      0.46      0.50       732\n",
            "    weighted avg       0.62      0.64      0.62       732\n",
            "\n"
          ],
          "name": "stdout"
        }
      ]
    },
    {
      "cell_type": "code",
      "metadata": {
        "colab": {
          "base_uri": "https://localhost:8080/"
        },
        "id": "CRr8oe3pFpJ2",
        "outputId": "c8e5dbed-8d3f-4334-e2b7-8e64e28f85bd"
      },
      "source": [
        "x_un4 = tfidf_vect.transform(unlabel_4['Sentence'])\r\n",
        "pred_unlabel_4 = model_3.predict_proba(x_un4)\r\n",
        "\r\n",
        "\r\n",
        "pos=[]\r\n",
        "large=[]\r\n",
        "ind = []\r\n",
        "i=0\r\n",
        "for j in pred_unlabel_4:\r\n",
        "  if max(j)> 0.98:\r\n",
        "    ind.append(np.argmax(j))\r\n",
        "    large.append(max(j))\r\n",
        "    pos.append(i)\r\n",
        "  i+=1\r\n",
        "\r\n",
        "\r\n",
        "print(ind)\r\n",
        "print(large)\r\n",
        "print(pos)\r\n",
        "print(len(ind))\r\n",
        "print(len(large))\r\n",
        "print(len(pos))"
      ],
      "execution_count": null,
      "outputs": [
        {
          "output_type": "stream",
          "text": [
            "[3, 3, 2, 5, 2, 2, 2, 2, 2, 2, 2, 2, 3, 2, 2, 3, 2, 2, 2, 2, 2, 3, 2, 2, 2, 2, 2, 2, 3, 2, 2, 2, 2, 3, 2, 3, 2, 2, 5, 3, 0, 2, 2, 2, 2, 2, 2, 3, 2, 2, 2, 2, 3, 2, 2, 2, 2, 2, 2]\n",
            "[0.9989997014515672, 0.9832826140812423, 0.9980801887955181, 0.9959712436093182, 0.9986992868000204, 0.9968740198324565, 0.9989145947367245, 0.9987739464846187, 0.9981435551551835, 0.9982230562643118, 0.9910543395032869, 0.9990400896153138, 0.9986951964240591, 0.99857273026617, 0.9986656266802907, 0.9922194575268803, 0.9915943624291753, 0.9838149789298924, 0.9989037269537091, 0.9982144890994402, 0.9988590628019621, 0.9944943624583585, 0.9975409363640374, 0.9987998602399485, 0.998703290278942, 0.998482243079255, 0.9985299960474084, 0.9956354329257422, 0.9872620724199714, 0.9981199138797074, 0.9885216774409423, 0.9963890226852273, 0.9972803845600668, 0.9970447425272411, 0.9951587860055271, 0.9959008594682343, 0.9978138108126802, 0.9865293315913453, 0.9918343383316359, 0.9925469568575522, 0.9990680846450141, 0.9986403014156039, 0.998623753900666, 0.9987952572560036, 0.9973288038021374, 0.9980149000000623, 0.998794427912584, 0.9918906777359511, 0.9884904659598363, 0.9988365638671048, 0.9988029097893546, 0.9951131290887489, 0.9989903134503325, 0.9945920639147404, 0.9800564631711004, 0.9965310586729673, 0.997752868798601, 0.9983365875414699, 0.9907816730134901]\n",
            "[0, 3, 4, 6, 7, 8, 10, 11, 15, 16, 17, 18, 20, 21, 22, 23, 27, 28, 29, 30, 31, 32, 34, 35, 37, 38, 40, 42, 47, 49, 53, 55, 56, 58, 60, 61, 63, 64, 65, 66, 67, 69, 70, 71, 72, 74, 75, 78, 79, 82, 85, 87, 88, 89, 90, 91, 93, 97, 98]\n",
            "59\n",
            "59\n",
            "59\n"
          ],
          "name": "stdout"
        }
      ]
    },
    {
      "cell_type": "code",
      "metadata": {
        "id": "-p3HfSQ2FwV_"
      },
      "source": [
        "unlabel_4=unlabel_4.loc[pos,:]"
      ],
      "execution_count": null,
      "outputs": []
    },
    {
      "cell_type": "code",
      "metadata": {
        "colab": {
          "base_uri": "https://localhost:8080/"
        },
        "id": "iR8Ghl7oF5E6",
        "outputId": "f40a7217-45a7-4daf-ae7a-ed35ce062134"
      },
      "source": [
        "frame_4 = [train5_3,unlabel_4]\r\n",
        "train5_4 = pd.concat(frame_4)\r\n",
        "len(train5_4)\r\n",
        "x_train_4 = tfidf_vect.transform(train5_4['Sentence'])\r\n",
        "X_train, x_val, Y_train, y_val = train_test_split(x_train_4,train5_4['Target'],test_size=0.27,random_state=42)\r\n",
        "support = RandomForestClassifier()\r\n",
        "clf = support.fit(X_train, Y_train)\r\n",
        "calibrator = CalibratedClassifierCV(clf, cv='prefit')\r\n",
        "model_4=calibrator.fit(X_train, Y_train)\r\n",
        "pred_svm = model_4.predict(x_val)\r\n",
        "print('Accuracy %s' % accuracy_score(pred_svm,y_val))\r\n",
        "print(classification_report(y_val,pred_svm))"
      ],
      "execution_count": null,
      "outputs": [
        {
          "output_type": "stream",
          "text": [
            "Accuracy 0.6603585657370518\n",
            "                  precision    recall  f1-score   support\n",
            "\n",
            "        Analysis       0.51      0.31      0.38       143\n",
            "      Conclusion       0.62      0.38      0.48        52\n",
            "           Facts       0.71      0.88      0.79       532\n",
            "         Invalid       0.53      0.55      0.54       151\n",
            "           Issue       0.73      0.37      0.49        60\n",
            "Rule/Law/Holding       0.63      0.36      0.46        66\n",
            "\n",
            "        accuracy                           0.66      1004\n",
            "       macro avg       0.62      0.48      0.52      1004\n",
            "    weighted avg       0.65      0.66      0.64      1004\n",
            "\n"
          ],
          "name": "stdout"
        }
      ]
    },
    {
      "cell_type": "code",
      "metadata": {
        "colab": {
          "base_uri": "https://localhost:8080/"
        },
        "id": "LquDQOH_GPad",
        "outputId": "e8b205b6-1dd7-4dfa-d2cb-ed7153e2708d"
      },
      "source": [
        "x_un5 = tfidf_vect.transform(unlabel_5['Sentence'])\r\n",
        "\r\n",
        "pred_unlabel_5 = model_4.predict_proba(x_un5)\r\n",
        "pos=[]\r\n",
        "large=[]\r\n",
        "ind = []\r\n",
        "i=0\r\n",
        "for j in pred_unlabel_5:\r\n",
        "  if max(j)> 0.98:\r\n",
        "    ind.append(np.argmax(j))\r\n",
        "    large.append(max(j))\r\n",
        "    pos.append(i)\r\n",
        "  i+=1\r\n",
        "\r\n",
        "\r\n",
        "print(ind)\r\n",
        "print(large)\r\n",
        "print(pos)\r\n",
        "print(len(ind))\r\n",
        "print(len(large))\r\n",
        "print(len(pos))"
      ],
      "execution_count": null,
      "outputs": [
        {
          "output_type": "stream",
          "text": [
            "[2, 3, 3, 2, 3, 2, 5, 3, 3, 2, 2, 2, 2, 2, 2, 2, 2, 2, 2, 1, 0, 2, 2, 0, 2, 2, 2, 3, 3, 2, 3, 3, 2, 2, 2, 2, 2, 2, 3, 2, 2, 5, 2, 2, 2, 2, 2, 2, 2, 5, 2, 2, 2, 2, 2, 5, 2, 3, 0, 3, 2]\n",
            "[0.9986405507633245, 0.9922588215165963, 0.998709938813392, 0.9975702785337662, 0.9830105407178434, 0.9982227340544272, 0.9914501653367905, 0.9984528123075803, 0.998709938813392, 0.9984184044096854, 0.9986704040323738, 0.992085212189135, 0.9880316043823699, 0.9936890024159459, 0.9838922856493426, 0.9986795205091186, 0.9910996995662048, 0.9936833588055402, 0.9863198672501164, 0.9981002981878904, 0.9812767626538973, 0.9879531336489391, 0.9885917058830295, 0.9851776825519539, 0.9962486638838248, 0.9985589664757524, 0.998510740568555, 0.9980047840247314, 0.998709938813392, 0.998023730379035, 0.9971876401946791, 0.9877500672336478, 0.9923553405671663, 0.9984728493502815, 0.9954412504752622, 0.9957789943182355, 0.9979233827057217, 0.9970006887706353, 0.9966599471824183, 0.9829215509351865, 0.9942231436910117, 0.99759644506819, 0.994741951827122, 0.9938476035730198, 0.9874878585233055, 0.994881415002823, 0.9986935984801859, 0.9847929878438364, 0.9982535332521572, 0.9942812537712101, 0.9948909592356145, 0.9937845097074653, 0.9976685584026649, 0.9982302372495367, 0.9986924642952234, 0.9876389890479433, 0.9956196629792574, 0.9933958470924729, 0.9973867104551448, 0.9928235982265639, 0.9848362282771492]\n",
            "[3, 4, 5, 7, 8, 17, 18, 19, 20, 22, 23, 26, 27, 28, 29, 32, 33, 34, 35, 36, 37, 39, 40, 47, 50, 52, 53, 54, 55, 56, 57, 58, 59, 60, 63, 65, 67, 68, 69, 71, 73, 74, 77, 78, 79, 80, 82, 85, 86, 89, 90, 91, 92, 94, 95, 98, 102, 107, 110, 115, 118]\n",
            "61\n",
            "61\n",
            "61\n"
          ],
          "name": "stdout"
        }
      ]
    },
    {
      "cell_type": "code",
      "metadata": {
        "id": "P1MxKadbHypp"
      },
      "source": [
        "unlabel_5 = unlabel_5.loc[pos,:]"
      ],
      "execution_count": null,
      "outputs": []
    },
    {
      "cell_type": "code",
      "metadata": {
        "colab": {
          "base_uri": "https://localhost:8080/"
        },
        "id": "DKlIotQ2H59h",
        "outputId": "fff76c72-ee40-4930-d10b-7a65de149854"
      },
      "source": [
        "frame_5 = [train5_4,unlabel_5]\r\n",
        "train5_5 = pd.concat(frame_5)\r\n",
        "len(train5_5)\r\n",
        "x_train_5 = tfidf_vect.transform(train5_5['Sentence'])\r\n",
        "X_train, x_val, Y_train, y_val = train_test_split(x_train_5,train5_5['Target'],test_size=0.27,random_state=42)\r\n",
        "support = RandomForestClassifier()\r\n",
        "clf = support.fit(X_train, Y_train)\r\n",
        "calibrator = CalibratedClassifierCV(clf, cv='prefit')\r\n",
        "model_5=calibrator.fit(X_train, Y_train)\r\n",
        "pred_svm = model_5.predict(x_val)\r\n",
        "print('Accuracy %s' % accuracy_score(pred_svm,y_val))\r\n",
        "print(classification_report(y_val,pred_svm))"
      ],
      "execution_count": null,
      "outputs": [
        {
          "output_type": "stream",
          "text": [
            "Accuracy 0.6542605288932419\n",
            "                  precision    recall  f1-score   support\n",
            "\n",
            "        Analysis       0.45      0.33      0.38       143\n",
            "      Conclusion       0.71      0.39      0.51        56\n",
            "           Facts       0.74      0.85      0.79       546\n",
            "         Invalid       0.47      0.60      0.53       147\n",
            "           Issue       0.76      0.45      0.57        55\n",
            "Rule/Law/Holding       0.56      0.27      0.36        74\n",
            "\n",
            "        accuracy                           0.65      1021\n",
            "       macro avg       0.61      0.48      0.52      1021\n",
            "    weighted avg       0.65      0.65      0.64      1021\n",
            "\n"
          ],
          "name": "stdout"
        }
      ]
    },
    {
      "cell_type": "code",
      "metadata": {
        "colab": {
          "base_uri": "https://localhost:8080/"
        },
        "id": "WwXcxHFUIBUX",
        "outputId": "21cdc5f7-b5a1-4070-f4a9-6931d49ea079"
      },
      "source": [
        "t_p = tfidf_vect.transform(test['Sentence'])\r\n",
        "test_pred = model_5.predict(t_p)\r\n",
        "print('Accuracy %s' % accuracy_score(test_pred,test['Target']))"
      ],
      "execution_count": null,
      "outputs": [
        {
          "output_type": "stream",
          "text": [
            "Accuracy 0.7197696737044146\n"
          ],
          "name": "stdout"
        }
      ]
    },
    {
      "cell_type": "code",
      "metadata": {
        "id": "Wa_pOupWc02d",
        "colab": {
          "base_uri": "https://localhost:8080/"
        },
        "outputId": "d71ddfa8-1a16-4091-ccd9-d5afbf84c8a7"
      },
      "source": [
        "from sklearn.metrics import precision_recall_fscore_support\r\n",
        "print(precision_recall_fscore_support(test['Target'],test_pred,average='macro'))"
      ],
      "execution_count": null,
      "outputs": [
        {
          "output_type": "stream",
          "text": [
            "(0.7404690039050376, 0.625265717028671, 0.664069285958531, None)\n"
          ],
          "name": "stdout"
        }
      ]
    }
  ]
}