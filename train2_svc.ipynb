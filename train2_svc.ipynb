{
  "nbformat": 4,
  "nbformat_minor": 0,
  "metadata": {
    "colab": {
      "name": "train2_svc.ipynb",
      "provenance": [],
      "authorship_tag": "ABX9TyN040WCTjkQKVjkWc8ncC2o",
      "include_colab_link": true
    },
    "kernelspec": {
      "name": "python3",
      "display_name": "Python 3"
    }
  },
  "cells": [
    {
      "cell_type": "markdown",
      "metadata": {
        "id": "view-in-github",
        "colab_type": "text"
      },
      "source": [
        "<a href=\"https://colab.research.google.com/github/sundarp17/semi-supervised/blob/main/train2_svc.ipynb\" target=\"_parent\"><img src=\"https://colab.research.google.com/assets/colab-badge.svg\" alt=\"Open In Colab\"/></a>"
      ]
    },
    {
      "cell_type": "code",
      "metadata": {
        "id": "BSNaH-G5e9XK"
      },
      "source": [
        "import numpy as np\r\n",
        "import pandas as pd"
      ],
      "execution_count": 1,
      "outputs": []
    },
    {
      "cell_type": "code",
      "metadata": {
        "id": "yMMnSj98r48p"
      },
      "source": [
        "\r\n",
        "train2 = pd.read_csv(r'/content/train_data2.csv')\r\n",
        "test = pd.read_csv(r'/content/test_data.csv')"
      ],
      "execution_count": 2,
      "outputs": []
    },
    {
      "cell_type": "code",
      "metadata": {
        "id": "YXsEmIOrr8sa"
      },
      "source": [
        "\r\n",
        "train2['Target'] = train2['Target'].replace(['Others'],'Invalid')\r\n"
      ],
      "execution_count": 3,
      "outputs": []
    },
    {
      "cell_type": "code",
      "metadata": {
        "colab": {
          "base_uri": "https://localhost:8080/"
        },
        "id": "gyCyM6OHsExq",
        "outputId": "638039d1-ca8a-41e5-ade0-69b4cd31ebf3"
      },
      "source": [
        "train2['Target'].unique()"
      ],
      "execution_count": 4,
      "outputs": [
        {
          "output_type": "execute_result",
          "data": {
            "text/plain": [
              "array(['Invalid', 'Issue', 'Analysis', 'Facts', 'Conclusion',\n",
              "       'Rule/Law/Holding'], dtype=object)"
            ]
          },
          "metadata": {
            "tags": []
          },
          "execution_count": 4
        }
      ]
    },
    {
      "cell_type": "code",
      "metadata": {
        "colab": {
          "base_uri": "https://localhost:8080/"
        },
        "id": "XRWq-Ak9sGCr",
        "outputId": "7f995c9e-99c5-40e0-d3b9-ece9bd467d69"
      },
      "source": [
        "#cleaning\r\n",
        "import nltk\r\n",
        "import re\r\n",
        "import string\r\n",
        "nltk.download('stopwords')\r\n",
        "nltk.download('wordnet')\r\n",
        "stopword=nltk.corpus.stopwords.words('english')\r\n",
        "from nltk.stem import WordNetLemmatizer\r\n",
        "wl= WordNetLemmatizer()\r\n",
        "\r\n",
        "def clean_text(text):\r\n",
        "  text=\"\".join([word.lower() for word in text if word not in string.punctuation])\r\n",
        "  tokens = re.split('\\W+',text)\r\n",
        "  text = [wl.lemmatize(word) for word in tokens if word not in stopword]\r\n",
        "  return text"
      ],
      "execution_count": 5,
      "outputs": [
        {
          "output_type": "stream",
          "text": [
            "[nltk_data] Downloading package stopwords to /root/nltk_data...\n",
            "[nltk_data]   Unzipping corpora/stopwords.zip.\n",
            "[nltk_data] Downloading package wordnet to /root/nltk_data...\n",
            "[nltk_data]   Unzipping corpora/wordnet.zip.\n"
          ],
          "name": "stdout"
        }
      ]
    },
    {
      "cell_type": "code",
      "metadata": {
        "id": "fAVBbrf8sLpd"
      },
      "source": [
        "from sklearn.feature_extraction.text import TfidfVectorizer\r\n",
        "\r\n",
        "tfidf_vect = TfidfVectorizer(analyzer = clean_text)\r\n",
        "\r\n",
        "train2_Xtfidf = tfidf_vect.fit_transform(train2['Sentence'])\r\n"
      ],
      "execution_count": 6,
      "outputs": []
    },
    {
      "cell_type": "code",
      "metadata": {
        "id": "LiDNOGMlsXjn"
      },
      "source": [
        "test['Target']=test['Target'].replace(['Others'],'Invalid')\r\n",
        "test['Sentence'] = test['Sentence'].apply(lambda x: \" \".join(x.lower() for x in str(x).split()))\r\n",
        "test['Sentence'] = test['Sentence'].str.replace('[^\\w\\s]','')\r\n",
        "from nltk.corpus import stopwords\r\n",
        "words = stopwords.words('english')\r\n",
        "test['Sentence'] = test['Sentence'].apply(lambda x: \" \".join(x for x in x.split() if x not in words))"
      ],
      "execution_count": 7,
      "outputs": []
    },
    {
      "cell_type": "code",
      "metadata": {
        "colab": {
          "base_uri": "https://localhost:8080/"
        },
        "id": "kiXsxzUysh_t",
        "outputId": "5a3497b3-6527-4ada-980e-edbcfeb6d0c5"
      },
      "source": [
        "unlabel_1 = test.loc[:100]\r\n",
        "print(\"length of unlabel_1\",len(unlabel_1))\r\n",
        "unlabel_2 = test.loc[101:200]\r\n",
        "print(\"length of unlabel_2\",len(unlabel_2))\r\n",
        "unlabel_3 = test.loc[201:300]\r\n",
        "print(\"length of unlabel_3\",len(unlabel_3))\r\n",
        "unlabel_4 = test.loc[301:400]\r\n",
        "print(\"length of unlabel_4\",len(unlabel_4))\r\n",
        "unlabel_5 = test.loc[401:]\r\n",
        "print(\"length of unlabel_5\",len(unlabel_5))"
      ],
      "execution_count": 8,
      "outputs": [
        {
          "output_type": "stream",
          "text": [
            "length of unlabel_1 101\n",
            "length of unlabel_2 100\n",
            "length of unlabel_3 100\n",
            "length of unlabel_4 100\n",
            "length of unlabel_5 120\n"
          ],
          "name": "stdout"
        }
      ]
    },
    {
      "cell_type": "code",
      "metadata": {
        "colab": {
          "base_uri": "https://localhost:8080/",
          "height": 195
        },
        "id": "fjmpfwMKsnAk",
        "outputId": "33eed800-b729-4be2-dbec-6cb28ab43ace"
      },
      "source": [
        "unlabel_2.reset_index(inplace=True)\r\n",
        "del unlabel_2['index']\r\n",
        "unlabel_2.head()"
      ],
      "execution_count": 9,
      "outputs": [
        {
          "output_type": "execute_result",
          "data": {
            "text/html": [
              "<div>\n",
              "<style scoped>\n",
              "    .dataframe tbody tr th:only-of-type {\n",
              "        vertical-align: middle;\n",
              "    }\n",
              "\n",
              "    .dataframe tbody tr th {\n",
              "        vertical-align: top;\n",
              "    }\n",
              "\n",
              "    .dataframe thead th {\n",
              "        text-align: right;\n",
              "    }\n",
              "</style>\n",
              "<table border=\"1\" class=\"dataframe\">\n",
              "  <thead>\n",
              "    <tr style=\"text-align: right;\">\n",
              "      <th></th>\n",
              "      <th>Unnamed: 0</th>\n",
              "      <th>Sentence</th>\n",
              "      <th>Target</th>\n",
              "    </tr>\n",
              "  </thead>\n",
              "  <tbody>\n",
              "    <tr>\n",
              "      <th>0</th>\n",
              "      <td>1207</td>\n",
              "      <td>examination occurred night middle may testifie...</td>\n",
              "      <td>Invalid</td>\n",
              "    </tr>\n",
              "    <tr>\n",
              "      <th>1</th>\n",
              "      <td>3400</td>\n",
              "      <td>undisputed testimony reflects appellant drivin...</td>\n",
              "      <td>Facts</td>\n",
              "    </tr>\n",
              "    <tr>\n",
              "      <th>2</th>\n",
              "      <td>2072</td>\n",
              "      <td>appellant testify offer evidence behalf</td>\n",
              "      <td>Facts</td>\n",
              "    </tr>\n",
              "    <tr>\n",
              "      <th>3</th>\n",
              "      <td>517</td>\n",
              "      <td>56 uniform act regulating traffic highways gis...</td>\n",
              "      <td>Rule/Law/Holding</td>\n",
              "    </tr>\n",
              "    <tr>\n",
              "      <th>4</th>\n",
              "      <td>906</td>\n",
              "      <td>agreed accompany gave pawn ticket money reclai...</td>\n",
              "      <td>Facts</td>\n",
              "    </tr>\n",
              "  </tbody>\n",
              "</table>\n",
              "</div>"
            ],
            "text/plain": [
              "   Unnamed: 0  ...            Target\n",
              "0        1207  ...           Invalid\n",
              "1        3400  ...             Facts\n",
              "2        2072  ...             Facts\n",
              "3         517  ...  Rule/Law/Holding\n",
              "4         906  ...             Facts\n",
              "\n",
              "[5 rows x 3 columns]"
            ]
          },
          "metadata": {
            "tags": []
          },
          "execution_count": 9
        }
      ]
    },
    {
      "cell_type": "code",
      "metadata": {
        "colab": {
          "base_uri": "https://localhost:8080/",
          "height": 195
        },
        "id": "or3mI32wsupE",
        "outputId": "f8030ab4-b8f6-4305-be78-579a3fe8c52a"
      },
      "source": [
        "unlabel_3.reset_index(inplace=True)\r\n",
        "del unlabel_3['index']\r\n",
        "unlabel_3.head()"
      ],
      "execution_count": 10,
      "outputs": [
        {
          "output_type": "execute_result",
          "data": {
            "text/html": [
              "<div>\n",
              "<style scoped>\n",
              "    .dataframe tbody tr th:only-of-type {\n",
              "        vertical-align: middle;\n",
              "    }\n",
              "\n",
              "    .dataframe tbody tr th {\n",
              "        vertical-align: top;\n",
              "    }\n",
              "\n",
              "    .dataframe thead th {\n",
              "        text-align: right;\n",
              "    }\n",
              "</style>\n",
              "<table border=\"1\" class=\"dataframe\">\n",
              "  <thead>\n",
              "    <tr style=\"text-align: right;\">\n",
              "      <th></th>\n",
              "      <th>Unnamed: 0</th>\n",
              "      <th>Sentence</th>\n",
              "      <th>Target</th>\n",
              "    </tr>\n",
              "  </thead>\n",
              "  <tbody>\n",
              "    <tr>\n",
              "      <th>0</th>\n",
              "      <td>1882</td>\n",
              "      <td>find evidence amply sufficient sustain juryâs ...</td>\n",
              "      <td>Analysis</td>\n",
              "    </tr>\n",
              "    <tr>\n",
              "      <th>1</th>\n",
              "      <td>964</td>\n",
              "      <td>actions show thatâ</td>\n",
              "      <td>Invalid</td>\n",
              "    </tr>\n",
              "    <tr>\n",
              "      <th>2</th>\n",
              "      <td>1417</td>\n",
              "      <td>certification attending physician shown filed ...</td>\n",
              "      <td>Facts</td>\n",
              "    </tr>\n",
              "    <tr>\n",
              "      <th>3</th>\n",
              "      <td>2932</td>\n",
              "      <td>testified agent bland first left automobile wa...</td>\n",
              "      <td>Facts</td>\n",
              "    </tr>\n",
              "    <tr>\n",
              "      <th>4</th>\n",
              "      <td>1584</td>\n",
              "      <td>officer testified could smell odor alcohol app...</td>\n",
              "      <td>Facts</td>\n",
              "    </tr>\n",
              "  </tbody>\n",
              "</table>\n",
              "</div>"
            ],
            "text/plain": [
              "   Unnamed: 0                                           Sentence    Target\n",
              "0        1882  find evidence amply sufficient sustain juryâs ...  Analysis\n",
              "1         964                                 actions show thatâ   Invalid\n",
              "2        1417  certification attending physician shown filed ...     Facts\n",
              "3        2932  testified agent bland first left automobile wa...     Facts\n",
              "4        1584  officer testified could smell odor alcohol app...     Facts"
            ]
          },
          "metadata": {
            "tags": []
          },
          "execution_count": 10
        }
      ]
    },
    {
      "cell_type": "code",
      "metadata": {
        "colab": {
          "base_uri": "https://localhost:8080/",
          "height": 195
        },
        "id": "2xe3MWluszTz",
        "outputId": "f7205755-d484-41fe-c8ae-ffbb667c2b09"
      },
      "source": [
        "unlabel_4.reset_index(inplace=True)\r\n",
        "del unlabel_4['index']\r\n",
        "unlabel_4.head()"
      ],
      "execution_count": 11,
      "outputs": [
        {
          "output_type": "execute_result",
          "data": {
            "text/html": [
              "<div>\n",
              "<style scoped>\n",
              "    .dataframe tbody tr th:only-of-type {\n",
              "        vertical-align: middle;\n",
              "    }\n",
              "\n",
              "    .dataframe tbody tr th {\n",
              "        vertical-align: top;\n",
              "    }\n",
              "\n",
              "    .dataframe thead th {\n",
              "        text-align: right;\n",
              "    }\n",
              "</style>\n",
              "<table border=\"1\" class=\"dataframe\">\n",
              "  <thead>\n",
              "    <tr style=\"text-align: right;\">\n",
              "      <th></th>\n",
              "      <th>Unnamed: 0</th>\n",
              "      <th>Sentence</th>\n",
              "      <th>Target</th>\n",
              "    </tr>\n",
              "  </thead>\n",
              "  <tbody>\n",
              "    <tr>\n",
              "      <th>0</th>\n",
              "      <td>266</td>\n",
              "      <td>section 6 pl</td>\n",
              "      <td>Invalid</td>\n",
              "    </tr>\n",
              "    <tr>\n",
              "      <th>1</th>\n",
              "      <td>3469</td>\n",
              "      <td>amended answer appellant alleged bond invalid ...</td>\n",
              "      <td>Analysis</td>\n",
              "    </tr>\n",
              "    <tr>\n",
              "      <th>2</th>\n",
              "      <td>1471</td>\n",
              "      <td>evidence sufficient support conviction appella...</td>\n",
              "      <td>Analysis</td>\n",
              "    </tr>\n",
              "    <tr>\n",
              "      <th>3</th>\n",
              "      <td>1990</td>\n",
              "      <td>cases cited note 19</td>\n",
              "      <td>Invalid</td>\n",
              "    </tr>\n",
              "    <tr>\n",
              "      <th>4</th>\n",
              "      <td>2757</td>\n",
              "      <td>july 8 1960 order entered revoking said probat...</td>\n",
              "      <td>Facts</td>\n",
              "    </tr>\n",
              "  </tbody>\n",
              "</table>\n",
              "</div>"
            ],
            "text/plain": [
              "   Unnamed: 0                                           Sentence    Target\n",
              "0         266                                       section 6 pl   Invalid\n",
              "1        3469  amended answer appellant alleged bond invalid ...  Analysis\n",
              "2        1471  evidence sufficient support conviction appella...  Analysis\n",
              "3        1990                                cases cited note 19   Invalid\n",
              "4        2757  july 8 1960 order entered revoking said probat...     Facts"
            ]
          },
          "metadata": {
            "tags": []
          },
          "execution_count": 11
        }
      ]
    },
    {
      "cell_type": "code",
      "metadata": {
        "colab": {
          "base_uri": "https://localhost:8080/",
          "height": 195
        },
        "id": "-dCJpImWtH8K",
        "outputId": "74910f44-c645-4624-aebc-cf5ae232aa49"
      },
      "source": [
        "unlabel_5.reset_index(inplace=True)\r\n",
        "del unlabel_5['index']\r\n",
        "unlabel_5.head()"
      ],
      "execution_count": 12,
      "outputs": [
        {
          "output_type": "execute_result",
          "data": {
            "text/html": [
              "<div>\n",
              "<style scoped>\n",
              "    .dataframe tbody tr th:only-of-type {\n",
              "        vertical-align: middle;\n",
              "    }\n",
              "\n",
              "    .dataframe tbody tr th {\n",
              "        vertical-align: top;\n",
              "    }\n",
              "\n",
              "    .dataframe thead th {\n",
              "        text-align: right;\n",
              "    }\n",
              "</style>\n",
              "<table border=\"1\" class=\"dataframe\">\n",
              "  <thead>\n",
              "    <tr style=\"text-align: right;\">\n",
              "      <th></th>\n",
              "      <th>Unnamed: 0</th>\n",
              "      <th>Sentence</th>\n",
              "      <th>Target</th>\n",
              "    </tr>\n",
              "  </thead>\n",
              "  <tbody>\n",
              "    <tr>\n",
              "      <th>0</th>\n",
              "      <td>2979</td>\n",
              "      <td>overrule appellantâs contention court erred pe...</td>\n",
              "      <td>Analysis</td>\n",
              "    </tr>\n",
              "    <tr>\n",
              "      <th>1</th>\n",
              "      <td>2135</td>\n",
              "      <td>state regarded authority case</td>\n",
              "      <td>Invalid</td>\n",
              "    </tr>\n",
              "    <tr>\n",
              "      <th>2</th>\n",
              "      <td>1591</td>\n",
              "      <td>testimony adduced appellant mother lillie mae ...</td>\n",
              "      <td>Facts</td>\n",
              "    </tr>\n",
              "    <tr>\n",
              "      <th>3</th>\n",
              "      <td>658</td>\n",
              "      <td>appellant needle marks inside left elbow</td>\n",
              "      <td>Facts</td>\n",
              "    </tr>\n",
              "    <tr>\n",
              "      <th>4</th>\n",
              "      <td>2562</td>\n",
              "      <td>analysis contents 3 capsules chemist kenneth a...</td>\n",
              "      <td>Facts</td>\n",
              "    </tr>\n",
              "  </tbody>\n",
              "</table>\n",
              "</div>"
            ],
            "text/plain": [
              "   Unnamed: 0                                           Sentence    Target\n",
              "0        2979  overrule appellantâs contention court erred pe...  Analysis\n",
              "1        2135                      state regarded authority case   Invalid\n",
              "2        1591  testimony adduced appellant mother lillie mae ...     Facts\n",
              "3         658           appellant needle marks inside left elbow     Facts\n",
              "4        2562  analysis contents 3 capsules chemist kenneth a...     Facts"
            ]
          },
          "metadata": {
            "tags": []
          },
          "execution_count": 12
        }
      ]
    },
    {
      "cell_type": "code",
      "metadata": {
        "colab": {
          "base_uri": "https://localhost:8080/"
        },
        "id": "Nep-udrpCJOC",
        "outputId": "403d9b5a-b86c-49cb-dd5f-04e3615ba02a"
      },
      "source": [
        "from sklearn.model_selection import train_test_split\r\n",
        "from sklearn import svm\r\n",
        "from sklearn.metrics import accuracy_score\r\n",
        "from sklearn.metrics import classification_report\r\n",
        "from sklearn.calibration import CalibratedClassifierCV\r\n",
        "\r\n",
        "\r\n",
        "X_train, x_val, Y_train, y_val = train_test_split(train2_Xtfidf,train2['Target'],test_size=0.26,random_state=42)\r\n",
        "support = svm.LinearSVC(multi_class='ovr',class_weight='balanced')\r\n",
        "clf = support.fit(X_train, Y_train)\r\n",
        "calibrator = CalibratedClassifierCV(clf, cv='prefit')\r\n",
        "model=calibrator.fit(X_train, Y_train)\r\n",
        "pred_svm = model.predict(x_val)\r\n",
        "print('Accuracy %s' % accuracy_score(pred_svm,y_val))\r\n",
        "print(classification_report(y_val,pred_svm))"
      ],
      "execution_count": 13,
      "outputs": [
        {
          "output_type": "stream",
          "text": [
            "Accuracy 0.6692477876106194\n",
            "                  precision    recall  f1-score   support\n",
            "\n",
            "        Analysis       0.52      0.39      0.44       126\n",
            "      Conclusion       0.69      0.56      0.62        45\n",
            "           Facts       0.74      0.90      0.82       480\n",
            "         Invalid       0.47      0.43      0.45       132\n",
            "           Issue       0.51      0.43      0.47        51\n",
            "Rule/Law/Holding       0.73      0.27      0.40        70\n",
            "\n",
            "        accuracy                           0.67       904\n",
            "       macro avg       0.61      0.50      0.53       904\n",
            "    weighted avg       0.66      0.67      0.65       904\n",
            "\n"
          ],
          "name": "stdout"
        }
      ]
    },
    {
      "cell_type": "code",
      "metadata": {
        "id": "7r9d3GPtCuWA"
      },
      "source": [
        "x_un1 = tfidf_vect.transform(unlabel_1['Sentence'])\r\n",
        "pred_unlabel_1 = model.predict_proba(x_un1)"
      ],
      "execution_count": 14,
      "outputs": []
    },
    {
      "cell_type": "code",
      "metadata": {
        "colab": {
          "base_uri": "https://localhost:8080/"
        },
        "id": "wFMRO90AC6d2",
        "outputId": "02f4990e-d660-4ecb-f3f6-e58f1b435463"
      },
      "source": [
        "import numpy as np\r\n",
        "pos=[]\r\n",
        "large=[]\r\n",
        "ind = []\r\n",
        "i=0\r\n",
        "for j in pred_unlabel_1:\r\n",
        "  if max(j)> 0.98:\r\n",
        "    ind.append(np.argmax(j))\r\n",
        "    large.append(max(j))\r\n",
        "    pos.append(i)\r\n",
        "  i+=1\r\n",
        "\r\n",
        "\r\n",
        "print(ind)\r\n",
        "print(large)\r\n",
        "print(pos)\r\n",
        "print(len(ind))\r\n",
        "print(len(large))\r\n",
        "print(len(pos))"
      ],
      "execution_count": 15,
      "outputs": [
        {
          "output_type": "stream",
          "text": [
            "[2, 2, 2, 4, 2, 2, 2, 2, 2, 0, 2, 2, 1, 2, 0, 1, 2, 2, 2, 2, 2, 2, 2, 2, 3, 2, 2, 2, 2, 2, 2, 2, 2, 2, 0, 2, 2, 1, 2, 2, 2, 2, 2, 2, 2, 3]\n",
            "[0.9947364811288171, 0.995350562656587, 0.9999246668177597, 0.9805267158180578, 0.9986327268271624, 0.9967933544112038, 0.997190902272551, 0.9979384279055198, 0.993387060006523, 0.9815105608712342, 0.9847802278432465, 0.9990275157459144, 0.9950735841822161, 0.9984069498019716, 0.9891576673310161, 0.9994406019934379, 0.9829746744708211, 0.9811032653545615, 0.986629040985706, 0.9934883787477062, 0.9915253251412279, 0.9877614873564897, 0.9992345410967807, 0.9996316626148171, 0.9944006400835711, 0.9957919114608734, 0.99567512472169, 0.9960121696848192, 0.991054536187153, 0.9962678497937677, 0.9977987015654446, 0.9993190163084229, 0.9966567648646351, 0.9878595211576685, 0.9802906149545654, 0.9998712587989534, 0.9873745374767408, 0.9825189430801107, 0.9927254367134486, 0.9953991542457207, 0.9955964082156826, 0.9899499435869533, 0.999296131939602, 0.996512078665756, 0.9994435563317511, 0.996890982984772]\n",
            "[1, 4, 5, 6, 11, 12, 17, 18, 19, 20, 21, 23, 24, 29, 30, 31, 33, 35, 37, 39, 40, 41, 45, 48, 49, 50, 51, 52, 55, 56, 60, 62, 68, 70, 75, 76, 77, 78, 79, 84, 87, 89, 94, 95, 96, 98]\n",
            "46\n",
            "46\n",
            "46\n"
          ],
          "name": "stdout"
        }
      ]
    },
    {
      "cell_type": "code",
      "metadata": {
        "colab": {
          "base_uri": "https://localhost:8080/",
          "height": 195
        },
        "id": "WQo3GF7nC_7W",
        "outputId": "296a1d75-7b54-4194-bcde-f8c23d77f2ec"
      },
      "source": [
        "unlabel_1=unlabel_1.loc[[1, 4, 5, 6, 11, 12, 17, 18, 19, 20, 21, 23, 24, 29, 30, 31, 33, 35, 37, 39, 40, 41, 45, 48, 49, 50, 51, 52, 55, 56, 60, 62, 68, 70, 75, 76, 77, 78, 79, 84, 87, 89, 94, 95, 96, 98],:]\r\n",
        "unlabel_1.head()"
      ],
      "execution_count": 16,
      "outputs": [
        {
          "output_type": "execute_result",
          "data": {
            "text/html": [
              "<div>\n",
              "<style scoped>\n",
              "    .dataframe tbody tr th:only-of-type {\n",
              "        vertical-align: middle;\n",
              "    }\n",
              "\n",
              "    .dataframe tbody tr th {\n",
              "        vertical-align: top;\n",
              "    }\n",
              "\n",
              "    .dataframe thead th {\n",
              "        text-align: right;\n",
              "    }\n",
              "</style>\n",
              "<table border=\"1\" class=\"dataframe\">\n",
              "  <thead>\n",
              "    <tr style=\"text-align: right;\">\n",
              "      <th></th>\n",
              "      <th>Unnamed: 0</th>\n",
              "      <th>Sentence</th>\n",
              "      <th>Target</th>\n",
              "    </tr>\n",
              "  </thead>\n",
              "  <tbody>\n",
              "    <tr>\n",
              "      <th>1</th>\n",
              "      <td>466</td>\n",
              "      <td>additional moral justification may due complai...</td>\n",
              "      <td>Analysis</td>\n",
              "    </tr>\n",
              "    <tr>\n",
              "      <th>4</th>\n",
              "      <td>79</td>\n",
              "      <td>eligible leaves renew contacts family</td>\n",
              "      <td>Facts</td>\n",
              "    </tr>\n",
              "    <tr>\n",
              "      <th>5</th>\n",
              "      <td>1955</td>\n",
              "      <td>got downstairs ponce went car wife left home</td>\n",
              "      <td>Facts</td>\n",
              "    </tr>\n",
              "    <tr>\n",
              "      <th>6</th>\n",
              "      <td>324</td>\n",
              "      <td>defendant argues impossible reconcile plaintif...</td>\n",
              "      <td>Facts</td>\n",
              "    </tr>\n",
              "    <tr>\n",
              "      <th>11</th>\n",
              "      <td>1604</td>\n",
              "      <td>police notified deceased found lying mrs moers...</td>\n",
              "      <td>Facts</td>\n",
              "    </tr>\n",
              "  </tbody>\n",
              "</table>\n",
              "</div>"
            ],
            "text/plain": [
              "    Unnamed: 0                                           Sentence    Target\n",
              "1          466  additional moral justification may due complai...  Analysis\n",
              "4           79              eligible leaves renew contacts family     Facts\n",
              "5         1955       got downstairs ponce went car wife left home     Facts\n",
              "6          324  defendant argues impossible reconcile plaintif...     Facts\n",
              "11        1604  police notified deceased found lying mrs moers...     Facts"
            ]
          },
          "metadata": {
            "tags": []
          },
          "execution_count": 16
        }
      ]
    },
    {
      "cell_type": "code",
      "metadata": {
        "colab": {
          "base_uri": "https://localhost:8080/"
        },
        "id": "vfZ0vrIMDje2",
        "outputId": "3a3e6b6a-9f6d-4ac6-96db-b522daf20256"
      },
      "source": [
        "frame_1 = [train2,unlabel_1]\r\n",
        "train2_1 = pd.concat(frame_1)\r\n",
        "len(train2_1)"
      ],
      "execution_count": 17,
      "outputs": [
        {
          "output_type": "execute_result",
          "data": {
            "text/plain": [
              "3522"
            ]
          },
          "metadata": {
            "tags": []
          },
          "execution_count": 17
        }
      ]
    },
    {
      "cell_type": "code",
      "metadata": {
        "colab": {
          "base_uri": "https://localhost:8080/"
        },
        "id": "a5zkcYr5Dvoc",
        "outputId": "6f8838f2-abd3-4d11-96b0-504f2b6af5c1"
      },
      "source": [
        "x_train_1 = tfidf_vect.transform(train2_1['Sentence'])\r\n",
        "x_train_1.shape\r\n",
        "X_train, x_val, Y_train, y_val = train_test_split(x_train_1,train2_1['Target'],test_size=0.2,random_state=42)\r\n",
        "support = svm.LinearSVC(multi_class='ovr',class_weight='balanced')\r\n",
        "clf = support.fit(X_train, Y_train)\r\n",
        "calibrator = CalibratedClassifierCV(clf, cv='prefit')\r\n",
        "model_1=calibrator.fit(X_train, Y_train)\r\n",
        "pred_svm = model_1.predict(x_val)\r\n",
        "print('Accuracy %s' % accuracy_score(pred_svm,y_val))\r\n",
        "print(classification_report(y_val,pred_svm))"
      ],
      "execution_count": 18,
      "outputs": [
        {
          "output_type": "stream",
          "text": [
            "Accuracy 0.675177304964539\n",
            "                  precision    recall  f1-score   support\n",
            "\n",
            "        Analysis       0.57      0.46      0.51        94\n",
            "      Conclusion       0.68      0.50      0.58        38\n",
            "           Facts       0.74      0.90      0.81       357\n",
            "         Invalid       0.56      0.49      0.52       121\n",
            "           Issue       0.64      0.41      0.50        44\n",
            "Rule/Law/Holding       0.50      0.29      0.37        51\n",
            "\n",
            "        accuracy                           0.68       705\n",
            "       macro avg       0.61      0.51      0.55       705\n",
            "    weighted avg       0.66      0.68      0.66       705\n",
            "\n"
          ],
          "name": "stdout"
        }
      ]
    },
    {
      "cell_type": "code",
      "metadata": {
        "colab": {
          "base_uri": "https://localhost:8080/"
        },
        "id": "QEY_x7YFD9D4",
        "outputId": "97d48ded-a7aa-49ae-ae62-22a75c61feb3"
      },
      "source": [
        "x_un2 = tfidf_vect.transform(unlabel_2['Sentence'])\r\n",
        "pred_unlabel_2 = model_1.predict_proba(x_un2)\r\n",
        "pos=[]\r\n",
        "large=[]\r\n",
        "ind = []\r\n",
        "i=0\r\n",
        "for j in pred_unlabel_2:\r\n",
        "  if max(j)> 0.98:\r\n",
        "    ind.append(np.argmax(j))\r\n",
        "    large.append(max(j))\r\n",
        "    pos.append(i)\r\n",
        "  i+=1\r\n",
        "\r\n",
        "\r\n",
        "print(ind)\r\n",
        "print(large)\r\n",
        "print(pos)\r\n",
        "print(len(ind))\r\n",
        "print(len(large))\r\n",
        "print(len(pos))"
      ],
      "execution_count": 19,
      "outputs": [
        {
          "output_type": "stream",
          "text": [
            "[2, 2, 2, 2, 2, 2, 2, 2, 2, 2, 2, 1, 2, 2, 3, 2, 1, 2, 1, 2, 0, 2, 2, 2, 2, 2, 2, 3, 2, 2, 2, 2, 2, 2, 2]\n",
            "[0.9994590905224398, 0.9984093082884145, 0.9923361073097062, 0.9988604711437876, 0.9999708656206002, 0.9877145565086215, 0.99480018177729, 0.9932939986224993, 0.9921369624188255, 0.9982672479856253, 0.981980175155705, 0.9991172717714409, 0.9997244313565374, 0.9993457707283452, 0.9980301764053984, 0.987312043989234, 0.9985927919712368, 0.9854918649509639, 0.988563528955601, 0.9997962898464204, 0.9835709172828104, 0.9997154786053813, 0.9998943929021143, 0.9993113805361764, 0.9988279883976957, 0.9989106735464507, 0.9828610742709933, 0.9962936322446234, 0.9970905760915264, 0.9950560132388693, 0.9996459959875575, 0.9966851078822191, 0.9965640536147065, 0.9900639546606846, 0.9920617715006134]\n",
            "[2, 4, 6, 8, 12, 15, 20, 21, 24, 29, 31, 36, 37, 39, 42, 44, 49, 50, 57, 59, 62, 63, 64, 69, 70, 71, 75, 83, 85, 86, 88, 90, 91, 95, 99]\n",
            "35\n",
            "35\n",
            "35\n"
          ],
          "name": "stdout"
        }
      ]
    },
    {
      "cell_type": "code",
      "metadata": {
        "colab": {
          "base_uri": "https://localhost:8080/",
          "height": 195
        },
        "id": "cuHrgR4KEEh5",
        "outputId": "eb299938-1976-494a-bb28-96f663fc6a92"
      },
      "source": [
        "unlabel_2 = unlabel_2.loc[[2, 4, 6, 8, 12, 15, 20, 21, 24, 29, 31, 36, 37, 39, 42, 44, 49, 50, 57, 59, 62, 63, 64, 69, 70, 71, 75, 83, 85, 86, 88, 90, 91, 95, 99],:]\r\n",
        "unlabel_2.head()"
      ],
      "execution_count": 20,
      "outputs": [
        {
          "output_type": "execute_result",
          "data": {
            "text/html": [
              "<div>\n",
              "<style scoped>\n",
              "    .dataframe tbody tr th:only-of-type {\n",
              "        vertical-align: middle;\n",
              "    }\n",
              "\n",
              "    .dataframe tbody tr th {\n",
              "        vertical-align: top;\n",
              "    }\n",
              "\n",
              "    .dataframe thead th {\n",
              "        text-align: right;\n",
              "    }\n",
              "</style>\n",
              "<table border=\"1\" class=\"dataframe\">\n",
              "  <thead>\n",
              "    <tr style=\"text-align: right;\">\n",
              "      <th></th>\n",
              "      <th>Unnamed: 0</th>\n",
              "      <th>Sentence</th>\n",
              "      <th>Target</th>\n",
              "    </tr>\n",
              "  </thead>\n",
              "  <tbody>\n",
              "    <tr>\n",
              "      <th>2</th>\n",
              "      <td>2072</td>\n",
              "      <td>appellant testify offer evidence behalf</td>\n",
              "      <td>Facts</td>\n",
              "    </tr>\n",
              "    <tr>\n",
              "      <th>4</th>\n",
              "      <td>906</td>\n",
              "      <td>agreed accompany gave pawn ticket money reclai...</td>\n",
              "      <td>Facts</td>\n",
              "    </tr>\n",
              "    <tr>\n",
              "      <th>6</th>\n",
              "      <td>570</td>\n",
              "      <td>appellant performed work asked 7500 money ther...</td>\n",
              "      <td>Facts</td>\n",
              "    </tr>\n",
              "    <tr>\n",
              "      <th>8</th>\n",
              "      <td>710</td>\n",
              "      <td>appellant indicted robbery indictment alleging...</td>\n",
              "      <td>Analysis</td>\n",
              "    </tr>\n",
              "    <tr>\n",
              "      <th>12</th>\n",
              "      <td>2085</td>\n",
              "      <td>mrs joyce wisnoski sister appellant testified ...</td>\n",
              "      <td>Facts</td>\n",
              "    </tr>\n",
              "  </tbody>\n",
              "</table>\n",
              "</div>"
            ],
            "text/plain": [
              "    Unnamed: 0                                           Sentence    Target\n",
              "2         2072            appellant testify offer evidence behalf     Facts\n",
              "4          906  agreed accompany gave pawn ticket money reclai...     Facts\n",
              "6          570  appellant performed work asked 7500 money ther...     Facts\n",
              "8          710  appellant indicted robbery indictment alleging...  Analysis\n",
              "12        2085  mrs joyce wisnoski sister appellant testified ...     Facts"
            ]
          },
          "metadata": {
            "tags": []
          },
          "execution_count": 20
        }
      ]
    },
    {
      "cell_type": "code",
      "metadata": {
        "colab": {
          "base_uri": "https://localhost:8080/"
        },
        "id": "0QOzPxMPER3c",
        "outputId": "76dab730-a206-440d-a8f6-e74f5a546994"
      },
      "source": [
        "frame_2 = [train2_1,unlabel_2]\r\n",
        "train2_2 = pd.concat(frame_2)\r\n",
        "len(train2_2)"
      ],
      "execution_count": 21,
      "outputs": [
        {
          "output_type": "execute_result",
          "data": {
            "text/plain": [
              "3557"
            ]
          },
          "metadata": {
            "tags": []
          },
          "execution_count": 21
        }
      ]
    },
    {
      "cell_type": "code",
      "metadata": {
        "colab": {
          "base_uri": "https://localhost:8080/"
        },
        "id": "hSaWvUz4EbM3",
        "outputId": "37b43342-4afb-434e-9332-4b98e4c742cb"
      },
      "source": [
        "x_train_2 = tfidf_vect.transform(train2_2['Sentence'])\r\n",
        "X_train, x_val, Y_train, y_val = train_test_split(x_train_2,train2_2['Target'],test_size=0.27,random_state=2)\r\n",
        "support = svm.LinearSVC(multi_class='ovr',class_weight='balanced')\r\n",
        "clf = support.fit(X_train, Y_train)\r\n",
        "calibrator = CalibratedClassifierCV(clf, cv='prefit')\r\n",
        "model_2=calibrator.fit(X_train, Y_train)\r\n",
        "pred_svm = model_2.predict(x_val)\r\n",
        "print('Accuracy %s' % accuracy_score(pred_svm,y_val))\r\n",
        "print(classification_report(y_val,pred_svm))"
      ],
      "execution_count": 22,
      "outputs": [
        {
          "output_type": "stream",
          "text": [
            "Accuracy 0.6482830385015609\n",
            "                  precision    recall  f1-score   support\n",
            "\n",
            "        Analysis       0.42      0.44      0.43       142\n",
            "      Conclusion       0.75      0.45      0.56        47\n",
            "           Facts       0.73      0.90      0.81       501\n",
            "         Invalid       0.48      0.40      0.43       149\n",
            "           Issue       0.79      0.25      0.38        60\n",
            "Rule/Law/Holding       0.62      0.26      0.36        62\n",
            "\n",
            "        accuracy                           0.65       961\n",
            "       macro avg       0.63      0.45      0.50       961\n",
            "    weighted avg       0.64      0.65      0.63       961\n",
            "\n"
          ],
          "name": "stdout"
        }
      ]
    },
    {
      "cell_type": "code",
      "metadata": {
        "colab": {
          "base_uri": "https://localhost:8080/"
        },
        "id": "KOEPX84mFDmX",
        "outputId": "4d85d84f-04dc-48be-e186-1f351f36f766"
      },
      "source": [
        "x_un3 = tfidf_vect.transform(unlabel_3['Sentence'])\r\n",
        "pred_unlabel_3 = model_2.predict_proba(x_un3)\r\n",
        "\r\n",
        "pos=[]\r\n",
        "large=[]\r\n",
        "ind = []\r\n",
        "i=0\r\n",
        "for j in pred_unlabel_3:\r\n",
        "  if max(j)> 0.98:\r\n",
        "    ind.append(np.argmax(j))\r\n",
        "    large.append(max(j))\r\n",
        "    pos.append(i)\r\n",
        "  i+=1\r\n",
        "\r\n",
        "\r\n",
        "print(ind)\r\n",
        "print(large)\r\n",
        "print(pos)\r\n",
        "print(len(ind))\r\n",
        "print(len(large))\r\n",
        "print(len(pos))"
      ],
      "execution_count": 23,
      "outputs": [
        {
          "output_type": "stream",
          "text": [
            "[0, 2, 2, 2, 2, 2, 2, 2, 2, 2, 2, 2, 2, 2, 2, 2, 2, 2, 2, 2, 2, 2, 1, 3, 1, 5, 2, 2, 2, 2, 2, 2, 2, 2, 2, 2, 0, 2, 2]\n",
            "[0.9939777846530989, 0.9892932204444125, 0.991178254537783, 0.9986894678507207, 0.999055304008049, 0.9993174394506545, 0.9861101082206524, 0.9996840006841463, 0.9908635372019093, 0.9843149208712303, 0.9990923613776207, 0.985372305094474, 0.9952491265587107, 0.9847692281004353, 0.997995567120525, 0.9984028607366648, 0.9937122150693107, 0.997329561123196, 0.9840460632735549, 0.9904430920325825, 0.9937224647388999, 0.9910111406029575, 0.9880432870562146, 0.98764707071928, 0.9843992286019593, 0.9854671219109835, 0.9984708704181482, 0.99987320625809, 0.9851000918029763, 0.995102801889305, 0.9988656943881957, 0.9974127633786048, 0.9997396567533058, 0.9869828696761523, 0.9975070921490992, 0.984240306826718, 0.9890912810397853, 0.9995809018212438, 0.9926103252271362]\n",
            "[0, 2, 3, 7, 8, 12, 19, 20, 23, 26, 27, 29, 30, 33, 36, 43, 46, 47, 48, 49, 51, 52, 53, 54, 56, 61, 63, 65, 66, 67, 68, 70, 72, 73, 75, 79, 85, 89, 91]\n",
            "39\n",
            "39\n",
            "39\n"
          ],
          "name": "stdout"
        }
      ]
    },
    {
      "cell_type": "code",
      "metadata": {
        "colab": {
          "base_uri": "https://localhost:8080/"
        },
        "id": "OfMhW3EkFN_e",
        "outputId": "bda40e8e-14ca-49a7-8e2c-a3e7a7a9074e"
      },
      "source": [
        "unlabel_3=unlabel_3.loc[[0, 2, 3, 7, 8, 12, 19, 20, 23, 26, 27, 29, 30, 33, 36, 43, 46, 47, 48, 49, 51, 52, 53, 54, 56, 61, 63, 65, 66, 67, 68, 70, 72, 73, 75, 79, 85, 89, 91],:]\r\n",
        "frame_3 = [train2_2,unlabel_3]\r\n",
        "train2_3 = pd.concat(frame_3)\r\n",
        "\r\n",
        "x_train_3 = tfidf_vect.transform(train2_3['Sentence'])\r\n",
        "X_train, x_val, Y_train, y_val = train_test_split(x_train_3,train2_3['Target'],test_size=0.2,random_state=42)\r\n",
        "support = svm.LinearSVC(multi_class='ovr',class_weight='balanced')\r\n",
        "clf = support.fit(X_train, Y_train)\r\n",
        "calibrator = CalibratedClassifierCV(clf, cv='prefit')\r\n",
        "model_3=calibrator.fit(X_train, Y_train)\r\n",
        "pred_svm = model_3.predict(x_val)\r\n",
        "print('Accuracy %s' % accuracy_score(pred_svm,y_val))\r\n",
        "print(classification_report(y_val,pred_svm))"
      ],
      "execution_count": 24,
      "outputs": [
        {
          "output_type": "stream",
          "text": [
            "Accuracy 0.6666666666666666\n",
            "                  precision    recall  f1-score   support\n",
            "\n",
            "        Analysis       0.50      0.45      0.47       101\n",
            "      Conclusion       0.70      0.62      0.66        48\n",
            "           Facts       0.74      0.88      0.81       368\n",
            "         Invalid       0.49      0.42      0.45       115\n",
            "           Issue       0.77      0.48      0.59        42\n",
            "Rule/Law/Holding       0.48      0.26      0.34        46\n",
            "\n",
            "        accuracy                           0.67       720\n",
            "       macro avg       0.61      0.52      0.55       720\n",
            "    weighted avg       0.65      0.67      0.65       720\n",
            "\n"
          ],
          "name": "stdout"
        }
      ]
    },
    {
      "cell_type": "code",
      "metadata": {
        "colab": {
          "base_uri": "https://localhost:8080/"
        },
        "id": "CRr8oe3pFpJ2",
        "outputId": "b30c6907-b0e7-497a-eee4-0f39f5ba50d8"
      },
      "source": [
        "x_un4 = tfidf_vect.transform(unlabel_4['Sentence'])\r\n",
        "pred_unlabel_4 = model_3.predict_proba(x_un4)\r\n",
        "\r\n",
        "\r\n",
        "pos=[]\r\n",
        "large=[]\r\n",
        "ind = []\r\n",
        "i=0\r\n",
        "for j in pred_unlabel_4:\r\n",
        "  if max(j)> 0.98:\r\n",
        "    ind.append(np.argmax(j))\r\n",
        "    large.append(max(j))\r\n",
        "    pos.append(i)\r\n",
        "  i+=1\r\n",
        "\r\n",
        "\r\n",
        "print(ind)\r\n",
        "print(large)\r\n",
        "print(pos)\r\n",
        "print(len(ind))\r\n",
        "print(len(large))\r\n",
        "print(len(pos))"
      ],
      "execution_count": 25,
      "outputs": [
        {
          "output_type": "stream",
          "text": [
            "[0, 2, 5, 2, 2, 2, 2, 2, 2, 2, 2, 2, 0, 2, 2, 2, 2, 2, 3, 2, 2, 2, 2, 2, 0, 2, 2, 2, 2, 2, 3, 2, 2, 2, 0, 2, 2, 2, 2, 2, 2, 5, 2, 2, 2]\n",
            "[0.9995152682435181, 0.9819606147605406, 0.9909929855487182, 0.9971755331703275, 0.9911641754638728, 0.999189801372556, 0.9982650230622059, 0.9867787580148596, 0.9855492002027004, 0.9995917558692478, 0.9959354136116574, 0.9978796753948034, 0.9898722956827486, 0.9987796218260483, 0.9988991523901113, 0.9986611740364049, 0.9963799537561194, 0.9957509857702126, 0.9935251008748918, 0.9995207748490008, 0.9982114162946774, 0.9968407916828781, 0.9997857145280881, 0.9928956657621738, 0.9878157001594845, 0.9871270073050724, 0.9957273354657478, 0.99204376513621, 0.9974615354424395, 0.9940105993809516, 0.9931048384657246, 0.9919422005693842, 0.9811356422050811, 0.9928699511232212, 0.9974945210534429, 0.9990423610789205, 0.997677490477019, 0.9999596671358464, 0.9965015152064461, 0.997986684117922, 0.9901805728586691, 0.9833740177242989, 0.9887572136355363, 0.9893697840297, 0.9924367060041255]\n",
            "[2, 4, 6, 7, 8, 10, 15, 16, 17, 18, 21, 22, 25, 27, 28, 29, 30, 31, 32, 34, 37, 38, 40, 42, 46, 49, 50, 55, 56, 57, 58, 60, 61, 64, 67, 70, 71, 75, 80, 85, 87, 94, 96, 97, 99]\n",
            "45\n",
            "45\n",
            "45\n"
          ],
          "name": "stdout"
        }
      ]
    },
    {
      "cell_type": "code",
      "metadata": {
        "id": "-p3HfSQ2FwV_"
      },
      "source": [
        "unlabel_4=unlabel_4.loc[[2, 4, 6, 7, 8, 10, 15, 16, 17, 18, 21, 22, 25, 27, 28, 29, 30, 31, 32, 34, 37, 38, 40, 42, 46, 49, 50, 55, 56, 57, 58, 60, 61, 64, 67, 70, 71, 75, 80, 85, 87, 94, 96, 97, 99 ],:]"
      ],
      "execution_count": 26,
      "outputs": []
    },
    {
      "cell_type": "code",
      "metadata": {
        "colab": {
          "base_uri": "https://localhost:8080/"
        },
        "id": "iR8Ghl7oF5E6",
        "outputId": "8e910a80-b97f-4a3a-aefc-eb818a52c6c6"
      },
      "source": [
        "frame_4 = [train2_3,unlabel_4]\r\n",
        "train2_4 = pd.concat(frame_4)\r\n",
        "len(train2_4)\r\n",
        "x_train_4 = tfidf_vect.transform(train2_4['Sentence'])\r\n",
        "X_train, x_val, Y_train, y_val = train_test_split(x_train_4,train2_4['Target'],test_size=0.27,random_state=42)\r\n",
        "support = svm.LinearSVC()\r\n",
        "clf = support.fit(X_train, Y_train)\r\n",
        "calibrator = CalibratedClassifierCV(clf, cv='prefit')\r\n",
        "model_4=calibrator.fit(X_train, Y_train)\r\n",
        "pred_svm = model_4.predict(x_val)\r\n",
        "print('Accuracy %s' % accuracy_score(pred_svm,y_val))\r\n",
        "print(classification_report(y_val,pred_svm))"
      ],
      "execution_count": 27,
      "outputs": [
        {
          "output_type": "stream",
          "text": [
            "Accuracy 0.649390243902439\n",
            "                  precision    recall  f1-score   support\n",
            "\n",
            "        Analysis       0.52      0.40      0.45       153\n",
            "      Conclusion       0.55      0.42      0.48        50\n",
            "           Facts       0.73      0.89      0.81       503\n",
            "         Invalid       0.48      0.39      0.43       161\n",
            "           Issue       0.49      0.40      0.44        55\n",
            "Rule/Law/Holding       0.57      0.37      0.45        62\n",
            "\n",
            "        accuracy                           0.65       984\n",
            "       macro avg       0.56      0.48      0.51       984\n",
            "    weighted avg       0.63      0.65      0.63       984\n",
            "\n"
          ],
          "name": "stdout"
        }
      ]
    },
    {
      "cell_type": "code",
      "metadata": {
        "colab": {
          "base_uri": "https://localhost:8080/"
        },
        "id": "LquDQOH_GPad",
        "outputId": "a1b881cd-f312-4035-c7bd-c037a7af73f3"
      },
      "source": [
        "x_un5 = tfidf_vect.transform(unlabel_5['Sentence'])\r\n",
        "\r\n",
        "pred_unlabel_5 = model_4.predict_proba(x_un5)\r\n",
        "pos=[]\r\n",
        "large=[]\r\n",
        "ind = []\r\n",
        "i=0\r\n",
        "for j in pred_unlabel_5:\r\n",
        "  if max(j)> 0.98:\r\n",
        "    ind.append(np.argmax(j))\r\n",
        "    large.append(max(j))\r\n",
        "    pos.append(i)\r\n",
        "  i+=1\r\n",
        "\r\n",
        "\r\n",
        "print(ind)\r\n",
        "print(large)\r\n",
        "print(pos)\r\n",
        "print(len(ind))\r\n",
        "print(len(large))\r\n",
        "print(len(pos))"
      ],
      "execution_count": 28,
      "outputs": [
        {
          "output_type": "stream",
          "text": [
            "[0, 2, 2, 3, 2, 5, 3, 2, 2, 2, 2, 2, 2, 1, 1, 2, 2, 2, 2, 2, 2, 2, 2, 2, 0]\n",
            "[0.9835706534737136, 0.9986913232915438, 0.9967103220665957, 0.9933960895698312, 0.9867153797042187, 0.9859394256773638, 0.9973931304080755, 0.9829850424710682, 0.9972856627810629, 0.9993490248048491, 0.9874873179747494, 0.986386682212982, 0.9968721730753612, 0.9997345255262626, 0.9853990134436327, 0.9933317591407834, 0.9994710917275414, 0.9962158946034665, 0.9914969666300626, 0.9992290080284413, 0.9976601318536596, 0.9994525724668963, 0.9994821151872488, 0.9958230562471185, 0.9856995193413235]\n",
            "[1, 3, 7, 8, 12, 18, 19, 22, 23, 26, 27, 28, 32, 36, 46, 52, 53, 60, 65, 82, 86, 94, 95, 97, 103]\n",
            "25\n",
            "25\n",
            "25\n"
          ],
          "name": "stdout"
        }
      ]
    },
    {
      "cell_type": "code",
      "metadata": {
        "id": "P1MxKadbHypp"
      },
      "source": [
        "unlabel_5 = unlabel_5.loc[[1, 3, 7, 8, 12, 18, 19, 22, 23, 26, 27, 28, 32, 36, 46, 52, 53, 60, 65, 82, 86, 94, 95, 97, 103],:]"
      ],
      "execution_count": 29,
      "outputs": []
    },
    {
      "cell_type": "code",
      "metadata": {
        "colab": {
          "base_uri": "https://localhost:8080/"
        },
        "id": "DKlIotQ2H59h",
        "outputId": "7c82e776-bf86-43e0-e838-65667a3eb74e"
      },
      "source": [
        "frame_5 = [train2_4,unlabel_5]\r\n",
        "train2_5 = pd.concat(frame_5)\r\n",
        "len(train2_5)\r\n",
        "x_train_5 = tfidf_vect.transform(train2_5['Sentence'])\r\n",
        "X_train, x_val, Y_train, y_val = train_test_split(x_train_5,train2_5['Target'],test_size=0.2,random_state=42)\r\n",
        "support = svm.LinearSVC()\r\n",
        "clf = support.fit(X_train, Y_train)\r\n",
        "calibrator = CalibratedClassifierCV(clf, cv='prefit')\r\n",
        "model_5=calibrator.fit(X_train, Y_train)\r\n",
        "pred_svm = model_5.predict(x_val)\r\n",
        "print('Accuracy %s' % accuracy_score(pred_svm,y_val))\r\n",
        "print(classification_report(y_val,pred_svm))"
      ],
      "execution_count": 30,
      "outputs": [
        {
          "output_type": "stream",
          "text": [
            "Accuracy 0.6730245231607629\n",
            "                  precision    recall  f1-score   support\n",
            "\n",
            "        Analysis       0.45      0.44      0.44        95\n",
            "      Conclusion       0.69      0.52      0.59        42\n",
            "           Facts       0.78      0.87      0.82       382\n",
            "         Invalid       0.48      0.45      0.47       108\n",
            "           Issue       0.63      0.47      0.54        51\n",
            "Rule/Law/Holding       0.59      0.41      0.48        56\n",
            "\n",
            "        accuracy                           0.67       734\n",
            "       macro avg       0.60      0.53      0.56       734\n",
            "    weighted avg       0.66      0.67      0.66       734\n",
            "\n"
          ],
          "name": "stdout"
        }
      ]
    },
    {
      "cell_type": "code",
      "metadata": {
        "colab": {
          "base_uri": "https://localhost:8080/"
        },
        "id": "WwXcxHFUIBUX",
        "outputId": "ca1deae1-165a-4cb3-dddc-5ebb2f5dd17d"
      },
      "source": [
        "t_p = tfidf_vect.transform(test['Sentence'])\r\n",
        "test_pred = model_5.predict(t_p)\r\n",
        "print('Accuracy %s' % accuracy_score(test_pred,test['Target']))"
      ],
      "execution_count": 31,
      "outputs": [
        {
          "output_type": "stream",
          "text": [
            "Accuracy 0.6717850287907869\n"
          ],
          "name": "stdout"
        }
      ]
    },
    {
      "cell_type": "code",
      "metadata": {
        "id": "mlUt7NbZanLb",
        "outputId": "44a393f6-8ef1-4f7d-bfdd-d809decab602",
        "colab": {
          "base_uri": "https://localhost:8080/"
        }
      },
      "source": [
        "from sklearn.metrics import precision_recall_fscore_support\r\n",
        "print(precision_recall_fscore_support(test['Target'],test_pred,average='macro'))"
      ],
      "execution_count": 32,
      "outputs": [
        {
          "output_type": "stream",
          "text": [
            "(0.6494647019647021, 0.5908487567682178, 0.6051923271375125, None)\n"
          ],
          "name": "stdout"
        }
      ]
    }
  ]
}