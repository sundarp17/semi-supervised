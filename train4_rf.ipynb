{
  "nbformat": 4,
  "nbformat_minor": 0,
  "metadata": {
    "colab": {
      "name": "train4_rf.ipynb",
      "provenance": [],
      "authorship_tag": "ABX9TyN6wkvdJJ2LPOoBYJP60nhB",
      "include_colab_link": true
    },
    "kernelspec": {
      "name": "python3",
      "display_name": "Python 3"
    }
  },
  "cells": [
    {
      "cell_type": "markdown",
      "metadata": {
        "id": "view-in-github",
        "colab_type": "text"
      },
      "source": [
        "<a href=\"https://colab.research.google.com/github/sundarp17/semi-supervised/blob/main/train4_rf.ipynb\" target=\"_parent\"><img src=\"https://colab.research.google.com/assets/colab-badge.svg\" alt=\"Open In Colab\"/></a>"
      ]
    },
    {
      "cell_type": "code",
      "metadata": {
        "id": "BSNaH-G5e9XK"
      },
      "source": [
        "import numpy as np\r\n",
        "import pandas as pd"
      ],
      "execution_count": null,
      "outputs": []
    },
    {
      "cell_type": "code",
      "metadata": {
        "id": "yMMnSj98r48p"
      },
      "source": [
        "\r\n",
        "train4 = pd.read_csv(r'/content/train_data4.csv')\r\n",
        "test = pd.read_csv(r'/content/test_data.csv')"
      ],
      "execution_count": null,
      "outputs": []
    },
    {
      "cell_type": "code",
      "metadata": {
        "id": "YXsEmIOrr8sa"
      },
      "source": [
        "\r\n",
        "train4['Target'] = train4['Target'].replace(['Others'],'Invalid')\r\n"
      ],
      "execution_count": null,
      "outputs": []
    },
    {
      "cell_type": "code",
      "metadata": {
        "colab": {
          "base_uri": "https://localhost:8080/"
        },
        "id": "gyCyM6OHsExq",
        "outputId": "7b005296-32d9-4b67-d5b9-d5f5401b4c65"
      },
      "source": [
        "train4['Target'].unique()"
      ],
      "execution_count": null,
      "outputs": [
        {
          "output_type": "execute_result",
          "data": {
            "text/plain": [
              "array(['Invalid', 'Issue', 'Analysis', 'Facts', 'Conclusion',\n",
              "       'Rule/Law/Holding'], dtype=object)"
            ]
          },
          "metadata": {
            "tags": []
          },
          "execution_count": 4
        }
      ]
    },
    {
      "cell_type": "code",
      "metadata": {
        "colab": {
          "base_uri": "https://localhost:8080/"
        },
        "id": "XRWq-Ak9sGCr",
        "outputId": "d932651b-c829-4dc1-fb7a-28f89844367d"
      },
      "source": [
        "#cleaning\r\n",
        "import nltk\r\n",
        "import re\r\n",
        "import string\r\n",
        "nltk.download('stopwords')\r\n",
        "nltk.download('wordnet')\r\n",
        "stopword=nltk.corpus.stopwords.words('english')\r\n",
        "from nltk.stem import WordNetLemmatizer\r\n",
        "wl= WordNetLemmatizer()\r\n",
        "\r\n",
        "def clean_text(text):\r\n",
        "  text=\"\".join([word.lower() for word in text if word not in string.punctuation])\r\n",
        "  tokens = re.split('\\W+',text)\r\n",
        "  text = [wl.lemmatize(word) for word in tokens if word not in stopword]\r\n",
        "  return text"
      ],
      "execution_count": null,
      "outputs": [
        {
          "output_type": "stream",
          "text": [
            "[nltk_data] Downloading package stopwords to /root/nltk_data...\n",
            "[nltk_data]   Unzipping corpora/stopwords.zip.\n",
            "[nltk_data] Downloading package wordnet to /root/nltk_data...\n",
            "[nltk_data]   Unzipping corpora/wordnet.zip.\n"
          ],
          "name": "stdout"
        }
      ]
    },
    {
      "cell_type": "code",
      "metadata": {
        "id": "fAVBbrf8sLpd"
      },
      "source": [
        "from sklearn.feature_extraction.text import TfidfVectorizer\r\n",
        "\r\n",
        "tfidf_vect = TfidfVectorizer(analyzer = clean_text)\r\n",
        "\r\n",
        "train4_Xtfidf = tfidf_vect.fit_transform(train4['Sentence'])\r\n"
      ],
      "execution_count": null,
      "outputs": []
    },
    {
      "cell_type": "code",
      "metadata": {
        "id": "LiDNOGMlsXjn"
      },
      "source": [
        "test['Target']=test['Target'].replace(['Others'],'Invalid')\r\n",
        "test['Sentence'] = test['Sentence'].apply(lambda x: \" \".join(x.lower() for x in str(x).split()))\r\n",
        "test['Sentence'] = test['Sentence'].str.replace('[^\\w\\s]','')\r\n",
        "from nltk.corpus import stopwords\r\n",
        "words = stopwords.words('english')\r\n",
        "test['Sentence'] = test['Sentence'].apply(lambda x: \" \".join(x for x in x.split() if x not in words))"
      ],
      "execution_count": null,
      "outputs": []
    },
    {
      "cell_type": "code",
      "metadata": {
        "colab": {
          "base_uri": "https://localhost:8080/"
        },
        "id": "kiXsxzUysh_t",
        "outputId": "b6427515-4cd6-4fd2-b118-e85e14c558f1"
      },
      "source": [
        "unlabel_1 = test.loc[:100]\r\n",
        "print(\"length of unlabel_1\",len(unlabel_1))\r\n",
        "unlabel_2 = test.loc[101:200]\r\n",
        "print(\"length of unlabel_2\",len(unlabel_2))\r\n",
        "unlabel_3 = test.loc[201:300]\r\n",
        "print(\"length of unlabel_3\",len(unlabel_3))\r\n",
        "unlabel_4 = test.loc[301:400]\r\n",
        "print(\"length of unlabel_4\",len(unlabel_4))\r\n",
        "unlabel_5 = test.loc[401:]\r\n",
        "print(\"length of unlabel_5\",len(unlabel_5))"
      ],
      "execution_count": null,
      "outputs": [
        {
          "output_type": "stream",
          "text": [
            "length of unlabel_1 101\n",
            "length of unlabel_2 100\n",
            "length of unlabel_3 100\n",
            "length of unlabel_4 100\n",
            "length of unlabel_5 120\n"
          ],
          "name": "stdout"
        }
      ]
    },
    {
      "cell_type": "code",
      "metadata": {
        "colab": {
          "base_uri": "https://localhost:8080/",
          "height": 195
        },
        "id": "fjmpfwMKsnAk",
        "outputId": "da50b5a0-eb44-4cda-da16-abe016f9697e"
      },
      "source": [
        "unlabel_2.reset_index(inplace=True)\r\n",
        "del unlabel_2['index']\r\n",
        "unlabel_2.head()"
      ],
      "execution_count": null,
      "outputs": [
        {
          "output_type": "execute_result",
          "data": {
            "text/html": [
              "<div>\n",
              "<style scoped>\n",
              "    .dataframe tbody tr th:only-of-type {\n",
              "        vertical-align: middle;\n",
              "    }\n",
              "\n",
              "    .dataframe tbody tr th {\n",
              "        vertical-align: top;\n",
              "    }\n",
              "\n",
              "    .dataframe thead th {\n",
              "        text-align: right;\n",
              "    }\n",
              "</style>\n",
              "<table border=\"1\" class=\"dataframe\">\n",
              "  <thead>\n",
              "    <tr style=\"text-align: right;\">\n",
              "      <th></th>\n",
              "      <th>Unnamed: 0</th>\n",
              "      <th>Sentence</th>\n",
              "      <th>Target</th>\n",
              "    </tr>\n",
              "  </thead>\n",
              "  <tbody>\n",
              "    <tr>\n",
              "      <th>0</th>\n",
              "      <td>1207</td>\n",
              "      <td>examination occurred night middle may testifie...</td>\n",
              "      <td>Invalid</td>\n",
              "    </tr>\n",
              "    <tr>\n",
              "      <th>1</th>\n",
              "      <td>3400</td>\n",
              "      <td>undisputed testimony reflects appellant drivin...</td>\n",
              "      <td>Facts</td>\n",
              "    </tr>\n",
              "    <tr>\n",
              "      <th>2</th>\n",
              "      <td>2072</td>\n",
              "      <td>appellant testify offer evidence behalf</td>\n",
              "      <td>Facts</td>\n",
              "    </tr>\n",
              "    <tr>\n",
              "      <th>3</th>\n",
              "      <td>517</td>\n",
              "      <td>56 uniform act regulating traffic highways gis...</td>\n",
              "      <td>Rule/Law/Holding</td>\n",
              "    </tr>\n",
              "    <tr>\n",
              "      <th>4</th>\n",
              "      <td>906</td>\n",
              "      <td>agreed accompany gave pawn ticket money reclai...</td>\n",
              "      <td>Facts</td>\n",
              "    </tr>\n",
              "  </tbody>\n",
              "</table>\n",
              "</div>"
            ],
            "text/plain": [
              "   Unnamed: 0  ...            Target\n",
              "0        1207  ...           Invalid\n",
              "1        3400  ...             Facts\n",
              "2        2072  ...             Facts\n",
              "3         517  ...  Rule/Law/Holding\n",
              "4         906  ...             Facts\n",
              "\n",
              "[5 rows x 3 columns]"
            ]
          },
          "metadata": {
            "tags": []
          },
          "execution_count": 9
        }
      ]
    },
    {
      "cell_type": "code",
      "metadata": {
        "colab": {
          "base_uri": "https://localhost:8080/",
          "height": 195
        },
        "id": "or3mI32wsupE",
        "outputId": "7606d73b-c8b9-46ff-9dd2-ca0625aeb404"
      },
      "source": [
        "unlabel_3.reset_index(inplace=True)\r\n",
        "del unlabel_3['index']\r\n",
        "unlabel_3.head()"
      ],
      "execution_count": null,
      "outputs": [
        {
          "output_type": "execute_result",
          "data": {
            "text/html": [
              "<div>\n",
              "<style scoped>\n",
              "    .dataframe tbody tr th:only-of-type {\n",
              "        vertical-align: middle;\n",
              "    }\n",
              "\n",
              "    .dataframe tbody tr th {\n",
              "        vertical-align: top;\n",
              "    }\n",
              "\n",
              "    .dataframe thead th {\n",
              "        text-align: right;\n",
              "    }\n",
              "</style>\n",
              "<table border=\"1\" class=\"dataframe\">\n",
              "  <thead>\n",
              "    <tr style=\"text-align: right;\">\n",
              "      <th></th>\n",
              "      <th>Unnamed: 0</th>\n",
              "      <th>Sentence</th>\n",
              "      <th>Target</th>\n",
              "    </tr>\n",
              "  </thead>\n",
              "  <tbody>\n",
              "    <tr>\n",
              "      <th>0</th>\n",
              "      <td>1882</td>\n",
              "      <td>find evidence amply sufficient sustain juryâs ...</td>\n",
              "      <td>Analysis</td>\n",
              "    </tr>\n",
              "    <tr>\n",
              "      <th>1</th>\n",
              "      <td>964</td>\n",
              "      <td>actions show thatâ</td>\n",
              "      <td>Invalid</td>\n",
              "    </tr>\n",
              "    <tr>\n",
              "      <th>2</th>\n",
              "      <td>1417</td>\n",
              "      <td>certification attending physician shown filed ...</td>\n",
              "      <td>Facts</td>\n",
              "    </tr>\n",
              "    <tr>\n",
              "      <th>3</th>\n",
              "      <td>2932</td>\n",
              "      <td>testified agent bland first left automobile wa...</td>\n",
              "      <td>Facts</td>\n",
              "    </tr>\n",
              "    <tr>\n",
              "      <th>4</th>\n",
              "      <td>1584</td>\n",
              "      <td>officer testified could smell odor alcohol app...</td>\n",
              "      <td>Facts</td>\n",
              "    </tr>\n",
              "  </tbody>\n",
              "</table>\n",
              "</div>"
            ],
            "text/plain": [
              "   Unnamed: 0                                           Sentence    Target\n",
              "0        1882  find evidence amply sufficient sustain juryâs ...  Analysis\n",
              "1         964                                 actions show thatâ   Invalid\n",
              "2        1417  certification attending physician shown filed ...     Facts\n",
              "3        2932  testified agent bland first left automobile wa...     Facts\n",
              "4        1584  officer testified could smell odor alcohol app...     Facts"
            ]
          },
          "metadata": {
            "tags": []
          },
          "execution_count": 10
        }
      ]
    },
    {
      "cell_type": "code",
      "metadata": {
        "colab": {
          "base_uri": "https://localhost:8080/",
          "height": 195
        },
        "id": "2xe3MWluszTz",
        "outputId": "7a1b3d43-fde4-413b-8b95-c15ae89159f9"
      },
      "source": [
        "unlabel_4.reset_index(inplace=True)\r\n",
        "del unlabel_4['index']\r\n",
        "unlabel_4.head()"
      ],
      "execution_count": null,
      "outputs": [
        {
          "output_type": "execute_result",
          "data": {
            "text/html": [
              "<div>\n",
              "<style scoped>\n",
              "    .dataframe tbody tr th:only-of-type {\n",
              "        vertical-align: middle;\n",
              "    }\n",
              "\n",
              "    .dataframe tbody tr th {\n",
              "        vertical-align: top;\n",
              "    }\n",
              "\n",
              "    .dataframe thead th {\n",
              "        text-align: right;\n",
              "    }\n",
              "</style>\n",
              "<table border=\"1\" class=\"dataframe\">\n",
              "  <thead>\n",
              "    <tr style=\"text-align: right;\">\n",
              "      <th></th>\n",
              "      <th>Unnamed: 0</th>\n",
              "      <th>Sentence</th>\n",
              "      <th>Target</th>\n",
              "    </tr>\n",
              "  </thead>\n",
              "  <tbody>\n",
              "    <tr>\n",
              "      <th>0</th>\n",
              "      <td>266</td>\n",
              "      <td>section 6 pl</td>\n",
              "      <td>Invalid</td>\n",
              "    </tr>\n",
              "    <tr>\n",
              "      <th>1</th>\n",
              "      <td>3469</td>\n",
              "      <td>amended answer appellant alleged bond invalid ...</td>\n",
              "      <td>Analysis</td>\n",
              "    </tr>\n",
              "    <tr>\n",
              "      <th>2</th>\n",
              "      <td>1471</td>\n",
              "      <td>evidence sufficient support conviction appella...</td>\n",
              "      <td>Analysis</td>\n",
              "    </tr>\n",
              "    <tr>\n",
              "      <th>3</th>\n",
              "      <td>1990</td>\n",
              "      <td>cases cited note 19</td>\n",
              "      <td>Invalid</td>\n",
              "    </tr>\n",
              "    <tr>\n",
              "      <th>4</th>\n",
              "      <td>2757</td>\n",
              "      <td>july 8 1960 order entered revoking said probat...</td>\n",
              "      <td>Facts</td>\n",
              "    </tr>\n",
              "  </tbody>\n",
              "</table>\n",
              "</div>"
            ],
            "text/plain": [
              "   Unnamed: 0                                           Sentence    Target\n",
              "0         266                                       section 6 pl   Invalid\n",
              "1        3469  amended answer appellant alleged bond invalid ...  Analysis\n",
              "2        1471  evidence sufficient support conviction appella...  Analysis\n",
              "3        1990                                cases cited note 19   Invalid\n",
              "4        2757  july 8 1960 order entered revoking said probat...     Facts"
            ]
          },
          "metadata": {
            "tags": []
          },
          "execution_count": 11
        }
      ]
    },
    {
      "cell_type": "code",
      "metadata": {
        "colab": {
          "base_uri": "https://localhost:8080/",
          "height": 195
        },
        "id": "-dCJpImWtH8K",
        "outputId": "cc92961b-f641-4b16-8670-a34373aa3c05"
      },
      "source": [
        "unlabel_5.reset_index(inplace=True)\r\n",
        "del unlabel_5['index']\r\n",
        "unlabel_5.head()"
      ],
      "execution_count": null,
      "outputs": [
        {
          "output_type": "execute_result",
          "data": {
            "text/html": [
              "<div>\n",
              "<style scoped>\n",
              "    .dataframe tbody tr th:only-of-type {\n",
              "        vertical-align: middle;\n",
              "    }\n",
              "\n",
              "    .dataframe tbody tr th {\n",
              "        vertical-align: top;\n",
              "    }\n",
              "\n",
              "    .dataframe thead th {\n",
              "        text-align: right;\n",
              "    }\n",
              "</style>\n",
              "<table border=\"1\" class=\"dataframe\">\n",
              "  <thead>\n",
              "    <tr style=\"text-align: right;\">\n",
              "      <th></th>\n",
              "      <th>Unnamed: 0</th>\n",
              "      <th>Sentence</th>\n",
              "      <th>Target</th>\n",
              "    </tr>\n",
              "  </thead>\n",
              "  <tbody>\n",
              "    <tr>\n",
              "      <th>0</th>\n",
              "      <td>2979</td>\n",
              "      <td>overrule appellantâs contention court erred pe...</td>\n",
              "      <td>Analysis</td>\n",
              "    </tr>\n",
              "    <tr>\n",
              "      <th>1</th>\n",
              "      <td>2135</td>\n",
              "      <td>state regarded authority case</td>\n",
              "      <td>Invalid</td>\n",
              "    </tr>\n",
              "    <tr>\n",
              "      <th>2</th>\n",
              "      <td>1591</td>\n",
              "      <td>testimony adduced appellant mother lillie mae ...</td>\n",
              "      <td>Facts</td>\n",
              "    </tr>\n",
              "    <tr>\n",
              "      <th>3</th>\n",
              "      <td>658</td>\n",
              "      <td>appellant needle marks inside left elbow</td>\n",
              "      <td>Facts</td>\n",
              "    </tr>\n",
              "    <tr>\n",
              "      <th>4</th>\n",
              "      <td>2562</td>\n",
              "      <td>analysis contents 3 capsules chemist kenneth a...</td>\n",
              "      <td>Facts</td>\n",
              "    </tr>\n",
              "  </tbody>\n",
              "</table>\n",
              "</div>"
            ],
            "text/plain": [
              "   Unnamed: 0                                           Sentence    Target\n",
              "0        2979  overrule appellantâs contention court erred pe...  Analysis\n",
              "1        2135                      state regarded authority case   Invalid\n",
              "2        1591  testimony adduced appellant mother lillie mae ...     Facts\n",
              "3         658           appellant needle marks inside left elbow     Facts\n",
              "4        2562  analysis contents 3 capsules chemist kenneth a...     Facts"
            ]
          },
          "metadata": {
            "tags": []
          },
          "execution_count": 12
        }
      ]
    },
    {
      "cell_type": "code",
      "metadata": {
        "colab": {
          "base_uri": "https://localhost:8080/"
        },
        "id": "Nep-udrpCJOC",
        "outputId": "d6e24a8e-a3a5-4076-92f4-1481952cd302"
      },
      "source": [
        "from sklearn.model_selection import train_test_split\r\n",
        "from sklearn.ensemble import RandomForestClassifier\r\n",
        "from sklearn.metrics import accuracy_score\r\n",
        "from sklearn.metrics import classification_report\r\n",
        "from sklearn.calibration import CalibratedClassifierCV\r\n",
        "\r\n",
        "\r\n",
        "X_train, x_val, Y_train, y_val = train_test_split(train4_Xtfidf,train4['Target'],test_size=0.26,random_state=42)\r\n",
        "support = RandomForestClassifier()\r\n",
        "clf = support.fit(X_train, Y_train)\r\n",
        "calibrator = CalibratedClassifierCV(clf, cv='prefit')\r\n",
        "model=calibrator.fit(X_train, Y_train)\r\n",
        "pred_svm = model.predict(x_val)\r\n",
        "print('Accuracy %s' % accuracy_score(pred_svm,y_val))\r\n",
        "print(classification_report(y_val,pred_svm))"
      ],
      "execution_count": null,
      "outputs": [
        {
          "output_type": "stream",
          "text": [
            "Accuracy 0.665929203539823\n",
            "                  precision    recall  f1-score   support\n",
            "\n",
            "        Analysis       0.50      0.35      0.41       127\n",
            "      Conclusion       0.74      0.40      0.52        42\n",
            "           Facts       0.73      0.86      0.79       487\n",
            "         Invalid       0.51      0.58      0.54       128\n",
            "           Issue       0.59      0.47      0.52        49\n",
            "Rule/Law/Holding       0.71      0.34      0.46        71\n",
            "\n",
            "        accuracy                           0.67       904\n",
            "       macro avg       0.63      0.50      0.54       904\n",
            "    weighted avg       0.66      0.67      0.65       904\n",
            "\n"
          ],
          "name": "stdout"
        }
      ]
    },
    {
      "cell_type": "code",
      "metadata": {
        "id": "7r9d3GPtCuWA"
      },
      "source": [
        "x_un1 = tfidf_vect.transform(unlabel_1['Sentence'])\r\n",
        "pred_unlabel_1 = model.predict_proba(x_un1)"
      ],
      "execution_count": null,
      "outputs": []
    },
    {
      "cell_type": "code",
      "metadata": {
        "colab": {
          "base_uri": "https://localhost:8080/"
        },
        "id": "wFMRO90AC6d2",
        "outputId": "95b60b97-ac8b-4a67-f1ce-74a22f318cc9"
      },
      "source": [
        "import numpy as np\r\n",
        "pos=[]\r\n",
        "large=[]\r\n",
        "ind = []\r\n",
        "i=0\r\n",
        "for j in pred_unlabel_1:\r\n",
        "  if max(j)> 0.98:\r\n",
        "    ind.append(np.argmax(j))\r\n",
        "    large.append(max(j))\r\n",
        "    pos.append(i)\r\n",
        "  i+=1\r\n",
        "\r\n",
        "\r\n",
        "print(ind)\r\n",
        "print(large)\r\n",
        "print(pos)\r\n",
        "print(len(ind))\r\n",
        "print(len(large))\r\n",
        "print(len(pos))"
      ],
      "execution_count": null,
      "outputs": [
        {
          "output_type": "stream",
          "text": [
            "[2, 0, 3, 3, 2, 4, 3, 0, 2, 2, 2, 2, 2, 2, 2, 3, 2, 3, 2, 2, 2, 0, 2, 2, 2, 2, 2, 2, 3, 2, 3, 3, 2, 2, 2, 2, 2, 2, 2, 2, 2, 0, 2, 2, 2, 2, 1, 3, 3, 2, 2, 2, 2, 2, 2, 3, 5, 2, 2, 2, 3, 2]\n",
            "[0.9983021958425319, 0.9982806642636489, 0.9934690898635297, 0.9987354269340737, 0.9988232542035954, 0.9837587476895958, 0.9985712418311398, 0.9832668651560081, 0.9981955211543915, 0.9949806491235289, 0.9966020970880862, 0.9976832574160791, 0.9959409533063316, 0.9962950625320284, 0.9946168562565442, 0.998181862152708, 0.9983005918543679, 0.9985073536356956, 0.9817234833250456, 0.9980160313414899, 0.9977346500810909, 0.9898972753785715, 0.9971312188254023, 0.99212481994679, 0.9954712599075903, 0.9970315666494993, 0.9948417774969112, 0.9815530167024137, 0.9931346833246456, 0.9940200768377705, 0.9836744075202137, 0.9950434076245677, 0.9970561717904728, 0.9876581862162119, 0.9945359523166089, 0.9976660200693784, 0.9852558773952944, 0.9965451519157581, 0.9851209395802639, 0.9986200014239782, 0.9940508987172542, 0.9833280688342912, 0.9919036112526723, 0.9812874023381407, 0.9816013746722374, 0.9978651969185109, 0.9901748707842926, 0.9976763133506615, 0.9963998016755256, 0.9928909914697287, 0.9900738738857321, 0.9926266414137461, 0.9984659734397496, 0.9961425779062948, 0.994135159466155, 0.9937372583285955, 0.9946439127999722, 0.9985899136350287, 0.9981752117952838, 0.997502397444652, 0.9984553004858087, 0.9845443819677645]\n",
            "[0, 1, 2, 4, 5, 6, 8, 10, 11, 14, 16, 17, 18, 19, 21, 22, 23, 26, 27, 28, 29, 30, 34, 35, 37, 39, 40, 41, 43, 48, 49, 51, 52, 54, 55, 56, 57, 59, 60, 62, 66, 67, 69, 70, 73, 76, 78, 80, 84, 85, 86, 87, 88, 89, 91, 92, 93, 94, 95, 96, 98, 99]\n",
            "62\n",
            "62\n",
            "62\n"
          ],
          "name": "stdout"
        }
      ]
    },
    {
      "cell_type": "code",
      "metadata": {
        "colab": {
          "base_uri": "https://localhost:8080/",
          "height": 195
        },
        "id": "WQo3GF7nC_7W",
        "outputId": "f0f9df4c-b840-4b7f-a72a-a14ce18e10d6"
      },
      "source": [
        "unlabel_1=unlabel_1.loc[pos,:]\r\n",
        "unlabel_1.head()"
      ],
      "execution_count": null,
      "outputs": [
        {
          "output_type": "execute_result",
          "data": {
            "text/html": [
              "<div>\n",
              "<style scoped>\n",
              "    .dataframe tbody tr th:only-of-type {\n",
              "        vertical-align: middle;\n",
              "    }\n",
              "\n",
              "    .dataframe tbody tr th {\n",
              "        vertical-align: top;\n",
              "    }\n",
              "\n",
              "    .dataframe thead th {\n",
              "        text-align: right;\n",
              "    }\n",
              "</style>\n",
              "<table border=\"1\" class=\"dataframe\">\n",
              "  <thead>\n",
              "    <tr style=\"text-align: right;\">\n",
              "      <th></th>\n",
              "      <th>Unnamed: 0</th>\n",
              "      <th>Sentence</th>\n",
              "      <th>Target</th>\n",
              "    </tr>\n",
              "  </thead>\n",
              "  <tbody>\n",
              "    <tr>\n",
              "      <th>0</th>\n",
              "      <td>2173</td>\n",
              "      <td>darden sr testified âœi saw staggering â prett...</td>\n",
              "      <td>Facts</td>\n",
              "    </tr>\n",
              "    <tr>\n",
              "      <th>1</th>\n",
              "      <td>466</td>\n",
              "      <td>additional moral justification may due complai...</td>\n",
              "      <td>Analysis</td>\n",
              "    </tr>\n",
              "    <tr>\n",
              "      <th>2</th>\n",
              "      <td>525</td>\n",
              "      <td>85 22 sw 140 wherein accused acting upon advic...</td>\n",
              "      <td>Rule/Law/Holding</td>\n",
              "    </tr>\n",
              "    <tr>\n",
              "      <th>4</th>\n",
              "      <td>79</td>\n",
              "      <td>eligible leaves renew contacts family</td>\n",
              "      <td>Facts</td>\n",
              "    </tr>\n",
              "    <tr>\n",
              "      <th>5</th>\n",
              "      <td>1955</td>\n",
              "      <td>got downstairs ponce went car wife left home</td>\n",
              "      <td>Facts</td>\n",
              "    </tr>\n",
              "  </tbody>\n",
              "</table>\n",
              "</div>"
            ],
            "text/plain": [
              "   Unnamed: 0  ...            Target\n",
              "0        2173  ...             Facts\n",
              "1         466  ...          Analysis\n",
              "2         525  ...  Rule/Law/Holding\n",
              "4          79  ...             Facts\n",
              "5        1955  ...             Facts\n",
              "\n",
              "[5 rows x 3 columns]"
            ]
          },
          "metadata": {
            "tags": []
          },
          "execution_count": 16
        }
      ]
    },
    {
      "cell_type": "code",
      "metadata": {
        "colab": {
          "base_uri": "https://localhost:8080/"
        },
        "id": "vfZ0vrIMDje2",
        "outputId": "c09873b7-4402-42d3-b620-9bd7a34a8c9e"
      },
      "source": [
        "frame_1 = [train4,unlabel_1]\r\n",
        "train4_1 = pd.concat(frame_1)\r\n",
        "len(train4_1)"
      ],
      "execution_count": null,
      "outputs": [
        {
          "output_type": "execute_result",
          "data": {
            "text/plain": [
              "3538"
            ]
          },
          "metadata": {
            "tags": []
          },
          "execution_count": 17
        }
      ]
    },
    {
      "cell_type": "code",
      "metadata": {
        "colab": {
          "base_uri": "https://localhost:8080/"
        },
        "id": "a5zkcYr5Dvoc",
        "outputId": "73a7fa77-2b51-48b2-fe86-1933c9b72007"
      },
      "source": [
        "x_train_1 = tfidf_vect.transform(train4_1['Sentence'])\r\n",
        "x_train_1.shape\r\n",
        "X_train, x_val, Y_train, y_val = train_test_split(x_train_1,train4_1['Target'],test_size=0.2,random_state=42)\r\n",
        "support = RandomForestClassifier()\r\n",
        "clf = support.fit(X_train, Y_train)\r\n",
        "calibrator = CalibratedClassifierCV(clf, cv='prefit')\r\n",
        "model_1=calibrator.fit(X_train, Y_train)\r\n",
        "pred_svm = model_1.predict(x_val)\r\n",
        "print('Accuracy %s' % accuracy_score(pred_svm,y_val))\r\n",
        "print(classification_report(y_val,pred_svm))"
      ],
      "execution_count": null,
      "outputs": [
        {
          "output_type": "stream",
          "text": [
            "Accuracy 0.6567796610169492\n",
            "                  precision    recall  f1-score   support\n",
            "\n",
            "        Analysis       0.44      0.28      0.34        98\n",
            "      Conclusion       0.67      0.45      0.54        31\n",
            "           Facts       0.72      0.86      0.78       380\n",
            "         Invalid       0.55      0.56      0.56       110\n",
            "           Issue       0.68      0.42      0.52        40\n",
            "Rule/Law/Holding       0.51      0.39      0.44        49\n",
            "\n",
            "        accuracy                           0.66       708\n",
            "       macro avg       0.60      0.49      0.53       708\n",
            "    weighted avg       0.64      0.66      0.64       708\n",
            "\n"
          ],
          "name": "stdout"
        }
      ]
    },
    {
      "cell_type": "code",
      "metadata": {
        "colab": {
          "base_uri": "https://localhost:8080/"
        },
        "id": "QEY_x7YFD9D4",
        "outputId": "26e3cb1e-a303-4f2e-fa7c-485ffb6997bc"
      },
      "source": [
        "x_un2 = tfidf_vect.transform(unlabel_2['Sentence'])\r\n",
        "pred_unlabel_2 = model_1.predict_proba(x_un2)\r\n",
        "pos=[]\r\n",
        "large=[]\r\n",
        "ind = []\r\n",
        "i=0\r\n",
        "for j in pred_unlabel_2:\r\n",
        "  if max(j)> 0.98:\r\n",
        "    ind.append(np.argmax(j))\r\n",
        "    large.append(max(j))\r\n",
        "    pos.append(i)\r\n",
        "  i+=1\r\n",
        "\r\n",
        "\r\n",
        "print(ind)\r\n",
        "print(large)\r\n",
        "print(pos)\r\n",
        "print(len(ind))\r\n",
        "print(len(large))\r\n",
        "print(len(pos))"
      ],
      "execution_count": null,
      "outputs": [
        {
          "output_type": "stream",
          "text": [
            "[2, 2, 2, 2, 2, 2, 2, 2, 2, 4, 2, 2, 2, 2, 2, 2, 2, 2, 1, 3, 2, 3, 1, 2, 2, 2, 2, 2, 2, 3, 2, 2, 2, 2, 2, 2, 2, 3, 3, 3, 2, 2, 2, 2, 2, 2, 5, 3, 2]\n",
            "[0.9986242543340229, 0.9990355697215404, 0.9941300757167447, 0.9927293867274408, 0.9979623750795475, 0.9983578410481985, 0.9978984168147212, 0.9988419391184293, 0.988719936217974, 0.9801694302829208, 0.9855197678599891, 0.9924369753431559, 0.9942539185798001, 0.9941674567075386, 0.9901419995505284, 0.9983138958029062, 0.9953307919953476, 0.9989760691091282, 0.9835482296950964, 0.9989970488008335, 0.9929444808424478, 0.9988576964912224, 0.9991367709594112, 0.9970517661412224, 0.9968941945130058, 0.9876490081193088, 0.9936452590715302, 0.9988418737238928, 0.997931785768896, 0.9846764271598275, 0.9989606254995396, 0.9990058507504488, 0.9979005307661729, 0.9987899469493425, 0.9955064634080067, 0.9980006128409546, 0.9971345531740284, 0.9913504937901256, 0.9986713467606172, 0.9987316461353181, 0.9849832389691134, 0.9965838070797877, 0.9980179992615679, 0.9987368607880783, 0.9969195952327538, 0.985685296145251, 0.9984929556547534, 0.9965460919086802, 0.9982138891302279]\n",
            "[1, 2, 3, 5, 6, 7, 8, 12, 15, 16, 17, 20, 25, 26, 27, 29, 32, 37, 38, 42, 44, 46, 49, 50, 54, 55, 56, 59, 60, 61, 63, 64, 66, 69, 70, 71, 77, 79, 80, 83, 84, 86, 88, 90, 91, 92, 93, 95, 99]\n",
            "49\n",
            "49\n",
            "49\n"
          ],
          "name": "stdout"
        }
      ]
    },
    {
      "cell_type": "code",
      "metadata": {
        "colab": {
          "base_uri": "https://localhost:8080/",
          "height": 195
        },
        "id": "cuHrgR4KEEh5",
        "outputId": "f194ef33-25b4-4805-fd35-14a2c2e4ec93"
      },
      "source": [
        "unlabel_2 = unlabel_2.loc[pos,:]\r\n",
        "unlabel_2.head()"
      ],
      "execution_count": null,
      "outputs": [
        {
          "output_type": "execute_result",
          "data": {
            "text/html": [
              "<div>\n",
              "<style scoped>\n",
              "    .dataframe tbody tr th:only-of-type {\n",
              "        vertical-align: middle;\n",
              "    }\n",
              "\n",
              "    .dataframe tbody tr th {\n",
              "        vertical-align: top;\n",
              "    }\n",
              "\n",
              "    .dataframe thead th {\n",
              "        text-align: right;\n",
              "    }\n",
              "</style>\n",
              "<table border=\"1\" class=\"dataframe\">\n",
              "  <thead>\n",
              "    <tr style=\"text-align: right;\">\n",
              "      <th></th>\n",
              "      <th>Unnamed: 0</th>\n",
              "      <th>Sentence</th>\n",
              "      <th>Target</th>\n",
              "    </tr>\n",
              "  </thead>\n",
              "  <tbody>\n",
              "    <tr>\n",
              "      <th>1</th>\n",
              "      <td>3400</td>\n",
              "      <td>undisputed testimony reflects appellant drivin...</td>\n",
              "      <td>Facts</td>\n",
              "    </tr>\n",
              "    <tr>\n",
              "      <th>2</th>\n",
              "      <td>2072</td>\n",
              "      <td>appellant testify offer evidence behalf</td>\n",
              "      <td>Facts</td>\n",
              "    </tr>\n",
              "    <tr>\n",
              "      <th>3</th>\n",
              "      <td>517</td>\n",
              "      <td>56 uniform act regulating traffic highways gis...</td>\n",
              "      <td>Rule/Law/Holding</td>\n",
              "    </tr>\n",
              "    <tr>\n",
              "      <th>5</th>\n",
              "      <td>2278</td>\n",
              "      <td>evidence state appellant shows appellant alleg...</td>\n",
              "      <td>Analysis</td>\n",
              "    </tr>\n",
              "    <tr>\n",
              "      <th>6</th>\n",
              "      <td>570</td>\n",
              "      <td>appellant performed work asked 7500 money ther...</td>\n",
              "      <td>Facts</td>\n",
              "    </tr>\n",
              "  </tbody>\n",
              "</table>\n",
              "</div>"
            ],
            "text/plain": [
              "   Unnamed: 0  ...            Target\n",
              "1        3400  ...             Facts\n",
              "2        2072  ...             Facts\n",
              "3         517  ...  Rule/Law/Holding\n",
              "5        2278  ...          Analysis\n",
              "6         570  ...             Facts\n",
              "\n",
              "[5 rows x 3 columns]"
            ]
          },
          "metadata": {
            "tags": []
          },
          "execution_count": 20
        }
      ]
    },
    {
      "cell_type": "code",
      "metadata": {
        "colab": {
          "base_uri": "https://localhost:8080/"
        },
        "id": "0QOzPxMPER3c",
        "outputId": "c93aa153-ed1a-47c3-edbc-37ce42c532cd"
      },
      "source": [
        "frame_2 = [train4_1,unlabel_2]\r\n",
        "train4_2 = pd.concat(frame_2)\r\n",
        "len(train4_2)"
      ],
      "execution_count": null,
      "outputs": [
        {
          "output_type": "execute_result",
          "data": {
            "text/plain": [
              "3587"
            ]
          },
          "metadata": {
            "tags": []
          },
          "execution_count": 21
        }
      ]
    },
    {
      "cell_type": "code",
      "metadata": {
        "colab": {
          "base_uri": "https://localhost:8080/"
        },
        "id": "hSaWvUz4EbM3",
        "outputId": "a57d3f49-f739-4edd-b6e2-a7a2a1b64a76"
      },
      "source": [
        "x_train_2 = tfidf_vect.transform(train4_2['Sentence'])\r\n",
        "X_train, x_val, Y_train, y_val = train_test_split(x_train_2,train4_2['Target'],test_size=0.27,random_state=2)\r\n",
        "support = RandomForestClassifier()\r\n",
        "clf = support.fit(X_train, Y_train)\r\n",
        "calibrator = CalibratedClassifierCV(clf, cv='prefit')\r\n",
        "model_2=calibrator.fit(X_train, Y_train)\r\n",
        "pred_svm = model_2.predict(x_val)\r\n",
        "print('Accuracy %s' % accuracy_score(pred_svm,y_val))\r\n",
        "print(classification_report(y_val,pred_svm))"
      ],
      "execution_count": null,
      "outputs": [
        {
          "output_type": "stream",
          "text": [
            "Accuracy 0.6357069143446853\n",
            "                  precision    recall  f1-score   support\n",
            "\n",
            "        Analysis       0.48      0.30      0.37       142\n",
            "      Conclusion       0.69      0.35      0.47        57\n",
            "           Facts       0.69      0.89      0.78       501\n",
            "         Invalid       0.52      0.53      0.52       150\n",
            "           Issue       0.61      0.23      0.34        60\n",
            "Rule/Law/Holding       0.50      0.24      0.32        59\n",
            "\n",
            "        accuracy                           0.64       969\n",
            "       macro avg       0.58      0.42      0.47       969\n",
            "    weighted avg       0.62      0.64      0.60       969\n",
            "\n"
          ],
          "name": "stdout"
        }
      ]
    },
    {
      "cell_type": "code",
      "metadata": {
        "colab": {
          "base_uri": "https://localhost:8080/"
        },
        "id": "KOEPX84mFDmX",
        "outputId": "d2b2a4a7-9a67-4bff-e923-2a6414ec3c08"
      },
      "source": [
        "x_un3 = tfidf_vect.transform(unlabel_3['Sentence'])\r\n",
        "pred_unlabel_3 = model_2.predict_proba(x_un3)\r\n",
        "\r\n",
        "pos=[]\r\n",
        "large=[]\r\n",
        "ind = []\r\n",
        "i=0\r\n",
        "for j in pred_unlabel_3:\r\n",
        "  if max(j)> 0.98:\r\n",
        "    ind.append(np.argmax(j))\r\n",
        "    large.append(max(j))\r\n",
        "    pos.append(i)\r\n",
        "  i+=1\r\n",
        "\r\n",
        "\r\n",
        "print(ind)\r\n",
        "print(large)\r\n",
        "print(pos)\r\n",
        "print(len(ind))\r\n",
        "print(len(large))\r\n",
        "print(len(pos))"
      ],
      "execution_count": null,
      "outputs": [
        {
          "output_type": "stream",
          "text": [
            "[0, 3, 2, 2, 2, 3, 3, 2, 2, 3, 2, 2, 3, 3, 2, 2, 2, 1, 2, 2, 2, 2, 2, 2, 2, 2, 2, 2, 2, 2, 2, 2, 2, 2, 2, 2, 2, 3, 2, 3, 2, 1, 3, 1, 2, 2, 2, 2, 2, 2, 2, 2, 3, 2, 2, 3, 2, 2, 2, 2, 3, 2, 2, 4, 2, 2, 2, 2, 2, 2, 2]\n",
            "[0.9979939067710265, 0.9906761999788889, 0.992826880293765, 0.9974565635921127, 0.9965537829093548, 0.9973977251184484, 0.9891227731362899, 0.9982840318685898, 0.9983802250199035, 0.9981615855974652, 0.9836772216417797, 0.9979835352566744, 0.998726963980499, 0.9977511707358672, 0.9984387613812609, 0.9937802498221654, 0.9980744488686745, 0.9857263897106218, 0.9869432054043434, 0.9889908079388574, 0.9970329901280812, 0.9974463913041932, 0.9985567320571888, 0.9918172933163463, 0.9982861680047505, 0.9802531461993177, 0.9836567550566045, 0.9901822148212774, 0.9959662655899353, 0.996709145758528, 0.9980594380499325, 0.9966492202073156, 0.9890579230253252, 0.9932487604945215, 0.9975608144940216, 0.9983240283860939, 0.9897135000593802, 0.9871019873785448, 0.9985216472757198, 0.9980920864890519, 0.9985352890479855, 0.9921198079061696, 0.9985767692355733, 0.9970884085609402, 0.9905192665026472, 0.9984974171878702, 0.9964898916409102, 0.9984804175862175, 0.9895229661981961, 0.9959329041660587, 0.9980053345678876, 0.9977642567527211, 0.9987030416398067, 0.9976419295321265, 0.9847811610641333, 0.9942757980436469, 0.9979365170894758, 0.9970920361518568, 0.9970528389442175, 0.9981683774821074, 0.9882344800112406, 0.9985524459671755, 0.9981544165340009, 0.9943636712311017, 0.9978589707569128, 0.9841410640386848, 0.9913552321435625, 0.9956800739243592, 0.9982130406387567, 0.9894525947834452, 0.993283650730327]\n",
            "[0, 1, 2, 3, 4, 5, 6, 7, 8, 9, 10, 12, 14, 15, 17, 18, 20, 21, 22, 24, 25, 26, 27, 28, 30, 31, 32, 33, 34, 35, 36, 38, 39, 40, 42, 43, 46, 48, 49, 50, 52, 53, 54, 56, 59, 63, 64, 65, 66, 67, 68, 70, 71, 72, 73, 74, 75, 78, 79, 80, 82, 88, 89, 90, 91, 92, 93, 95, 96, 97, 98]\n",
            "71\n",
            "71\n",
            "71\n"
          ],
          "name": "stdout"
        }
      ]
    },
    {
      "cell_type": "code",
      "metadata": {
        "colab": {
          "base_uri": "https://localhost:8080/"
        },
        "id": "OfMhW3EkFN_e",
        "outputId": "df0698e6-e84b-4e71-e558-a9c193110f0e"
      },
      "source": [
        "unlabel_3=unlabel_3.loc[pos,:]\r\n",
        "frame_3 = [train4_2,unlabel_3]\r\n",
        "train4_3 = pd.concat(frame_3)\r\n",
        "\r\n",
        "x_train_3 = tfidf_vect.transform(train4_3['Sentence'])\r\n",
        "X_train, x_val, Y_train, y_val = train_test_split(x_train_3,train4_3['Target'],test_size=0.2,random_state=42)\r\n",
        "support = RandomForestClassifier()\r\n",
        "clf = support.fit(X_train, Y_train)\r\n",
        "calibrator = CalibratedClassifierCV(clf, cv='prefit')\r\n",
        "model_3=calibrator.fit(X_train, Y_train)\r\n",
        "pred_svm = model_3.predict(x_val)\r\n",
        "print('Accuracy %s' % accuracy_score(pred_svm,y_val))\r\n",
        "print(classification_report(y_val,pred_svm))"
      ],
      "execution_count": null,
      "outputs": [
        {
          "output_type": "stream",
          "text": [
            "Accuracy 0.6707650273224044\n",
            "                  precision    recall  f1-score   support\n",
            "\n",
            "        Analysis       0.45      0.33      0.38        90\n",
            "      Conclusion       0.68      0.42      0.52        40\n",
            "           Facts       0.73      0.86      0.79       395\n",
            "         Invalid       0.56      0.55      0.56       116\n",
            "           Issue       0.83      0.60      0.70        40\n",
            "Rule/Law/Holding       0.54      0.29      0.38        51\n",
            "\n",
            "        accuracy                           0.67       732\n",
            "       macro avg       0.63      0.51      0.55       732\n",
            "    weighted avg       0.66      0.67      0.65       732\n",
            "\n"
          ],
          "name": "stdout"
        }
      ]
    },
    {
      "cell_type": "code",
      "metadata": {
        "colab": {
          "base_uri": "https://localhost:8080/"
        },
        "id": "CRr8oe3pFpJ2",
        "outputId": "625a0cdc-1fb7-4015-a51b-7cadbd761d0a"
      },
      "source": [
        "x_un4 = tfidf_vect.transform(unlabel_4['Sentence'])\r\n",
        "pred_unlabel_4 = model_3.predict_proba(x_un4)\r\n",
        "\r\n",
        "\r\n",
        "pos=[]\r\n",
        "large=[]\r\n",
        "ind = []\r\n",
        "i=0\r\n",
        "for j in pred_unlabel_4:\r\n",
        "  if max(j)> 0.98:\r\n",
        "    ind.append(np.argmax(j))\r\n",
        "    large.append(max(j))\r\n",
        "    pos.append(i)\r\n",
        "  i+=1\r\n",
        "\r\n",
        "\r\n",
        "print(ind)\r\n",
        "print(large)\r\n",
        "print(pos)\r\n",
        "print(len(ind))\r\n",
        "print(len(large))\r\n",
        "print(len(pos))"
      ],
      "execution_count": null,
      "outputs": [
        {
          "output_type": "stream",
          "text": [
            "[3, 0, 3, 2, 5, 2, 2, 2, 2, 2, 2, 2, 2, 2, 3, 2, 2, 2, 2, 2, 2, 2, 3, 2, 2, 2, 2, 2, 2, 2, 2, 0, 2, 2, 3, 0, 2, 2, 2, 5, 3, 0, 5, 2, 2, 2, 2, 3, 2, 2, 1, 2, 2, 2, 3, 2, 2, 2, 2, 5, 2, 2, 2]\n",
            "[0.993460131533769, 0.9905129550586774, 0.9915464102295589, 0.9978869030374534, 0.9959376846598672, 0.9980987458656285, 0.9950856135283798, 0.9855689173272765, 0.99884329483195, 0.9988979426658313, 0.9976776006036067, 0.9981167254100587, 0.9932407064513992, 0.9988137517342807, 0.9987621458905607, 0.9983701141884965, 0.9989170827792309, 0.9904943852842188, 0.9978781339063811, 0.9987157364278865, 0.9981107589570033, 0.9988204072195308, 0.997953286539703, 0.9981066285010962, 0.9983619271127734, 0.9986767847998218, 0.9974200710406644, 0.9985817032570117, 0.9965671348659182, 0.9980817237930579, 0.9835903077562065, 0.9873280888452305, 0.9967287264085796, 0.9978022086776014, 0.997270698702961, 0.9828419881491103, 0.9957296100524263, 0.997465176341688, 0.9915577183541336, 0.9912141175224367, 0.9928210179124556, 0.9981878731316912, 0.9973171154059695, 0.998779066603522, 0.9978518454336148, 0.9982602775487619, 0.9948498825727378, 0.9968909696072925, 0.9978727650426618, 0.9989685277560033, 0.9947675143463295, 0.9983265690409339, 0.9989532425698058, 0.9932450492643997, 0.9912931148957581, 0.997279554313142, 0.9971629089851317, 0.9981685316669093, 0.9947112731527786, 0.99159181466323, 0.996466973965929, 0.9908071949470874, 0.9905997424369775]\n",
            "[0, 2, 3, 4, 6, 7, 8, 9, 10, 11, 15, 16, 17, 18, 20, 21, 22, 27, 28, 29, 30, 31, 32, 34, 35, 37, 38, 40, 42, 49, 53, 54, 55, 56, 58, 59, 60, 63, 64, 65, 66, 67, 68, 69, 70, 71, 72, 73, 74, 75, 79, 82, 85, 87, 88, 89, 90, 91, 93, 94, 97, 98, 99]\n",
            "63\n",
            "63\n",
            "63\n"
          ],
          "name": "stdout"
        }
      ]
    },
    {
      "cell_type": "code",
      "metadata": {
        "id": "-p3HfSQ2FwV_"
      },
      "source": [
        "unlabel_4=unlabel_4.loc[pos,:]"
      ],
      "execution_count": null,
      "outputs": []
    },
    {
      "cell_type": "code",
      "metadata": {
        "colab": {
          "base_uri": "https://localhost:8080/"
        },
        "id": "iR8Ghl7oF5E6",
        "outputId": "5f95b4c6-ee54-4baf-e10a-caff5997a5d5"
      },
      "source": [
        "frame_4 = [train4_3,unlabel_4]\r\n",
        "train4_4 = pd.concat(frame_4)\r\n",
        "len(train4_4)\r\n",
        "x_train_4 = tfidf_vect.transform(train4_4['Sentence'])\r\n",
        "X_train, x_val, Y_train, y_val = train_test_split(x_train_4,train4_4['Target'],test_size=0.27,random_state=42)\r\n",
        "support = RandomForestClassifier()\r\n",
        "clf = support.fit(X_train, Y_train)\r\n",
        "calibrator = CalibratedClassifierCV(clf, cv='prefit')\r\n",
        "model_4=calibrator.fit(X_train, Y_train)\r\n",
        "pred_svm = model_4.predict(x_val)\r\n",
        "print('Accuracy %s' % accuracy_score(pred_svm,y_val))\r\n",
        "print(classification_report(y_val,pred_svm))"
      ],
      "execution_count": null,
      "outputs": [
        {
          "output_type": "stream",
          "text": [
            "Accuracy 0.6477611940298508\n",
            "                  precision    recall  f1-score   support\n",
            "\n",
            "        Analysis       0.47      0.28      0.35       135\n",
            "      Conclusion       0.67      0.39      0.49        56\n",
            "           Facts       0.72      0.86      0.79       538\n",
            "         Invalid       0.50      0.56      0.53       157\n",
            "           Issue       0.56      0.39      0.46        51\n",
            "Rule/Law/Holding       0.47      0.26      0.34        68\n",
            "\n",
            "        accuracy                           0.65      1005\n",
            "       macro avg       0.57      0.46      0.49      1005\n",
            "    weighted avg       0.63      0.65      0.63      1005\n",
            "\n"
          ],
          "name": "stdout"
        }
      ]
    },
    {
      "cell_type": "code",
      "metadata": {
        "colab": {
          "base_uri": "https://localhost:8080/"
        },
        "id": "LquDQOH_GPad",
        "outputId": "a974c4dd-9e3b-48b7-ad6b-08bcd715b8a5"
      },
      "source": [
        "x_un5 = tfidf_vect.transform(unlabel_5['Sentence'])\r\n",
        "\r\n",
        "pred_unlabel_5 = model_4.predict_proba(x_un5)\r\n",
        "pos=[]\r\n",
        "large=[]\r\n",
        "ind = []\r\n",
        "i=0\r\n",
        "for j in pred_unlabel_5:\r\n",
        "  if max(j)> 0.98:\r\n",
        "    ind.append(np.argmax(j))\r\n",
        "    large.append(max(j))\r\n",
        "    pos.append(i)\r\n",
        "  i+=1\r\n",
        "\r\n",
        "\r\n",
        "print(ind)\r\n",
        "print(large)\r\n",
        "print(pos)\r\n",
        "print(len(ind))\r\n",
        "print(len(large))\r\n",
        "print(len(pos))"
      ],
      "execution_count": null,
      "outputs": [
        {
          "output_type": "stream",
          "text": [
            "[3, 2, 3, 3, 2, 3, 4, 2, 5, 3, 3, 2, 2, 3, 2, 2, 2, 2, 2, 2, 1, 2, 2, 2, 1, 2, 2, 1, 0, 2, 2, 2, 3, 3, 2, 3, 3, 2, 2, 2, 1, 2, 2, 2, 2, 3, 2, 2, 5, 3, 2, 2, 2, 2, 2, 2, 2, 2, 2, 2, 2, 3, 2, 2, 2, 3, 3, 0, 2, 0, 3, 3, 2]\n",
            "[0.9867812869730722, 0.9990624710274761, 0.9871988753691102, 0.9990714975076087, 0.9951279889165952, 0.9981319853810667, 0.994974013219843, 0.9982167233156309, 0.9951550108593054, 0.9988740246907972, 0.9990714975076087, 0.9976606427551277, 0.9989917000101499, 0.9876618934314729, 0.9923933917319672, 0.9870278960721316, 0.9950139124082578, 0.9980816786724005, 0.9972900749084617, 0.996220926647299, 0.9990887933298285, 0.9989232402811101, 0.9955581956676742, 0.9866210039426635, 0.9984820761060215, 0.9967415525783009, 0.9952915062608602, 0.9826911871605489, 0.9929259812984986, 0.9981299280087922, 0.9989841850482468, 0.9990309174903842, 0.9990255033945341, 0.9990714975076087, 0.9980868797681196, 0.9943356135212899, 0.9844848260107383, 0.9962554593962142, 0.9989751485324454, 0.9975415186650461, 0.9990887933298285, 0.9879969220484922, 0.9956921382169261, 0.9984343445745153, 0.9973564422510712, 0.9806356585907622, 0.9821065562185116, 0.9981342937394784, 0.9883455290775097, 0.9923551432310702, 0.9856704379496792, 0.9939176514951688, 0.9857657222160039, 0.9990549294086987, 0.9945874384846521, 0.9989560761986854, 0.9985543334016342, 0.9984534719650675, 0.9986863170500979, 0.9988291481634962, 0.9989194205689398, 0.9816387275701549, 0.9929375464257684, 0.9899443576181312, 0.9986351741867581, 0.9944526640861155, 0.9986488585478845, 0.9964488152609485, 0.9937088350255394, 0.9929211353494284, 0.9930725749710053, 0.9915207146264594, 0.9915439193162927]\n",
            "[1, 3, 4, 5, 7, 8, 15, 17, 18, 19, 20, 22, 23, 24, 25, 26, 27, 28, 29, 30, 31, 32, 33, 35, 36, 39, 40, 41, 47, 50, 52, 53, 54, 55, 56, 57, 58, 59, 60, 63, 64, 65, 66, 67, 68, 69, 71, 73, 74, 76, 78, 79, 81, 82, 85, 86, 91, 92, 93, 94, 95, 96, 99, 101, 102, 106, 107, 110, 111, 114, 115, 116, 118]\n",
            "73\n",
            "73\n",
            "73\n"
          ],
          "name": "stdout"
        }
      ]
    },
    {
      "cell_type": "code",
      "metadata": {
        "id": "P1MxKadbHypp"
      },
      "source": [
        "unlabel_5 = unlabel_5.loc[pos,:]"
      ],
      "execution_count": null,
      "outputs": []
    },
    {
      "cell_type": "code",
      "metadata": {
        "colab": {
          "base_uri": "https://localhost:8080/"
        },
        "id": "DKlIotQ2H59h",
        "outputId": "c73e65dc-a2be-4c69-b079-24669c327318"
      },
      "source": [
        "frame_5 = [train4_4,unlabel_5]\r\n",
        "train4_5 = pd.concat(frame_5)\r\n",
        "len(train4_5)\r\n",
        "x_train_5 = tfidf_vect.transform(train4_5['Sentence'])\r\n",
        "X_train, x_val, Y_train, y_val = train_test_split(x_train_5,train4_5['Target'],test_size=0.2,random_state=42)\r\n",
        "support = RandomForestClassifier()\r\n",
        "clf = support.fit(X_train, Y_train)\r\n",
        "calibrator = CalibratedClassifierCV(clf, cv='prefit')\r\n",
        "model_5=calibrator.fit(X_train, Y_train)\r\n",
        "pred_svm = model_5.predict(x_val)\r\n",
        "print('Accuracy %s' % accuracy_score(pred_svm,y_val))\r\n",
        "print(classification_report(y_val,pred_svm))"
      ],
      "execution_count": null,
      "outputs": [
        {
          "output_type": "stream",
          "text": [
            "Accuracy 0.6666666666666666\n",
            "                  precision    recall  f1-score   support\n",
            "\n",
            "        Analysis       0.52      0.36      0.43       108\n",
            "      Conclusion       0.81      0.48      0.60        44\n",
            "           Facts       0.71      0.88      0.78       393\n",
            "         Invalid       0.57      0.55      0.56       119\n",
            "           Issue       0.62      0.33      0.43        45\n",
            "Rule/Law/Holding       0.62      0.40      0.49        50\n",
            "\n",
            "        accuracy                           0.67       759\n",
            "       macro avg       0.64      0.50      0.55       759\n",
            "    weighted avg       0.66      0.67      0.65       759\n",
            "\n"
          ],
          "name": "stdout"
        }
      ]
    },
    {
      "cell_type": "code",
      "metadata": {
        "colab": {
          "base_uri": "https://localhost:8080/"
        },
        "id": "WwXcxHFUIBUX",
        "outputId": "e6f9127b-905d-453e-aa52-455e0f4720ea"
      },
      "source": [
        "t_p = tfidf_vect.transform(test['Sentence'])\r\n",
        "test_pred = model_5.predict(t_p)\r\n",
        "print('Accuracy %s' % accuracy_score(test_pred,test['Target']))"
      ],
      "execution_count": null,
      "outputs": [
        {
          "output_type": "stream",
          "text": [
            "Accuracy 0.761996161228407\n"
          ],
          "name": "stdout"
        }
      ]
    },
    {
      "cell_type": "code",
      "metadata": {
        "id": "XpcXVtuicTj0",
        "colab": {
          "base_uri": "https://localhost:8080/"
        },
        "outputId": "43b0958f-10d5-4040-f455-1cad3e351361"
      },
      "source": [
        "from sklearn.metrics import precision_recall_fscore_support\r\n",
        "print(precision_recall_fscore_support(test['Target'],test_pred,average='macro'))"
      ],
      "execution_count": null,
      "outputs": [
        {
          "output_type": "stream",
          "text": [
            "(0.7816651573624182, 0.6669198378560611, 0.7098686499932961, None)\n"
          ],
          "name": "stdout"
        }
      ]
    }
  ]
}