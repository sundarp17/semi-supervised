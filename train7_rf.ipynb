{
  "nbformat": 4,
  "nbformat_minor": 0,
  "metadata": {
    "colab": {
      "name": "train7_rf.ipynb",
      "provenance": [],
      "authorship_tag": "ABX9TyN8xcZBfev4jPazQzm51or9",
      "include_colab_link": true
    },
    "kernelspec": {
      "name": "python3",
      "display_name": "Python 3"
    }
  },
  "cells": [
    {
      "cell_type": "markdown",
      "metadata": {
        "id": "view-in-github",
        "colab_type": "text"
      },
      "source": [
        "<a href=\"https://colab.research.google.com/github/sundarp17/semi-supervised/blob/main/train7_rf.ipynb\" target=\"_parent\"><img src=\"https://colab.research.google.com/assets/colab-badge.svg\" alt=\"Open In Colab\"/></a>"
      ]
    },
    {
      "cell_type": "code",
      "metadata": {
        "id": "BSNaH-G5e9XK"
      },
      "source": [
        "import numpy as np\r\n",
        "import pandas as pd"
      ],
      "execution_count": null,
      "outputs": []
    },
    {
      "cell_type": "code",
      "metadata": {
        "id": "yMMnSj98r48p"
      },
      "source": [
        "\r\n",
        "train7 = pd.read_csv(r'/content/train_data7.csv')\r\n",
        "test = pd.read_csv(r'/content/test_data.csv')"
      ],
      "execution_count": null,
      "outputs": []
    },
    {
      "cell_type": "code",
      "metadata": {
        "id": "YXsEmIOrr8sa"
      },
      "source": [
        "\r\n",
        "train7['Target'] = train7['Target'].replace(['Others'],'Invalid')\r\n"
      ],
      "execution_count": null,
      "outputs": []
    },
    {
      "cell_type": "code",
      "metadata": {
        "colab": {
          "base_uri": "https://localhost:8080/"
        },
        "id": "gyCyM6OHsExq",
        "outputId": "610d37b8-d150-4b9c-904f-8e61a70852a5"
      },
      "source": [
        "train7['Target'].unique()"
      ],
      "execution_count": null,
      "outputs": [
        {
          "output_type": "execute_result",
          "data": {
            "text/plain": [
              "array(['Invalid', 'Issue', 'Analysis', 'Facts', 'Conclusion',\n",
              "       'Rule/Law/Holding'], dtype=object)"
            ]
          },
          "metadata": {
            "tags": []
          },
          "execution_count": 4
        }
      ]
    },
    {
      "cell_type": "code",
      "metadata": {
        "colab": {
          "base_uri": "https://localhost:8080/"
        },
        "id": "XRWq-Ak9sGCr",
        "outputId": "b3e81694-7146-4747-a90f-f77dfc59fcb5"
      },
      "source": [
        "#cleaning\r\n",
        "import nltk\r\n",
        "import re\r\n",
        "import string\r\n",
        "nltk.download('stopwords')\r\n",
        "nltk.download('wordnet')\r\n",
        "stopword=nltk.corpus.stopwords.words('english')\r\n",
        "from nltk.stem import WordNetLemmatizer\r\n",
        "wl= WordNetLemmatizer()\r\n",
        "\r\n",
        "def clean_text(text):\r\n",
        "  text=\"\".join([word.lower() for word in text if word not in string.punctuation])\r\n",
        "  tokens = re.split('\\W+',text)\r\n",
        "  text = [wl.lemmatize(word) for word in tokens if word not in stopword]\r\n",
        "  return text"
      ],
      "execution_count": null,
      "outputs": [
        {
          "output_type": "stream",
          "text": [
            "[nltk_data] Downloading package stopwords to /root/nltk_data...\n",
            "[nltk_data]   Unzipping corpora/stopwords.zip.\n",
            "[nltk_data] Downloading package wordnet to /root/nltk_data...\n",
            "[nltk_data]   Unzipping corpora/wordnet.zip.\n"
          ],
          "name": "stdout"
        }
      ]
    },
    {
      "cell_type": "code",
      "metadata": {
        "id": "fAVBbrf8sLpd"
      },
      "source": [
        "from sklearn.feature_extraction.text import TfidfVectorizer\r\n",
        "\r\n",
        "tfidf_vect = TfidfVectorizer(analyzer = clean_text)\r\n",
        "\r\n",
        "train7_Xtfidf = tfidf_vect.fit_transform(train7['Sentence'])\r\n"
      ],
      "execution_count": null,
      "outputs": []
    },
    {
      "cell_type": "code",
      "metadata": {
        "id": "LiDNOGMlsXjn"
      },
      "source": [
        "test['Target']=test['Target'].replace(['Others'],'Invalid')\r\n",
        "test['Sentence'] = test['Sentence'].apply(lambda x: \" \".join(x.lower() for x in str(x).split()))\r\n",
        "test['Sentence'] = test['Sentence'].str.replace('[^\\w\\s]','')\r\n",
        "from nltk.corpus import stopwords\r\n",
        "words = stopwords.words('english')\r\n",
        "test['Sentence'] = test['Sentence'].apply(lambda x: \" \".join(x for x in x.split() if x not in words))"
      ],
      "execution_count": null,
      "outputs": []
    },
    {
      "cell_type": "code",
      "metadata": {
        "colab": {
          "base_uri": "https://localhost:8080/"
        },
        "id": "kiXsxzUysh_t",
        "outputId": "08d48d14-8b91-455b-978b-c757445bd181"
      },
      "source": [
        "unlabel_1 = test.loc[:100]\r\n",
        "print(\"length of unlabel_1\",len(unlabel_1))\r\n",
        "unlabel_2 = test.loc[101:200]\r\n",
        "print(\"length of unlabel_2\",len(unlabel_2))\r\n",
        "unlabel_3 = test.loc[201:300]\r\n",
        "print(\"length of unlabel_3\",len(unlabel_3))\r\n",
        "unlabel_4 = test.loc[301:400]\r\n",
        "print(\"length of unlabel_4\",len(unlabel_4))\r\n",
        "unlabel_5 = test.loc[401:]\r\n",
        "print(\"length of unlabel_5\",len(unlabel_5))"
      ],
      "execution_count": null,
      "outputs": [
        {
          "output_type": "stream",
          "text": [
            "length of unlabel_1 101\n",
            "length of unlabel_2 100\n",
            "length of unlabel_3 100\n",
            "length of unlabel_4 100\n",
            "length of unlabel_5 120\n"
          ],
          "name": "stdout"
        }
      ]
    },
    {
      "cell_type": "code",
      "metadata": {
        "colab": {
          "base_uri": "https://localhost:8080/",
          "height": 195
        },
        "id": "fjmpfwMKsnAk",
        "outputId": "8b088309-022f-471d-b9d9-cc6d6d66808d"
      },
      "source": [
        "unlabel_2.reset_index(inplace=True)\r\n",
        "del unlabel_2['index']\r\n",
        "unlabel_2.head()"
      ],
      "execution_count": null,
      "outputs": [
        {
          "output_type": "execute_result",
          "data": {
            "text/html": [
              "<div>\n",
              "<style scoped>\n",
              "    .dataframe tbody tr th:only-of-type {\n",
              "        vertical-align: middle;\n",
              "    }\n",
              "\n",
              "    .dataframe tbody tr th {\n",
              "        vertical-align: top;\n",
              "    }\n",
              "\n",
              "    .dataframe thead th {\n",
              "        text-align: right;\n",
              "    }\n",
              "</style>\n",
              "<table border=\"1\" class=\"dataframe\">\n",
              "  <thead>\n",
              "    <tr style=\"text-align: right;\">\n",
              "      <th></th>\n",
              "      <th>Unnamed: 0</th>\n",
              "      <th>Sentence</th>\n",
              "      <th>Target</th>\n",
              "    </tr>\n",
              "  </thead>\n",
              "  <tbody>\n",
              "    <tr>\n",
              "      <th>0</th>\n",
              "      <td>1207</td>\n",
              "      <td>examination occurred night middle may testifie...</td>\n",
              "      <td>Invalid</td>\n",
              "    </tr>\n",
              "    <tr>\n",
              "      <th>1</th>\n",
              "      <td>3400</td>\n",
              "      <td>undisputed testimony reflects appellant drivin...</td>\n",
              "      <td>Facts</td>\n",
              "    </tr>\n",
              "    <tr>\n",
              "      <th>2</th>\n",
              "      <td>2072</td>\n",
              "      <td>appellant testify offer evidence behalf</td>\n",
              "      <td>Facts</td>\n",
              "    </tr>\n",
              "    <tr>\n",
              "      <th>3</th>\n",
              "      <td>517</td>\n",
              "      <td>56 uniform act regulating traffic highways gis...</td>\n",
              "      <td>Rule/Law/Holding</td>\n",
              "    </tr>\n",
              "    <tr>\n",
              "      <th>4</th>\n",
              "      <td>906</td>\n",
              "      <td>agreed accompany gave pawn ticket money reclai...</td>\n",
              "      <td>Facts</td>\n",
              "    </tr>\n",
              "  </tbody>\n",
              "</table>\n",
              "</div>"
            ],
            "text/plain": [
              "   Unnamed: 0  ...            Target\n",
              "0        1207  ...           Invalid\n",
              "1        3400  ...             Facts\n",
              "2        2072  ...             Facts\n",
              "3         517  ...  Rule/Law/Holding\n",
              "4         906  ...             Facts\n",
              "\n",
              "[5 rows x 3 columns]"
            ]
          },
          "metadata": {
            "tags": []
          },
          "execution_count": 9
        }
      ]
    },
    {
      "cell_type": "code",
      "metadata": {
        "colab": {
          "base_uri": "https://localhost:8080/",
          "height": 195
        },
        "id": "or3mI32wsupE",
        "outputId": "4b0ea219-acfa-4943-aa05-c94f82810e3b"
      },
      "source": [
        "unlabel_3.reset_index(inplace=True)\r\n",
        "del unlabel_3['index']\r\n",
        "unlabel_3.head()"
      ],
      "execution_count": null,
      "outputs": [
        {
          "output_type": "execute_result",
          "data": {
            "text/html": [
              "<div>\n",
              "<style scoped>\n",
              "    .dataframe tbody tr th:only-of-type {\n",
              "        vertical-align: middle;\n",
              "    }\n",
              "\n",
              "    .dataframe tbody tr th {\n",
              "        vertical-align: top;\n",
              "    }\n",
              "\n",
              "    .dataframe thead th {\n",
              "        text-align: right;\n",
              "    }\n",
              "</style>\n",
              "<table border=\"1\" class=\"dataframe\">\n",
              "  <thead>\n",
              "    <tr style=\"text-align: right;\">\n",
              "      <th></th>\n",
              "      <th>Unnamed: 0</th>\n",
              "      <th>Sentence</th>\n",
              "      <th>Target</th>\n",
              "    </tr>\n",
              "  </thead>\n",
              "  <tbody>\n",
              "    <tr>\n",
              "      <th>0</th>\n",
              "      <td>1882</td>\n",
              "      <td>find evidence amply sufficient sustain juryâs ...</td>\n",
              "      <td>Analysis</td>\n",
              "    </tr>\n",
              "    <tr>\n",
              "      <th>1</th>\n",
              "      <td>964</td>\n",
              "      <td>actions show thatâ</td>\n",
              "      <td>Invalid</td>\n",
              "    </tr>\n",
              "    <tr>\n",
              "      <th>2</th>\n",
              "      <td>1417</td>\n",
              "      <td>certification attending physician shown filed ...</td>\n",
              "      <td>Facts</td>\n",
              "    </tr>\n",
              "    <tr>\n",
              "      <th>3</th>\n",
              "      <td>2932</td>\n",
              "      <td>testified agent bland first left automobile wa...</td>\n",
              "      <td>Facts</td>\n",
              "    </tr>\n",
              "    <tr>\n",
              "      <th>4</th>\n",
              "      <td>1584</td>\n",
              "      <td>officer testified could smell odor alcohol app...</td>\n",
              "      <td>Facts</td>\n",
              "    </tr>\n",
              "  </tbody>\n",
              "</table>\n",
              "</div>"
            ],
            "text/plain": [
              "   Unnamed: 0                                           Sentence    Target\n",
              "0        1882  find evidence amply sufficient sustain juryâs ...  Analysis\n",
              "1         964                                 actions show thatâ   Invalid\n",
              "2        1417  certification attending physician shown filed ...     Facts\n",
              "3        2932  testified agent bland first left automobile wa...     Facts\n",
              "4        1584  officer testified could smell odor alcohol app...     Facts"
            ]
          },
          "metadata": {
            "tags": []
          },
          "execution_count": 10
        }
      ]
    },
    {
      "cell_type": "code",
      "metadata": {
        "colab": {
          "base_uri": "https://localhost:8080/",
          "height": 195
        },
        "id": "2xe3MWluszTz",
        "outputId": "10eab6be-8f3b-4549-b315-2c402e546edb"
      },
      "source": [
        "unlabel_4.reset_index(inplace=True)\r\n",
        "del unlabel_4['index']\r\n",
        "unlabel_4.head()"
      ],
      "execution_count": null,
      "outputs": [
        {
          "output_type": "execute_result",
          "data": {
            "text/html": [
              "<div>\n",
              "<style scoped>\n",
              "    .dataframe tbody tr th:only-of-type {\n",
              "        vertical-align: middle;\n",
              "    }\n",
              "\n",
              "    .dataframe tbody tr th {\n",
              "        vertical-align: top;\n",
              "    }\n",
              "\n",
              "    .dataframe thead th {\n",
              "        text-align: right;\n",
              "    }\n",
              "</style>\n",
              "<table border=\"1\" class=\"dataframe\">\n",
              "  <thead>\n",
              "    <tr style=\"text-align: right;\">\n",
              "      <th></th>\n",
              "      <th>Unnamed: 0</th>\n",
              "      <th>Sentence</th>\n",
              "      <th>Target</th>\n",
              "    </tr>\n",
              "  </thead>\n",
              "  <tbody>\n",
              "    <tr>\n",
              "      <th>0</th>\n",
              "      <td>266</td>\n",
              "      <td>section 6 pl</td>\n",
              "      <td>Invalid</td>\n",
              "    </tr>\n",
              "    <tr>\n",
              "      <th>1</th>\n",
              "      <td>3469</td>\n",
              "      <td>amended answer appellant alleged bond invalid ...</td>\n",
              "      <td>Analysis</td>\n",
              "    </tr>\n",
              "    <tr>\n",
              "      <th>2</th>\n",
              "      <td>1471</td>\n",
              "      <td>evidence sufficient support conviction appella...</td>\n",
              "      <td>Analysis</td>\n",
              "    </tr>\n",
              "    <tr>\n",
              "      <th>3</th>\n",
              "      <td>1990</td>\n",
              "      <td>cases cited note 19</td>\n",
              "      <td>Invalid</td>\n",
              "    </tr>\n",
              "    <tr>\n",
              "      <th>4</th>\n",
              "      <td>2757</td>\n",
              "      <td>july 8 1960 order entered revoking said probat...</td>\n",
              "      <td>Facts</td>\n",
              "    </tr>\n",
              "  </tbody>\n",
              "</table>\n",
              "</div>"
            ],
            "text/plain": [
              "   Unnamed: 0                                           Sentence    Target\n",
              "0         266                                       section 6 pl   Invalid\n",
              "1        3469  amended answer appellant alleged bond invalid ...  Analysis\n",
              "2        1471  evidence sufficient support conviction appella...  Analysis\n",
              "3        1990                                cases cited note 19   Invalid\n",
              "4        2757  july 8 1960 order entered revoking said probat...     Facts"
            ]
          },
          "metadata": {
            "tags": []
          },
          "execution_count": 11
        }
      ]
    },
    {
      "cell_type": "code",
      "metadata": {
        "colab": {
          "base_uri": "https://localhost:8080/",
          "height": 195
        },
        "id": "-dCJpImWtH8K",
        "outputId": "a3a4fb79-df6a-48bc-912e-94ff30526818"
      },
      "source": [
        "unlabel_5.reset_index(inplace=True)\r\n",
        "del unlabel_5['index']\r\n",
        "unlabel_5.head()"
      ],
      "execution_count": null,
      "outputs": [
        {
          "output_type": "execute_result",
          "data": {
            "text/html": [
              "<div>\n",
              "<style scoped>\n",
              "    .dataframe tbody tr th:only-of-type {\n",
              "        vertical-align: middle;\n",
              "    }\n",
              "\n",
              "    .dataframe tbody tr th {\n",
              "        vertical-align: top;\n",
              "    }\n",
              "\n",
              "    .dataframe thead th {\n",
              "        text-align: right;\n",
              "    }\n",
              "</style>\n",
              "<table border=\"1\" class=\"dataframe\">\n",
              "  <thead>\n",
              "    <tr style=\"text-align: right;\">\n",
              "      <th></th>\n",
              "      <th>Unnamed: 0</th>\n",
              "      <th>Sentence</th>\n",
              "      <th>Target</th>\n",
              "    </tr>\n",
              "  </thead>\n",
              "  <tbody>\n",
              "    <tr>\n",
              "      <th>0</th>\n",
              "      <td>2979</td>\n",
              "      <td>overrule appellantâs contention court erred pe...</td>\n",
              "      <td>Analysis</td>\n",
              "    </tr>\n",
              "    <tr>\n",
              "      <th>1</th>\n",
              "      <td>2135</td>\n",
              "      <td>state regarded authority case</td>\n",
              "      <td>Invalid</td>\n",
              "    </tr>\n",
              "    <tr>\n",
              "      <th>2</th>\n",
              "      <td>1591</td>\n",
              "      <td>testimony adduced appellant mother lillie mae ...</td>\n",
              "      <td>Facts</td>\n",
              "    </tr>\n",
              "    <tr>\n",
              "      <th>3</th>\n",
              "      <td>658</td>\n",
              "      <td>appellant needle marks inside left elbow</td>\n",
              "      <td>Facts</td>\n",
              "    </tr>\n",
              "    <tr>\n",
              "      <th>4</th>\n",
              "      <td>2562</td>\n",
              "      <td>analysis contents 3 capsules chemist kenneth a...</td>\n",
              "      <td>Facts</td>\n",
              "    </tr>\n",
              "  </tbody>\n",
              "</table>\n",
              "</div>"
            ],
            "text/plain": [
              "   Unnamed: 0                                           Sentence    Target\n",
              "0        2979  overrule appellantâs contention court erred pe...  Analysis\n",
              "1        2135                      state regarded authority case   Invalid\n",
              "2        1591  testimony adduced appellant mother lillie mae ...     Facts\n",
              "3         658           appellant needle marks inside left elbow     Facts\n",
              "4        2562  analysis contents 3 capsules chemist kenneth a...     Facts"
            ]
          },
          "metadata": {
            "tags": []
          },
          "execution_count": 12
        }
      ]
    },
    {
      "cell_type": "code",
      "metadata": {
        "colab": {
          "base_uri": "https://localhost:8080/"
        },
        "id": "Nep-udrpCJOC",
        "outputId": "f069fad3-5220-4d44-e743-04e03b0e8614"
      },
      "source": [
        "from sklearn.model_selection import train_test_split\r\n",
        "from sklearn.ensemble import RandomForestClassifier\r\n",
        "from sklearn.metrics import accuracy_score\r\n",
        "from sklearn.metrics import classification_report\r\n",
        "from sklearn.calibration import CalibratedClassifierCV\r\n",
        "\r\n",
        "\r\n",
        "X_train, x_val, Y_train, y_val = train_test_split(train7_Xtfidf,train7['Target'],test_size=0.26,random_state=42)\r\n",
        "support = RandomForestClassifier()\r\n",
        "clf = support.fit(X_train, Y_train)\r\n",
        "calibrator = CalibratedClassifierCV(clf, cv='prefit')\r\n",
        "model=calibrator.fit(X_train, Y_train)\r\n",
        "pred_svm = model.predict(x_val)\r\n",
        "print('Accuracy %s' % accuracy_score(pred_svm,y_val))\r\n",
        "print(classification_report(y_val,pred_svm))"
      ],
      "execution_count": null,
      "outputs": [
        {
          "output_type": "stream",
          "text": [
            "Accuracy 0.6714601769911505\n",
            "                  precision    recall  f1-score   support\n",
            "\n",
            "        Analysis       0.54      0.34      0.42       130\n",
            "      Conclusion       0.83      0.39      0.53        49\n",
            "           Facts       0.72      0.89      0.80       475\n",
            "         Invalid       0.52      0.58      0.55       128\n",
            "           Issue       0.59      0.45      0.51        53\n",
            "Rule/Law/Holding       0.79      0.33      0.47        69\n",
            "\n",
            "        accuracy                           0.67       904\n",
            "       macro avg       0.67      0.50      0.55       904\n",
            "    weighted avg       0.67      0.67      0.65       904\n",
            "\n"
          ],
          "name": "stdout"
        }
      ]
    },
    {
      "cell_type": "code",
      "metadata": {
        "id": "7r9d3GPtCuWA"
      },
      "source": [
        "x_un1 = tfidf_vect.transform(unlabel_1['Sentence'])\r\n",
        "pred_unlabel_1 = model.predict_proba(x_un1)"
      ],
      "execution_count": null,
      "outputs": []
    },
    {
      "cell_type": "code",
      "metadata": {
        "colab": {
          "base_uri": "https://localhost:8080/"
        },
        "id": "wFMRO90AC6d2",
        "outputId": "8fdf0a7c-bbc5-4f26-93cc-1df817be10a7"
      },
      "source": [
        "import numpy as np\r\n",
        "pos=[]\r\n",
        "large=[]\r\n",
        "ind = []\r\n",
        "i=0\r\n",
        "for j in pred_unlabel_1:\r\n",
        "  if max(j)> 0.98:\r\n",
        "    ind.append(np.argmax(j))\r\n",
        "    large.append(max(j))\r\n",
        "    pos.append(i)\r\n",
        "  i+=1\r\n",
        "\r\n",
        "\r\n",
        "print(ind)\r\n",
        "print(large)\r\n",
        "print(pos)\r\n",
        "print(len(ind))\r\n",
        "print(len(large))\r\n",
        "print(len(pos))"
      ],
      "execution_count": null,
      "outputs": [
        {
          "output_type": "stream",
          "text": [
            "[2, 0, 3, 2, 3, 2, 3, 2, 0, 2, 2, 2, 2, 2, 2, 2, 3, 2, 3, 2, 2, 2, 0, 1, 2, 2, 2, 2, 2, 2, 3, 3, 2, 2, 2, 2, 2, 2, 2, 2, 3, 2, 0, 2, 1, 3, 3, 2, 2, 2, 2, 2, 2, 3, 2, 2, 2, 2, 3, 2]\n",
            "[0.9980236451501517, 0.9978168643309786, 0.9931749192692562, 0.9817795309700634, 0.9986015765099451, 0.9989238194973068, 0.9979911072400218, 0.9891185379223937, 0.9910276198062397, 0.9982649274301193, 0.9908158123378119, 0.9947634063008488, 0.9981795315528698, 0.991671802351068, 0.9975518016981306, 0.9971425556712974, 0.9980104752406912, 0.9984868799315744, 0.9984495676226276, 0.9937624579760492, 0.9970819200090758, 0.9984918463873549, 0.9933027078606442, 0.9992205494364869, 0.9983572441551474, 0.9953112071156301, 0.9969729917245617, 0.9971679313691909, 0.9830825341240141, 0.9906129524047323, 0.9833324680830593, 0.9971948517591867, 0.9973297646670641, 0.9878959932818262, 0.9929193072136521, 0.9980384552355904, 0.9915150061636184, 0.9960261390665776, 0.9983880549381816, 0.9912795155974778, 0.9967121412563755, 0.9873814792875842, 0.984396815061438, 0.9986958538731441, 0.9904030100765712, 0.9943259509127826, 0.9925156950768462, 0.990384644503893, 0.9840962552461344, 0.9972612977284693, 0.9978434987802094, 0.9983062059450523, 0.9944819022760225, 0.9955254752295236, 0.9946292556070302, 0.9984732004876602, 0.9985625386035616, 0.997719557569782, 0.997855729623964, 0.9895765695790959]\n",
            "[0, 1, 2, 3, 4, 5, 8, 9, 10, 11, 14, 16, 17, 18, 19, 21, 22, 23, 26, 27, 28, 29, 30, 31, 34, 37, 39, 40, 45, 48, 49, 51, 52, 54, 55, 56, 57, 59, 62, 69, 72, 73, 75, 76, 78, 80, 84, 85, 86, 87, 88, 89, 91, 92, 93, 94, 95, 96, 98, 99]\n",
            "60\n",
            "60\n",
            "60\n"
          ],
          "name": "stdout"
        }
      ]
    },
    {
      "cell_type": "code",
      "metadata": {
        "colab": {
          "base_uri": "https://localhost:8080/",
          "height": 195
        },
        "id": "WQo3GF7nC_7W",
        "outputId": "d643e32f-7bc9-4456-f907-206bdfc318e7"
      },
      "source": [
        "unlabel_1=unlabel_1.loc[pos,:]\r\n",
        "unlabel_1.head()"
      ],
      "execution_count": null,
      "outputs": [
        {
          "output_type": "execute_result",
          "data": {
            "text/html": [
              "<div>\n",
              "<style scoped>\n",
              "    .dataframe tbody tr th:only-of-type {\n",
              "        vertical-align: middle;\n",
              "    }\n",
              "\n",
              "    .dataframe tbody tr th {\n",
              "        vertical-align: top;\n",
              "    }\n",
              "\n",
              "    .dataframe thead th {\n",
              "        text-align: right;\n",
              "    }\n",
              "</style>\n",
              "<table border=\"1\" class=\"dataframe\">\n",
              "  <thead>\n",
              "    <tr style=\"text-align: right;\">\n",
              "      <th></th>\n",
              "      <th>Unnamed: 0</th>\n",
              "      <th>Sentence</th>\n",
              "      <th>Target</th>\n",
              "    </tr>\n",
              "  </thead>\n",
              "  <tbody>\n",
              "    <tr>\n",
              "      <th>0</th>\n",
              "      <td>2173</td>\n",
              "      <td>darden sr testified âœi saw staggering â prett...</td>\n",
              "      <td>Facts</td>\n",
              "    </tr>\n",
              "    <tr>\n",
              "      <th>1</th>\n",
              "      <td>466</td>\n",
              "      <td>additional moral justification may due complai...</td>\n",
              "      <td>Analysis</td>\n",
              "    </tr>\n",
              "    <tr>\n",
              "      <th>2</th>\n",
              "      <td>525</td>\n",
              "      <td>85 22 sw 140 wherein accused acting upon advic...</td>\n",
              "      <td>Rule/Law/Holding</td>\n",
              "    </tr>\n",
              "    <tr>\n",
              "      <th>3</th>\n",
              "      <td>2199</td>\n",
              "      <td>proper instruction court murder malice murder ...</td>\n",
              "      <td>Facts</td>\n",
              "    </tr>\n",
              "    <tr>\n",
              "      <th>4</th>\n",
              "      <td>79</td>\n",
              "      <td>eligible leaves renew contacts family</td>\n",
              "      <td>Facts</td>\n",
              "    </tr>\n",
              "  </tbody>\n",
              "</table>\n",
              "</div>"
            ],
            "text/plain": [
              "   Unnamed: 0  ...            Target\n",
              "0        2173  ...             Facts\n",
              "1         466  ...          Analysis\n",
              "2         525  ...  Rule/Law/Holding\n",
              "3        2199  ...             Facts\n",
              "4          79  ...             Facts\n",
              "\n",
              "[5 rows x 3 columns]"
            ]
          },
          "metadata": {
            "tags": []
          },
          "execution_count": 16
        }
      ]
    },
    {
      "cell_type": "code",
      "metadata": {
        "colab": {
          "base_uri": "https://localhost:8080/"
        },
        "id": "vfZ0vrIMDje2",
        "outputId": "ef6a2bb3-a521-4580-8389-86c643ca2ec5"
      },
      "source": [
        "frame_1 = [train7,unlabel_1]\r\n",
        "train7_1 = pd.concat(frame_1)\r\n",
        "len(train7_1)"
      ],
      "execution_count": null,
      "outputs": [
        {
          "output_type": "execute_result",
          "data": {
            "text/plain": [
              "3536"
            ]
          },
          "metadata": {
            "tags": []
          },
          "execution_count": 17
        }
      ]
    },
    {
      "cell_type": "code",
      "metadata": {
        "colab": {
          "base_uri": "https://localhost:8080/"
        },
        "id": "a5zkcYr5Dvoc",
        "outputId": "ca551bbb-d7a1-4593-be08-0afac90063b9"
      },
      "source": [
        "x_train_1 = tfidf_vect.transform(train7_1['Sentence'])\r\n",
        "x_train_1.shape\r\n",
        "X_train, x_val, Y_train, y_val = train_test_split(x_train_1,train7_1['Target'],test_size=0.2,random_state=42)\r\n",
        "support = RandomForestClassifier()\r\n",
        "clf = support.fit(X_train, Y_train)\r\n",
        "calibrator = CalibratedClassifierCV(clf, cv='prefit')\r\n",
        "model_1=calibrator.fit(X_train, Y_train)\r\n",
        "pred_svm = model_1.predict(x_val)\r\n",
        "print('Accuracy %s' % accuracy_score(pred_svm,y_val))\r\n",
        "print(classification_report(y_val,pred_svm))"
      ],
      "execution_count": null,
      "outputs": [
        {
          "output_type": "stream",
          "text": [
            "Accuracy 0.653954802259887\n",
            "                  precision    recall  f1-score   support\n",
            "\n",
            "        Analysis       0.48      0.40      0.43       103\n",
            "      Conclusion       0.67      0.45      0.54        44\n",
            "           Facts       0.71      0.88      0.78       347\n",
            "         Invalid       0.61      0.56      0.58       117\n",
            "           Issue       0.67      0.40      0.50        45\n",
            "Rule/Law/Holding       0.52      0.29      0.37        52\n",
            "\n",
            "        accuracy                           0.65       708\n",
            "       macro avg       0.61      0.50      0.53       708\n",
            "    weighted avg       0.64      0.65      0.64       708\n",
            "\n"
          ],
          "name": "stdout"
        }
      ]
    },
    {
      "cell_type": "code",
      "metadata": {
        "colab": {
          "base_uri": "https://localhost:8080/"
        },
        "id": "QEY_x7YFD9D4",
        "outputId": "b8eba552-09d5-4375-948d-109399924f16"
      },
      "source": [
        "x_un2 = tfidf_vect.transform(unlabel_2['Sentence'])\r\n",
        "pred_unlabel_2 = model_1.predict_proba(x_un2)\r\n",
        "pos=[]\r\n",
        "large=[]\r\n",
        "ind = []\r\n",
        "i=0\r\n",
        "for j in pred_unlabel_2:\r\n",
        "  if max(j)> 0.98:\r\n",
        "    ind.append(np.argmax(j))\r\n",
        "    large.append(max(j))\r\n",
        "    pos.append(i)\r\n",
        "  i+=1\r\n",
        "\r\n",
        "\r\n",
        "print(ind)\r\n",
        "print(large)\r\n",
        "print(pos)\r\n",
        "print(len(ind))\r\n",
        "print(len(large))\r\n",
        "print(len(pos))"
      ],
      "execution_count": null,
      "outputs": [
        {
          "output_type": "stream",
          "text": [
            "[2, 2, 2, 2, 2, 2, 2, 2, 2, 2, 2, 2, 2, 2, 2, 2, 2, 2, 3, 2, 3, 1, 2, 2, 2, 2, 2, 2, 2, 2, 3, 2, 2, 2, 2, 2, 3, 3, 3, 2, 4, 3, 2, 2, 2, 2, 2, 5, 3, 5, 2]\n",
            "[0.9979636871187383, 0.9990399797613445, 0.98792223540388, 0.9963585199103424, 0.9979263216176896, 0.9986754305735424, 0.9981528305890931, 0.9989927428291135, 0.9931555944961715, 0.9935140524902699, 0.9981340048142912, 0.9842886004646645, 0.9923210220311766, 0.996033195801861, 0.995275787431389, 0.9977174716455786, 0.9958487742666499, 0.9988459415246745, 0.9990274110438434, 0.9913480954727685, 0.9982258799288284, 0.9992636960608776, 0.9961137587059478, 0.9969459187074294, 0.9954400675557507, 0.9951307682894341, 0.9986135690754928, 0.9953229858522868, 0.9988697120509845, 0.9988252194108194, 0.9810710353079525, 0.9972476455822377, 0.9985796456502171, 0.9846565149422851, 0.997522482908672, 0.994249804136901, 0.9889951628344428, 0.991336011703071, 0.9976608600690771, 0.9955702521916308, 0.99824935443596, 0.998877289836907, 0.981630025942923, 0.9941693082501999, 0.9972930126628432, 0.9982497588888503, 0.9975919342797268, 0.9982082137089272, 0.9942796204586625, 0.9919551566714597, 0.9986010344243659]\n",
            "[1, 2, 3, 5, 6, 7, 8, 12, 15, 17, 20, 23, 25, 26, 27, 29, 32, 37, 42, 44, 46, 49, 50, 54, 55, 56, 59, 60, 63, 64, 65, 66, 69, 70, 71, 77, 78, 79, 80, 81, 82, 83, 84, 86, 88, 90, 91, 93, 95, 98, 99]\n",
            "51\n",
            "51\n",
            "51\n"
          ],
          "name": "stdout"
        }
      ]
    },
    {
      "cell_type": "code",
      "metadata": {
        "colab": {
          "base_uri": "https://localhost:8080/",
          "height": 195
        },
        "id": "cuHrgR4KEEh5",
        "outputId": "b0322433-9337-4817-93c7-e496b9f559f0"
      },
      "source": [
        "unlabel_2 = unlabel_2.loc[pos,:]\r\n",
        "unlabel_2.head()"
      ],
      "execution_count": null,
      "outputs": [
        {
          "output_type": "execute_result",
          "data": {
            "text/html": [
              "<div>\n",
              "<style scoped>\n",
              "    .dataframe tbody tr th:only-of-type {\n",
              "        vertical-align: middle;\n",
              "    }\n",
              "\n",
              "    .dataframe tbody tr th {\n",
              "        vertical-align: top;\n",
              "    }\n",
              "\n",
              "    .dataframe thead th {\n",
              "        text-align: right;\n",
              "    }\n",
              "</style>\n",
              "<table border=\"1\" class=\"dataframe\">\n",
              "  <thead>\n",
              "    <tr style=\"text-align: right;\">\n",
              "      <th></th>\n",
              "      <th>Unnamed: 0</th>\n",
              "      <th>Sentence</th>\n",
              "      <th>Target</th>\n",
              "    </tr>\n",
              "  </thead>\n",
              "  <tbody>\n",
              "    <tr>\n",
              "      <th>1</th>\n",
              "      <td>3400</td>\n",
              "      <td>undisputed testimony reflects appellant drivin...</td>\n",
              "      <td>Facts</td>\n",
              "    </tr>\n",
              "    <tr>\n",
              "      <th>2</th>\n",
              "      <td>2072</td>\n",
              "      <td>appellant testify offer evidence behalf</td>\n",
              "      <td>Facts</td>\n",
              "    </tr>\n",
              "    <tr>\n",
              "      <th>3</th>\n",
              "      <td>517</td>\n",
              "      <td>56 uniform act regulating traffic highways gis...</td>\n",
              "      <td>Rule/Law/Holding</td>\n",
              "    </tr>\n",
              "    <tr>\n",
              "      <th>5</th>\n",
              "      <td>2278</td>\n",
              "      <td>evidence state appellant shows appellant alleg...</td>\n",
              "      <td>Analysis</td>\n",
              "    </tr>\n",
              "    <tr>\n",
              "      <th>6</th>\n",
              "      <td>570</td>\n",
              "      <td>appellant performed work asked 7500 money ther...</td>\n",
              "      <td>Facts</td>\n",
              "    </tr>\n",
              "  </tbody>\n",
              "</table>\n",
              "</div>"
            ],
            "text/plain": [
              "   Unnamed: 0  ...            Target\n",
              "1        3400  ...             Facts\n",
              "2        2072  ...             Facts\n",
              "3         517  ...  Rule/Law/Holding\n",
              "5        2278  ...          Analysis\n",
              "6         570  ...             Facts\n",
              "\n",
              "[5 rows x 3 columns]"
            ]
          },
          "metadata": {
            "tags": []
          },
          "execution_count": 20
        }
      ]
    },
    {
      "cell_type": "code",
      "metadata": {
        "colab": {
          "base_uri": "https://localhost:8080/"
        },
        "id": "0QOzPxMPER3c",
        "outputId": "81e5247c-11a8-44be-803f-19f5dd2b5ebc"
      },
      "source": [
        "frame_2 = [train7_1,unlabel_2]\r\n",
        "train7_2 = pd.concat(frame_2)\r\n",
        "len(train7_2)"
      ],
      "execution_count": null,
      "outputs": [
        {
          "output_type": "execute_result",
          "data": {
            "text/plain": [
              "3587"
            ]
          },
          "metadata": {
            "tags": []
          },
          "execution_count": 21
        }
      ]
    },
    {
      "cell_type": "code",
      "metadata": {
        "colab": {
          "base_uri": "https://localhost:8080/"
        },
        "id": "hSaWvUz4EbM3",
        "outputId": "08018f13-a61a-448e-d9b2-e5be9246cad0"
      },
      "source": [
        "x_train_2 = tfidf_vect.transform(train7_2['Sentence'])\r\n",
        "X_train, x_val, Y_train, y_val = train_test_split(x_train_2,train7_2['Target'],test_size=0.27,random_state=2)\r\n",
        "support = RandomForestClassifier()\r\n",
        "clf = support.fit(X_train, Y_train)\r\n",
        "calibrator = CalibratedClassifierCV(clf, cv='prefit')\r\n",
        "model_2=calibrator.fit(X_train, Y_train)\r\n",
        "pred_svm = model_2.predict(x_val)\r\n",
        "print('Accuracy %s' % accuracy_score(pred_svm,y_val))\r\n",
        "print(classification_report(y_val,pred_svm))"
      ],
      "execution_count": null,
      "outputs": [
        {
          "output_type": "stream",
          "text": [
            "Accuracy 0.6480908152734778\n",
            "                  precision    recall  f1-score   support\n",
            "\n",
            "        Analysis       0.51      0.29      0.37       151\n",
            "      Conclusion       0.66      0.37      0.47        52\n",
            "           Facts       0.69      0.90      0.78       505\n",
            "         Invalid       0.52      0.55      0.54       146\n",
            "           Issue       0.79      0.27      0.41        55\n",
            "Rule/Law/Holding       0.59      0.28      0.38        60\n",
            "\n",
            "        accuracy                           0.65       969\n",
            "       macro avg       0.63      0.44      0.49       969\n",
            "    weighted avg       0.64      0.65      0.62       969\n",
            "\n"
          ],
          "name": "stdout"
        }
      ]
    },
    {
      "cell_type": "code",
      "metadata": {
        "colab": {
          "base_uri": "https://localhost:8080/"
        },
        "id": "KOEPX84mFDmX",
        "outputId": "1a928847-f1bc-4287-e3f1-3652fbda6c9e"
      },
      "source": [
        "x_un3 = tfidf_vect.transform(unlabel_3['Sentence'])\r\n",
        "pred_unlabel_3 = model_2.predict_proba(x_un3)\r\n",
        "\r\n",
        "pos=[]\r\n",
        "large=[]\r\n",
        "ind = []\r\n",
        "i=0\r\n",
        "for j in pred_unlabel_3:\r\n",
        "  if max(j)> 0.98:\r\n",
        "    ind.append(np.argmax(j))\r\n",
        "    large.append(max(j))\r\n",
        "    pos.append(i)\r\n",
        "  i+=1\r\n",
        "\r\n",
        "\r\n",
        "print(ind)\r\n",
        "print(large)\r\n",
        "print(pos)\r\n",
        "print(len(ind))\r\n",
        "print(len(large))\r\n",
        "print(len(pos))"
      ],
      "execution_count": null,
      "outputs": [
        {
          "output_type": "stream",
          "text": [
            "[0, 3, 2, 2, 2, 3, 2, 2, 3, 2, 2, 3, 3, 2, 2, 2, 2, 2, 2, 2, 2, 2, 2, 2, 2, 2, 2, 2, 2, 2, 2, 2, 2, 3, 2, 3, 1, 2, 2, 2, 2, 2, 2, 2, 2, 3, 2, 2, 3, 2, 2, 2, 2, 3, 2, 2, 2, 4, 2, 2, 2, 2, 2]\n",
            "[0.9974796554454781, 0.9843482177287779, 0.9943961827382362, 0.9984972137668199, 0.9972592549991531, 0.9945369244485046, 0.9986458768814309, 0.9984236103224867, 0.9981750610363805, 0.9986019642561399, 0.9851716464105699, 0.9987178259585827, 0.9986796766974383, 0.9982945356499141, 0.9950211488791614, 0.9981903529578132, 0.994307501646481, 0.9906151754604526, 0.9947086872119991, 0.9981563925548753, 0.998036209308284, 0.9899362064271241, 0.9983935412962471, 0.9908536129250556, 0.9980790377024791, 0.9977796754935704, 0.9983150159633919, 0.9949683685580525, 0.9895417561022238, 0.9952238035314456, 0.9979149948185632, 0.9823643216276299, 0.9985646202439189, 0.9967011038602032, 0.9980406120189032, 0.9983062294521, 0.9977164416858786, 0.9858601883576723, 0.9985556187985093, 0.9915392014282962, 0.9987214638850096, 0.9844368315710582, 0.9951205770521654, 0.9975686136990488, 0.9984041364254603, 0.9985330850277994, 0.9982809990680047, 0.9830803362863678, 0.9903922501035067, 0.9982356790513393, 0.9976092886605319, 0.9980345300414871, 0.9985119274803532, 0.9946539709778506, 0.9938448161771235, 0.9983721860288959, 0.9978358331325808, 0.9975362851624799, 0.9982540776843579, 0.9966733430599247, 0.9983686095902443, 0.9903885494062222, 0.9958598696510782]\n",
            "[0, 1, 2, 3, 4, 5, 7, 8, 9, 12, 13, 14, 15, 17, 18, 20, 23, 24, 25, 26, 27, 28, 30, 31, 34, 35, 36, 39, 40, 42, 43, 46, 49, 50, 52, 54, 56, 59, 63, 64, 65, 66, 67, 68, 70, 71, 72, 73, 74, 75, 78, 79, 80, 82, 87, 88, 89, 90, 91, 95, 96, 97, 98]\n",
            "63\n",
            "63\n",
            "63\n"
          ],
          "name": "stdout"
        }
      ]
    },
    {
      "cell_type": "code",
      "metadata": {
        "colab": {
          "base_uri": "https://localhost:8080/"
        },
        "id": "OfMhW3EkFN_e",
        "outputId": "1b1473a3-23ac-45ae-91e9-8a95b5f622cb"
      },
      "source": [
        "unlabel_3=unlabel_3.loc[pos,:]\r\n",
        "frame_3 = [train7_2,unlabel_3]\r\n",
        "train7_3 = pd.concat(frame_3)\r\n",
        "\r\n",
        "x_train_3 = tfidf_vect.transform(train7_3['Sentence'])\r\n",
        "X_train, x_val, Y_train, y_val = train_test_split(x_train_3,train7_3['Target'],test_size=0.2,random_state=42)\r\n",
        "support = RandomForestClassifier()\r\n",
        "clf = support.fit(X_train, Y_train)\r\n",
        "calibrator = CalibratedClassifierCV(clf, cv='prefit')\r\n",
        "model_3=calibrator.fit(X_train, Y_train)\r\n",
        "pred_svm = model_3.predict(x_val)\r\n",
        "print('Accuracy %s' % accuracy_score(pred_svm,y_val))\r\n",
        "print(classification_report(y_val,pred_svm))"
      ],
      "execution_count": null,
      "outputs": [
        {
          "output_type": "stream",
          "text": [
            "Accuracy 0.6506849315068494\n",
            "                  precision    recall  f1-score   support\n",
            "\n",
            "        Analysis       0.50      0.39      0.44        99\n",
            "      Conclusion       0.90      0.43      0.58        42\n",
            "           Facts       0.70      0.88      0.78       368\n",
            "         Invalid       0.53      0.54      0.53       111\n",
            "           Issue       0.72      0.36      0.48        50\n",
            "Rule/Law/Holding       0.55      0.27      0.36        60\n",
            "\n",
            "        accuracy                           0.65       730\n",
            "       macro avg       0.65      0.48      0.53       730\n",
            "    weighted avg       0.65      0.65      0.63       730\n",
            "\n"
          ],
          "name": "stdout"
        }
      ]
    },
    {
      "cell_type": "code",
      "metadata": {
        "colab": {
          "base_uri": "https://localhost:8080/"
        },
        "id": "CRr8oe3pFpJ2",
        "outputId": "998977fc-e26c-495b-ee4e-a76a676e73dc"
      },
      "source": [
        "x_un4 = tfidf_vect.transform(unlabel_4['Sentence'])\r\n",
        "pred_unlabel_4 = model_3.predict_proba(x_un4)\r\n",
        "\r\n",
        "\r\n",
        "pos=[]\r\n",
        "large=[]\r\n",
        "ind = []\r\n",
        "i=0\r\n",
        "for j in pred_unlabel_4:\r\n",
        "  if max(j)> 0.98:\r\n",
        "    ind.append(np.argmax(j))\r\n",
        "    large.append(max(j))\r\n",
        "    pos.append(i)\r\n",
        "  i+=1\r\n",
        "\r\n",
        "\r\n",
        "print(ind)\r\n",
        "print(large)\r\n",
        "print(pos)\r\n",
        "print(len(ind))\r\n",
        "print(len(large))\r\n",
        "print(len(pos))"
      ],
      "execution_count": null,
      "outputs": [
        {
          "output_type": "stream",
          "text": [
            "[3, 2, 0, 3, 2, 5, 2, 2, 2, 2, 2, 3, 3, 2, 2, 2, 2, 3, 2, 2, 2, 2, 2, 2, 2, 3, 2, 2, 2, 2, 2, 3, 2, 3, 2, 2, 0, 2, 2, 3, 3, 0, 2, 3, 2, 5, 3, 0, 2, 2, 2, 2, 3, 2, 2, 3, 2, 2, 2, 2, 2, 3, 2, 2, 2, 2, 2, 2]\n",
            "[0.9985814727714338, 0.9825364974562459, 0.9955555292352852, 0.9848078652644006, 0.9975198823737208, 0.9951827571258971, 0.9984703647709179, 0.9902250107522863, 0.9907702699510343, 0.9987480114587298, 0.9988042665112633, 0.9853428111008043, 0.9936894758588082, 0.9977034341696762, 0.9983101723513643, 0.9951452908757472, 0.9986981680086234, 0.9982381185210867, 0.9986931083318316, 0.9982974161633625, 0.9901288619501026, 0.9879896209995884, 0.9986131267197618, 0.9985017735223376, 0.9987264175350211, 0.9963281435762015, 0.998010139021793, 0.998148296974431, 0.9986775138661831, 0.9982283490381196, 0.9984238640921496, 0.9950275599518433, 0.9951219277819667, 0.9945861998137466, 0.9981917899344034, 0.9847350417635354, 0.9865389315035171, 0.9883330909828086, 0.9974148894358585, 0.9836773562247753, 0.9960346465142164, 0.9908234813999774, 0.983832763746578, 0.9960263560619982, 0.9974222947388894, 0.9884033387142247, 0.9952366159640784, 0.9982559148548323, 0.9986028951326951, 0.9976815164715472, 0.9984304042164939, 0.9960331197216847, 0.9989228848468726, 0.9984953511867526, 0.9987303772025028, 0.9902887138242455, 0.9926628487976519, 0.9975692127396611, 0.9933784576450866, 0.998720662963067, 0.9944709711659093, 0.9984343869171675, 0.9978189511173028, 0.9950189844503927, 0.985836263289414, 0.9979591939267741, 0.9968859798542122, 0.9956850642257273]\n",
            "[0, 1, 2, 3, 4, 6, 7, 8, 9, 10, 11, 12, 13, 15, 16, 17, 18, 20, 21, 22, 27, 28, 29, 30, 31, 32, 34, 35, 37, 38, 40, 41, 42, 47, 49, 53, 54, 55, 56, 57, 58, 59, 60, 62, 63, 65, 66, 67, 69, 70, 71, 72, 73, 74, 75, 77, 79, 82, 83, 85, 87, 88, 89, 90, 91, 93, 97, 99]\n",
            "68\n",
            "68\n",
            "68\n"
          ],
          "name": "stdout"
        }
      ]
    },
    {
      "cell_type": "code",
      "metadata": {
        "id": "-p3HfSQ2FwV_"
      },
      "source": [
        "unlabel_4=unlabel_4.loc[pos,:]"
      ],
      "execution_count": null,
      "outputs": []
    },
    {
      "cell_type": "code",
      "metadata": {
        "colab": {
          "base_uri": "https://localhost:8080/"
        },
        "id": "iR8Ghl7oF5E6",
        "outputId": "87cc8ba9-f2dc-494d-9c3b-c7b5d7750efd"
      },
      "source": [
        "frame_4 = [train7_3,unlabel_4]\r\n",
        "train7_4 = pd.concat(frame_4)\r\n",
        "len(train7_4)\r\n",
        "x_train_4 = tfidf_vect.transform(train7_4['Sentence'])\r\n",
        "X_train, x_val, Y_train, y_val = train_test_split(x_train_4,train7_4['Target'],test_size=0.27,random_state=42)\r\n",
        "support = RandomForestClassifier()\r\n",
        "clf = support.fit(X_train, Y_train)\r\n",
        "calibrator = CalibratedClassifierCV(clf, cv='prefit')\r\n",
        "model_4=calibrator.fit(X_train, Y_train)\r\n",
        "pred_svm = model_4.predict(x_val)\r\n",
        "print('Accuracy %s' % accuracy_score(pred_svm,y_val))\r\n",
        "print(classification_report(y_val,pred_svm))"
      ],
      "execution_count": null,
      "outputs": [
        {
          "output_type": "stream",
          "text": [
            "Accuracy 0.6633466135458167\n",
            "                  precision    recall  f1-score   support\n",
            "\n",
            "        Analysis       0.52      0.33      0.40       144\n",
            "      Conclusion       0.68      0.37      0.48        46\n",
            "           Facts       0.71      0.89      0.79       528\n",
            "         Invalid       0.55      0.55      0.55       153\n",
            "           Issue       0.73      0.36      0.48        66\n",
            "Rule/Law/Holding       0.67      0.36      0.47        67\n",
            "\n",
            "        accuracy                           0.66      1004\n",
            "       macro avg       0.64      0.48      0.53      1004\n",
            "    weighted avg       0.65      0.66      0.64      1004\n",
            "\n"
          ],
          "name": "stdout"
        }
      ]
    },
    {
      "cell_type": "code",
      "metadata": {
        "colab": {
          "base_uri": "https://localhost:8080/"
        },
        "id": "LquDQOH_GPad",
        "outputId": "79dda40a-d3f8-44d8-c6ee-8d3ffc5ff12e"
      },
      "source": [
        "x_un5 = tfidf_vect.transform(unlabel_5['Sentence'])\r\n",
        "\r\n",
        "pred_unlabel_5 = model_4.predict_proba(x_un5)\r\n",
        "pos=[]\r\n",
        "large=[]\r\n",
        "ind = []\r\n",
        "i=0\r\n",
        "for j in pred_unlabel_5:\r\n",
        "  if max(j)> 0.98:\r\n",
        "    ind.append(np.argmax(j))\r\n",
        "    large.append(max(j))\r\n",
        "    pos.append(i)\r\n",
        "  i+=1\r\n",
        "\r\n",
        "\r\n",
        "print(ind)\r\n",
        "print(large)\r\n",
        "print(pos)\r\n",
        "print(len(ind))\r\n",
        "print(len(large))\r\n",
        "print(len(pos))"
      ],
      "execution_count": null,
      "outputs": [
        {
          "output_type": "stream",
          "text": [
            "[3, 2, 3, 0, 2, 3, 3, 2, 5, 3, 3, 4, 2, 2, 2, 2, 2, 2, 2, 1, 2, 2, 2, 2, 1, 2, 2, 4, 2, 2, 2, 3, 3, 2, 3, 2, 2, 2, 1, 2, 2, 2, 3, 2, 2, 5, 3, 2, 2, 2, 0, 2, 2, 2, 2, 2, 2, 2, 2, 3, 3, 0, 2, 3, 2]\n",
            "[0.9858415603516953, 0.9989204061902155, 0.9989126630901536, 0.9852668403408573, 0.9986506538168786, 0.9958777958788039, 0.9935185089417905, 0.9979892993306755, 0.9936909643806824, 0.9987507637080356, 0.9988032002324907, 0.9946177421105502, 0.9980834172956887, 0.9987876156491313, 0.9973163233160264, 0.9861929059620128, 0.993449387380948, 0.9936513439894427, 0.9877874923977161, 0.9984749805684606, 0.9988753213717223, 0.9943959253701641, 0.9952496109701232, 0.9958200446072699, 0.9982458113432762, 0.9975459133837259, 0.9830933883056147, 0.9965801902745722, 0.9971246399188488, 0.9984904157516745, 0.9987753456612671, 0.9985890858992378, 0.9989126630901536, 0.997677539206127, 0.9972247089350262, 0.9953554766617679, 0.9985167194666255, 0.9979922980991004, 0.9984749805684606, 0.9960814120628065, 0.9955327302789141, 0.9974246409379018, 0.9969425082731999, 0.9970204118022402, 0.997282236663673, 0.9925787966140068, 0.988644465071902, 0.994052003932023, 0.9980559108831477, 0.9810975362704504, 0.9855932679396283, 0.9989557617107848, 0.9988879041750071, 0.9961463176487428, 0.9977763178329835, 0.9985732476405091, 0.9989204061902155, 0.9855436620480752, 0.9981513300591617, 0.9900076899494756, 0.9975867141016492, 0.9941602896750223, 0.990277836578448, 0.99306127323114, 0.9889897096515778]\n",
            "[1, 3, 5, 6, 7, 8, 10, 17, 18, 19, 20, 21, 22, 23, 26, 27, 28, 29, 30, 31, 32, 33, 34, 35, 36, 39, 40, 49, 50, 52, 53, 54, 55, 56, 57, 59, 60, 63, 64, 65, 67, 68, 69, 71, 73, 74, 76, 77, 78, 79, 80, 82, 86, 90, 92, 94, 95, 97, 102, 106, 107, 110, 111, 115, 118]\n",
            "65\n",
            "65\n",
            "65\n"
          ],
          "name": "stdout"
        }
      ]
    },
    {
      "cell_type": "code",
      "metadata": {
        "id": "P1MxKadbHypp"
      },
      "source": [
        "unlabel_5 = unlabel_5.loc[pos,:]"
      ],
      "execution_count": null,
      "outputs": []
    },
    {
      "cell_type": "code",
      "metadata": {
        "colab": {
          "base_uri": "https://localhost:8080/"
        },
        "id": "DKlIotQ2H59h",
        "outputId": "b60749ea-66c1-4442-ea78-630a449949d4"
      },
      "source": [
        "frame_5 = [train7_4,unlabel_5]\r\n",
        "train7_5 = pd.concat(frame_5)\r\n",
        "len(train7_5)\r\n",
        "x_train_5 = tfidf_vect.transform(train7_5['Sentence'])\r\n",
        "X_train, x_val, Y_train, y_val = train_test_split(x_train_5,train7_5['Target'],test_size=0.27,random_state=42)\r\n",
        "support = RandomForestClassifier()\r\n",
        "clf = support.fit(X_train, Y_train)\r\n",
        "calibrator = CalibratedClassifierCV(clf, cv='prefit')\r\n",
        "model_5=calibrator.fit(X_train, Y_train)\r\n",
        "pred_svm = model_5.predict(x_val)\r\n",
        "print('Accuracy %s' % accuracy_score(pred_svm,y_val))\r\n",
        "print(classification_report(y_val,pred_svm))"
      ],
      "execution_count": null,
      "outputs": [
        {
          "output_type": "stream",
          "text": [
            "Accuracy 0.6702544031311155\n",
            "                  precision    recall  f1-score   support\n",
            "\n",
            "        Analysis       0.50      0.32      0.39       135\n",
            "      Conclusion       0.72      0.47      0.57        55\n",
            "           Facts       0.71      0.90      0.80       530\n",
            "         Invalid       0.58      0.57      0.58       170\n",
            "           Issue       0.70      0.38      0.49        61\n",
            "Rule/Law/Holding       0.57      0.28      0.38        71\n",
            "\n",
            "        accuracy                           0.67      1022\n",
            "       macro avg       0.63      0.49      0.53      1022\n",
            "    weighted avg       0.65      0.67      0.65      1022\n",
            "\n"
          ],
          "name": "stdout"
        }
      ]
    },
    {
      "cell_type": "code",
      "metadata": {
        "colab": {
          "base_uri": "https://localhost:8080/"
        },
        "id": "WwXcxHFUIBUX",
        "outputId": "577d6be6-090c-4a01-8086-45da8d3cc35d"
      },
      "source": [
        "t_p = tfidf_vect.transform(test['Sentence'])\r\n",
        "test_pred = model_5.predict(t_p)\r\n",
        "print('Accuracy %s' % accuracy_score(test_pred,test['Target']))"
      ],
      "execution_count": null,
      "outputs": [
        {
          "output_type": "stream",
          "text": [
            "Accuracy 0.7562380038387716\n"
          ],
          "name": "stdout"
        }
      ]
    },
    {
      "cell_type": "code",
      "metadata": {
        "id": "1TJD0TwEeDNC",
        "colab": {
          "base_uri": "https://localhost:8080/"
        },
        "outputId": "8607bbc3-fb71-46a1-f4df-a83f6d5f8086"
      },
      "source": [
        "from sklearn.metrics import precision_recall_fscore_support\r\n",
        "print(precision_recall_fscore_support(test['Target'],test_pred,average='macro'))"
      ],
      "execution_count": null,
      "outputs": [
        {
          "output_type": "stream",
          "text": [
            "(0.7753853281411999, 0.6440787612659502, 0.6901529341130282, None)\n"
          ],
          "name": "stdout"
        }
      ]
    }
  ]
}