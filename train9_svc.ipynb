{
  "nbformat": 4,
  "nbformat_minor": 0,
  "metadata": {
    "colab": {
      "name": "train9_svc.ipynb",
      "provenance": [],
      "authorship_tag": "ABX9TyNQpuf3PNE+uBLifweuxf30",
      "include_colab_link": true
    },
    "kernelspec": {
      "name": "python3",
      "display_name": "Python 3"
    }
  },
  "cells": [
    {
      "cell_type": "markdown",
      "metadata": {
        "id": "view-in-github",
        "colab_type": "text"
      },
      "source": [
        "<a href=\"https://colab.research.google.com/github/sundarp17/semi-supervised/blob/main/train9_svc.ipynb\" target=\"_parent\"><img src=\"https://colab.research.google.com/assets/colab-badge.svg\" alt=\"Open In Colab\"/></a>"
      ]
    },
    {
      "cell_type": "code",
      "metadata": {
        "id": "BSNaH-G5e9XK"
      },
      "source": [
        "import numpy as np\r\n",
        "import pandas as pd"
      ],
      "execution_count": 1,
      "outputs": []
    },
    {
      "cell_type": "code",
      "metadata": {
        "id": "yMMnSj98r48p"
      },
      "source": [
        "\r\n",
        "train9 = pd.read_csv(r'/content/train_data9.csv')\r\n",
        "test = pd.read_csv(r'/content/test_data.csv')"
      ],
      "execution_count": 33,
      "outputs": []
    },
    {
      "cell_type": "code",
      "metadata": {
        "id": "YXsEmIOrr8sa"
      },
      "source": [
        "\r\n",
        "train9['Target'] = train9['Target'].replace(['Others'],'Invalid')\r\n"
      ],
      "execution_count": 34,
      "outputs": []
    },
    {
      "cell_type": "code",
      "metadata": {
        "colab": {
          "base_uri": "https://localhost:8080/"
        },
        "id": "gyCyM6OHsExq",
        "outputId": "792296f6-3739-4d6b-e8f6-363f08e972d0"
      },
      "source": [
        "train9['Target'].unique()"
      ],
      "execution_count": 35,
      "outputs": [
        {
          "output_type": "execute_result",
          "data": {
            "text/plain": [
              "array(['Invalid', 'Issue', 'Analysis', 'Facts', 'Conclusion',\n",
              "       'Rule/Law/Holding'], dtype=object)"
            ]
          },
          "metadata": {
            "tags": []
          },
          "execution_count": 35
        }
      ]
    },
    {
      "cell_type": "code",
      "metadata": {
        "colab": {
          "base_uri": "https://localhost:8080/"
        },
        "id": "XRWq-Ak9sGCr",
        "outputId": "5970ec17-96bc-476c-e78a-342be6a687b2"
      },
      "source": [
        "#cleaning\r\n",
        "import nltk\r\n",
        "import re\r\n",
        "import string\r\n",
        "nltk.download('stopwords')\r\n",
        "nltk.download('wordnet')\r\n",
        "stopword=nltk.corpus.stopwords.words('english')\r\n",
        "from nltk.stem import WordNetLemmatizer\r\n",
        "wl= WordNetLemmatizer()\r\n",
        "\r\n",
        "def clean_text(text):\r\n",
        "  text=\"\".join([word.lower() for word in text if word not in string.punctuation])\r\n",
        "  tokens = re.split('\\W+',text)\r\n",
        "  text = [wl.lemmatize(word) for word in tokens if word not in stopword]\r\n",
        "  return text"
      ],
      "execution_count": 36,
      "outputs": [
        {
          "output_type": "stream",
          "text": [
            "[nltk_data] Downloading package stopwords to /root/nltk_data...\n",
            "[nltk_data]   Package stopwords is already up-to-date!\n",
            "[nltk_data] Downloading package wordnet to /root/nltk_data...\n",
            "[nltk_data]   Package wordnet is already up-to-date!\n"
          ],
          "name": "stdout"
        }
      ]
    },
    {
      "cell_type": "code",
      "metadata": {
        "id": "fAVBbrf8sLpd"
      },
      "source": [
        "from sklearn.feature_extraction.text import TfidfVectorizer\r\n",
        "\r\n",
        "tfidf_vect = TfidfVectorizer(analyzer = clean_text)\r\n",
        "\r\n",
        "train9_Xtfidf = tfidf_vect.fit_transform(train9['Sentence'])\r\n"
      ],
      "execution_count": 37,
      "outputs": []
    },
    {
      "cell_type": "code",
      "metadata": {
        "id": "LiDNOGMlsXjn"
      },
      "source": [
        "test['Target']=test['Target'].replace(['Others'],'Invalid')\r\n",
        "test['Sentence'] = test['Sentence'].apply(lambda x: \" \".join(x.lower() for x in str(x).split()))\r\n",
        "test['Sentence'] = test['Sentence'].str.replace('[^\\w\\s]','')\r\n",
        "from nltk.corpus import stopwords\r\n",
        "words = stopwords.words('english')\r\n",
        "test['Sentence'] = test['Sentence'].apply(lambda x: \" \".join(x for x in x.split() if x not in words))"
      ],
      "execution_count": 38,
      "outputs": []
    },
    {
      "cell_type": "code",
      "metadata": {
        "colab": {
          "base_uri": "https://localhost:8080/"
        },
        "id": "kiXsxzUysh_t",
        "outputId": "861b2361-eb06-4e8d-a697-245e3644e894"
      },
      "source": [
        "unlabel_1 = test.loc[:100]\r\n",
        "print(\"length of unlabel_1\",len(unlabel_1))\r\n",
        "unlabel_2 = test.loc[101:200]\r\n",
        "print(\"length of unlabel_2\",len(unlabel_2))\r\n",
        "unlabel_3 = test.loc[201:300]\r\n",
        "print(\"length of unlabel_3\",len(unlabel_3))\r\n",
        "unlabel_4 = test.loc[301:400]\r\n",
        "print(\"length of unlabel_4\",len(unlabel_4))\r\n",
        "unlabel_5 = test.loc[401:]\r\n",
        "print(\"length of unlabel_5\",len(unlabel_5))"
      ],
      "execution_count": 39,
      "outputs": [
        {
          "output_type": "stream",
          "text": [
            "length of unlabel_1 101\n",
            "length of unlabel_2 100\n",
            "length of unlabel_3 100\n",
            "length of unlabel_4 100\n",
            "length of unlabel_5 120\n"
          ],
          "name": "stdout"
        }
      ]
    },
    {
      "cell_type": "code",
      "metadata": {
        "colab": {
          "base_uri": "https://localhost:8080/",
          "height": 195
        },
        "id": "fjmpfwMKsnAk",
        "outputId": "197693c2-2ed2-4dc3-a343-f61b228facf7"
      },
      "source": [
        "unlabel_2.reset_index(inplace=True)\r\n",
        "del unlabel_2['index']\r\n",
        "unlabel_2.head()"
      ],
      "execution_count": 40,
      "outputs": [
        {
          "output_type": "execute_result",
          "data": {
            "text/html": [
              "<div>\n",
              "<style scoped>\n",
              "    .dataframe tbody tr th:only-of-type {\n",
              "        vertical-align: middle;\n",
              "    }\n",
              "\n",
              "    .dataframe tbody tr th {\n",
              "        vertical-align: top;\n",
              "    }\n",
              "\n",
              "    .dataframe thead th {\n",
              "        text-align: right;\n",
              "    }\n",
              "</style>\n",
              "<table border=\"1\" class=\"dataframe\">\n",
              "  <thead>\n",
              "    <tr style=\"text-align: right;\">\n",
              "      <th></th>\n",
              "      <th>Unnamed: 0</th>\n",
              "      <th>Sentence</th>\n",
              "      <th>Target</th>\n",
              "    </tr>\n",
              "  </thead>\n",
              "  <tbody>\n",
              "    <tr>\n",
              "      <th>0</th>\n",
              "      <td>1207</td>\n",
              "      <td>examination occurred night middle may testifie...</td>\n",
              "      <td>Invalid</td>\n",
              "    </tr>\n",
              "    <tr>\n",
              "      <th>1</th>\n",
              "      <td>3400</td>\n",
              "      <td>undisputed testimony reflects appellant drivin...</td>\n",
              "      <td>Facts</td>\n",
              "    </tr>\n",
              "    <tr>\n",
              "      <th>2</th>\n",
              "      <td>2072</td>\n",
              "      <td>appellant testify offer evidence behalf</td>\n",
              "      <td>Facts</td>\n",
              "    </tr>\n",
              "    <tr>\n",
              "      <th>3</th>\n",
              "      <td>517</td>\n",
              "      <td>56 uniform act regulating traffic highways gis...</td>\n",
              "      <td>Rule/Law/Holding</td>\n",
              "    </tr>\n",
              "    <tr>\n",
              "      <th>4</th>\n",
              "      <td>906</td>\n",
              "      <td>agreed accompany gave pawn ticket money reclai...</td>\n",
              "      <td>Facts</td>\n",
              "    </tr>\n",
              "  </tbody>\n",
              "</table>\n",
              "</div>"
            ],
            "text/plain": [
              "   Unnamed: 0  ...            Target\n",
              "0        1207  ...           Invalid\n",
              "1        3400  ...             Facts\n",
              "2        2072  ...             Facts\n",
              "3         517  ...  Rule/Law/Holding\n",
              "4         906  ...             Facts\n",
              "\n",
              "[5 rows x 3 columns]"
            ]
          },
          "metadata": {
            "tags": []
          },
          "execution_count": 40
        }
      ]
    },
    {
      "cell_type": "code",
      "metadata": {
        "colab": {
          "base_uri": "https://localhost:8080/",
          "height": 195
        },
        "id": "or3mI32wsupE",
        "outputId": "bab895e0-8bf7-4e0c-e6b2-5e95ac456762"
      },
      "source": [
        "unlabel_3.reset_index(inplace=True)\r\n",
        "del unlabel_3['index']\r\n",
        "unlabel_3.head()"
      ],
      "execution_count": 41,
      "outputs": [
        {
          "output_type": "execute_result",
          "data": {
            "text/html": [
              "<div>\n",
              "<style scoped>\n",
              "    .dataframe tbody tr th:only-of-type {\n",
              "        vertical-align: middle;\n",
              "    }\n",
              "\n",
              "    .dataframe tbody tr th {\n",
              "        vertical-align: top;\n",
              "    }\n",
              "\n",
              "    .dataframe thead th {\n",
              "        text-align: right;\n",
              "    }\n",
              "</style>\n",
              "<table border=\"1\" class=\"dataframe\">\n",
              "  <thead>\n",
              "    <tr style=\"text-align: right;\">\n",
              "      <th></th>\n",
              "      <th>Unnamed: 0</th>\n",
              "      <th>Sentence</th>\n",
              "      <th>Target</th>\n",
              "    </tr>\n",
              "  </thead>\n",
              "  <tbody>\n",
              "    <tr>\n",
              "      <th>0</th>\n",
              "      <td>1882</td>\n",
              "      <td>find evidence amply sufficient sustain juryâs ...</td>\n",
              "      <td>Analysis</td>\n",
              "    </tr>\n",
              "    <tr>\n",
              "      <th>1</th>\n",
              "      <td>964</td>\n",
              "      <td>actions show thatâ</td>\n",
              "      <td>Invalid</td>\n",
              "    </tr>\n",
              "    <tr>\n",
              "      <th>2</th>\n",
              "      <td>1417</td>\n",
              "      <td>certification attending physician shown filed ...</td>\n",
              "      <td>Facts</td>\n",
              "    </tr>\n",
              "    <tr>\n",
              "      <th>3</th>\n",
              "      <td>2932</td>\n",
              "      <td>testified agent bland first left automobile wa...</td>\n",
              "      <td>Facts</td>\n",
              "    </tr>\n",
              "    <tr>\n",
              "      <th>4</th>\n",
              "      <td>1584</td>\n",
              "      <td>officer testified could smell odor alcohol app...</td>\n",
              "      <td>Facts</td>\n",
              "    </tr>\n",
              "  </tbody>\n",
              "</table>\n",
              "</div>"
            ],
            "text/plain": [
              "   Unnamed: 0                                           Sentence    Target\n",
              "0        1882  find evidence amply sufficient sustain juryâs ...  Analysis\n",
              "1         964                                 actions show thatâ   Invalid\n",
              "2        1417  certification attending physician shown filed ...     Facts\n",
              "3        2932  testified agent bland first left automobile wa...     Facts\n",
              "4        1584  officer testified could smell odor alcohol app...     Facts"
            ]
          },
          "metadata": {
            "tags": []
          },
          "execution_count": 41
        }
      ]
    },
    {
      "cell_type": "code",
      "metadata": {
        "colab": {
          "base_uri": "https://localhost:8080/",
          "height": 195
        },
        "id": "2xe3MWluszTz",
        "outputId": "45655742-be31-4209-fcc7-3d5d60efc76b"
      },
      "source": [
        "unlabel_4.reset_index(inplace=True)\r\n",
        "del unlabel_4['index']\r\n",
        "unlabel_4.head()"
      ],
      "execution_count": 42,
      "outputs": [
        {
          "output_type": "execute_result",
          "data": {
            "text/html": [
              "<div>\n",
              "<style scoped>\n",
              "    .dataframe tbody tr th:only-of-type {\n",
              "        vertical-align: middle;\n",
              "    }\n",
              "\n",
              "    .dataframe tbody tr th {\n",
              "        vertical-align: top;\n",
              "    }\n",
              "\n",
              "    .dataframe thead th {\n",
              "        text-align: right;\n",
              "    }\n",
              "</style>\n",
              "<table border=\"1\" class=\"dataframe\">\n",
              "  <thead>\n",
              "    <tr style=\"text-align: right;\">\n",
              "      <th></th>\n",
              "      <th>Unnamed: 0</th>\n",
              "      <th>Sentence</th>\n",
              "      <th>Target</th>\n",
              "    </tr>\n",
              "  </thead>\n",
              "  <tbody>\n",
              "    <tr>\n",
              "      <th>0</th>\n",
              "      <td>266</td>\n",
              "      <td>section 6 pl</td>\n",
              "      <td>Invalid</td>\n",
              "    </tr>\n",
              "    <tr>\n",
              "      <th>1</th>\n",
              "      <td>3469</td>\n",
              "      <td>amended answer appellant alleged bond invalid ...</td>\n",
              "      <td>Analysis</td>\n",
              "    </tr>\n",
              "    <tr>\n",
              "      <th>2</th>\n",
              "      <td>1471</td>\n",
              "      <td>evidence sufficient support conviction appella...</td>\n",
              "      <td>Analysis</td>\n",
              "    </tr>\n",
              "    <tr>\n",
              "      <th>3</th>\n",
              "      <td>1990</td>\n",
              "      <td>cases cited note 19</td>\n",
              "      <td>Invalid</td>\n",
              "    </tr>\n",
              "    <tr>\n",
              "      <th>4</th>\n",
              "      <td>2757</td>\n",
              "      <td>july 8 1960 order entered revoking said probat...</td>\n",
              "      <td>Facts</td>\n",
              "    </tr>\n",
              "  </tbody>\n",
              "</table>\n",
              "</div>"
            ],
            "text/plain": [
              "   Unnamed: 0                                           Sentence    Target\n",
              "0         266                                       section 6 pl   Invalid\n",
              "1        3469  amended answer appellant alleged bond invalid ...  Analysis\n",
              "2        1471  evidence sufficient support conviction appella...  Analysis\n",
              "3        1990                                cases cited note 19   Invalid\n",
              "4        2757  july 8 1960 order entered revoking said probat...     Facts"
            ]
          },
          "metadata": {
            "tags": []
          },
          "execution_count": 42
        }
      ]
    },
    {
      "cell_type": "code",
      "metadata": {
        "colab": {
          "base_uri": "https://localhost:8080/",
          "height": 195
        },
        "id": "-dCJpImWtH8K",
        "outputId": "23d91cd3-46db-4dc6-a1e2-5b504fabc7df"
      },
      "source": [
        "unlabel_5.reset_index(inplace=True)\r\n",
        "del unlabel_5['index']\r\n",
        "unlabel_5.head()"
      ],
      "execution_count": 43,
      "outputs": [
        {
          "output_type": "execute_result",
          "data": {
            "text/html": [
              "<div>\n",
              "<style scoped>\n",
              "    .dataframe tbody tr th:only-of-type {\n",
              "        vertical-align: middle;\n",
              "    }\n",
              "\n",
              "    .dataframe tbody tr th {\n",
              "        vertical-align: top;\n",
              "    }\n",
              "\n",
              "    .dataframe thead th {\n",
              "        text-align: right;\n",
              "    }\n",
              "</style>\n",
              "<table border=\"1\" class=\"dataframe\">\n",
              "  <thead>\n",
              "    <tr style=\"text-align: right;\">\n",
              "      <th></th>\n",
              "      <th>Unnamed: 0</th>\n",
              "      <th>Sentence</th>\n",
              "      <th>Target</th>\n",
              "    </tr>\n",
              "  </thead>\n",
              "  <tbody>\n",
              "    <tr>\n",
              "      <th>0</th>\n",
              "      <td>2979</td>\n",
              "      <td>overrule appellantâs contention court erred pe...</td>\n",
              "      <td>Analysis</td>\n",
              "    </tr>\n",
              "    <tr>\n",
              "      <th>1</th>\n",
              "      <td>2135</td>\n",
              "      <td>state regarded authority case</td>\n",
              "      <td>Invalid</td>\n",
              "    </tr>\n",
              "    <tr>\n",
              "      <th>2</th>\n",
              "      <td>1591</td>\n",
              "      <td>testimony adduced appellant mother lillie mae ...</td>\n",
              "      <td>Facts</td>\n",
              "    </tr>\n",
              "    <tr>\n",
              "      <th>3</th>\n",
              "      <td>658</td>\n",
              "      <td>appellant needle marks inside left elbow</td>\n",
              "      <td>Facts</td>\n",
              "    </tr>\n",
              "    <tr>\n",
              "      <th>4</th>\n",
              "      <td>2562</td>\n",
              "      <td>analysis contents 3 capsules chemist kenneth a...</td>\n",
              "      <td>Facts</td>\n",
              "    </tr>\n",
              "  </tbody>\n",
              "</table>\n",
              "</div>"
            ],
            "text/plain": [
              "   Unnamed: 0                                           Sentence    Target\n",
              "0        2979  overrule appellantâs contention court erred pe...  Analysis\n",
              "1        2135                      state regarded authority case   Invalid\n",
              "2        1591  testimony adduced appellant mother lillie mae ...     Facts\n",
              "3         658           appellant needle marks inside left elbow     Facts\n",
              "4        2562  analysis contents 3 capsules chemist kenneth a...     Facts"
            ]
          },
          "metadata": {
            "tags": []
          },
          "execution_count": 43
        }
      ]
    },
    {
      "cell_type": "code",
      "metadata": {
        "colab": {
          "base_uri": "https://localhost:8080/"
        },
        "id": "Nep-udrpCJOC",
        "outputId": "93f45fa0-dc95-4272-b76e-679d4682711a"
      },
      "source": [
        "from sklearn.model_selection import train_test_split\r\n",
        "from sklearn import svm\r\n",
        "from sklearn.metrics import accuracy_score\r\n",
        "from sklearn.metrics import classification_report\r\n",
        "from sklearn.calibration import CalibratedClassifierCV\r\n",
        "\r\n",
        "\r\n",
        "X_train, x_val, Y_train, y_val = train_test_split(train9_Xtfidf,train9['Target'],test_size=0.26,random_state=42)\r\n",
        "support = svm.LinearSVC(multi_class='ovr',class_weight='balanced')\r\n",
        "clf = support.fit(X_train, Y_train)\r\n",
        "calibrator = CalibratedClassifierCV(clf, cv='prefit')\r\n",
        "model=calibrator.fit(X_train, Y_train)\r\n",
        "pred_svm = model.predict(x_val)\r\n",
        "print('Accuracy %s' % accuracy_score(pred_svm,y_val))\r\n",
        "print(classification_report(y_val,pred_svm))"
      ],
      "execution_count": 44,
      "outputs": [
        {
          "output_type": "stream",
          "text": [
            "Accuracy 0.6780973451327433\n",
            "                  precision    recall  f1-score   support\n",
            "\n",
            "        Analysis       0.53      0.40      0.46       127\n",
            "      Conclusion       0.76      0.46      0.57        48\n",
            "           Facts       0.74      0.92      0.82       476\n",
            "         Invalid       0.51      0.45      0.48       131\n",
            "           Issue       0.51      0.44      0.47        52\n",
            "Rule/Law/Holding       0.69      0.26      0.37        70\n",
            "\n",
            "        accuracy                           0.68       904\n",
            "       macro avg       0.62      0.49      0.53       904\n",
            "    weighted avg       0.66      0.68      0.65       904\n",
            "\n"
          ],
          "name": "stdout"
        }
      ]
    },
    {
      "cell_type": "code",
      "metadata": {
        "id": "7r9d3GPtCuWA"
      },
      "source": [
        "x_un1 = tfidf_vect.transform(unlabel_1['Sentence'])\r\n",
        "pred_unlabel_1 = model.predict_proba(x_un1)"
      ],
      "execution_count": 45,
      "outputs": []
    },
    {
      "cell_type": "code",
      "metadata": {
        "colab": {
          "base_uri": "https://localhost:8080/"
        },
        "id": "wFMRO90AC6d2",
        "outputId": "bbd5a92e-132b-4d1a-aa1a-1c779d775076"
      },
      "source": [
        "import numpy as np\r\n",
        "pos=[]\r\n",
        "large=[]\r\n",
        "ind = []\r\n",
        "i=0\r\n",
        "for j in pred_unlabel_1:\r\n",
        "  if max(j)> 0.98:\r\n",
        "    ind.append(np.argmax(j))\r\n",
        "    large.append(max(j))\r\n",
        "    pos.append(i)\r\n",
        "  i+=1\r\n",
        "\r\n",
        "\r\n",
        "print(ind)\r\n",
        "print(large)\r\n",
        "print(pos)\r\n",
        "print(len(ind))\r\n",
        "print(len(large))\r\n",
        "print(len(pos))"
      ],
      "execution_count": 46,
      "outputs": [
        {
          "output_type": "stream",
          "text": [
            "[2, 2, 2, 2, 2, 2, 0, 2, 2, 1, 3, 2, 1, 2, 2, 2, 2, 2, 2, 2, 2, 3, 2, 2, 2, 2, 2, 2, 2, 2, 3, 2, 2, 2, 2, 2, 2, 2, 2, 3]\n",
            "[0.9982862869255581, 0.9998887097899517, 0.9969887749364323, 0.9981618979260398, 0.9980350214986975, 0.9954912099699429, 0.9882748722131622, 0.9860930351423803, 0.9976729166163325, 0.9986371969073399, 0.9861154333169121, 0.9992633551560403, 0.9997883852392709, 0.9825584124259947, 0.9913830351857351, 0.9921545531366225, 0.9824119381667703, 0.9954123737350121, 0.9980889323216191, 0.9996103194734953, 0.9994103213525934, 0.9915286814258941, 0.9967018584484281, 0.9925542005485052, 0.9954452937401599, 0.9980862789784744, 0.9963479651238634, 0.994530960055934, 0.9993726541869734, 0.9926768397954673, 0.9885804638446272, 0.9999121515032106, 0.9845037533579707, 0.9928361503290031, 0.9914623833178718, 0.9970130202415852, 0.9994570626252551, 0.9899110665046481, 0.999389639718411, 0.9972475976914015]\n",
            "[4, 5, 11, 12, 17, 18, 20, 21, 23, 24, 26, 29, 31, 33, 35, 36, 37, 39, 40, 45, 48, 49, 50, 51, 52, 55, 56, 60, 62, 70, 72, 76, 79, 84, 87, 89, 94, 95, 96, 98]\n",
            "40\n",
            "40\n",
            "40\n"
          ],
          "name": "stdout"
        }
      ]
    },
    {
      "cell_type": "code",
      "metadata": {
        "colab": {
          "base_uri": "https://localhost:8080/",
          "height": 195
        },
        "id": "WQo3GF7nC_7W",
        "outputId": "c6faf097-dddc-44b7-a631-ac5a21c8e75f"
      },
      "source": [
        "unlabel_1=unlabel_1.loc[[4, 5, 11, 12, 17, 18, 20, 21, 23, 24, 26, 29, 31, 33, 35, 36, 37, 39, 40, 45, 48, 49, 50, 51, 52, 55, 56, 60, 62, 70, 72, 76, 79, 84, 87, 89, 94, 95, 96, 98],:]\r\n",
        "unlabel_1.head()"
      ],
      "execution_count": 47,
      "outputs": [
        {
          "output_type": "execute_result",
          "data": {
            "text/html": [
              "<div>\n",
              "<style scoped>\n",
              "    .dataframe tbody tr th:only-of-type {\n",
              "        vertical-align: middle;\n",
              "    }\n",
              "\n",
              "    .dataframe tbody tr th {\n",
              "        vertical-align: top;\n",
              "    }\n",
              "\n",
              "    .dataframe thead th {\n",
              "        text-align: right;\n",
              "    }\n",
              "</style>\n",
              "<table border=\"1\" class=\"dataframe\">\n",
              "  <thead>\n",
              "    <tr style=\"text-align: right;\">\n",
              "      <th></th>\n",
              "      <th>Unnamed: 0</th>\n",
              "      <th>Sentence</th>\n",
              "      <th>Target</th>\n",
              "    </tr>\n",
              "  </thead>\n",
              "  <tbody>\n",
              "    <tr>\n",
              "      <th>4</th>\n",
              "      <td>79</td>\n",
              "      <td>eligible leaves renew contacts family</td>\n",
              "      <td>Facts</td>\n",
              "    </tr>\n",
              "    <tr>\n",
              "      <th>5</th>\n",
              "      <td>1955</td>\n",
              "      <td>got downstairs ponce went car wife left home</td>\n",
              "      <td>Facts</td>\n",
              "    </tr>\n",
              "    <tr>\n",
              "      <th>11</th>\n",
              "      <td>1604</td>\n",
              "      <td>police notified deceased found lying mrs moers...</td>\n",
              "      <td>Facts</td>\n",
              "    </tr>\n",
              "    <tr>\n",
              "      <th>12</th>\n",
              "      <td>1102</td>\n",
              "      <td>shown vine street drug storeâs supply narcotic...</td>\n",
              "      <td>Facts</td>\n",
              "    </tr>\n",
              "    <tr>\n",
              "      <th>17</th>\n",
              "      <td>2795</td>\n",
              "      <td>1951 ford came stop knocking several fence pos...</td>\n",
              "      <td>Facts</td>\n",
              "    </tr>\n",
              "  </tbody>\n",
              "</table>\n",
              "</div>"
            ],
            "text/plain": [
              "    Unnamed: 0                                           Sentence Target\n",
              "4           79              eligible leaves renew contacts family  Facts\n",
              "5         1955       got downstairs ponce went car wife left home  Facts\n",
              "11        1604  police notified deceased found lying mrs moers...  Facts\n",
              "12        1102  shown vine street drug storeâs supply narcotic...  Facts\n",
              "17        2795  1951 ford came stop knocking several fence pos...  Facts"
            ]
          },
          "metadata": {
            "tags": []
          },
          "execution_count": 47
        }
      ]
    },
    {
      "cell_type": "code",
      "metadata": {
        "colab": {
          "base_uri": "https://localhost:8080/"
        },
        "id": "vfZ0vrIMDje2",
        "outputId": "586dd7de-54d9-4237-8146-9f45b8526438"
      },
      "source": [
        "frame_1 = [train9,unlabel_1]\r\n",
        "train9_1 = pd.concat(frame_1)\r\n",
        "len(train9_1)"
      ],
      "execution_count": 48,
      "outputs": [
        {
          "output_type": "execute_result",
          "data": {
            "text/plain": [
              "3516"
            ]
          },
          "metadata": {
            "tags": []
          },
          "execution_count": 48
        }
      ]
    },
    {
      "cell_type": "code",
      "metadata": {
        "colab": {
          "base_uri": "https://localhost:8080/"
        },
        "id": "a5zkcYr5Dvoc",
        "outputId": "6758cd2e-4940-40cd-950c-bd152559b0bf"
      },
      "source": [
        "x_train_1 = tfidf_vect.transform(train9_1['Sentence'])\r\n",
        "x_train_1.shape\r\n",
        "X_train, x_val, Y_train, y_val = train_test_split(x_train_1,train9_1['Target'],test_size=0.2,random_state=42)\r\n",
        "support = svm.LinearSVC(multi_class='ovr',class_weight='balanced')\r\n",
        "clf = support.fit(X_train, Y_train)\r\n",
        "calibrator = CalibratedClassifierCV(clf, cv='prefit')\r\n",
        "model_1=calibrator.fit(X_train, Y_train)\r\n",
        "pred_svm = model_1.predict(x_val)\r\n",
        "print('Accuracy %s' % accuracy_score(pred_svm,y_val))\r\n",
        "print(classification_report(y_val,pred_svm))"
      ],
      "execution_count": 49,
      "outputs": [
        {
          "output_type": "stream",
          "text": [
            "Accuracy 0.6619318181818182\n",
            "                  precision    recall  f1-score   support\n",
            "\n",
            "        Analysis       0.47      0.42      0.44        98\n",
            "      Conclusion       0.70      0.53      0.60        36\n",
            "           Facts       0.74      0.89      0.81       361\n",
            "         Invalid       0.51      0.49      0.50       112\n",
            "           Issue       0.67      0.47      0.55        38\n",
            "Rule/Law/Holding       0.56      0.17      0.26        59\n",
            "\n",
            "        accuracy                           0.66       704\n",
            "       macro avg       0.61      0.50      0.53       704\n",
            "    weighted avg       0.64      0.66      0.64       704\n",
            "\n"
          ],
          "name": "stdout"
        }
      ]
    },
    {
      "cell_type": "code",
      "metadata": {
        "colab": {
          "base_uri": "https://localhost:8080/"
        },
        "id": "QEY_x7YFD9D4",
        "outputId": "f9d16776-7e4c-44f0-a08c-d98930367989"
      },
      "source": [
        "x_un2 = tfidf_vect.transform(unlabel_2['Sentence'])\r\n",
        "pred_unlabel_2 = model_1.predict_proba(x_un2)\r\n",
        "pos=[]\r\n",
        "large=[]\r\n",
        "ind = []\r\n",
        "i=0\r\n",
        "for j in pred_unlabel_2:\r\n",
        "  if max(j)> 0.98:\r\n",
        "    ind.append(np.argmax(j))\r\n",
        "    large.append(max(j))\r\n",
        "    pos.append(i)\r\n",
        "  i+=1\r\n",
        "\r\n",
        "\r\n",
        "print(ind)\r\n",
        "print(large)\r\n",
        "print(pos)\r\n",
        "print(len(ind))\r\n",
        "print(len(large))\r\n",
        "print(len(pos))"
      ],
      "execution_count": 50,
      "outputs": [
        {
          "output_type": "stream",
          "text": [
            "[2, 2, 2, 2, 2, 2, 2, 2, 2, 2, 2, 2, 2, 2, 2, 2, 2, 2, 1, 2, 2, 3, 1, 2, 0, 2, 2, 2, 2, 2, 2, 2, 2, 3, 3, 2, 2, 2, 2, 5, 2, 2]\n",
            "[0.9934157713035784, 0.9991494788084004, 0.9907145003488106, 0.9981259512043745, 0.9957714260281799, 0.9973504690585443, 0.99505331496181, 0.9999685900176868, 0.9835357937312894, 0.9872270680099915, 0.9959879974856214, 0.9943985241399407, 0.9957063181243941, 0.9939564380621625, 0.9997281472280116, 0.9801743564795339, 0.9966868621135465, 0.9928788869839974, 0.9992597262603402, 0.9998467515811618, 0.9990144823742997, 0.9978999364735318, 0.997833566559589, 0.9889156743982094, 0.9926838149751435, 0.9997119440321585, 0.9997324050538872, 0.9999151550279944, 0.9988934114353001, 0.99917102839097, 0.9899621950067626, 0.9973598965733951, 0.9992700653600773, 0.9851286057083614, 0.9940667917579794, 0.9980642708877719, 0.9921461006419107, 0.9991388646810153, 0.996228597431728, 0.9811039084706284, 0.9832035018561665, 0.9864848354814905]\n",
            "[0, 2, 3, 4, 7, 8, 9, 12, 13, 14, 15, 17, 20, 21, 29, 31, 32, 34, 36, 37, 39, 42, 49, 55, 58, 59, 63, 64, 69, 70, 71, 75, 79, 80, 83, 85, 86, 88, 91, 93, 95, 99]\n",
            "42\n",
            "42\n",
            "42\n"
          ],
          "name": "stdout"
        }
      ]
    },
    {
      "cell_type": "code",
      "metadata": {
        "colab": {
          "base_uri": "https://localhost:8080/",
          "height": 195
        },
        "id": "cuHrgR4KEEh5",
        "outputId": "5ee42865-a6c8-4c6d-f581-0628689012e9"
      },
      "source": [
        "unlabel_2 = unlabel_2.loc[[0, 2, 3, 4, 7, 8, 9, 12, 13, 14, 15, 17, 20, 21, 29, 31, 32, 34, 36, 37, 39, 42, 49, 55, 58, 59, 63, 64, 69, 70, 71, 75, 79, 80, 83, 85, 86, 88, 91, 93, 95, 99],:]\r\n",
        "unlabel_2.head()"
      ],
      "execution_count": 51,
      "outputs": [
        {
          "output_type": "execute_result",
          "data": {
            "text/html": [
              "<div>\n",
              "<style scoped>\n",
              "    .dataframe tbody tr th:only-of-type {\n",
              "        vertical-align: middle;\n",
              "    }\n",
              "\n",
              "    .dataframe tbody tr th {\n",
              "        vertical-align: top;\n",
              "    }\n",
              "\n",
              "    .dataframe thead th {\n",
              "        text-align: right;\n",
              "    }\n",
              "</style>\n",
              "<table border=\"1\" class=\"dataframe\">\n",
              "  <thead>\n",
              "    <tr style=\"text-align: right;\">\n",
              "      <th></th>\n",
              "      <th>Unnamed: 0</th>\n",
              "      <th>Sentence</th>\n",
              "      <th>Target</th>\n",
              "    </tr>\n",
              "  </thead>\n",
              "  <tbody>\n",
              "    <tr>\n",
              "      <th>0</th>\n",
              "      <td>1207</td>\n",
              "      <td>examination occurred night middle may testifie...</td>\n",
              "      <td>Invalid</td>\n",
              "    </tr>\n",
              "    <tr>\n",
              "      <th>2</th>\n",
              "      <td>2072</td>\n",
              "      <td>appellant testify offer evidence behalf</td>\n",
              "      <td>Facts</td>\n",
              "    </tr>\n",
              "    <tr>\n",
              "      <th>3</th>\n",
              "      <td>517</td>\n",
              "      <td>56 uniform act regulating traffic highways gis...</td>\n",
              "      <td>Rule/Law/Holding</td>\n",
              "    </tr>\n",
              "    <tr>\n",
              "      <th>4</th>\n",
              "      <td>906</td>\n",
              "      <td>agreed accompany gave pawn ticket money reclai...</td>\n",
              "      <td>Facts</td>\n",
              "    </tr>\n",
              "    <tr>\n",
              "      <th>7</th>\n",
              "      <td>3150</td>\n",
              "      <td>finding door facing street seen man walking pr...</td>\n",
              "      <td>Facts</td>\n",
              "    </tr>\n",
              "  </tbody>\n",
              "</table>\n",
              "</div>"
            ],
            "text/plain": [
              "   Unnamed: 0  ...            Target\n",
              "0        1207  ...           Invalid\n",
              "2        2072  ...             Facts\n",
              "3         517  ...  Rule/Law/Holding\n",
              "4         906  ...             Facts\n",
              "7        3150  ...             Facts\n",
              "\n",
              "[5 rows x 3 columns]"
            ]
          },
          "metadata": {
            "tags": []
          },
          "execution_count": 51
        }
      ]
    },
    {
      "cell_type": "code",
      "metadata": {
        "colab": {
          "base_uri": "https://localhost:8080/"
        },
        "id": "0QOzPxMPER3c",
        "outputId": "c46d1c98-1b01-46c6-ea99-b1975b70df86"
      },
      "source": [
        "frame_2 = [train9_1,unlabel_2]\r\n",
        "train9_2 = pd.concat(frame_2)\r\n",
        "len(train9_2)"
      ],
      "execution_count": 52,
      "outputs": [
        {
          "output_type": "execute_result",
          "data": {
            "text/plain": [
              "3558"
            ]
          },
          "metadata": {
            "tags": []
          },
          "execution_count": 52
        }
      ]
    },
    {
      "cell_type": "code",
      "metadata": {
        "colab": {
          "base_uri": "https://localhost:8080/"
        },
        "id": "hSaWvUz4EbM3",
        "outputId": "3443f5ee-5297-4f73-9148-ae2e03e24c08"
      },
      "source": [
        "x_train_2 = tfidf_vect.transform(train9_2['Sentence'])\r\n",
        "X_train, x_val, Y_train, y_val = train_test_split(x_train_2,train9_2['Target'],test_size=0.27,random_state=2)\r\n",
        "support = svm.LinearSVC(multi_class='ovr',class_weight='balanced')\r\n",
        "clf = support.fit(X_train, Y_train)\r\n",
        "calibrator = CalibratedClassifierCV(clf, cv='prefit')\r\n",
        "model_2=calibrator.fit(X_train, Y_train)\r\n",
        "pred_svm = model_2.predict(x_val)\r\n",
        "print('Accuracy %s' % accuracy_score(pred_svm,y_val))\r\n",
        "print(classification_report(y_val,pred_svm))"
      ],
      "execution_count": 53,
      "outputs": [
        {
          "output_type": "stream",
          "text": [
            "Accuracy 0.6399583766909469\n",
            "                  precision    recall  f1-score   support\n",
            "\n",
            "        Analysis       0.45      0.36      0.40       152\n",
            "      Conclusion       0.79      0.34      0.48        44\n",
            "           Facts       0.72      0.90      0.80       497\n",
            "         Invalid       0.45      0.42      0.44       152\n",
            "           Issue       0.66      0.33      0.44        64\n",
            "Rule/Law/Holding       0.47      0.29      0.36        52\n",
            "\n",
            "        accuracy                           0.64       961\n",
            "       macro avg       0.59      0.44      0.48       961\n",
            "    weighted avg       0.62      0.64      0.62       961\n",
            "\n"
          ],
          "name": "stdout"
        }
      ]
    },
    {
      "cell_type": "code",
      "metadata": {
        "colab": {
          "base_uri": "https://localhost:8080/"
        },
        "id": "KOEPX84mFDmX",
        "outputId": "48369d3c-6169-4243-b596-2b0c90172cc5"
      },
      "source": [
        "x_un3 = tfidf_vect.transform(unlabel_3['Sentence'])\r\n",
        "pred_unlabel_3 = model_2.predict_proba(x_un3)\r\n",
        "\r\n",
        "pos=[]\r\n",
        "large=[]\r\n",
        "ind = []\r\n",
        "i=0\r\n",
        "for j in pred_unlabel_3:\r\n",
        "  if max(j)> 0.98:\r\n",
        "    ind.append(np.argmax(j))\r\n",
        "    large.append(max(j))\r\n",
        "    pos.append(i)\r\n",
        "  i+=1\r\n",
        "\r\n",
        "\r\n",
        "print(ind)\r\n",
        "print(large)\r\n",
        "print(pos)\r\n",
        "print(len(ind))\r\n",
        "print(len(large))\r\n",
        "print(len(pos))"
      ],
      "execution_count": 54,
      "outputs": [
        {
          "output_type": "stream",
          "text": [
            "[0, 2, 2, 2, 2, 3, 2, 2, 2, 2, 2, 2, 0, 2, 2, 2, 2, 2, 2, 2, 2, 2, 2, 2, 3, 1, 2, 2, 2, 2, 2, 2, 2, 2, 2, 2, 2, 2, 2]\n",
            "[0.9873830848042588, 0.983868336387326, 0.9916693824755343, 0.9991678384529328, 0.9988339510364919, 0.9855374351096118, 0.9997313991821775, 0.9998254244122884, 0.9976274879629443, 0.9923039956919854, 0.9996263671508063, 0.997300249430878, 0.9807084915144086, 0.9886358998368214, 0.9951485779777033, 0.9982848284063456, 0.9851093482297262, 0.9927869926247341, 0.9993208190423553, 0.9981862773060277, 0.9914027061250434, 0.9857069339059319, 0.9965430986216746, 0.9921829938636172, 0.9973630947881598, 0.9925432721609274, 0.9991057106266245, 0.9949357029344448, 0.9998425589944498, 0.9908316490014804, 0.9996648838633572, 0.9989108180587384, 0.9996970834560525, 0.9958498136910898, 0.9814550245014788, 0.9996416283464987, 0.9894485361409598, 0.9971276064359966, 0.9951101345493245]\n",
            "[0, 3, 4, 7, 8, 9, 12, 20, 24, 26, 27, 30, 32, 33, 35, 36, 41, 42, 43, 46, 47, 48, 51, 52, 54, 56, 63, 64, 65, 67, 68, 70, 72, 75, 79, 89, 91, 96, 97]\n",
            "39\n",
            "39\n",
            "39\n"
          ],
          "name": "stdout"
        }
      ]
    },
    {
      "cell_type": "code",
      "metadata": {
        "colab": {
          "base_uri": "https://localhost:8080/"
        },
        "id": "OfMhW3EkFN_e",
        "outputId": "1a9a7ee1-89ec-438b-ed0c-b085a817b6b8"
      },
      "source": [
        "unlabel_3=unlabel_3.loc[[0, 3, 4, 7, 8, 9, 12, 20, 24, 26, 27, 30, 32, 33, 35, 36, 41, 42, 43, 46, 47, 48, 51, 52, 54, 56, 63, 64, 65, 67, 68, 70, 72, 75, 79, 89, 91, 96, 97],:]\r\n",
        "frame_3 = [train9_2,unlabel_3]\r\n",
        "train9_3 = pd.concat(frame_3)\r\n",
        "\r\n",
        "x_train_3 = tfidf_vect.transform(train9_3['Sentence'])\r\n",
        "X_train, x_val, Y_train, y_val = train_test_split(x_train_3,train9_3['Target'],test_size=0.2,random_state=42)\r\n",
        "support = svm.LinearSVC(multi_class='ovr',class_weight='balanced')\r\n",
        "clf = support.fit(X_train, Y_train)\r\n",
        "calibrator = CalibratedClassifierCV(clf, cv='prefit')\r\n",
        "model_3=calibrator.fit(X_train, Y_train)\r\n",
        "pred_svm = model_3.predict(x_val)\r\n",
        "print('Accuracy %s' % accuracy_score(pred_svm,y_val))\r\n",
        "print(classification_report(y_val,pred_svm))"
      ],
      "execution_count": 55,
      "outputs": [
        {
          "output_type": "stream",
          "text": [
            "Accuracy 0.6666666666666666\n",
            "                  precision    recall  f1-score   support\n",
            "\n",
            "        Analysis       0.47      0.46      0.47        99\n",
            "      Conclusion       0.72      0.50      0.59        46\n",
            "           Facts       0.77      0.90      0.83       377\n",
            "         Invalid       0.48      0.41      0.44       108\n",
            "           Issue       0.56      0.47      0.51        43\n",
            "Rule/Law/Holding       0.38      0.19      0.25        47\n",
            "\n",
            "        accuracy                           0.67       720\n",
            "       macro avg       0.56      0.49      0.51       720\n",
            "    weighted avg       0.64      0.67      0.65       720\n",
            "\n"
          ],
          "name": "stdout"
        }
      ]
    },
    {
      "cell_type": "code",
      "metadata": {
        "colab": {
          "base_uri": "https://localhost:8080/"
        },
        "id": "CRr8oe3pFpJ2",
        "outputId": "fa6da339-cd2d-4d07-dd74-a7ac1ee54fc7"
      },
      "source": [
        "x_un4 = tfidf_vect.transform(unlabel_4['Sentence'])\r\n",
        "pred_unlabel_4 = model_3.predict_proba(x_un4)\r\n",
        "\r\n",
        "\r\n",
        "pos=[]\r\n",
        "large=[]\r\n",
        "ind = []\r\n",
        "i=0\r\n",
        "for j in pred_unlabel_4:\r\n",
        "  if max(j)> 0.98:\r\n",
        "    ind.append(np.argmax(j))\r\n",
        "    large.append(max(j))\r\n",
        "    pos.append(i)\r\n",
        "  i+=1\r\n",
        "\r\n",
        "\r\n",
        "print(ind)\r\n",
        "print(large)\r\n",
        "print(pos)\r\n",
        "print(len(ind))\r\n",
        "print(len(large))\r\n",
        "print(len(pos))"
      ],
      "execution_count": 56,
      "outputs": [
        {
          "output_type": "stream",
          "text": [
            "[0, 2, 5, 2, 2, 3, 2, 2, 2, 2, 2, 2, 2, 2, 3, 2, 2, 2, 2, 0, 0, 2, 2, 2, 2, 3, 2, 2, 3, 0, 2, 2, 2, 2, 0, 2, 2, 2, 2, 5, 2, 2]\n",
            "[0.9997166160042732, 0.989266853667609, 0.9820628210164161, 0.9982486210969228, 0.9995709091964483, 0.9879211309460754, 0.9995203769670091, 0.9996835941691198, 0.993320822562224, 0.9969098525556737, 0.9962733725580641, 0.9983803476310468, 0.9986860855079067, 0.9950282284263546, 0.9996367741571833, 0.9991309872573035, 0.9992621692455558, 0.9957959771140389, 0.9997338983251248, 0.9962360812193594, 0.987214933054764, 0.9954167732231063, 0.9980812371795897, 0.9940779111793211, 0.9990167338978655, 0.996974639213401, 0.98291242616472, 0.9879237919022669, 0.9908299638080705, 0.9990556744382636, 0.9943120810894807, 0.9992278755521636, 0.9984905762853482, 0.9999688628591057, 0.9854749110549039, 0.9926175977391057, 0.9967433500746176, 0.9979691345353192, 0.9808510337234644, 0.9822565161025213, 0.9866298183424548, 0.9963194550334747]\n",
            "[2, 4, 6, 7, 10, 13, 15, 18, 21, 22, 27, 28, 29, 30, 32, 34, 37, 38, 40, 46, 48, 49, 50, 55, 56, 58, 60, 61, 66, 67, 69, 70, 71, 75, 76, 82, 85, 87, 93, 94, 97, 99]\n",
            "42\n",
            "42\n",
            "42\n"
          ],
          "name": "stdout"
        }
      ]
    },
    {
      "cell_type": "code",
      "metadata": {
        "id": "-p3HfSQ2FwV_"
      },
      "source": [
        "unlabel_4=unlabel_4.loc[[2, 4, 6, 7, 10, 13, 15, 18, 21, 22, 27, 28, 29, 30, 32, 34, 37, 38, 40, 46, 48, 49, 50, 55, 56, 58, 60, 61, 66, 67, 69, 70, 71, 75, 76, 82, 85, 87, 93, 94, 97, 99],:]"
      ],
      "execution_count": 57,
      "outputs": []
    },
    {
      "cell_type": "code",
      "metadata": {
        "colab": {
          "base_uri": "https://localhost:8080/"
        },
        "id": "iR8Ghl7oF5E6",
        "outputId": "4394d0d7-d295-4ebd-99a5-e7bc1a49fcc0"
      },
      "source": [
        "frame_4 = [train9_3,unlabel_4]\r\n",
        "train9_4 = pd.concat(frame_4)\r\n",
        "len(train9_4)\r\n",
        "x_train_4 = tfidf_vect.transform(train9_4['Sentence'])\r\n",
        "X_train, x_val, Y_train, y_val = train_test_split(x_train_4,train9_4['Target'],test_size=0.27,random_state=42)\r\n",
        "support = svm.LinearSVC()\r\n",
        "clf = support.fit(X_train, Y_train)\r\n",
        "calibrator = CalibratedClassifierCV(clf, cv='prefit')\r\n",
        "model_4=calibrator.fit(X_train, Y_train)\r\n",
        "pred_svm = model_4.predict(x_val)\r\n",
        "print('Accuracy %s' % accuracy_score(pred_svm,y_val))\r\n",
        "print(classification_report(y_val,pred_svm))"
      ],
      "execution_count": 58,
      "outputs": [
        {
          "output_type": "stream",
          "text": [
            "Accuracy 0.6581892166836215\n",
            "                  precision    recall  f1-score   support\n",
            "\n",
            "        Analysis       0.44      0.42      0.43       137\n",
            "      Conclusion       0.59      0.51      0.55        45\n",
            "           Facts       0.78      0.87      0.82       527\n",
            "         Invalid       0.48      0.44      0.46       153\n",
            "           Issue       0.42      0.32      0.36        57\n",
            "Rule/Law/Holding       0.53      0.39      0.45        64\n",
            "\n",
            "        accuracy                           0.66       983\n",
            "       macro avg       0.54      0.49      0.51       983\n",
            "    weighted avg       0.64      0.66      0.65       983\n",
            "\n"
          ],
          "name": "stdout"
        }
      ]
    },
    {
      "cell_type": "code",
      "metadata": {
        "colab": {
          "base_uri": "https://localhost:8080/"
        },
        "id": "LquDQOH_GPad",
        "outputId": "dfcfdc46-a691-47c3-875f-9a00aa932216"
      },
      "source": [
        "x_un5 = tfidf_vect.transform(unlabel_5['Sentence'])\r\n",
        "\r\n",
        "pred_unlabel_5 = model_4.predict_proba(x_un5)\r\n",
        "pos=[]\r\n",
        "large=[]\r\n",
        "ind = []\r\n",
        "i=0\r\n",
        "for j in pred_unlabel_5:\r\n",
        "  if max(j)> 0.98:\r\n",
        "    ind.append(np.argmax(j))\r\n",
        "    large.append(max(j))\r\n",
        "    pos.append(i)\r\n",
        "  i+=1\r\n",
        "\r\n",
        "\r\n",
        "print(ind)\r\n",
        "print(large)\r\n",
        "print(pos)\r\n",
        "print(len(ind))\r\n",
        "print(len(large))\r\n",
        "print(len(pos))"
      ],
      "execution_count": 59,
      "outputs": [
        {
          "output_type": "stream",
          "text": [
            "[1, 2, 2, 3, 2, 1, 2, 0, 5, 3, 2, 2, 2, 2, 2, 2, 2, 1, 1, 2, 2, 2, 2, 2, 2, 2, 0, 2, 2, 2, 2, 2, 2, 2, 0, 3, 3, 0, 0, 0]\n",
            "[0.9886426431640405, 0.9989608023033518, 0.9958960724921877, 0.9941114021173972, 0.9836059314714207, 0.9937026716849556, 0.9974472266938726, 0.9897170904586117, 0.9948489316232823, 0.9895711744152554, 0.9853864827018741, 0.9959268058614232, 0.9993623453342907, 0.9996405942766057, 0.9942441001128594, 0.9861114251755754, 0.9849269500371729, 0.9998455200106829, 0.995884065784007, 0.999021191387897, 0.9994851978718741, 0.9859868588465773, 0.9978543689412583, 0.9983085787711139, 0.9980746356312363, 0.9929690524040534, 0.9931201719045941, 0.9999171243110908, 0.9981785877485344, 0.9838459873973809, 0.9995010527370789, 0.9987632502086737, 0.9889010886676665, 0.9930170975370581, 0.991884359646423, 0.98571232342021, 0.9962198181140695, 0.9957135607315065, 0.9897923800828821, 0.9894957173414664]\n",
            "[0, 3, 7, 8, 9, 10, 12, 16, 18, 19, 20, 22, 23, 26, 27, 30, 32, 36, 46, 52, 53, 56, 60, 63, 65, 67, 75, 82, 86, 91, 94, 95, 97, 100, 104, 106, 107, 110, 112, 114]\n",
            "40\n",
            "40\n",
            "40\n"
          ],
          "name": "stdout"
        }
      ]
    },
    {
      "cell_type": "code",
      "metadata": {
        "id": "P1MxKadbHypp"
      },
      "source": [
        "unlabel_5 = unlabel_5.loc[[0, 3, 7, 8, 9, 10, 12, 16, 18, 19, 20, 22, 23, 26, 27, 30, 32, 36, 46, 52, 53, 56, 60, 63, 65, 67, 75, 82, 86, 91, 94, 95, 97, 100, 104, 106, 107, 110, 112, 114],:]"
      ],
      "execution_count": 60,
      "outputs": []
    },
    {
      "cell_type": "code",
      "metadata": {
        "colab": {
          "base_uri": "https://localhost:8080/"
        },
        "id": "DKlIotQ2H59h",
        "outputId": "d5aada60-e7fb-4f6a-a24f-fdaef09a2568"
      },
      "source": [
        "frame_5 = [train9_4,unlabel_5]\r\n",
        "train9_5 = pd.concat(frame_5)\r\n",
        "len(train9_5)\r\n",
        "x_train_5 = tfidf_vect.transform(train9_5['Sentence'])\r\n",
        "X_train, x_val, Y_train, y_val = train_test_split(x_train_5,train9_5['Target'],test_size=0.27,random_state=42)\r\n",
        "support = svm.LinearSVC()\r\n",
        "clf = support.fit(X_train, Y_train)\r\n",
        "calibrator = CalibratedClassifierCV(clf, cv='prefit')\r\n",
        "model_5=calibrator.fit(X_train, Y_train)\r\n",
        "pred_svm = model_5.predict(x_val)\r\n",
        "print('Accuracy %s' % accuracy_score(pred_svm,y_val))\r\n",
        "print(classification_report(y_val,pred_svm))"
      ],
      "execution_count": 65,
      "outputs": [
        {
          "output_type": "stream",
          "text": [
            "Accuracy 0.6750503018108652\n",
            "                  precision    recall  f1-score   support\n",
            "\n",
            "        Analysis       0.44      0.42      0.43       146\n",
            "      Conclusion       0.64      0.43      0.51        54\n",
            "           Facts       0.81      0.87      0.84       522\n",
            "         Invalid       0.50      0.56      0.53       141\n",
            "           Issue       0.59      0.51      0.55        59\n",
            "Rule/Law/Holding       0.48      0.29      0.36        72\n",
            "\n",
            "        accuracy                           0.68       994\n",
            "       macro avg       0.58      0.51      0.54       994\n",
            "    weighted avg       0.66      0.68      0.67       994\n",
            "\n"
          ],
          "name": "stdout"
        }
      ]
    },
    {
      "cell_type": "code",
      "metadata": {
        "colab": {
          "base_uri": "https://localhost:8080/"
        },
        "id": "WwXcxHFUIBUX",
        "outputId": "8663a36a-1e62-4961-c0c1-a331b32ebc79"
      },
      "source": [
        "t_p = tfidf_vect.transform(test['Sentence'])\r\n",
        "test_pred = model_5.predict(t_p)\r\n",
        "print('Accuracy %s' % accuracy_score(test_pred,test['Target']))"
      ],
      "execution_count": 66,
      "outputs": [
        {
          "output_type": "stream",
          "text": [
            "Accuracy 0.6794625719769674\n"
          ],
          "name": "stdout"
        }
      ]
    }
  ]
}