{
  "nbformat": 4,
  "nbformat_minor": 0,
  "metadata": {
    "colab": {
      "name": "train3_rf.ipynb",
      "provenance": [],
      "authorship_tag": "ABX9TyPYLWRmWkbTgwpNXZT+Cxfo",
      "include_colab_link": true
    },
    "kernelspec": {
      "name": "python3",
      "display_name": "Python 3"
    }
  },
  "cells": [
    {
      "cell_type": "markdown",
      "metadata": {
        "id": "view-in-github",
        "colab_type": "text"
      },
      "source": [
        "<a href=\"https://colab.research.google.com/github/sundarp17/semi-supervised/blob/main/train3_rf.ipynb\" target=\"_parent\"><img src=\"https://colab.research.google.com/assets/colab-badge.svg\" alt=\"Open In Colab\"/></a>"
      ]
    },
    {
      "cell_type": "code",
      "metadata": {
        "id": "BSNaH-G5e9XK"
      },
      "source": [
        "import numpy as np\r\n",
        "import pandas as pd"
      ],
      "execution_count": null,
      "outputs": []
    },
    {
      "cell_type": "code",
      "metadata": {
        "id": "yMMnSj98r48p"
      },
      "source": [
        "\r\n",
        "train3 = pd.read_csv(r'/content/train_data3.csv')\r\n",
        "test = pd.read_csv(r'/content/test_data.csv')"
      ],
      "execution_count": null,
      "outputs": []
    },
    {
      "cell_type": "code",
      "metadata": {
        "id": "YXsEmIOrr8sa"
      },
      "source": [
        "\r\n",
        "train3['Target'] = train3['Target'].replace(['Others'],'Invalid')\r\n"
      ],
      "execution_count": null,
      "outputs": []
    },
    {
      "cell_type": "code",
      "metadata": {
        "colab": {
          "base_uri": "https://localhost:8080/"
        },
        "id": "gyCyM6OHsExq",
        "outputId": "62c01623-6afd-4afc-d210-82bc0d37a990"
      },
      "source": [
        "train3['Target'].unique()"
      ],
      "execution_count": null,
      "outputs": [
        {
          "output_type": "execute_result",
          "data": {
            "text/plain": [
              "array(['Invalid', 'Issue', 'Analysis', 'Facts', 'Conclusion',\n",
              "       'Rule/Law/Holding'], dtype=object)"
            ]
          },
          "metadata": {
            "tags": []
          },
          "execution_count": 4
        }
      ]
    },
    {
      "cell_type": "code",
      "metadata": {
        "colab": {
          "base_uri": "https://localhost:8080/"
        },
        "id": "XRWq-Ak9sGCr",
        "outputId": "96dae050-bffb-4456-d3c7-048361fe658f"
      },
      "source": [
        "#cleaning\r\n",
        "import nltk\r\n",
        "import re\r\n",
        "import string\r\n",
        "nltk.download('stopwords')\r\n",
        "nltk.download('wordnet')\r\n",
        "stopword=nltk.corpus.stopwords.words('english')\r\n",
        "from nltk.stem import WordNetLemmatizer\r\n",
        "wl= WordNetLemmatizer()\r\n",
        "\r\n",
        "def clean_text(text):\r\n",
        "  text=\"\".join([word.lower() for word in text if word not in string.punctuation])\r\n",
        "  tokens = re.split('\\W+',text)\r\n",
        "  text = [wl.lemmatize(word) for word in tokens if word not in stopword]\r\n",
        "  return text"
      ],
      "execution_count": null,
      "outputs": [
        {
          "output_type": "stream",
          "text": [
            "[nltk_data] Downloading package stopwords to /root/nltk_data...\n",
            "[nltk_data]   Unzipping corpora/stopwords.zip.\n",
            "[nltk_data] Downloading package wordnet to /root/nltk_data...\n",
            "[nltk_data]   Unzipping corpora/wordnet.zip.\n"
          ],
          "name": "stdout"
        }
      ]
    },
    {
      "cell_type": "code",
      "metadata": {
        "id": "fAVBbrf8sLpd"
      },
      "source": [
        "from sklearn.feature_extraction.text import TfidfVectorizer\r\n",
        "\r\n",
        "tfidf_vect = TfidfVectorizer(analyzer = clean_text)\r\n",
        "\r\n",
        "train3_Xtfidf = tfidf_vect.fit_transform(train3['Sentence'])\r\n"
      ],
      "execution_count": null,
      "outputs": []
    },
    {
      "cell_type": "code",
      "metadata": {
        "id": "LiDNOGMlsXjn"
      },
      "source": [
        "test['Target']=test['Target'].replace(['Others'],'Invalid')\r\n",
        "test['Sentence'] = test['Sentence'].apply(lambda x: \" \".join(x.lower() for x in str(x).split()))\r\n",
        "test['Sentence'] = test['Sentence'].str.replace('[^\\w\\s]','')\r\n",
        "from nltk.corpus import stopwords\r\n",
        "words = stopwords.words('english')\r\n",
        "test['Sentence'] = test['Sentence'].apply(lambda x: \" \".join(x for x in x.split() if x not in words))"
      ],
      "execution_count": null,
      "outputs": []
    },
    {
      "cell_type": "code",
      "metadata": {
        "colab": {
          "base_uri": "https://localhost:8080/"
        },
        "id": "kiXsxzUysh_t",
        "outputId": "fe4bfb6e-9274-4366-f351-62378b4f075c"
      },
      "source": [
        "unlabel_1 = test.loc[:100]\r\n",
        "print(\"length of unlabel_1\",len(unlabel_1))\r\n",
        "unlabel_2 = test.loc[101:200]\r\n",
        "print(\"length of unlabel_2\",len(unlabel_2))\r\n",
        "unlabel_3 = test.loc[201:300]\r\n",
        "print(\"length of unlabel_3\",len(unlabel_3))\r\n",
        "unlabel_4 = test.loc[301:400]\r\n",
        "print(\"length of unlabel_4\",len(unlabel_4))\r\n",
        "unlabel_5 = test.loc[401:]\r\n",
        "print(\"length of unlabel_5\",len(unlabel_5))"
      ],
      "execution_count": null,
      "outputs": [
        {
          "output_type": "stream",
          "text": [
            "length of unlabel_1 101\n",
            "length of unlabel_2 100\n",
            "length of unlabel_3 100\n",
            "length of unlabel_4 100\n",
            "length of unlabel_5 120\n"
          ],
          "name": "stdout"
        }
      ]
    },
    {
      "cell_type": "code",
      "metadata": {
        "colab": {
          "base_uri": "https://localhost:8080/",
          "height": 195
        },
        "id": "fjmpfwMKsnAk",
        "outputId": "c061f725-a3c7-499d-bfa1-8ed916f7915f"
      },
      "source": [
        "unlabel_2.reset_index(inplace=True)\r\n",
        "del unlabel_2['index']\r\n",
        "unlabel_2.head()"
      ],
      "execution_count": null,
      "outputs": [
        {
          "output_type": "execute_result",
          "data": {
            "text/html": [
              "<div>\n",
              "<style scoped>\n",
              "    .dataframe tbody tr th:only-of-type {\n",
              "        vertical-align: middle;\n",
              "    }\n",
              "\n",
              "    .dataframe tbody tr th {\n",
              "        vertical-align: top;\n",
              "    }\n",
              "\n",
              "    .dataframe thead th {\n",
              "        text-align: right;\n",
              "    }\n",
              "</style>\n",
              "<table border=\"1\" class=\"dataframe\">\n",
              "  <thead>\n",
              "    <tr style=\"text-align: right;\">\n",
              "      <th></th>\n",
              "      <th>Unnamed: 0</th>\n",
              "      <th>Sentence</th>\n",
              "      <th>Target</th>\n",
              "    </tr>\n",
              "  </thead>\n",
              "  <tbody>\n",
              "    <tr>\n",
              "      <th>0</th>\n",
              "      <td>1207</td>\n",
              "      <td>examination occurred night middle may testifie...</td>\n",
              "      <td>Invalid</td>\n",
              "    </tr>\n",
              "    <tr>\n",
              "      <th>1</th>\n",
              "      <td>3400</td>\n",
              "      <td>undisputed testimony reflects appellant drivin...</td>\n",
              "      <td>Facts</td>\n",
              "    </tr>\n",
              "    <tr>\n",
              "      <th>2</th>\n",
              "      <td>2072</td>\n",
              "      <td>appellant testify offer evidence behalf</td>\n",
              "      <td>Facts</td>\n",
              "    </tr>\n",
              "    <tr>\n",
              "      <th>3</th>\n",
              "      <td>517</td>\n",
              "      <td>56 uniform act regulating traffic highways gis...</td>\n",
              "      <td>Rule/Law/Holding</td>\n",
              "    </tr>\n",
              "    <tr>\n",
              "      <th>4</th>\n",
              "      <td>906</td>\n",
              "      <td>agreed accompany gave pawn ticket money reclai...</td>\n",
              "      <td>Facts</td>\n",
              "    </tr>\n",
              "  </tbody>\n",
              "</table>\n",
              "</div>"
            ],
            "text/plain": [
              "   Unnamed: 0  ...            Target\n",
              "0        1207  ...           Invalid\n",
              "1        3400  ...             Facts\n",
              "2        2072  ...             Facts\n",
              "3         517  ...  Rule/Law/Holding\n",
              "4         906  ...             Facts\n",
              "\n",
              "[5 rows x 3 columns]"
            ]
          },
          "metadata": {
            "tags": []
          },
          "execution_count": 9
        }
      ]
    },
    {
      "cell_type": "code",
      "metadata": {
        "colab": {
          "base_uri": "https://localhost:8080/",
          "height": 195
        },
        "id": "or3mI32wsupE",
        "outputId": "105def9f-2cbd-401c-d4f9-9eb418697c73"
      },
      "source": [
        "unlabel_3.reset_index(inplace=True)\r\n",
        "del unlabel_3['index']\r\n",
        "unlabel_3.head()"
      ],
      "execution_count": null,
      "outputs": [
        {
          "output_type": "execute_result",
          "data": {
            "text/html": [
              "<div>\n",
              "<style scoped>\n",
              "    .dataframe tbody tr th:only-of-type {\n",
              "        vertical-align: middle;\n",
              "    }\n",
              "\n",
              "    .dataframe tbody tr th {\n",
              "        vertical-align: top;\n",
              "    }\n",
              "\n",
              "    .dataframe thead th {\n",
              "        text-align: right;\n",
              "    }\n",
              "</style>\n",
              "<table border=\"1\" class=\"dataframe\">\n",
              "  <thead>\n",
              "    <tr style=\"text-align: right;\">\n",
              "      <th></th>\n",
              "      <th>Unnamed: 0</th>\n",
              "      <th>Sentence</th>\n",
              "      <th>Target</th>\n",
              "    </tr>\n",
              "  </thead>\n",
              "  <tbody>\n",
              "    <tr>\n",
              "      <th>0</th>\n",
              "      <td>1882</td>\n",
              "      <td>find evidence amply sufficient sustain juryâs ...</td>\n",
              "      <td>Analysis</td>\n",
              "    </tr>\n",
              "    <tr>\n",
              "      <th>1</th>\n",
              "      <td>964</td>\n",
              "      <td>actions show thatâ</td>\n",
              "      <td>Invalid</td>\n",
              "    </tr>\n",
              "    <tr>\n",
              "      <th>2</th>\n",
              "      <td>1417</td>\n",
              "      <td>certification attending physician shown filed ...</td>\n",
              "      <td>Facts</td>\n",
              "    </tr>\n",
              "    <tr>\n",
              "      <th>3</th>\n",
              "      <td>2932</td>\n",
              "      <td>testified agent bland first left automobile wa...</td>\n",
              "      <td>Facts</td>\n",
              "    </tr>\n",
              "    <tr>\n",
              "      <th>4</th>\n",
              "      <td>1584</td>\n",
              "      <td>officer testified could smell odor alcohol app...</td>\n",
              "      <td>Facts</td>\n",
              "    </tr>\n",
              "  </tbody>\n",
              "</table>\n",
              "</div>"
            ],
            "text/plain": [
              "   Unnamed: 0                                           Sentence    Target\n",
              "0        1882  find evidence amply sufficient sustain juryâs ...  Analysis\n",
              "1         964                                 actions show thatâ   Invalid\n",
              "2        1417  certification attending physician shown filed ...     Facts\n",
              "3        2932  testified agent bland first left automobile wa...     Facts\n",
              "4        1584  officer testified could smell odor alcohol app...     Facts"
            ]
          },
          "metadata": {
            "tags": []
          },
          "execution_count": 10
        }
      ]
    },
    {
      "cell_type": "code",
      "metadata": {
        "colab": {
          "base_uri": "https://localhost:8080/",
          "height": 195
        },
        "id": "2xe3MWluszTz",
        "outputId": "d1bb8e66-1c14-40a2-df7d-d99122c5c3b9"
      },
      "source": [
        "unlabel_4.reset_index(inplace=True)\r\n",
        "del unlabel_4['index']\r\n",
        "unlabel_4.head()"
      ],
      "execution_count": null,
      "outputs": [
        {
          "output_type": "execute_result",
          "data": {
            "text/html": [
              "<div>\n",
              "<style scoped>\n",
              "    .dataframe tbody tr th:only-of-type {\n",
              "        vertical-align: middle;\n",
              "    }\n",
              "\n",
              "    .dataframe tbody tr th {\n",
              "        vertical-align: top;\n",
              "    }\n",
              "\n",
              "    .dataframe thead th {\n",
              "        text-align: right;\n",
              "    }\n",
              "</style>\n",
              "<table border=\"1\" class=\"dataframe\">\n",
              "  <thead>\n",
              "    <tr style=\"text-align: right;\">\n",
              "      <th></th>\n",
              "      <th>Unnamed: 0</th>\n",
              "      <th>Sentence</th>\n",
              "      <th>Target</th>\n",
              "    </tr>\n",
              "  </thead>\n",
              "  <tbody>\n",
              "    <tr>\n",
              "      <th>0</th>\n",
              "      <td>266</td>\n",
              "      <td>section 6 pl</td>\n",
              "      <td>Invalid</td>\n",
              "    </tr>\n",
              "    <tr>\n",
              "      <th>1</th>\n",
              "      <td>3469</td>\n",
              "      <td>amended answer appellant alleged bond invalid ...</td>\n",
              "      <td>Analysis</td>\n",
              "    </tr>\n",
              "    <tr>\n",
              "      <th>2</th>\n",
              "      <td>1471</td>\n",
              "      <td>evidence sufficient support conviction appella...</td>\n",
              "      <td>Analysis</td>\n",
              "    </tr>\n",
              "    <tr>\n",
              "      <th>3</th>\n",
              "      <td>1990</td>\n",
              "      <td>cases cited note 19</td>\n",
              "      <td>Invalid</td>\n",
              "    </tr>\n",
              "    <tr>\n",
              "      <th>4</th>\n",
              "      <td>2757</td>\n",
              "      <td>july 8 1960 order entered revoking said probat...</td>\n",
              "      <td>Facts</td>\n",
              "    </tr>\n",
              "  </tbody>\n",
              "</table>\n",
              "</div>"
            ],
            "text/plain": [
              "   Unnamed: 0                                           Sentence    Target\n",
              "0         266                                       section 6 pl   Invalid\n",
              "1        3469  amended answer appellant alleged bond invalid ...  Analysis\n",
              "2        1471  evidence sufficient support conviction appella...  Analysis\n",
              "3        1990                                cases cited note 19   Invalid\n",
              "4        2757  july 8 1960 order entered revoking said probat...     Facts"
            ]
          },
          "metadata": {
            "tags": []
          },
          "execution_count": 11
        }
      ]
    },
    {
      "cell_type": "code",
      "metadata": {
        "colab": {
          "base_uri": "https://localhost:8080/",
          "height": 195
        },
        "id": "-dCJpImWtH8K",
        "outputId": "d4451f91-2d23-485a-8596-f0351b055a52"
      },
      "source": [
        "unlabel_5.reset_index(inplace=True)\r\n",
        "del unlabel_5['index']\r\n",
        "unlabel_5.head()"
      ],
      "execution_count": null,
      "outputs": [
        {
          "output_type": "execute_result",
          "data": {
            "text/html": [
              "<div>\n",
              "<style scoped>\n",
              "    .dataframe tbody tr th:only-of-type {\n",
              "        vertical-align: middle;\n",
              "    }\n",
              "\n",
              "    .dataframe tbody tr th {\n",
              "        vertical-align: top;\n",
              "    }\n",
              "\n",
              "    .dataframe thead th {\n",
              "        text-align: right;\n",
              "    }\n",
              "</style>\n",
              "<table border=\"1\" class=\"dataframe\">\n",
              "  <thead>\n",
              "    <tr style=\"text-align: right;\">\n",
              "      <th></th>\n",
              "      <th>Unnamed: 0</th>\n",
              "      <th>Sentence</th>\n",
              "      <th>Target</th>\n",
              "    </tr>\n",
              "  </thead>\n",
              "  <tbody>\n",
              "    <tr>\n",
              "      <th>0</th>\n",
              "      <td>2979</td>\n",
              "      <td>overrule appellantâs contention court erred pe...</td>\n",
              "      <td>Analysis</td>\n",
              "    </tr>\n",
              "    <tr>\n",
              "      <th>1</th>\n",
              "      <td>2135</td>\n",
              "      <td>state regarded authority case</td>\n",
              "      <td>Invalid</td>\n",
              "    </tr>\n",
              "    <tr>\n",
              "      <th>2</th>\n",
              "      <td>1591</td>\n",
              "      <td>testimony adduced appellant mother lillie mae ...</td>\n",
              "      <td>Facts</td>\n",
              "    </tr>\n",
              "    <tr>\n",
              "      <th>3</th>\n",
              "      <td>658</td>\n",
              "      <td>appellant needle marks inside left elbow</td>\n",
              "      <td>Facts</td>\n",
              "    </tr>\n",
              "    <tr>\n",
              "      <th>4</th>\n",
              "      <td>2562</td>\n",
              "      <td>analysis contents 3 capsules chemist kenneth a...</td>\n",
              "      <td>Facts</td>\n",
              "    </tr>\n",
              "  </tbody>\n",
              "</table>\n",
              "</div>"
            ],
            "text/plain": [
              "   Unnamed: 0                                           Sentence    Target\n",
              "0        2979  overrule appellantâs contention court erred pe...  Analysis\n",
              "1        2135                      state regarded authority case   Invalid\n",
              "2        1591  testimony adduced appellant mother lillie mae ...     Facts\n",
              "3         658           appellant needle marks inside left elbow     Facts\n",
              "4        2562  analysis contents 3 capsules chemist kenneth a...     Facts"
            ]
          },
          "metadata": {
            "tags": []
          },
          "execution_count": 12
        }
      ]
    },
    {
      "cell_type": "code",
      "metadata": {
        "colab": {
          "base_uri": "https://localhost:8080/"
        },
        "id": "Nep-udrpCJOC",
        "outputId": "2527bc11-9e11-4bfc-a592-36e6fb0ca885"
      },
      "source": [
        "from sklearn.model_selection import train_test_split\r\n",
        "from sklearn.ensemble import RandomForestClassifier\r\n",
        "from sklearn.metrics import accuracy_score\r\n",
        "from sklearn.metrics import classification_report\r\n",
        "from sklearn.calibration import CalibratedClassifierCV\r\n",
        "\r\n",
        "\r\n",
        "X_train, x_val, Y_train, y_val = train_test_split(train3_Xtfidf,train3['Target'],test_size=0.26,random_state=42)\r\n",
        "support = RandomForestClassifier()\r\n",
        "clf = support.fit(X_train, Y_train)\r\n",
        "calibrator = CalibratedClassifierCV(clf, cv='prefit')\r\n",
        "model=calibrator.fit(X_train, Y_train)\r\n",
        "pred_svm = model.predict(x_val)\r\n",
        "print('Accuracy %s' % accuracy_score(pred_svm,y_val))\r\n",
        "print(classification_report(y_val,pred_svm))"
      ],
      "execution_count": null,
      "outputs": [
        {
          "output_type": "stream",
          "text": [
            "Accuracy 0.668141592920354\n",
            "                  precision    recall  f1-score   support\n",
            "\n",
            "        Analysis       0.49      0.29      0.36       127\n",
            "      Conclusion       0.73      0.48      0.58        46\n",
            "           Facts       0.74      0.87      0.80       487\n",
            "         Invalid       0.50      0.61      0.55       128\n",
            "           Issue       0.61      0.53      0.57        47\n",
            "Rule/Law/Holding       0.65      0.29      0.40        69\n",
            "\n",
            "        accuracy                           0.67       904\n",
            "       macro avg       0.62      0.51      0.54       904\n",
            "    weighted avg       0.66      0.67      0.65       904\n",
            "\n"
          ],
          "name": "stdout"
        }
      ]
    },
    {
      "cell_type": "code",
      "metadata": {
        "id": "7r9d3GPtCuWA"
      },
      "source": [
        "x_un1 = tfidf_vect.transform(unlabel_1['Sentence'])\r\n",
        "pred_unlabel_1 = model.predict_proba(x_un1)"
      ],
      "execution_count": null,
      "outputs": []
    },
    {
      "cell_type": "code",
      "metadata": {
        "colab": {
          "base_uri": "https://localhost:8080/"
        },
        "id": "wFMRO90AC6d2",
        "outputId": "f8445109-7bbb-4d39-8106-a2935640d04d"
      },
      "source": [
        "import numpy as np\r\n",
        "pos=[]\r\n",
        "large=[]\r\n",
        "ind = []\r\n",
        "i=0\r\n",
        "for j in pred_unlabel_1:\r\n",
        "  if max(j)> 0.98:\r\n",
        "    ind.append(np.argmax(j))\r\n",
        "    large.append(max(j))\r\n",
        "    pos.append(i)\r\n",
        "  i+=1\r\n",
        "\r\n",
        "\r\n",
        "print(ind)\r\n",
        "print(large)\r\n",
        "print(pos)\r\n",
        "print(len(ind))\r\n",
        "print(len(large))\r\n",
        "print(len(pos))"
      ],
      "execution_count": null,
      "outputs": [
        {
          "output_type": "stream",
          "text": [
            "[2, 3, 3, 2, 1, 3, 2, 2, 2, 5, 2, 2, 2, 2, 2, 3, 2, 3, 3, 2, 2, 2, 0, 1, 2, 2, 2, 2, 2, 3, 2, 3, 3, 2, 2, 2, 5, 2, 0, 2, 2, 2, 3, 2, 1, 3, 3, 2, 2, 2, 2, 3, 5, 2, 2, 2, 3, 2, 2]\n",
            "[0.9987382989222195, 0.9887895307744249, 0.998802962067503, 0.9988365426955222, 0.9937259620696538, 0.9977963105402875, 0.9986518783322484, 0.9899644511619455, 0.9872222038720243, 0.991608193957389, 0.994478124562862, 0.9980329429220735, 0.9908535613202533, 0.9986090788001315, 0.9979201690575894, 0.9974543940607021, 0.9983978391291153, 0.9933099199501206, 0.9983667114417447, 0.9831599354391891, 0.9948167586118685, 0.9980975230168365, 0.996470346424817, 0.9991959815459505, 0.998148686439996, 0.9820851872501458, 0.9888130300209466, 0.9946918581879272, 0.9953136859851264, 0.9960401237826509, 0.986627855566426, 0.982740962705975, 0.9965126605947587, 0.9971181901994156, 0.9951500871058383, 0.9978506912106749, 0.9946375510563237, 0.9979478617615427, 0.9853108077261207, 0.9981812877726235, 0.9890247277134446, 0.996097951531311, 0.9978393541310848, 0.9986322191722141, 0.995829350784856, 0.9968152577799468, 0.9963935251872065, 0.9956046534277729, 0.998683271541363, 0.9972225316619195, 0.9942555438638809, 0.9907902228988725, 0.9910584988322587, 0.9985159623826841, 0.9965779866293434, 0.996816987157662, 0.998276072861875, 0.9836743270330388, 0.9878544416640388]\n",
            "[0, 2, 4, 5, 7, 8, 11, 12, 14, 15, 16, 17, 18, 19, 21, 22, 23, 25, 26, 27, 28, 29, 30, 31, 34, 35, 36, 37, 39, 43, 48, 49, 51, 52, 55, 56, 58, 59, 61, 62, 69, 70, 72, 76, 78, 80, 84, 87, 88, 89, 91, 92, 93, 94, 95, 96, 98, 99, 100]\n",
            "59\n",
            "59\n",
            "59\n"
          ],
          "name": "stdout"
        }
      ]
    },
    {
      "cell_type": "code",
      "metadata": {
        "colab": {
          "base_uri": "https://localhost:8080/",
          "height": 195
        },
        "id": "WQo3GF7nC_7W",
        "outputId": "c2cb50cf-4f50-42dd-ae46-d1856ea96852"
      },
      "source": [
        "unlabel_1=unlabel_1.loc[pos,:]\r\n",
        "unlabel_1.head()"
      ],
      "execution_count": null,
      "outputs": [
        {
          "output_type": "execute_result",
          "data": {
            "text/html": [
              "<div>\n",
              "<style scoped>\n",
              "    .dataframe tbody tr th:only-of-type {\n",
              "        vertical-align: middle;\n",
              "    }\n",
              "\n",
              "    .dataframe tbody tr th {\n",
              "        vertical-align: top;\n",
              "    }\n",
              "\n",
              "    .dataframe thead th {\n",
              "        text-align: right;\n",
              "    }\n",
              "</style>\n",
              "<table border=\"1\" class=\"dataframe\">\n",
              "  <thead>\n",
              "    <tr style=\"text-align: right;\">\n",
              "      <th></th>\n",
              "      <th>Unnamed: 0</th>\n",
              "      <th>Sentence</th>\n",
              "      <th>Target</th>\n",
              "    </tr>\n",
              "  </thead>\n",
              "  <tbody>\n",
              "    <tr>\n",
              "      <th>0</th>\n",
              "      <td>2173</td>\n",
              "      <td>darden sr testified âœi saw staggering â prett...</td>\n",
              "      <td>Facts</td>\n",
              "    </tr>\n",
              "    <tr>\n",
              "      <th>2</th>\n",
              "      <td>525</td>\n",
              "      <td>85 22 sw 140 wherein accused acting upon advic...</td>\n",
              "      <td>Rule/Law/Holding</td>\n",
              "    </tr>\n",
              "    <tr>\n",
              "      <th>4</th>\n",
              "      <td>79</td>\n",
              "      <td>eligible leaves renew contacts family</td>\n",
              "      <td>Facts</td>\n",
              "    </tr>\n",
              "    <tr>\n",
              "      <th>5</th>\n",
              "      <td>1955</td>\n",
              "      <td>got downstairs ponce went car wife left home</td>\n",
              "      <td>Facts</td>\n",
              "    </tr>\n",
              "    <tr>\n",
              "      <th>7</th>\n",
              "      <td>1602</td>\n",
              "      <td>petition writ habeas corpus denied</td>\n",
              "      <td>Conclusion</td>\n",
              "    </tr>\n",
              "  </tbody>\n",
              "</table>\n",
              "</div>"
            ],
            "text/plain": [
              "   Unnamed: 0  ...            Target\n",
              "0        2173  ...             Facts\n",
              "2         525  ...  Rule/Law/Holding\n",
              "4          79  ...             Facts\n",
              "5        1955  ...             Facts\n",
              "7        1602  ...        Conclusion\n",
              "\n",
              "[5 rows x 3 columns]"
            ]
          },
          "metadata": {
            "tags": []
          },
          "execution_count": 16
        }
      ]
    },
    {
      "cell_type": "code",
      "metadata": {
        "colab": {
          "base_uri": "https://localhost:8080/"
        },
        "id": "vfZ0vrIMDje2",
        "outputId": "b91399bf-676c-4a27-bbda-df64ce384e30"
      },
      "source": [
        "frame_1 = [train3,unlabel_1]\r\n",
        "train3_1 = pd.concat(frame_1)\r\n",
        "len(train3_1)"
      ],
      "execution_count": null,
      "outputs": [
        {
          "output_type": "execute_result",
          "data": {
            "text/plain": [
              "3535"
            ]
          },
          "metadata": {
            "tags": []
          },
          "execution_count": 17
        }
      ]
    },
    {
      "cell_type": "code",
      "metadata": {
        "colab": {
          "base_uri": "https://localhost:8080/"
        },
        "id": "a5zkcYr5Dvoc",
        "outputId": "ecdf637f-6f0e-4dbb-95c0-bae1c2d9f01c"
      },
      "source": [
        "x_train_1 = tfidf_vect.transform(train3_1['Sentence'])\r\n",
        "x_train_1.shape\r\n",
        "X_train, x_val, Y_train, y_val = train_test_split(x_train_1,train3_1['Target'],test_size=0.2,random_state=42)\r\n",
        "support = RandomForestClassifier()\r\n",
        "clf = support.fit(X_train, Y_train)\r\n",
        "calibrator = CalibratedClassifierCV(clf, cv='prefit')\r\n",
        "model_1=calibrator.fit(X_train, Y_train)\r\n",
        "pred_svm = model_1.predict(x_val)\r\n",
        "print('Accuracy %s' % accuracy_score(pred_svm,y_val))\r\n",
        "print(classification_report(y_val,pred_svm))"
      ],
      "execution_count": null,
      "outputs": [
        {
          "output_type": "stream",
          "text": [
            "Accuracy 0.6605374823196606\n",
            "                  precision    recall  f1-score   support\n",
            "\n",
            "        Analysis       0.47      0.37      0.42        91\n",
            "      Conclusion       0.71      0.49      0.58        35\n",
            "           Facts       0.73      0.86      0.79       380\n",
            "         Invalid       0.53      0.54      0.53       109\n",
            "           Issue       0.67      0.39      0.49        46\n",
            "Rule/Law/Holding       0.52      0.30      0.38        46\n",
            "\n",
            "        accuracy                           0.66       707\n",
            "       macro avg       0.60      0.49      0.53       707\n",
            "    weighted avg       0.65      0.66      0.65       707\n",
            "\n"
          ],
          "name": "stdout"
        }
      ]
    },
    {
      "cell_type": "code",
      "metadata": {
        "colab": {
          "base_uri": "https://localhost:8080/"
        },
        "id": "QEY_x7YFD9D4",
        "outputId": "cdafe657-46c3-4eb6-d9fb-c668db0d0dc0"
      },
      "source": [
        "x_un2 = tfidf_vect.transform(unlabel_2['Sentence'])\r\n",
        "pred_unlabel_2 = model_1.predict_proba(x_un2)\r\n",
        "pos=[]\r\n",
        "large=[]\r\n",
        "ind = []\r\n",
        "i=0\r\n",
        "for j in pred_unlabel_2:\r\n",
        "  if max(j)> 0.98:\r\n",
        "    ind.append(np.argmax(j))\r\n",
        "    large.append(max(j))\r\n",
        "    pos.append(i)\r\n",
        "  i+=1\r\n",
        "\r\n",
        "\r\n",
        "print(ind)\r\n",
        "print(large)\r\n",
        "print(pos)\r\n",
        "print(len(ind))\r\n",
        "print(len(large))\r\n",
        "print(len(pos))"
      ],
      "execution_count": null,
      "outputs": [
        {
          "output_type": "stream",
          "text": [
            "[2, 2, 2, 2, 2, 2, 2, 2, 2, 4, 2, 2, 2, 2, 2, 2, 2, 3, 2, 3, 3, 2, 3, 1, 2, 2, 1, 2, 2, 2, 2, 2, 3, 2, 2, 2, 2, 2, 2, 2, 3, 3, 3, 2, 3, 2, 2, 2, 2, 2, 5, 3, 3, 2]\n",
            "[0.9983428350265039, 0.998855909339077, 0.9959882254112259, 0.9804179790552908, 0.997861173176517, 0.9981341902611077, 0.9978602595889592, 0.9987906592381196, 0.9969116184019756, 0.993147889165289, 0.9938637710369409, 0.9944450488276393, 0.9859892008388991, 0.9923467102620983, 0.9853209766136218, 0.9971096406223229, 0.9964468901044946, 0.9952585017558127, 0.9989159560130529, 0.9934839712294135, 0.9984768322997986, 0.9956472236334325, 0.9988872253078044, 0.9984290611178964, 0.9951846798058339, 0.9959323436953972, 0.9947000018234298, 0.9984660122703101, 0.9948177071685811, 0.9953667232345748, 0.9985017658456622, 0.9957847017115223, 0.9947763800130264, 0.9988717140318569, 0.9988305095619081, 0.9978460224563349, 0.9985434469695774, 0.9952582931527184, 0.9981094012235007, 0.9925344867240844, 0.9982644382546735, 0.9986022715155173, 0.9984995624571233, 0.9953860178838413, 0.9980444758784554, 0.9868121494883101, 0.9931451240091631, 0.9980211816871807, 0.9982207539739816, 0.9887644209803681, 0.9982619496647365, 0.9824161284377606, 0.9925011752009408, 0.9986283209296176]\n",
            "[1, 2, 3, 5, 6, 7, 8, 12, 15, 16, 17, 20, 24, 25, 26, 29, 32, 35, 37, 40, 42, 44, 46, 49, 50, 51, 52, 54, 55, 56, 59, 60, 61, 63, 64, 66, 69, 70, 71, 77, 78, 79, 80, 81, 83, 84, 86, 88, 91, 92, 93, 94, 95, 99]\n",
            "54\n",
            "54\n",
            "54\n"
          ],
          "name": "stdout"
        }
      ]
    },
    {
      "cell_type": "code",
      "metadata": {
        "colab": {
          "base_uri": "https://localhost:8080/",
          "height": 195
        },
        "id": "cuHrgR4KEEh5",
        "outputId": "0492c57b-7643-45a4-8f54-9fe6fe99ce97"
      },
      "source": [
        "unlabel_2 = unlabel_2.loc[pos,:]\r\n",
        "unlabel_2.head()"
      ],
      "execution_count": null,
      "outputs": [
        {
          "output_type": "execute_result",
          "data": {
            "text/html": [
              "<div>\n",
              "<style scoped>\n",
              "    .dataframe tbody tr th:only-of-type {\n",
              "        vertical-align: middle;\n",
              "    }\n",
              "\n",
              "    .dataframe tbody tr th {\n",
              "        vertical-align: top;\n",
              "    }\n",
              "\n",
              "    .dataframe thead th {\n",
              "        text-align: right;\n",
              "    }\n",
              "</style>\n",
              "<table border=\"1\" class=\"dataframe\">\n",
              "  <thead>\n",
              "    <tr style=\"text-align: right;\">\n",
              "      <th></th>\n",
              "      <th>Unnamed: 0</th>\n",
              "      <th>Sentence</th>\n",
              "      <th>Target</th>\n",
              "    </tr>\n",
              "  </thead>\n",
              "  <tbody>\n",
              "    <tr>\n",
              "      <th>1</th>\n",
              "      <td>3400</td>\n",
              "      <td>undisputed testimony reflects appellant drivin...</td>\n",
              "      <td>Facts</td>\n",
              "    </tr>\n",
              "    <tr>\n",
              "      <th>2</th>\n",
              "      <td>2072</td>\n",
              "      <td>appellant testify offer evidence behalf</td>\n",
              "      <td>Facts</td>\n",
              "    </tr>\n",
              "    <tr>\n",
              "      <th>3</th>\n",
              "      <td>517</td>\n",
              "      <td>56 uniform act regulating traffic highways gis...</td>\n",
              "      <td>Rule/Law/Holding</td>\n",
              "    </tr>\n",
              "    <tr>\n",
              "      <th>5</th>\n",
              "      <td>2278</td>\n",
              "      <td>evidence state appellant shows appellant alleg...</td>\n",
              "      <td>Analysis</td>\n",
              "    </tr>\n",
              "    <tr>\n",
              "      <th>6</th>\n",
              "      <td>570</td>\n",
              "      <td>appellant performed work asked 7500 money ther...</td>\n",
              "      <td>Facts</td>\n",
              "    </tr>\n",
              "  </tbody>\n",
              "</table>\n",
              "</div>"
            ],
            "text/plain": [
              "   Unnamed: 0  ...            Target\n",
              "1        3400  ...             Facts\n",
              "2        2072  ...             Facts\n",
              "3         517  ...  Rule/Law/Holding\n",
              "5        2278  ...          Analysis\n",
              "6         570  ...             Facts\n",
              "\n",
              "[5 rows x 3 columns]"
            ]
          },
          "metadata": {
            "tags": []
          },
          "execution_count": 20
        }
      ]
    },
    {
      "cell_type": "code",
      "metadata": {
        "colab": {
          "base_uri": "https://localhost:8080/"
        },
        "id": "0QOzPxMPER3c",
        "outputId": "77e6aa87-cc8a-4904-a208-aff23beb9522"
      },
      "source": [
        "frame_2 = [train3_1,unlabel_2]\r\n",
        "train3_2 = pd.concat(frame_2)\r\n",
        "len(train3_2)"
      ],
      "execution_count": null,
      "outputs": [
        {
          "output_type": "execute_result",
          "data": {
            "text/plain": [
              "3589"
            ]
          },
          "metadata": {
            "tags": []
          },
          "execution_count": 21
        }
      ]
    },
    {
      "cell_type": "code",
      "metadata": {
        "colab": {
          "base_uri": "https://localhost:8080/"
        },
        "id": "hSaWvUz4EbM3",
        "outputId": "f5c6a04f-dbe6-4712-9e55-6b13ff7e4de0"
      },
      "source": [
        "x_train_2 = tfidf_vect.transform(train3_2['Sentence'])\r\n",
        "X_train, x_val, Y_train, y_val = train_test_split(x_train_2,train3_2['Target'],test_size=0.27,random_state=2)\r\n",
        "support = RandomForestClassifier()\r\n",
        "clf = support.fit(X_train, Y_train)\r\n",
        "calibrator = CalibratedClassifierCV(clf, cv='prefit')\r\n",
        "model_2=calibrator.fit(X_train, Y_train)\r\n",
        "pred_svm = model_2.predict(x_val)\r\n",
        "print('Accuracy %s' % accuracy_score(pred_svm,y_val))\r\n",
        "print(classification_report(y_val,pred_svm))"
      ],
      "execution_count": null,
      "outputs": [
        {
          "output_type": "stream",
          "text": [
            "Accuracy 0.6505154639175258\n",
            "                  precision    recall  f1-score   support\n",
            "\n",
            "        Analysis       0.61      0.34      0.44       151\n",
            "      Conclusion       0.75      0.46      0.57        52\n",
            "           Facts       0.67      0.88      0.76       481\n",
            "         Invalid       0.56      0.54      0.55       165\n",
            "           Issue       0.74      0.38      0.51        60\n",
            "Rule/Law/Holding       0.59      0.31      0.41        61\n",
            "\n",
            "        accuracy                           0.65       970\n",
            "       macro avg       0.65      0.49      0.54       970\n",
            "    weighted avg       0.65      0.65      0.63       970\n",
            "\n"
          ],
          "name": "stdout"
        }
      ]
    },
    {
      "cell_type": "code",
      "metadata": {
        "colab": {
          "base_uri": "https://localhost:8080/"
        },
        "id": "KOEPX84mFDmX",
        "outputId": "386849f5-8cd4-4801-8fcb-a78a9695bf2a"
      },
      "source": [
        "x_un3 = tfidf_vect.transform(unlabel_3['Sentence'])\r\n",
        "pred_unlabel_3 = model_2.predict_proba(x_un3)\r\n",
        "\r\n",
        "pos=[]\r\n",
        "large=[]\r\n",
        "ind = []\r\n",
        "i=0\r\n",
        "for j in pred_unlabel_3:\r\n",
        "  if max(j)> 0.98:\r\n",
        "    ind.append(np.argmax(j))\r\n",
        "    large.append(max(j))\r\n",
        "    pos.append(i)\r\n",
        "  i+=1\r\n",
        "\r\n",
        "\r\n",
        "print(ind)\r\n",
        "print(large)\r\n",
        "print(pos)\r\n",
        "print(len(ind))\r\n",
        "print(len(large))\r\n",
        "print(len(pos))"
      ],
      "execution_count": null,
      "outputs": [
        {
          "output_type": "stream",
          "text": [
            "[0, 3, 2, 2, 2, 2, 4, 2, 2, 3, 2, 2, 3, 3, 2, 2, 2, 2, 2, 2, 2, 2, 2, 2, 2, 2, 2, 2, 2, 2, 2, 2, 2, 2, 3, 2, 2, 1, 3, 3, 1, 5, 2, 2, 2, 2, 2, 2, 2, 2, 3, 2, 2, 3, 2, 2, 2, 3, 0, 2, 2, 4, 2, 2, 2, 2, 2]\n",
            "[0.9960014605497644, 0.9938758990259211, 0.997429112096425, 0.997264391256482, 0.9973701164481326, 0.9867204381110942, 0.9949377899842434, 0.9986898782180363, 0.998371736765329, 0.9941932071214663, 0.9904957820289495, 0.9983806451269615, 0.9985820890932438, 0.9988699815626035, 0.9987412799963519, 0.9961524582992183, 0.9840905082683646, 0.998618584982851, 0.9970151814612825, 0.9914604011405879, 0.9971466557997215, 0.9918347474721237, 0.9985769267481887, 0.988205006078848, 0.9929608713059103, 0.9986775599997594, 0.9975571230342859, 0.9979278460323134, 0.9983934194185528, 0.9891493927396842, 0.994809473031335, 0.9979550745279404, 0.9982342526801926, 0.9987247797861221, 0.997036503482332, 0.9804696622661087, 0.9984377753125658, 0.9988948527169276, 0.9983490480615712, 0.9884127973011166, 0.9987254798026158, 0.9961061585684737, 0.9947312985794184, 0.9811657091752601, 0.9984786593448022, 0.9937014208625004, 0.9988266997843732, 0.9963514246794702, 0.998290701712949, 0.9977243483939597, 0.9981558416348709, 0.9981182695013383, 0.9907997533209533, 0.9948899464435408, 0.9985226342664177, 0.9977501837013595, 0.9961811039114234, 0.9834110157779705, 0.9850483663260711, 0.9965207184502999, 0.997771677969665, 0.9956547212885806, 0.9982466853377153, 0.9871682931056928, 0.9986880597487219, 0.9942752655935203, 0.9903780144697574]\n",
            "[0, 1, 2, 3, 4, 5, 6, 7, 8, 9, 10, 12, 14, 15, 17, 18, 19, 20, 22, 24, 25, 26, 27, 28, 29, 30, 34, 35, 36, 39, 40, 42, 43, 49, 50, 51, 52, 53, 54, 55, 56, 58, 59, 61, 63, 64, 65, 67, 68, 70, 71, 72, 73, 74, 75, 78, 79, 82, 85, 88, 89, 90, 91, 93, 96, 97, 98]\n",
            "67\n",
            "67\n",
            "67\n"
          ],
          "name": "stdout"
        }
      ]
    },
    {
      "cell_type": "code",
      "metadata": {
        "colab": {
          "base_uri": "https://localhost:8080/"
        },
        "id": "OfMhW3EkFN_e",
        "outputId": "2b9714b7-1950-4459-b25d-dcf2b1b6adb7"
      },
      "source": [
        "unlabel_3=unlabel_3.loc[pos,:]\r\n",
        "frame_3 = [train3_2,unlabel_3]\r\n",
        "train3_3 = pd.concat(frame_3)\r\n",
        "\r\n",
        "x_train_3 = tfidf_vect.transform(train3_3['Sentence'])\r\n",
        "X_train, x_val, Y_train, y_val = train_test_split(x_train_3,train3_3['Target'],test_size=0.2,random_state=42)\r\n",
        "support = RandomForestClassifier()\r\n",
        "clf = support.fit(X_train, Y_train)\r\n",
        "calibrator = CalibratedClassifierCV(clf, cv='prefit')\r\n",
        "model_3=calibrator.fit(X_train, Y_train)\r\n",
        "pred_svm = model_3.predict(x_val)\r\n",
        "print('Accuracy %s' % accuracy_score(pred_svm,y_val))\r\n",
        "print(classification_report(y_val,pred_svm))"
      ],
      "execution_count": null,
      "outputs": [
        {
          "output_type": "stream",
          "text": [
            "Accuracy 0.644808743169399\n",
            "                  precision    recall  f1-score   support\n",
            "\n",
            "        Analysis       0.47      0.28      0.35        99\n",
            "      Conclusion       0.63      0.47      0.54        40\n",
            "           Facts       0.70      0.85      0.77       378\n",
            "         Invalid       0.56      0.56      0.56       123\n",
            "           Issue       0.61      0.44      0.51        39\n",
            "Rule/Law/Holding       0.55      0.34      0.42        53\n",
            "\n",
            "        accuracy                           0.64       732\n",
            "       macro avg       0.59      0.49      0.53       732\n",
            "    weighted avg       0.63      0.64      0.63       732\n",
            "\n"
          ],
          "name": "stdout"
        }
      ]
    },
    {
      "cell_type": "code",
      "metadata": {
        "colab": {
          "base_uri": "https://localhost:8080/"
        },
        "id": "CRr8oe3pFpJ2",
        "outputId": "fe49e1af-6a8e-4c2a-8417-fd759b085525"
      },
      "source": [
        "x_un4 = tfidf_vect.transform(unlabel_4['Sentence'])\r\n",
        "pred_unlabel_4 = model_3.predict_proba(x_un4)\r\n",
        "\r\n",
        "\r\n",
        "pos=[]\r\n",
        "large=[]\r\n",
        "ind = []\r\n",
        "i=0\r\n",
        "for j in pred_unlabel_4:\r\n",
        "  if max(j)> 0.98:\r\n",
        "    ind.append(np.argmax(j))\r\n",
        "    large.append(max(j))\r\n",
        "    pos.append(i)\r\n",
        "  i+=1\r\n",
        "\r\n",
        "\r\n",
        "print(ind)\r\n",
        "print(large)\r\n",
        "print(pos)\r\n",
        "print(len(ind))\r\n",
        "print(len(large))\r\n",
        "print(len(pos))"
      ],
      "execution_count": null,
      "outputs": [
        {
          "output_type": "stream",
          "text": [
            "[3, 2, 2, 5, 2, 2, 2, 2, 3, 2, 2, 2, 2, 3, 2, 2, 3, 0, 2, 2, 2, 2, 2, 3, 2, 2, 2, 2, 2, 3, 2, 2, 0, 2, 2, 2, 2, 3, 2, 2, 5, 3, 0, 5, 2, 2, 2, 2, 2, 2, 3, 1, 2, 2, 2, 2, 3, 2, 2, 2, 2, 5, 2, 2]\n",
            "[0.9990676751560503, 0.99493139844251, 0.9984666543216131, 0.9955880498081698, 0.9989697742455694, 0.9952643891712495, 0.9989957075481769, 0.998608707917506, 0.9969251731645153, 0.9984509161780138, 0.997956859444022, 0.9957903694619867, 0.9989133976931732, 0.9989808259760723, 0.9986172713836086, 0.998780545891915, 0.9913559917852447, 0.9824697280860986, 0.9887261370252318, 0.9887359384816127, 0.9988538821034275, 0.9989870988277969, 0.9988791653486488, 0.9977336521269845, 0.9982643396885443, 0.9988982856232401, 0.9987757586514932, 0.9981158258470714, 0.998765970520941, 0.9929968379538598, 0.9980823184828205, 0.9833107457145648, 0.9904343964412586, 0.9983756866685536, 0.9975943656489868, 0.9938697172774252, 0.9975695428775493, 0.9961762076598318, 0.9957585719360275, 0.9984125028658877, 0.98913359396632, 0.9972723114919796, 0.9988901048201901, 0.9889327765769141, 0.9988355868890691, 0.9989476212314616, 0.9986637628238929, 0.9874665916105397, 0.9980780835316705, 0.9990686827141458, 0.9860202060666529, 0.9971636729719529, 0.998200680737784, 0.9949358889369433, 0.998998999943805, 0.9979118304629451, 0.997836346564911, 0.997808143637083, 0.9979888827033956, 0.9972440867606363, 0.9983294090040586, 0.9926351394718207, 0.9983555393694291, 0.9968963262068061]\n",
            "[0, 1, 4, 6, 7, 8, 10, 11, 13, 15, 16, 17, 18, 20, 21, 22, 23, 25, 27, 28, 29, 30, 31, 32, 34, 35, 37, 38, 40, 41, 42, 45, 48, 49, 53, 55, 56, 58, 60, 63, 65, 66, 67, 68, 69, 70, 71, 72, 74, 75, 78, 79, 82, 83, 85, 87, 88, 89, 90, 91, 93, 94, 97, 99]\n",
            "64\n",
            "64\n",
            "64\n"
          ],
          "name": "stdout"
        }
      ]
    },
    {
      "cell_type": "code",
      "metadata": {
        "id": "-p3HfSQ2FwV_"
      },
      "source": [
        "unlabel_4=unlabel_4.loc[pos,:]"
      ],
      "execution_count": null,
      "outputs": []
    },
    {
      "cell_type": "code",
      "metadata": {
        "colab": {
          "base_uri": "https://localhost:8080/"
        },
        "id": "iR8Ghl7oF5E6",
        "outputId": "c07f9912-51d8-4248-82e0-977b6df2839a"
      },
      "source": [
        "frame_4 = [train3_3,unlabel_4]\r\n",
        "train3_4 = pd.concat(frame_4)\r\n",
        "len(train3_4)\r\n",
        "x_train_4 = tfidf_vect.transform(train3_4['Sentence'])\r\n",
        "X_train, x_val, Y_train, y_val = train_test_split(x_train_4,train3_4['Target'],test_size=0.27,random_state=42)\r\n",
        "support = RandomForestClassifier()\r\n",
        "clf = support.fit(X_train, Y_train)\r\n",
        "calibrator = CalibratedClassifierCV(clf, cv='prefit')\r\n",
        "model_4=calibrator.fit(X_train, Y_train)\r\n",
        "pred_svm = model_4.predict(x_val)\r\n",
        "print('Accuracy %s' % accuracy_score(pred_svm,y_val))\r\n",
        "print(classification_report(y_val,pred_svm))"
      ],
      "execution_count": null,
      "outputs": [
        {
          "output_type": "stream",
          "text": [
            "Accuracy 0.6676616915422886\n",
            "                  precision    recall  f1-score   support\n",
            "\n",
            "        Analysis       0.56      0.34      0.42       146\n",
            "      Conclusion       0.83      0.48      0.61        60\n",
            "           Facts       0.72      0.87      0.79       532\n",
            "         Invalid       0.49      0.57      0.53       137\n",
            "           Issue       0.64      0.38      0.48        55\n",
            "Rule/Law/Holding       0.72      0.39      0.50        75\n",
            "\n",
            "        accuracy                           0.67      1005\n",
            "       macro avg       0.66      0.51      0.55      1005\n",
            "    weighted avg       0.67      0.67      0.65      1005\n",
            "\n"
          ],
          "name": "stdout"
        }
      ]
    },
    {
      "cell_type": "code",
      "metadata": {
        "colab": {
          "base_uri": "https://localhost:8080/"
        },
        "id": "LquDQOH_GPad",
        "outputId": "e49fd61a-8378-4a62-b7b9-39c16e29b791"
      },
      "source": [
        "x_un5 = tfidf_vect.transform(unlabel_5['Sentence'])\r\n",
        "\r\n",
        "pred_unlabel_5 = model_4.predict_proba(x_un5)\r\n",
        "pos=[]\r\n",
        "large=[]\r\n",
        "ind = []\r\n",
        "i=0\r\n",
        "for j in pred_unlabel_5:\r\n",
        "  if max(j)> 0.98:\r\n",
        "    ind.append(np.argmax(j))\r\n",
        "    large.append(max(j))\r\n",
        "    pos.append(i)\r\n",
        "  i+=1\r\n",
        "\r\n",
        "\r\n",
        "print(ind)\r\n",
        "print(large)\r\n",
        "print(pos)\r\n",
        "print(len(ind))\r\n",
        "print(len(large))\r\n",
        "print(len(pos))"
      ],
      "execution_count": null,
      "outputs": [
        {
          "output_type": "stream",
          "text": [
            "[3, 2, 2, 3, 3, 0, 2, 3, 2, 3, 3, 2, 2, 3, 2, 2, 2, 2, 2, 1, 2, 2, 1, 2, 0, 2, 2, 2, 2, 3, 3, 2, 3, 3, 2, 2, 2, 2, 1, 2, 2, 2, 3, 2, 5, 2, 2, 2, 2, 1, 3, 2, 2, 2, 2, 2, 2, 2, 2, 2, 3, 3, 0, 3, 2, 2]\n",
            "[0.9908604733161255, 0.9897046853859524, 0.998951884355046, 0.9924456125053596, 0.9989788722151526, 0.9919100307912575, 0.9829584680687347, 0.9904464163234408, 0.9986928202066948, 0.9986133540825096, 0.9989788722151526, 0.996690000133391, 0.9986137999680165, 0.98945076059411, 0.9965757379985479, 0.9942954909987294, 0.9972638251296929, 0.994536873699417, 0.9962001288338054, 0.9980186162293385, 0.9988178396284575, 0.9958583584159169, 0.9983656361631501, 0.9942773351630019, 0.9918469572905747, 0.9902409830950448, 0.9975846014425921, 0.9989857459715769, 0.9987100767731298, 0.9989818250289045, 0.9989788722151526, 0.9976578458277596, 0.9961380068818608, 0.9832108053055557, 0.9957825235695202, 0.9984291518769011, 0.980723205701852, 0.9974345378251157, 0.9980186162293385, 0.982681589091983, 0.9984223992912781, 0.9972922193365611, 0.9980745526701101, 0.9956079387096328, 0.9894694175759611, 0.9911724131768567, 0.995210086665554, 0.9988987131189735, 0.9987940380161954, 0.9879103757899196, 0.9904202289744359, 0.9969598381615363, 0.9975847177415114, 0.998353343393151, 0.9987244074932037, 0.9986467367109182, 0.9984188546632068, 0.9918228049846263, 0.9926705441591194, 0.9985932613263727, 0.9965120559379199, 0.9952810046183359, 0.991763196841296, 0.9962970784534289, 0.9973923277867819, 0.9925341786344735]\n",
            "[1, 2, 3, 4, 5, 6, 7, 8, 17, 19, 20, 22, 23, 24, 26, 27, 28, 29, 30, 31, 32, 33, 36, 39, 47, 49, 50, 52, 53, 54, 55, 56, 57, 58, 59, 60, 62, 63, 64, 66, 67, 68, 69, 73, 74, 77, 78, 82, 86, 87, 88, 90, 91, 92, 93, 94, 95, 99, 101, 102, 106, 107, 110, 115, 116, 118]\n",
            "66\n",
            "66\n",
            "66\n"
          ],
          "name": "stdout"
        }
      ]
    },
    {
      "cell_type": "code",
      "metadata": {
        "id": "P1MxKadbHypp"
      },
      "source": [
        "unlabel_5 = unlabel_5.loc[pos,:]"
      ],
      "execution_count": null,
      "outputs": []
    },
    {
      "cell_type": "code",
      "metadata": {
        "colab": {
          "base_uri": "https://localhost:8080/"
        },
        "id": "DKlIotQ2H59h",
        "outputId": "930f5714-560b-4f79-9a34-3a3d94d32958"
      },
      "source": [
        "frame_5 = [train3_4,unlabel_5]\r\n",
        "train3_5 = pd.concat(frame_5)\r\n",
        "len(train3_5)\r\n",
        "x_train_5 = tfidf_vect.transform(train3_5['Sentence'])\r\n",
        "X_train, x_val, Y_train, y_val = train_test_split(x_train_5,train3_5['Target'],test_size=0.2,random_state=42)\r\n",
        "support = RandomForestClassifier()\r\n",
        "clf = support.fit(X_train, Y_train)\r\n",
        "calibrator = CalibratedClassifierCV(clf, cv='prefit')\r\n",
        "model_5=calibrator.fit(X_train, Y_train)\r\n",
        "pred_svm = model_5.predict(x_val)\r\n",
        "print('Accuracy %s' % accuracy_score(pred_svm,y_val))\r\n",
        "print(classification_report(y_val,pred_svm))"
      ],
      "execution_count": null,
      "outputs": [
        {
          "output_type": "stream",
          "text": [
            "Accuracy 0.6569920844327177\n",
            "                  precision    recall  f1-score   support\n",
            "\n",
            "        Analysis       0.44      0.33      0.37        95\n",
            "      Conclusion       0.54      0.41      0.46        37\n",
            "           Facts       0.71      0.89      0.79       387\n",
            "         Invalid       0.60      0.57      0.58       127\n",
            "           Issue       0.72      0.36      0.48        50\n",
            "Rule/Law/Holding       0.58      0.29      0.39        62\n",
            "\n",
            "        accuracy                           0.66       758\n",
            "       macro avg       0.60      0.47      0.51       758\n",
            "    weighted avg       0.64      0.66      0.63       758\n",
            "\n"
          ],
          "name": "stdout"
        }
      ]
    },
    {
      "cell_type": "code",
      "metadata": {
        "colab": {
          "base_uri": "https://localhost:8080/"
        },
        "id": "WwXcxHFUIBUX",
        "outputId": "2efd53bb-a4b0-404c-cb9b-d02cfce99f24"
      },
      "source": [
        "t_p = tfidf_vect.transform(test['Sentence'])\r\n",
        "test_pred = model_5.predict(t_p)\r\n",
        "print('Accuracy %s' % accuracy_score(test_pred,test['Target']))"
      ],
      "execution_count": null,
      "outputs": [
        {
          "output_type": "stream",
          "text": [
            "Accuracy 0.7332053742802304\n"
          ],
          "name": "stdout"
        }
      ]
    },
    {
      "cell_type": "code",
      "metadata": {
        "id": "00KFoik1bqcT",
        "colab": {
          "base_uri": "https://localhost:8080/"
        },
        "outputId": "2b7487ae-6a66-41ba-8d4a-87ef0e97de55"
      },
      "source": [
        "from sklearn.metrics import precision_recall_fscore_support\r\n",
        "print(precision_recall_fscore_support(test['Target'],test_pred,average='macro'))"
      ],
      "execution_count": null,
      "outputs": [
        {
          "output_type": "stream",
          "text": [
            "(0.7122123340040153, 0.6107973722085158, 0.6494339030582724, None)\n"
          ],
          "name": "stdout"
        }
      ]
    }
  ]
}