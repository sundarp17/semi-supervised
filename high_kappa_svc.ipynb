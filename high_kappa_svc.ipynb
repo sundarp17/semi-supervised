{
  "nbformat": 4,
  "nbformat_minor": 0,
  "metadata": {
    "colab": {
      "name": "high_kappa_svc.ipynb",
      "provenance": [],
      "authorship_tag": "ABX9TyNiXagSus5Qr7Ds5NeZoVdf",
      "include_colab_link": true
    },
    "kernelspec": {
      "name": "python3",
      "display_name": "Python 3"
    }
  },
  "cells": [
    {
      "cell_type": "markdown",
      "metadata": {
        "id": "view-in-github",
        "colab_type": "text"
      },
      "source": [
        "<a href=\"https://colab.research.google.com/github/sundarp17/semi-supervised/blob/main/high_kappa_svc.ipynb\" target=\"_parent\"><img src=\"https://colab.research.google.com/assets/colab-badge.svg\" alt=\"Open In Colab\"/></a>"
      ]
    },
    {
      "cell_type": "code",
      "metadata": {
        "id": "BSNaH-G5e9XK"
      },
      "source": [
        "import numpy as np\r\n",
        "import pandas as pd"
      ],
      "execution_count": 14,
      "outputs": []
    },
    {
      "cell_type": "code",
      "metadata": {
        "id": "yMMnSj98r48p"
      },
      "source": [
        "high_kappa = pd.read_csv(r'/content/train_data_highkappa.csv')\r\n",
        "train_1 = pd.read_csv(r'/content/train_data1.csv')\r\n",
        "train_2 = pd.read_csv(r'/content/train_data2.csv')\r\n",
        "train_3 = pd.read_csv(r'/content/train_data3.csv')\r\n",
        "train_4 = pd.read_csv(r'/content/train_data4.csv')\r\n",
        "train_5 = pd.read_csv(r'/content/train_data5.csv')\r\n",
        "train_6 = pd.read_csv(r'/content/train_data6.csv')\r\n",
        "train_7 = pd.read_csv(r'/content/train_data7.csv')\r\n",
        "train_8 = pd.read_csv(r'/content/train_data8.csv')\r\n",
        "train_9 = pd.read_csv(r'/content/train_data9.csv')\r\n",
        "train_10 = pd.read_csv(r'/content/train_data10.csv')\r\n",
        "\r\n",
        "test = pd.read_csv(r'/content/test_data.csv')"
      ],
      "execution_count": 15,
      "outputs": []
    },
    {
      "cell_type": "code",
      "metadata": {
        "id": "YXsEmIOrr8sa"
      },
      "source": [
        "high_kappa['Target'] = high_kappa['Target'].replace(['Others'],'Invalid')\r\n",
        "train_1['Target'] = train_1['Target'].replace(['Others'],'Invalid')\r\n",
        "train_2['Target'] = train_2['Target'].replace(['Others'],'Invalid')\r\n",
        "train_3['Target'] = train_3['Target'].replace(['Others'],'Invalid')\r\n",
        "train_4['Target'] = train_4['Target'].replace(['Others'],'Invalid')\r\n",
        "train_5['Target'] = train_5['Target'].replace(['Others'],'Invalid')\r\n",
        "train_6['Target'] = train_6['Target'].replace(['Others'],'Invalid')\r\n",
        "train_7['Target'] = train_7['Target'].replace(['Others'],'Invalid')\r\n",
        "train_8['Target'] = train_8['Target'].replace(['Others'],'Invalid')\r\n",
        "train_9['Target'] = train_9['Target'].replace(['Others'],'Invalid')\r\n",
        "train_10['Target'] = train_10['Target'].replace(['Others'],'Invalid')"
      ],
      "execution_count": 16,
      "outputs": []
    },
    {
      "cell_type": "code",
      "metadata": {
        "colab": {
          "base_uri": "https://localhost:8080/"
        },
        "id": "gyCyM6OHsExq",
        "outputId": "f5c45c82-4cb7-4d4e-8fec-c7013fd433f9"
      },
      "source": [
        "train_5['Target'].unique()"
      ],
      "execution_count": 17,
      "outputs": [
        {
          "output_type": "execute_result",
          "data": {
            "text/plain": [
              "array(['Invalid', 'Issue', 'Analysis', 'Facts', 'Conclusion',\n",
              "       'Rule/Law/Holding'], dtype=object)"
            ]
          },
          "metadata": {
            "tags": []
          },
          "execution_count": 17
        }
      ]
    },
    {
      "cell_type": "code",
      "metadata": {
        "colab": {
          "base_uri": "https://localhost:8080/"
        },
        "id": "XRWq-Ak9sGCr",
        "outputId": "7a2dc483-1fde-4c0c-8c6d-6f27198f5742"
      },
      "source": [
        "#cleaning\r\n",
        "import nltk\r\n",
        "import re\r\n",
        "import string\r\n",
        "nltk.download('stopwords')\r\n",
        "nltk.download('wordnet')\r\n",
        "stopword=nltk.corpus.stopwords.words('english')\r\n",
        "from nltk.stem import WordNetLemmatizer\r\n",
        "wl= WordNetLemmatizer()\r\n",
        "\r\n",
        "def clean_text(text):\r\n",
        "  text=\"\".join([word.lower() for word in text if word not in string.punctuation])\r\n",
        "  tokens = re.split('\\W+',text)\r\n",
        "  text = [wl.lemmatize(word) for word in tokens if word not in stopword]\r\n",
        "  return text"
      ],
      "execution_count": 18,
      "outputs": [
        {
          "output_type": "stream",
          "text": [
            "[nltk_data] Downloading package stopwords to /root/nltk_data...\n",
            "[nltk_data]   Package stopwords is already up-to-date!\n",
            "[nltk_data] Downloading package wordnet to /root/nltk_data...\n",
            "[nltk_data]   Package wordnet is already up-to-date!\n"
          ],
          "name": "stdout"
        }
      ]
    },
    {
      "cell_type": "code",
      "metadata": {
        "id": "fAVBbrf8sLpd"
      },
      "source": [
        "from sklearn.feature_extraction.text import TfidfVectorizer\r\n",
        "\r\n",
        "tfidf_vect = TfidfVectorizer(analyzer = clean_text)\r\n",
        "high_kappa_X_tfidf = tfidf_vect.fit_transform(high_kappa['Sentence'])\r\n",
        "train1_Xtfidf = tfidf_vect.transform(train_1['Sentence'])\r\n",
        "train2_Xtfidf = tfidf_vect.transform(train_2['Sentence'])\r\n",
        "train3_Xtfidf = tfidf_vect.transform(train_3['Sentence'])\r\n",
        "train4_Xtfidf = tfidf_vect.transform(train_4['Sentence'])\r\n",
        "train5_Xtfidf = tfidf_vect.transform(train_5['Sentence'])\r\n",
        "train6_Xtfidf = tfidf_vect.transform(train_6['Sentence'])\r\n",
        "train7_Xtfidf = tfidf_vect.transform(train_7['Sentence'])\r\n",
        "train8_Xtfidf = tfidf_vect.transform(train_8['Sentence'])\r\n",
        "train9_Xtfidf = tfidf_vect.transform(train_9['Sentence'])\r\n",
        "train10_Xtfidf = tfidf_vect.transform(train_10['Sentence'])"
      ],
      "execution_count": 19,
      "outputs": []
    },
    {
      "cell_type": "code",
      "metadata": {
        "id": "LiDNOGMlsXjn"
      },
      "source": [
        "test['Target']=test['Target'].replace(['Others'],'Invalid')\r\n",
        "test['Sentence'] = test['Sentence'].apply(lambda x: \" \".join(x.lower() for x in str(x).split()))\r\n",
        "test['Sentence'] = test['Sentence'].str.replace('[^\\w\\s]','')\r\n",
        "from nltk.corpus import stopwords\r\n",
        "words = stopwords.words('english')\r\n",
        "test['Sentence'] = test['Sentence'].apply(lambda x: \" \".join(x for x in x.split() if x not in words))"
      ],
      "execution_count": 20,
      "outputs": []
    },
    {
      "cell_type": "code",
      "metadata": {
        "colab": {
          "base_uri": "https://localhost:8080/"
        },
        "id": "kiXsxzUysh_t",
        "outputId": "5d3bd1d0-813d-4ea4-e030-02e527830126"
      },
      "source": [
        "unlabel_1 = test.loc[:100]\r\n",
        "print(\"length of unlabel_1\",len(unlabel_1))\r\n",
        "unlabel_2 = test.loc[101:200]\r\n",
        "print(\"length of unlabel_2\",len(unlabel_2))\r\n",
        "unlabel_3 = test.loc[201:300]\r\n",
        "print(\"length of unlabel_3\",len(unlabel_3))\r\n",
        "unlabel_4 = test.loc[301:400]\r\n",
        "print(\"length of unlabel_4\",len(unlabel_4))\r\n",
        "unlabel_5 = test.loc[401:]\r\n",
        "print(\"length of unlabel_5\",len(unlabel_5))"
      ],
      "execution_count": 21,
      "outputs": [
        {
          "output_type": "stream",
          "text": [
            "length of unlabel_1 101\n",
            "length of unlabel_2 100\n",
            "length of unlabel_3 100\n",
            "length of unlabel_4 100\n",
            "length of unlabel_5 120\n"
          ],
          "name": "stdout"
        }
      ]
    },
    {
      "cell_type": "code",
      "metadata": {
        "colab": {
          "base_uri": "https://localhost:8080/",
          "height": 195
        },
        "id": "fjmpfwMKsnAk",
        "outputId": "057df37d-e4c2-4498-88bf-0355eb1d8a44"
      },
      "source": [
        "unlabel_2.reset_index(inplace=True)\r\n",
        "del unlabel_2['index']\r\n",
        "unlabel_2.head()"
      ],
      "execution_count": 22,
      "outputs": [
        {
          "output_type": "execute_result",
          "data": {
            "text/html": [
              "<div>\n",
              "<style scoped>\n",
              "    .dataframe tbody tr th:only-of-type {\n",
              "        vertical-align: middle;\n",
              "    }\n",
              "\n",
              "    .dataframe tbody tr th {\n",
              "        vertical-align: top;\n",
              "    }\n",
              "\n",
              "    .dataframe thead th {\n",
              "        text-align: right;\n",
              "    }\n",
              "</style>\n",
              "<table border=\"1\" class=\"dataframe\">\n",
              "  <thead>\n",
              "    <tr style=\"text-align: right;\">\n",
              "      <th></th>\n",
              "      <th>Unnamed: 0</th>\n",
              "      <th>Sentence</th>\n",
              "      <th>Target</th>\n",
              "    </tr>\n",
              "  </thead>\n",
              "  <tbody>\n",
              "    <tr>\n",
              "      <th>0</th>\n",
              "      <td>1207</td>\n",
              "      <td>examination occurred night middle may testifie...</td>\n",
              "      <td>Invalid</td>\n",
              "    </tr>\n",
              "    <tr>\n",
              "      <th>1</th>\n",
              "      <td>3400</td>\n",
              "      <td>undisputed testimony reflects appellant drivin...</td>\n",
              "      <td>Facts</td>\n",
              "    </tr>\n",
              "    <tr>\n",
              "      <th>2</th>\n",
              "      <td>2072</td>\n",
              "      <td>appellant testify offer evidence behalf</td>\n",
              "      <td>Facts</td>\n",
              "    </tr>\n",
              "    <tr>\n",
              "      <th>3</th>\n",
              "      <td>517</td>\n",
              "      <td>56 uniform act regulating traffic highways gis...</td>\n",
              "      <td>Rule/Law/Holding</td>\n",
              "    </tr>\n",
              "    <tr>\n",
              "      <th>4</th>\n",
              "      <td>906</td>\n",
              "      <td>agreed accompany gave pawn ticket money reclai...</td>\n",
              "      <td>Facts</td>\n",
              "    </tr>\n",
              "  </tbody>\n",
              "</table>\n",
              "</div>"
            ],
            "text/plain": [
              "   Unnamed: 0  ...            Target\n",
              "0        1207  ...           Invalid\n",
              "1        3400  ...             Facts\n",
              "2        2072  ...             Facts\n",
              "3         517  ...  Rule/Law/Holding\n",
              "4         906  ...             Facts\n",
              "\n",
              "[5 rows x 3 columns]"
            ]
          },
          "metadata": {
            "tags": []
          },
          "execution_count": 22
        }
      ]
    },
    {
      "cell_type": "code",
      "metadata": {
        "colab": {
          "base_uri": "https://localhost:8080/",
          "height": 195
        },
        "id": "or3mI32wsupE",
        "outputId": "abce3591-c1ec-40c0-aaea-9bd52dd09b39"
      },
      "source": [
        "unlabel_3.reset_index(inplace=True)\r\n",
        "del unlabel_3['index']\r\n",
        "unlabel_3.head()"
      ],
      "execution_count": 23,
      "outputs": [
        {
          "output_type": "execute_result",
          "data": {
            "text/html": [
              "<div>\n",
              "<style scoped>\n",
              "    .dataframe tbody tr th:only-of-type {\n",
              "        vertical-align: middle;\n",
              "    }\n",
              "\n",
              "    .dataframe tbody tr th {\n",
              "        vertical-align: top;\n",
              "    }\n",
              "\n",
              "    .dataframe thead th {\n",
              "        text-align: right;\n",
              "    }\n",
              "</style>\n",
              "<table border=\"1\" class=\"dataframe\">\n",
              "  <thead>\n",
              "    <tr style=\"text-align: right;\">\n",
              "      <th></th>\n",
              "      <th>Unnamed: 0</th>\n",
              "      <th>Sentence</th>\n",
              "      <th>Target</th>\n",
              "    </tr>\n",
              "  </thead>\n",
              "  <tbody>\n",
              "    <tr>\n",
              "      <th>0</th>\n",
              "      <td>1882</td>\n",
              "      <td>find evidence amply sufficient sustain juryâs ...</td>\n",
              "      <td>Analysis</td>\n",
              "    </tr>\n",
              "    <tr>\n",
              "      <th>1</th>\n",
              "      <td>964</td>\n",
              "      <td>actions show thatâ</td>\n",
              "      <td>Invalid</td>\n",
              "    </tr>\n",
              "    <tr>\n",
              "      <th>2</th>\n",
              "      <td>1417</td>\n",
              "      <td>certification attending physician shown filed ...</td>\n",
              "      <td>Facts</td>\n",
              "    </tr>\n",
              "    <tr>\n",
              "      <th>3</th>\n",
              "      <td>2932</td>\n",
              "      <td>testified agent bland first left automobile wa...</td>\n",
              "      <td>Facts</td>\n",
              "    </tr>\n",
              "    <tr>\n",
              "      <th>4</th>\n",
              "      <td>1584</td>\n",
              "      <td>officer testified could smell odor alcohol app...</td>\n",
              "      <td>Facts</td>\n",
              "    </tr>\n",
              "  </tbody>\n",
              "</table>\n",
              "</div>"
            ],
            "text/plain": [
              "   Unnamed: 0                                           Sentence    Target\n",
              "0        1882  find evidence amply sufficient sustain juryâs ...  Analysis\n",
              "1         964                                 actions show thatâ   Invalid\n",
              "2        1417  certification attending physician shown filed ...     Facts\n",
              "3        2932  testified agent bland first left automobile wa...     Facts\n",
              "4        1584  officer testified could smell odor alcohol app...     Facts"
            ]
          },
          "metadata": {
            "tags": []
          },
          "execution_count": 23
        }
      ]
    },
    {
      "cell_type": "code",
      "metadata": {
        "colab": {
          "base_uri": "https://localhost:8080/",
          "height": 195
        },
        "id": "2xe3MWluszTz",
        "outputId": "02c690c4-b9df-4499-a3c5-7bb099a992fd"
      },
      "source": [
        "unlabel_4.reset_index(inplace=True)\r\n",
        "del unlabel_4['index']\r\n",
        "unlabel_4.head()"
      ],
      "execution_count": 24,
      "outputs": [
        {
          "output_type": "execute_result",
          "data": {
            "text/html": [
              "<div>\n",
              "<style scoped>\n",
              "    .dataframe tbody tr th:only-of-type {\n",
              "        vertical-align: middle;\n",
              "    }\n",
              "\n",
              "    .dataframe tbody tr th {\n",
              "        vertical-align: top;\n",
              "    }\n",
              "\n",
              "    .dataframe thead th {\n",
              "        text-align: right;\n",
              "    }\n",
              "</style>\n",
              "<table border=\"1\" class=\"dataframe\">\n",
              "  <thead>\n",
              "    <tr style=\"text-align: right;\">\n",
              "      <th></th>\n",
              "      <th>Unnamed: 0</th>\n",
              "      <th>Sentence</th>\n",
              "      <th>Target</th>\n",
              "    </tr>\n",
              "  </thead>\n",
              "  <tbody>\n",
              "    <tr>\n",
              "      <th>0</th>\n",
              "      <td>266</td>\n",
              "      <td>section 6 pl</td>\n",
              "      <td>Invalid</td>\n",
              "    </tr>\n",
              "    <tr>\n",
              "      <th>1</th>\n",
              "      <td>3469</td>\n",
              "      <td>amended answer appellant alleged bond invalid ...</td>\n",
              "      <td>Analysis</td>\n",
              "    </tr>\n",
              "    <tr>\n",
              "      <th>2</th>\n",
              "      <td>1471</td>\n",
              "      <td>evidence sufficient support conviction appella...</td>\n",
              "      <td>Analysis</td>\n",
              "    </tr>\n",
              "    <tr>\n",
              "      <th>3</th>\n",
              "      <td>1990</td>\n",
              "      <td>cases cited note 19</td>\n",
              "      <td>Invalid</td>\n",
              "    </tr>\n",
              "    <tr>\n",
              "      <th>4</th>\n",
              "      <td>2757</td>\n",
              "      <td>july 8 1960 order entered revoking said probat...</td>\n",
              "      <td>Facts</td>\n",
              "    </tr>\n",
              "  </tbody>\n",
              "</table>\n",
              "</div>"
            ],
            "text/plain": [
              "   Unnamed: 0                                           Sentence    Target\n",
              "0         266                                       section 6 pl   Invalid\n",
              "1        3469  amended answer appellant alleged bond invalid ...  Analysis\n",
              "2        1471  evidence sufficient support conviction appella...  Analysis\n",
              "3        1990                                cases cited note 19   Invalid\n",
              "4        2757  july 8 1960 order entered revoking said probat...     Facts"
            ]
          },
          "metadata": {
            "tags": []
          },
          "execution_count": 24
        }
      ]
    },
    {
      "cell_type": "code",
      "metadata": {
        "colab": {
          "base_uri": "https://localhost:8080/",
          "height": 195
        },
        "id": "-dCJpImWtH8K",
        "outputId": "909f1f31-a8cd-4b09-f14c-f15f7ce3645d"
      },
      "source": [
        "unlabel_5.reset_index(inplace=True)\r\n",
        "del unlabel_5['index']\r\n",
        "unlabel_5.head()"
      ],
      "execution_count": 25,
      "outputs": [
        {
          "output_type": "execute_result",
          "data": {
            "text/html": [
              "<div>\n",
              "<style scoped>\n",
              "    .dataframe tbody tr th:only-of-type {\n",
              "        vertical-align: middle;\n",
              "    }\n",
              "\n",
              "    .dataframe tbody tr th {\n",
              "        vertical-align: top;\n",
              "    }\n",
              "\n",
              "    .dataframe thead th {\n",
              "        text-align: right;\n",
              "    }\n",
              "</style>\n",
              "<table border=\"1\" class=\"dataframe\">\n",
              "  <thead>\n",
              "    <tr style=\"text-align: right;\">\n",
              "      <th></th>\n",
              "      <th>Unnamed: 0</th>\n",
              "      <th>Sentence</th>\n",
              "      <th>Target</th>\n",
              "    </tr>\n",
              "  </thead>\n",
              "  <tbody>\n",
              "    <tr>\n",
              "      <th>0</th>\n",
              "      <td>2979</td>\n",
              "      <td>overrule appellantâs contention court erred pe...</td>\n",
              "      <td>Analysis</td>\n",
              "    </tr>\n",
              "    <tr>\n",
              "      <th>1</th>\n",
              "      <td>2135</td>\n",
              "      <td>state regarded authority case</td>\n",
              "      <td>Invalid</td>\n",
              "    </tr>\n",
              "    <tr>\n",
              "      <th>2</th>\n",
              "      <td>1591</td>\n",
              "      <td>testimony adduced appellant mother lillie mae ...</td>\n",
              "      <td>Facts</td>\n",
              "    </tr>\n",
              "    <tr>\n",
              "      <th>3</th>\n",
              "      <td>658</td>\n",
              "      <td>appellant needle marks inside left elbow</td>\n",
              "      <td>Facts</td>\n",
              "    </tr>\n",
              "    <tr>\n",
              "      <th>4</th>\n",
              "      <td>2562</td>\n",
              "      <td>analysis contents 3 capsules chemist kenneth a...</td>\n",
              "      <td>Facts</td>\n",
              "    </tr>\n",
              "  </tbody>\n",
              "</table>\n",
              "</div>"
            ],
            "text/plain": [
              "   Unnamed: 0                                           Sentence    Target\n",
              "0        2979  overrule appellantâs contention court erred pe...  Analysis\n",
              "1        2135                      state regarded authority case   Invalid\n",
              "2        1591  testimony adduced appellant mother lillie mae ...     Facts\n",
              "3         658           appellant needle marks inside left elbow     Facts\n",
              "4        2562  analysis contents 3 capsules chemist kenneth a...     Facts"
            ]
          },
          "metadata": {
            "tags": []
          },
          "execution_count": 25
        }
      ]
    },
    {
      "cell_type": "code",
      "metadata": {
        "colab": {
          "base_uri": "https://localhost:8080/"
        },
        "id": "Nep-udrpCJOC",
        "outputId": "2fe47dc5-352c-43ed-af32-c21df7460fcc"
      },
      "source": [
        "from sklearn.model_selection import train_test_split\r\n",
        "from sklearn import svm\r\n",
        "from sklearn.metrics import accuracy_score\r\n",
        "from sklearn.metrics import classification_report\r\n",
        "from sklearn.calibration import CalibratedClassifierCV\r\n",
        "\r\n",
        "\r\n",
        "X_train, x_val, Y_train, y_val = train_test_split(high_kappa_X_tfidf,high_kappa['Target'],test_size=0.26,random_state=42)\r\n",
        "support = svm.LinearSVC(multi_class='ovr',class_weight='balanced')\r\n",
        "clf = support.fit(X_train, Y_train)\r\n",
        "calibrator = CalibratedClassifierCV(clf, cv='prefit')\r\n",
        "model=calibrator.fit(X_train, Y_train)\r\n",
        "pred_svm = model.predict(x_val)\r\n",
        "print('Accuracy %s' % accuracy_score(pred_svm,y_val))\r\n",
        "print(classification_report(y_val,pred_svm))"
      ],
      "execution_count": 27,
      "outputs": [
        {
          "output_type": "stream",
          "text": [
            "Accuracy 0.6861979166666666\n",
            "                  precision    recall  f1-score   support\n",
            "\n",
            "        Analysis       0.53      0.49      0.51       104\n",
            "      Conclusion       0.68      0.46      0.55        41\n",
            "           Facts       0.77      0.91      0.83       416\n",
            "         Invalid       0.52      0.45      0.48       109\n",
            "           Issue       0.63      0.35      0.45        55\n",
            "Rule/Law/Holding       0.41      0.28      0.33        43\n",
            "\n",
            "        accuracy                           0.69       768\n",
            "       macro avg       0.59      0.49      0.53       768\n",
            "    weighted avg       0.67      0.69      0.67       768\n",
            "\n"
          ],
          "name": "stdout"
        }
      ]
    },
    {
      "cell_type": "code",
      "metadata": {
        "id": "7r9d3GPtCuWA"
      },
      "source": [
        "x_un1 = tfidf_vect.transform(unlabel_1['Sentence'])\r\n",
        "pred_unlabel_1 = model.predict_proba(x_un1)"
      ],
      "execution_count": 28,
      "outputs": []
    },
    {
      "cell_type": "code",
      "metadata": {
        "colab": {
          "base_uri": "https://localhost:8080/"
        },
        "id": "wFMRO90AC6d2",
        "outputId": "e46988f1-125a-4c28-8707-71a50de94e9a"
      },
      "source": [
        "import numpy as np\r\n",
        "pos=[]\r\n",
        "large=[]\r\n",
        "ind = []\r\n",
        "i=0\r\n",
        "for j in pred_unlabel_1:\r\n",
        "  if max(j)> 0.98:\r\n",
        "    ind.append(np.argmax(j))\r\n",
        "    large.append(max(j))\r\n",
        "    pos.append(i)\r\n",
        "  i+=1\r\n",
        "\r\n",
        "\r\n",
        "print(ind)\r\n",
        "print(large)\r\n",
        "print(pos)\r\n",
        "print(len(ind))\r\n",
        "print(len(large))\r\n",
        "print(len(pos))"
      ],
      "execution_count": 29,
      "outputs": [
        {
          "output_type": "stream",
          "text": [
            "[2, 2, 2, 0, 2, 2, 2, 2, 2, 3, 2, 1, 2, 2, 2, 2, 2, 2, 2, 2, 2, 2, 2, 2, 2, 2, 2, 2, 2, 2, 0, 2, 2, 2, 2, 2, 2, 2, 3]\n",
            "[0.9976762339466587, 0.9973674669415238, 0.9992761735654646, 0.9847050869428965, 0.9970842860817841, 0.9992562641256465, 0.9983159420607471, 0.9974155252092579, 0.9949124233614516, 0.9802437849122757, 0.9954707550844738, 0.9998238791903834, 0.9940098172583146, 0.9915800426262187, 0.9970356028116187, 0.9931710802864683, 0.9986043701267269, 0.9991594409288964, 0.9978614431959598, 0.9997686588232847, 0.9921973907871889, 0.9931983634691925, 0.9974152561467813, 0.9997804582182053, 0.9990233297962102, 0.9967046953204896, 0.9896844638387527, 0.9895245779407177, 0.9966512773009655, 0.990613122587927, 0.982583557267455, 0.9997697418062698, 0.9894535736484877, 0.9915586206113569, 0.9913260505719456, 0.9987776773640804, 0.9935848991193659, 0.9989465448231236, 0.9944827915024139]\n",
            "[0, 4, 5, 10, 11, 12, 17, 18, 23, 26, 29, 31, 32, 33, 34, 35, 39, 40, 45, 48, 50, 51, 55, 56, 62, 65, 68, 69, 70, 74, 75, 76, 77, 87, 89, 94, 95, 96, 98]\n",
            "39\n",
            "39\n",
            "39\n"
          ],
          "name": "stdout"
        }
      ]
    },
    {
      "cell_type": "code",
      "metadata": {
        "colab": {
          "base_uri": "https://localhost:8080/",
          "height": 195
        },
        "id": "WQo3GF7nC_7W",
        "outputId": "bbad49a9-b7e6-4615-8f22-b2f01e8f652d"
      },
      "source": [
        "unlabel_1=unlabel_1.loc[[0, 4, 5, 10, 11, 12, 17, 18, 23, 26, 29, 31, 32, 33, 34, 35, 39, 40, 45, 48, 50, 51, 55, 56, 62, 65, 68, 69, 70, 74, 75, 76, 77, 87, 89, 94, 95, 96, 98],:]\r\n",
        "unlabel_1.head()"
      ],
      "execution_count": 30,
      "outputs": [
        {
          "output_type": "execute_result",
          "data": {
            "text/html": [
              "<div>\n",
              "<style scoped>\n",
              "    .dataframe tbody tr th:only-of-type {\n",
              "        vertical-align: middle;\n",
              "    }\n",
              "\n",
              "    .dataframe tbody tr th {\n",
              "        vertical-align: top;\n",
              "    }\n",
              "\n",
              "    .dataframe thead th {\n",
              "        text-align: right;\n",
              "    }\n",
              "</style>\n",
              "<table border=\"1\" class=\"dataframe\">\n",
              "  <thead>\n",
              "    <tr style=\"text-align: right;\">\n",
              "      <th></th>\n",
              "      <th>Unnamed: 0</th>\n",
              "      <th>Sentence</th>\n",
              "      <th>Target</th>\n",
              "    </tr>\n",
              "  </thead>\n",
              "  <tbody>\n",
              "    <tr>\n",
              "      <th>0</th>\n",
              "      <td>2173</td>\n",
              "      <td>darden sr testified âœi saw staggering â prett...</td>\n",
              "      <td>Facts</td>\n",
              "    </tr>\n",
              "    <tr>\n",
              "      <th>4</th>\n",
              "      <td>79</td>\n",
              "      <td>eligible leaves renew contacts family</td>\n",
              "      <td>Facts</td>\n",
              "    </tr>\n",
              "    <tr>\n",
              "      <th>5</th>\n",
              "      <td>1955</td>\n",
              "      <td>got downstairs ponce went car wife left home</td>\n",
              "      <td>Facts</td>\n",
              "    </tr>\n",
              "    <tr>\n",
              "      <th>10</th>\n",
              "      <td>2262</td>\n",
              "      <td>first says evidence support charge comment upo...</td>\n",
              "      <td>Issue</td>\n",
              "    </tr>\n",
              "    <tr>\n",
              "      <th>11</th>\n",
              "      <td>1604</td>\n",
              "      <td>police notified deceased found lying mrs moers...</td>\n",
              "      <td>Facts</td>\n",
              "    </tr>\n",
              "  </tbody>\n",
              "</table>\n",
              "</div>"
            ],
            "text/plain": [
              "    Unnamed: 0                                           Sentence Target\n",
              "0         2173  darden sr testified âœi saw staggering â prett...  Facts\n",
              "4           79              eligible leaves renew contacts family  Facts\n",
              "5         1955       got downstairs ponce went car wife left home  Facts\n",
              "10        2262  first says evidence support charge comment upo...  Issue\n",
              "11        1604  police notified deceased found lying mrs moers...  Facts"
            ]
          },
          "metadata": {
            "tags": []
          },
          "execution_count": 30
        }
      ]
    },
    {
      "cell_type": "code",
      "metadata": {
        "colab": {
          "base_uri": "https://localhost:8080/"
        },
        "id": "vfZ0vrIMDje2",
        "outputId": "7cd10124-205c-41c4-945e-d8ae13c64879"
      },
      "source": [
        "frame_1 = [high_kappa,unlabel_1]\r\n",
        "train_1 = pd.concat(frame_1)\r\n",
        "len(train_1)"
      ],
      "execution_count": 31,
      "outputs": [
        {
          "output_type": "execute_result",
          "data": {
            "text/plain": [
              "2990"
            ]
          },
          "metadata": {
            "tags": []
          },
          "execution_count": 31
        }
      ]
    },
    {
      "cell_type": "code",
      "metadata": {
        "colab": {
          "base_uri": "https://localhost:8080/"
        },
        "id": "a5zkcYr5Dvoc",
        "outputId": "2b146bf3-6206-4833-c779-f01c1d1dd34f"
      },
      "source": [
        "x_train_1 = tfidf_vect.transform(train_1['Sentence'])\r\n",
        "x_train_1.shape\r\n",
        "X_train, x_val, Y_train, y_val = train_test_split(x_train_1,train_1['Target'],test_size=0.2,random_state=42)\r\n",
        "support = svm.LinearSVC(multi_class='ovr',class_weight='balanced')\r\n",
        "clf = support.fit(X_train, Y_train)\r\n",
        "calibrator = CalibratedClassifierCV(clf, cv='prefit')\r\n",
        "model_1=calibrator.fit(X_train, Y_train)\r\n",
        "pred_svm = model_1.predict(x_val)\r\n",
        "print('Accuracy %s' % accuracy_score(pred_svm,y_val))\r\n",
        "print(classification_report(y_val,pred_svm))"
      ],
      "execution_count": 32,
      "outputs": [
        {
          "output_type": "stream",
          "text": [
            "Accuracy 0.6822742474916388\n",
            "                  precision    recall  f1-score   support\n",
            "\n",
            "        Analysis       0.58      0.49      0.53        86\n",
            "      Conclusion       0.65      0.35      0.46        31\n",
            "           Facts       0.75      0.88      0.81       324\n",
            "         Invalid       0.51      0.52      0.51        87\n",
            "           Issue       0.67      0.46      0.54        35\n",
            "Rule/Law/Holding       0.53      0.26      0.35        35\n",
            "\n",
            "        accuracy                           0.68       598\n",
            "       macro avg       0.61      0.49      0.53       598\n",
            "    weighted avg       0.67      0.68      0.67       598\n",
            "\n"
          ],
          "name": "stdout"
        }
      ]
    },
    {
      "cell_type": "code",
      "metadata": {
        "colab": {
          "base_uri": "https://localhost:8080/"
        },
        "id": "QEY_x7YFD9D4",
        "outputId": "d2fb1076-1ef5-4b32-a894-78b9c2c35f46"
      },
      "source": [
        "x_un2 = tfidf_vect.transform(unlabel_2['Sentence'])\r\n",
        "pred_unlabel_2 = model_1.predict_proba(x_un2)\r\n",
        "pos=[]\r\n",
        "large=[]\r\n",
        "ind = []\r\n",
        "i=0\r\n",
        "for j in pred_unlabel_2:\r\n",
        "  if max(j)> 0.98:\r\n",
        "    ind.append(np.argmax(j))\r\n",
        "    large.append(max(j))\r\n",
        "    pos.append(i)\r\n",
        "  i+=1\r\n",
        "\r\n",
        "\r\n",
        "print(ind)\r\n",
        "print(large)\r\n",
        "print(pos)\r\n",
        "print(len(ind))\r\n",
        "print(len(large))\r\n",
        "print(len(pos))"
      ],
      "execution_count": 33,
      "outputs": [
        {
          "output_type": "stream",
          "text": [
            "[2, 2, 2, 2, 2, 2, 2, 2, 2, 2, 2, 1, 2, 2, 3, 2, 1, 2, 2, 2, 2, 2, 2, 2, 2, 2, 2, 3, 2, 2, 2, 2, 2]\n",
            "[0.9988148337504198, 0.9955889733693774, 0.9938936247730157, 0.9991735765069641, 0.9986427856056077, 0.9998215510436341, 0.9893765614645106, 0.9858775638467868, 0.999669688046084, 0.9959119781008157, 0.988917479980985, 0.9970124640341684, 0.999834145843236, 0.9983731083991919, 0.9999316700664564, 0.9977324252365312, 0.9988126077763397, 0.9942790986491943, 0.9913927189093042, 0.9996880178506655, 0.9982861810567739, 0.99977424519189, 0.9985938926577297, 0.9995437000964759, 0.9879446541821607, 0.9920878341244548, 0.9809669957651443, 0.9965159437946494, 0.9908527221934053, 0.9913211095552508, 0.9997883069008191, 0.9984860313763102, 0.9954314692687695]\n",
            "[2, 4, 6, 7, 8, 12, 20, 21, 29, 32, 34, 36, 37, 39, 42, 44, 49, 50, 55, 59, 63, 64, 69, 70, 71, 75, 79, 83, 85, 86, 88, 91, 99]\n",
            "33\n",
            "33\n",
            "33\n"
          ],
          "name": "stdout"
        }
      ]
    },
    {
      "cell_type": "code",
      "metadata": {
        "colab": {
          "base_uri": "https://localhost:8080/",
          "height": 195
        },
        "id": "cuHrgR4KEEh5",
        "outputId": "2ea42140-9a9d-4d1e-d0c0-47849ab20aaf"
      },
      "source": [
        "unlabel_2 = unlabel_2.loc[[2, 4, 6, 7, 8, 12, 20, 21, 29, 32, 34, 36, 37, 39, 42, 44, 49, 50, 55, 59, 63, 64, 69, 70, 71, 75, 79, 83, 85, 86, 88, 91, 99 ],:]\r\n",
        "unlabel_2.head()"
      ],
      "execution_count": 34,
      "outputs": [
        {
          "output_type": "execute_result",
          "data": {
            "text/html": [
              "<div>\n",
              "<style scoped>\n",
              "    .dataframe tbody tr th:only-of-type {\n",
              "        vertical-align: middle;\n",
              "    }\n",
              "\n",
              "    .dataframe tbody tr th {\n",
              "        vertical-align: top;\n",
              "    }\n",
              "\n",
              "    .dataframe thead th {\n",
              "        text-align: right;\n",
              "    }\n",
              "</style>\n",
              "<table border=\"1\" class=\"dataframe\">\n",
              "  <thead>\n",
              "    <tr style=\"text-align: right;\">\n",
              "      <th></th>\n",
              "      <th>Unnamed: 0</th>\n",
              "      <th>Sentence</th>\n",
              "      <th>Target</th>\n",
              "    </tr>\n",
              "  </thead>\n",
              "  <tbody>\n",
              "    <tr>\n",
              "      <th>2</th>\n",
              "      <td>2072</td>\n",
              "      <td>appellant testify offer evidence behalf</td>\n",
              "      <td>Facts</td>\n",
              "    </tr>\n",
              "    <tr>\n",
              "      <th>4</th>\n",
              "      <td>906</td>\n",
              "      <td>agreed accompany gave pawn ticket money reclai...</td>\n",
              "      <td>Facts</td>\n",
              "    </tr>\n",
              "    <tr>\n",
              "      <th>6</th>\n",
              "      <td>570</td>\n",
              "      <td>appellant performed work asked 7500 money ther...</td>\n",
              "      <td>Facts</td>\n",
              "    </tr>\n",
              "    <tr>\n",
              "      <th>7</th>\n",
              "      <td>3150</td>\n",
              "      <td>finding door facing street seen man walking pr...</td>\n",
              "      <td>Facts</td>\n",
              "    </tr>\n",
              "    <tr>\n",
              "      <th>8</th>\n",
              "      <td>710</td>\n",
              "      <td>appellant indicted robbery indictment alleging...</td>\n",
              "      <td>Analysis</td>\n",
              "    </tr>\n",
              "  </tbody>\n",
              "</table>\n",
              "</div>"
            ],
            "text/plain": [
              "   Unnamed: 0                                           Sentence    Target\n",
              "2        2072            appellant testify offer evidence behalf     Facts\n",
              "4         906  agreed accompany gave pawn ticket money reclai...     Facts\n",
              "6         570  appellant performed work asked 7500 money ther...     Facts\n",
              "7        3150  finding door facing street seen man walking pr...     Facts\n",
              "8         710  appellant indicted robbery indictment alleging...  Analysis"
            ]
          },
          "metadata": {
            "tags": []
          },
          "execution_count": 34
        }
      ]
    },
    {
      "cell_type": "code",
      "metadata": {
        "colab": {
          "base_uri": "https://localhost:8080/"
        },
        "id": "0QOzPxMPER3c",
        "outputId": "cbfbda1a-def4-4664-ab49-f6db33f783ea"
      },
      "source": [
        "frame_2 = [train_1,unlabel_2]\r\n",
        "train_2 = pd.concat(frame_2)\r\n",
        "len(train_2)"
      ],
      "execution_count": 35,
      "outputs": [
        {
          "output_type": "execute_result",
          "data": {
            "text/plain": [
              "3023"
            ]
          },
          "metadata": {
            "tags": []
          },
          "execution_count": 35
        }
      ]
    },
    {
      "cell_type": "code",
      "metadata": {
        "colab": {
          "base_uri": "https://localhost:8080/"
        },
        "id": "hSaWvUz4EbM3",
        "outputId": "dbe6b61d-45ae-48cc-bca3-e9f0c8e331bb"
      },
      "source": [
        "x_train_2 = tfidf_vect.transform(train_2['Sentence'])\r\n",
        "X_train, x_val, Y_train, y_val = train_test_split(x_train_2,train_2['Target'],test_size=0.27,random_state=2)\r\n",
        "support = svm.LinearSVC(multi_class='ovr',class_weight='balanced')\r\n",
        "clf = support.fit(X_train, Y_train)\r\n",
        "calibrator = CalibratedClassifierCV(clf, cv='prefit')\r\n",
        "model_2=calibrator.fit(X_train, Y_train)\r\n",
        "pred_svm = model_2.predict(x_val)\r\n",
        "print('Accuracy %s' % accuracy_score(pred_svm,y_val))\r\n",
        "print(classification_report(y_val,pred_svm))"
      ],
      "execution_count": 41,
      "outputs": [
        {
          "output_type": "stream",
          "text": [
            "Accuracy 0.6511627906976745\n",
            "                  precision    recall  f1-score   support\n",
            "\n",
            "        Analysis       0.46      0.40      0.43       118\n",
            "      Conclusion       0.52      0.38      0.44        45\n",
            "           Facts       0.73      0.91      0.81       418\n",
            "         Invalid       0.53      0.43      0.47       140\n",
            "           Issue       0.72      0.34      0.46        53\n",
            "Rule/Law/Holding       0.45      0.23      0.31        43\n",
            "\n",
            "        accuracy                           0.65       817\n",
            "       macro avg       0.57      0.45      0.49       817\n",
            "    weighted avg       0.63      0.65      0.63       817\n",
            "\n"
          ],
          "name": "stdout"
        }
      ]
    },
    {
      "cell_type": "code",
      "metadata": {
        "colab": {
          "base_uri": "https://localhost:8080/"
        },
        "id": "KOEPX84mFDmX",
        "outputId": "9b7708eb-740c-4744-e1fe-e8ea58fcf066"
      },
      "source": [
        "x_un3 = tfidf_vect.transform(unlabel_3['Sentence'])\r\n",
        "pred_unlabel_3 = model_2.predict_proba(x_un3)\r\n",
        "\r\n",
        "pos=[]\r\n",
        "large=[]\r\n",
        "ind = []\r\n",
        "i=0\r\n",
        "for j in pred_unlabel_3:\r\n",
        "  if max(j)> 0.98:\r\n",
        "    ind.append(np.argmax(j))\r\n",
        "    large.append(max(j))\r\n",
        "    pos.append(i)\r\n",
        "  i+=1\r\n",
        "\r\n",
        "\r\n",
        "print(ind)\r\n",
        "print(large)\r\n",
        "print(pos)\r\n",
        "print(len(ind))\r\n",
        "print(len(large))\r\n",
        "print(len(pos))"
      ],
      "execution_count": 42,
      "outputs": [
        {
          "output_type": "stream",
          "text": [
            "[0, 2, 2, 2, 2, 2, 0, 2, 2, 2, 2, 2, 2, 2, 2, 2, 2, 2, 2, 2, 2, 2, 2, 2, 2, 2, 1, 3, 1, 2, 2, 2, 2, 2, 2, 2, 2, 2, 2, 2, 2, 2, 2]\n",
            "[0.993945471000259, 0.9975415176995519, 0.9974951298085815, 0.9928775111615087, 0.9993131592447759, 0.9995158112063927, 0.9824330731374291, 0.9996225775512313, 0.9857854599715145, 0.9995389411955857, 0.9894786072895284, 0.9944885921859171, 0.9998818788535409, 0.9966580677194279, 0.9993911338216904, 0.9917371726201856, 0.9994821077153827, 0.9995521067791349, 0.9840106781453084, 0.9995464342703805, 0.999526438653565, 0.9972349917269078, 0.9985121058261444, 0.9978834413688986, 0.9946730767404381, 0.9931225731500674, 0.9992019512786984, 0.9951274326839022, 0.9953030707983258, 0.9920615420776917, 0.9998449541450023, 0.9900645741210351, 0.999796882437328, 0.9975633008810023, 0.9982863017779954, 0.9995441536993205, 0.9997099328943135, 0.9871292971778368, 0.9978527071826244, 0.9979511133118285, 0.999859354266105, 0.9924760309777118, 0.9853425612169879]\n",
            "[0, 2, 3, 4, 7, 8, 11, 12, 17, 20, 24, 26, 27, 29, 30, 34, 35, 36, 40, 43, 46, 47, 48, 49, 51, 52, 53, 54, 56, 57, 63, 64, 65, 66, 67, 68, 72, 73, 75, 79, 89, 91, 97]\n",
            "43\n",
            "43\n",
            "43\n"
          ],
          "name": "stdout"
        }
      ]
    },
    {
      "cell_type": "code",
      "metadata": {
        "colab": {
          "base_uri": "https://localhost:8080/"
        },
        "id": "OfMhW3EkFN_e",
        "outputId": "cbc93e88-65c5-448a-8297-d0af086f5d4d"
      },
      "source": [
        "unlabel_3=unlabel_3.loc[[0, 2, 3, 4, 7, 8, 11, 12, 17, 20, 24, 26, 27, 29, 30, 34, 35, 36, 40, 43, 46, 47, 48, 49, 51, 52, 53, 54, 56, 57, 63, 64, 65, 66, 67, 68, 72, 73, 75, 79, 89, 91, 97],:]\r\n",
        "frame_3 = [train_2,unlabel_3]\r\n",
        "train_3 = pd.concat(frame_3)\r\n",
        "\r\n",
        "x_train_3 = tfidf_vect.transform(train_3['Sentence'])\r\n",
        "X_train, x_val, Y_train, y_val = train_test_split(x_train_3,train_3['Target'],test_size=0.2,random_state=42)\r\n",
        "support = svm.LinearSVC(multi_class='ovr',class_weight='balanced')\r\n",
        "clf = support.fit(X_train, Y_train)\r\n",
        "calibrator = CalibratedClassifierCV(clf, cv='prefit')\r\n",
        "model_3=calibrator.fit(X_train, Y_train)\r\n",
        "pred_svm = model_3.predict(x_val)\r\n",
        "print('Accuracy %s' % accuracy_score(pred_svm,y_val))\r\n",
        "print(classification_report(y_val,pred_svm))"
      ],
      "execution_count": 44,
      "outputs": [
        {
          "output_type": "stream",
          "text": [
            "Accuracy 0.6677524429967426\n",
            "                  precision    recall  f1-score   support\n",
            "\n",
            "        Analysis       0.55      0.38      0.45        86\n",
            "      Conclusion       0.70      0.41      0.52        39\n",
            "           Facts       0.73      0.92      0.81       320\n",
            "         Invalid       0.54      0.44      0.48        98\n",
            "           Issue       0.54      0.41      0.47        34\n",
            "Rule/Law/Holding       0.47      0.24      0.32        37\n",
            "\n",
            "        accuracy                           0.67       614\n",
            "       macro avg       0.59      0.47      0.51       614\n",
            "    weighted avg       0.64      0.67      0.64       614\n",
            "\n"
          ],
          "name": "stdout"
        }
      ]
    },
    {
      "cell_type": "code",
      "metadata": {
        "colab": {
          "base_uri": "https://localhost:8080/"
        },
        "id": "CRr8oe3pFpJ2",
        "outputId": "3fce9039-1884-4aed-ad27-1442fb5b6dbd"
      },
      "source": [
        "x_un4 = tfidf_vect.transform(unlabel_4['Sentence'])\r\n",
        "pred_unlabel_4 = model_3.predict_proba(x_un4)\r\n",
        "\r\n",
        "\r\n",
        "pos=[]\r\n",
        "large=[]\r\n",
        "ind = []\r\n",
        "i=0\r\n",
        "for j in pred_unlabel_4:\r\n",
        "  if max(j)> 0.98:\r\n",
        "    ind.append(np.argmax(j))\r\n",
        "    large.append(max(j))\r\n",
        "    pos.append(i)\r\n",
        "  i+=1\r\n",
        "\r\n",
        "\r\n",
        "print(ind)\r\n",
        "print(large)\r\n",
        "print(pos)\r\n",
        "print(len(ind))\r\n",
        "print(len(large))\r\n",
        "print(len(pos))"
      ],
      "execution_count": 45,
      "outputs": [
        {
          "output_type": "stream",
          "text": [
            "[0, 3, 2, 5, 2, 2, 2, 2, 2, 2, 2, 3, 2, 2, 2, 2, 2, 2, 2, 3, 2, 2, 2, 2, 2, 2, 0, 2, 2, 0, 2, 2, 3, 2, 2, 2, 3, 0, 2, 2, 2, 2, 2, 2, 2, 2, 5, 2, 2]\n",
            "[0.9979433819861231, 0.9852844268218349, 0.9988769297523167, 0.9907917020536867, 0.9978929847364755, 0.9954734134218105, 0.9999231717839535, 0.9899169904017355, 0.9824568029108404, 0.9994874151782798, 0.9995586695362598, 0.980254670162543, 0.9970555594488081, 0.9986895056247201, 0.9962755342410442, 0.9961022494884206, 0.9995647160026965, 0.9828789367961396, 0.9970284984504323, 0.9992326691910624, 0.9997263262465954, 0.9986810572711791, 0.9944509174343913, 0.9978174922173807, 0.9996506109152659, 0.9978978831320635, 0.9875357426054545, 0.9976918864796943, 0.9988768602255296, 0.9856548628539522, 0.9965539582402795, 0.9994905973992971, 0.9986718884785222, 0.9891234174797074, 0.9835791804651378, 0.9876382888897625, 0.9940499010880335, 0.9970534873138951, 0.9865775046665082, 0.99166652114143, 0.9961504152360331, 0.990685963236841, 0.9999665086565814, 0.998875504700386, 0.9992593161303717, 0.9856740087484414, 0.9841505173169423, 0.9971445091966201, 0.9996734368697872]\n",
            "[2, 3, 4, 6, 7, 8, 10, 11, 12, 15, 18, 20, 21, 22, 27, 28, 29, 30, 31, 32, 34, 37, 38, 39, 40, 42, 46, 49, 50, 54, 55, 56, 58, 60, 61, 64, 66, 67, 69, 70, 71, 72, 75, 85, 87, 93, 94, 97, 99]\n",
            "49\n",
            "49\n",
            "49\n"
          ],
          "name": "stdout"
        }
      ]
    },
    {
      "cell_type": "code",
      "metadata": {
        "id": "-p3HfSQ2FwV_"
      },
      "source": [
        "unlabel_4=unlabel_4.loc[[2, 3, 4, 6, 7, 8, 10, 11, 12, 15, 18, 20, 21, 22, 27, 28, 29, 30, 31, 32, 34, 37, 38, 39, 40, 42, 46, 49, 50, 54, 55, 56, 58, 60, 61, 64, 66, 67, 69, 70, 71, 72, 75, 85, 87, 93, 94, 97, 99],:]"
      ],
      "execution_count": 46,
      "outputs": []
    },
    {
      "cell_type": "code",
      "metadata": {
        "colab": {
          "base_uri": "https://localhost:8080/"
        },
        "id": "iR8Ghl7oF5E6",
        "outputId": "40f99be7-5cf2-4a3a-d111-e32ef42e1948"
      },
      "source": [
        "frame_4 = [train_3,unlabel_4]\r\n",
        "train_4 = pd.concat(frame_4)\r\n",
        "len(train_4)\r\n",
        "x_train_4 = tfidf_vect.transform(train_4['Sentence'])\r\n",
        "X_train, x_val, Y_train, y_val = train_test_split(x_train_4,train_4['Target'],test_size=0.27,random_state=42)\r\n",
        "support = svm.LinearSVC()\r\n",
        "clf = support.fit(X_train, Y_train)\r\n",
        "calibrator = CalibratedClassifierCV(clf, cv='prefit')\r\n",
        "model_4=calibrator.fit(X_train, Y_train)\r\n",
        "pred_svm = model_4.predict(x_val)\r\n",
        "print('Accuracy %s' % accuracy_score(pred_svm,y_val))\r\n",
        "print(classification_report(y_val,pred_svm))"
      ],
      "execution_count": 55,
      "outputs": [
        {
          "output_type": "stream",
          "text": [
            "Accuracy 0.6520190023752969\n",
            "                  precision    recall  f1-score   support\n",
            "\n",
            "        Analysis       0.45      0.41      0.43       109\n",
            "      Conclusion       0.56      0.42      0.48        43\n",
            "           Facts       0.77      0.88      0.82       453\n",
            "         Invalid       0.45      0.43      0.44       128\n",
            "           Issue       0.46      0.48      0.47        48\n",
            "Rule/Law/Holding       0.44      0.18      0.26        61\n",
            "\n",
            "        accuracy                           0.65       842\n",
            "       macro avg       0.52      0.47      0.48       842\n",
            "    weighted avg       0.63      0.65      0.63       842\n",
            "\n"
          ],
          "name": "stdout"
        }
      ]
    },
    {
      "cell_type": "code",
      "metadata": {
        "colab": {
          "base_uri": "https://localhost:8080/"
        },
        "id": "LquDQOH_GPad",
        "outputId": "90770877-bc69-4a50-c108-4b2f81923bb6"
      },
      "source": [
        "x_un5 = tfidf_vect.transform(unlabel_5['Sentence'])\r\n",
        "\r\n",
        "pred_unlabel_5 = model_4.predict_proba(x_un5)\r\n",
        "pos=[]\r\n",
        "large=[]\r\n",
        "ind = []\r\n",
        "i=0\r\n",
        "for j in pred_unlabel_5:\r\n",
        "  if max(j)> 0.98:\r\n",
        "    ind.append(np.argmax(j))\r\n",
        "    large.append(max(j))\r\n",
        "    pos.append(i)\r\n",
        "  i+=1\r\n",
        "\r\n",
        "\r\n",
        "print(ind)\r\n",
        "print(large)\r\n",
        "print(pos)\r\n",
        "print(len(ind))\r\n",
        "print(len(large))\r\n",
        "print(len(pos))"
      ],
      "execution_count": 56,
      "outputs": [
        {
          "output_type": "stream",
          "text": [
            "[2, 2, 2, 2, 2, 5, 3, 2, 2, 2, 1, 2, 1, 0, 1, 3, 2, 2, 2, 2, 2, 2, 1, 2, 3, 2, 2, 2, 2, 2, 2, 2, 2, 2, 0, 0, 3, 0, 3]\n",
            "[0.9992618959699242, 0.9991068299381388, 0.981948237393145, 0.9881784098027782, 0.9822048533502804, 0.9927424770061777, 0.9981105504108989, 0.9953449998395886, 0.9986125370473751, 0.9991582580037179, 0.9813437100559876, 0.9956586749417008, 0.9992283287120275, 0.9832836553017068, 0.9963156222950029, 0.9802631077450725, 0.991516833475888, 0.9947813316265466, 0.9997507845808692, 0.9987224166867231, 0.9994078437023579, 0.9975708730187198, 0.9813437100559876, 0.9991991615879903, 0.9856295797363501, 0.998872160563347, 0.9999292402138943, 0.9855611777986473, 0.9995061403662083, 0.9928920572534813, 0.9881590427670695, 0.9992415814518094, 0.9993626452107534, 0.9972743120560587, 0.9937597610270371, 0.9916947885169721, 0.9968918557184604, 0.9948017053534556, 0.9917924869672058]\n",
            "[3, 7, 9, 12, 17, 18, 19, 22, 23, 26, 31, 32, 36, 37, 46, 48, 50, 52, 53, 59, 60, 63, 64, 65, 69, 73, 82, 85, 86, 91, 92, 94, 95, 97, 103, 104, 107, 110, 117]\n",
            "39\n",
            "39\n",
            "39\n"
          ],
          "name": "stdout"
        }
      ]
    },
    {
      "cell_type": "code",
      "metadata": {
        "id": "P1MxKadbHypp"
      },
      "source": [
        "unlabel_5 = unlabel_5.loc[[3, 7, 9, 12, 17, 18, 19, 22, 23, 26, 31, 32, 36, 37, 46, 48, 50, 52, 53, 59, 60, 63, 64, 65, 69, 73, 82, 85, 86, 91, 92, 94, 95, 97, 103, 104, 107, 110, 117],:]"
      ],
      "execution_count": 57,
      "outputs": []
    },
    {
      "cell_type": "code",
      "metadata": {
        "colab": {
          "base_uri": "https://localhost:8080/"
        },
        "id": "DKlIotQ2H59h",
        "outputId": "f4b9974e-7fb9-42fd-b5bb-ee4ffb538468"
      },
      "source": [
        "frame_5 = [train_4,unlabel_5]\r\n",
        "train_5 = pd.concat(frame_5)\r\n",
        "len(train_5)\r\n",
        "x_train_5 = tfidf_vect.transform(train_5['Sentence'])\r\n",
        "X_train, x_val, Y_train, y_val = train_test_split(x_train_5,train_5['Target'],test_size=0.2,random_state=42)\r\n",
        "support = svm.LinearSVC()\r\n",
        "clf = support.fit(X_train, Y_train)\r\n",
        "calibrator = CalibratedClassifierCV(clf, cv='prefit')\r\n",
        "model_5=calibrator.fit(X_train, Y_train)\r\n",
        "pred_svm = model_5.predict(x_val)\r\n",
        "print('Accuracy %s' % accuracy_score(pred_svm,y_val))\r\n",
        "print(classification_report(y_val,pred_svm))"
      ],
      "execution_count": 59,
      "outputs": [
        {
          "output_type": "stream",
          "text": [
            "Accuracy 0.6814580031695721\n",
            "                  precision    recall  f1-score   support\n",
            "\n",
            "        Analysis       0.49      0.43      0.46        94\n",
            "      Conclusion       0.63      0.53      0.58        36\n",
            "           Facts       0.76      0.90      0.83       333\n",
            "         Invalid       0.57      0.47      0.52        99\n",
            "           Issue       0.56      0.41      0.47        34\n",
            "Rule/Law/Holding       0.50      0.26      0.34        35\n",
            "\n",
            "        accuracy                           0.68       631\n",
            "       macro avg       0.59      0.50      0.53       631\n",
            "    weighted avg       0.66      0.68      0.66       631\n",
            "\n"
          ],
          "name": "stdout"
        }
      ]
    },
    {
      "cell_type": "code",
      "metadata": {
        "colab": {
          "base_uri": "https://localhost:8080/"
        },
        "id": "WwXcxHFUIBUX",
        "outputId": "d15ed85d-ffb6-4169-f9cf-14c418d2db56"
      },
      "source": [
        "t_p = tfidf_vect.transform(test['Sentence'])\r\n",
        "test_pred = model_5.predict(t_p)\r\n",
        "print('Accuracy %s' % accuracy_score(test_pred,test['Target']))"
      ],
      "execution_count": 60,
      "outputs": [
        {
          "output_type": "stream",
          "text": [
            "Accuracy 0.6775431861804223\n"
          ],
          "name": "stdout"
        }
      ]
    },
    {
      "cell_type": "markdown",
      "metadata": {
        "id": "C5O3BRN7NJU1"
      },
      "source": [
        "train 1"
      ]
    }
  ]
}