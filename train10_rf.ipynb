{
  "nbformat": 4,
  "nbformat_minor": 0,
  "metadata": {
    "colab": {
      "name": "train10_rf.ipynb",
      "provenance": [],
      "authorship_tag": "ABX9TyOKcEEpruDsCY2qPoE4Gkq7",
      "include_colab_link": true
    },
    "kernelspec": {
      "name": "python3",
      "display_name": "Python 3"
    }
  },
  "cells": [
    {
      "cell_type": "markdown",
      "metadata": {
        "id": "view-in-github",
        "colab_type": "text"
      },
      "source": [
        "<a href=\"https://colab.research.google.com/github/sundarp17/semi-supervised/blob/main/train10_rf.ipynb\" target=\"_parent\"><img src=\"https://colab.research.google.com/assets/colab-badge.svg\" alt=\"Open In Colab\"/></a>"
      ]
    },
    {
      "cell_type": "code",
      "metadata": {
        "id": "BSNaH-G5e9XK"
      },
      "source": [
        "import numpy as np\r\n",
        "import pandas as pd"
      ],
      "execution_count": null,
      "outputs": []
    },
    {
      "cell_type": "code",
      "metadata": {
        "id": "yMMnSj98r48p"
      },
      "source": [
        "\r\n",
        "train10 = pd.read_csv(r'/content/train_data10.csv')\r\n",
        "test = pd.read_csv(r'/content/test_data.csv')"
      ],
      "execution_count": null,
      "outputs": []
    },
    {
      "cell_type": "code",
      "metadata": {
        "id": "YXsEmIOrr8sa"
      },
      "source": [
        "\r\n",
        "train10['Target'] = train10['Target'].replace(['Others'],'Invalid')\r\n"
      ],
      "execution_count": null,
      "outputs": []
    },
    {
      "cell_type": "code",
      "metadata": {
        "colab": {
          "base_uri": "https://localhost:8080/"
        },
        "id": "gyCyM6OHsExq",
        "outputId": "b89dc8c2-105d-432d-bc1f-c72a1ea90437"
      },
      "source": [
        "train10['Target'].unique()"
      ],
      "execution_count": null,
      "outputs": [
        {
          "output_type": "execute_result",
          "data": {
            "text/plain": [
              "array(['Invalid', 'Issue', 'Analysis', 'Facts', 'Conclusion',\n",
              "       'Rule/Law/Holding'], dtype=object)"
            ]
          },
          "metadata": {
            "tags": []
          },
          "execution_count": 4
        }
      ]
    },
    {
      "cell_type": "code",
      "metadata": {
        "colab": {
          "base_uri": "https://localhost:8080/"
        },
        "id": "XRWq-Ak9sGCr",
        "outputId": "27f56e88-f46c-42e8-d3e0-f878293932e6"
      },
      "source": [
        "#cleaning\r\n",
        "import nltk\r\n",
        "import re\r\n",
        "import string\r\n",
        "nltk.download('stopwords')\r\n",
        "nltk.download('wordnet')\r\n",
        "stopword=nltk.corpus.stopwords.words('english')\r\n",
        "from nltk.stem import WordNetLemmatizer\r\n",
        "wl= WordNetLemmatizer()\r\n",
        "\r\n",
        "def clean_text(text):\r\n",
        "  text=\"\".join([word.lower() for word in text if word not in string.punctuation])\r\n",
        "  tokens = re.split('\\W+',text)\r\n",
        "  text = [wl.lemmatize(word) for word in tokens if word not in stopword]\r\n",
        "  return text"
      ],
      "execution_count": null,
      "outputs": [
        {
          "output_type": "stream",
          "text": [
            "[nltk_data] Downloading package stopwords to /root/nltk_data...\n",
            "[nltk_data]   Unzipping corpora/stopwords.zip.\n",
            "[nltk_data] Downloading package wordnet to /root/nltk_data...\n",
            "[nltk_data]   Unzipping corpora/wordnet.zip.\n"
          ],
          "name": "stdout"
        }
      ]
    },
    {
      "cell_type": "code",
      "metadata": {
        "id": "fAVBbrf8sLpd"
      },
      "source": [
        "from sklearn.feature_extraction.text import TfidfVectorizer\r\n",
        "\r\n",
        "tfidf_vect = TfidfVectorizer(analyzer = clean_text)\r\n",
        "\r\n",
        "train10_Xtfidf = tfidf_vect.fit_transform(train10['Sentence'])\r\n"
      ],
      "execution_count": null,
      "outputs": []
    },
    {
      "cell_type": "code",
      "metadata": {
        "id": "LiDNOGMlsXjn"
      },
      "source": [
        "test['Target']=test['Target'].replace(['Others'],'Invalid')\r\n",
        "test['Sentence'] = test['Sentence'].apply(lambda x: \" \".join(x.lower() for x in str(x).split()))\r\n",
        "test['Sentence'] = test['Sentence'].str.replace('[^\\w\\s]','')\r\n",
        "from nltk.corpus import stopwords\r\n",
        "words = stopwords.words('english')\r\n",
        "test['Sentence'] = test['Sentence'].apply(lambda x: \" \".join(x for x in x.split() if x not in words))"
      ],
      "execution_count": null,
      "outputs": []
    },
    {
      "cell_type": "code",
      "metadata": {
        "colab": {
          "base_uri": "https://localhost:8080/"
        },
        "id": "kiXsxzUysh_t",
        "outputId": "5643cf30-9477-4c1b-de85-70496b1c4ede"
      },
      "source": [
        "unlabel_1 = test.loc[:100]\r\n",
        "print(\"length of unlabel_1\",len(unlabel_1))\r\n",
        "unlabel_2 = test.loc[101:200]\r\n",
        "print(\"length of unlabel_2\",len(unlabel_2))\r\n",
        "unlabel_3 = test.loc[201:300]\r\n",
        "print(\"length of unlabel_3\",len(unlabel_3))\r\n",
        "unlabel_4 = test.loc[301:400]\r\n",
        "print(\"length of unlabel_4\",len(unlabel_4))\r\n",
        "unlabel_5 = test.loc[401:]\r\n",
        "print(\"length of unlabel_5\",len(unlabel_5))"
      ],
      "execution_count": null,
      "outputs": [
        {
          "output_type": "stream",
          "text": [
            "length of unlabel_1 101\n",
            "length of unlabel_2 100\n",
            "length of unlabel_3 100\n",
            "length of unlabel_4 100\n",
            "length of unlabel_5 120\n"
          ],
          "name": "stdout"
        }
      ]
    },
    {
      "cell_type": "code",
      "metadata": {
        "colab": {
          "base_uri": "https://localhost:8080/",
          "height": 195
        },
        "id": "fjmpfwMKsnAk",
        "outputId": "7443c024-8d9b-45fd-d62c-f28977276979"
      },
      "source": [
        "unlabel_2.reset_index(inplace=True)\r\n",
        "del unlabel_2['index']\r\n",
        "unlabel_2.head()"
      ],
      "execution_count": null,
      "outputs": [
        {
          "output_type": "execute_result",
          "data": {
            "text/html": [
              "<div>\n",
              "<style scoped>\n",
              "    .dataframe tbody tr th:only-of-type {\n",
              "        vertical-align: middle;\n",
              "    }\n",
              "\n",
              "    .dataframe tbody tr th {\n",
              "        vertical-align: top;\n",
              "    }\n",
              "\n",
              "    .dataframe thead th {\n",
              "        text-align: right;\n",
              "    }\n",
              "</style>\n",
              "<table border=\"1\" class=\"dataframe\">\n",
              "  <thead>\n",
              "    <tr style=\"text-align: right;\">\n",
              "      <th></th>\n",
              "      <th>Unnamed: 0</th>\n",
              "      <th>Sentence</th>\n",
              "      <th>Target</th>\n",
              "    </tr>\n",
              "  </thead>\n",
              "  <tbody>\n",
              "    <tr>\n",
              "      <th>0</th>\n",
              "      <td>1207</td>\n",
              "      <td>examination occurred night middle may testifie...</td>\n",
              "      <td>Invalid</td>\n",
              "    </tr>\n",
              "    <tr>\n",
              "      <th>1</th>\n",
              "      <td>3400</td>\n",
              "      <td>undisputed testimony reflects appellant drivin...</td>\n",
              "      <td>Facts</td>\n",
              "    </tr>\n",
              "    <tr>\n",
              "      <th>2</th>\n",
              "      <td>2072</td>\n",
              "      <td>appellant testify offer evidence behalf</td>\n",
              "      <td>Facts</td>\n",
              "    </tr>\n",
              "    <tr>\n",
              "      <th>3</th>\n",
              "      <td>517</td>\n",
              "      <td>56 uniform act regulating traffic highways gis...</td>\n",
              "      <td>Rule/Law/Holding</td>\n",
              "    </tr>\n",
              "    <tr>\n",
              "      <th>4</th>\n",
              "      <td>906</td>\n",
              "      <td>agreed accompany gave pawn ticket money reclai...</td>\n",
              "      <td>Facts</td>\n",
              "    </tr>\n",
              "  </tbody>\n",
              "</table>\n",
              "</div>"
            ],
            "text/plain": [
              "   Unnamed: 0  ...            Target\n",
              "0        1207  ...           Invalid\n",
              "1        3400  ...             Facts\n",
              "2        2072  ...             Facts\n",
              "3         517  ...  Rule/Law/Holding\n",
              "4         906  ...             Facts\n",
              "\n",
              "[5 rows x 3 columns]"
            ]
          },
          "metadata": {
            "tags": []
          },
          "execution_count": 9
        }
      ]
    },
    {
      "cell_type": "code",
      "metadata": {
        "colab": {
          "base_uri": "https://localhost:8080/",
          "height": 195
        },
        "id": "or3mI32wsupE",
        "outputId": "4d0ccc37-8ad4-41b0-9a57-db9690e98425"
      },
      "source": [
        "unlabel_3.reset_index(inplace=True)\r\n",
        "del unlabel_3['index']\r\n",
        "unlabel_3.head()"
      ],
      "execution_count": null,
      "outputs": [
        {
          "output_type": "execute_result",
          "data": {
            "text/html": [
              "<div>\n",
              "<style scoped>\n",
              "    .dataframe tbody tr th:only-of-type {\n",
              "        vertical-align: middle;\n",
              "    }\n",
              "\n",
              "    .dataframe tbody tr th {\n",
              "        vertical-align: top;\n",
              "    }\n",
              "\n",
              "    .dataframe thead th {\n",
              "        text-align: right;\n",
              "    }\n",
              "</style>\n",
              "<table border=\"1\" class=\"dataframe\">\n",
              "  <thead>\n",
              "    <tr style=\"text-align: right;\">\n",
              "      <th></th>\n",
              "      <th>Unnamed: 0</th>\n",
              "      <th>Sentence</th>\n",
              "      <th>Target</th>\n",
              "    </tr>\n",
              "  </thead>\n",
              "  <tbody>\n",
              "    <tr>\n",
              "      <th>0</th>\n",
              "      <td>1882</td>\n",
              "      <td>find evidence amply sufficient sustain juryâs ...</td>\n",
              "      <td>Analysis</td>\n",
              "    </tr>\n",
              "    <tr>\n",
              "      <th>1</th>\n",
              "      <td>964</td>\n",
              "      <td>actions show thatâ</td>\n",
              "      <td>Invalid</td>\n",
              "    </tr>\n",
              "    <tr>\n",
              "      <th>2</th>\n",
              "      <td>1417</td>\n",
              "      <td>certification attending physician shown filed ...</td>\n",
              "      <td>Facts</td>\n",
              "    </tr>\n",
              "    <tr>\n",
              "      <th>3</th>\n",
              "      <td>2932</td>\n",
              "      <td>testified agent bland first left automobile wa...</td>\n",
              "      <td>Facts</td>\n",
              "    </tr>\n",
              "    <tr>\n",
              "      <th>4</th>\n",
              "      <td>1584</td>\n",
              "      <td>officer testified could smell odor alcohol app...</td>\n",
              "      <td>Facts</td>\n",
              "    </tr>\n",
              "  </tbody>\n",
              "</table>\n",
              "</div>"
            ],
            "text/plain": [
              "   Unnamed: 0                                           Sentence    Target\n",
              "0        1882  find evidence amply sufficient sustain juryâs ...  Analysis\n",
              "1         964                                 actions show thatâ   Invalid\n",
              "2        1417  certification attending physician shown filed ...     Facts\n",
              "3        2932  testified agent bland first left automobile wa...     Facts\n",
              "4        1584  officer testified could smell odor alcohol app...     Facts"
            ]
          },
          "metadata": {
            "tags": []
          },
          "execution_count": 10
        }
      ]
    },
    {
      "cell_type": "code",
      "metadata": {
        "colab": {
          "base_uri": "https://localhost:8080/",
          "height": 195
        },
        "id": "2xe3MWluszTz",
        "outputId": "2b1deef0-67da-462f-9e0d-844d271af097"
      },
      "source": [
        "unlabel_4.reset_index(inplace=True)\r\n",
        "del unlabel_4['index']\r\n",
        "unlabel_4.head()"
      ],
      "execution_count": null,
      "outputs": [
        {
          "output_type": "execute_result",
          "data": {
            "text/html": [
              "<div>\n",
              "<style scoped>\n",
              "    .dataframe tbody tr th:only-of-type {\n",
              "        vertical-align: middle;\n",
              "    }\n",
              "\n",
              "    .dataframe tbody tr th {\n",
              "        vertical-align: top;\n",
              "    }\n",
              "\n",
              "    .dataframe thead th {\n",
              "        text-align: right;\n",
              "    }\n",
              "</style>\n",
              "<table border=\"1\" class=\"dataframe\">\n",
              "  <thead>\n",
              "    <tr style=\"text-align: right;\">\n",
              "      <th></th>\n",
              "      <th>Unnamed: 0</th>\n",
              "      <th>Sentence</th>\n",
              "      <th>Target</th>\n",
              "    </tr>\n",
              "  </thead>\n",
              "  <tbody>\n",
              "    <tr>\n",
              "      <th>0</th>\n",
              "      <td>266</td>\n",
              "      <td>section 6 pl</td>\n",
              "      <td>Invalid</td>\n",
              "    </tr>\n",
              "    <tr>\n",
              "      <th>1</th>\n",
              "      <td>3469</td>\n",
              "      <td>amended answer appellant alleged bond invalid ...</td>\n",
              "      <td>Analysis</td>\n",
              "    </tr>\n",
              "    <tr>\n",
              "      <th>2</th>\n",
              "      <td>1471</td>\n",
              "      <td>evidence sufficient support conviction appella...</td>\n",
              "      <td>Analysis</td>\n",
              "    </tr>\n",
              "    <tr>\n",
              "      <th>3</th>\n",
              "      <td>1990</td>\n",
              "      <td>cases cited note 19</td>\n",
              "      <td>Invalid</td>\n",
              "    </tr>\n",
              "    <tr>\n",
              "      <th>4</th>\n",
              "      <td>2757</td>\n",
              "      <td>july 8 1960 order entered revoking said probat...</td>\n",
              "      <td>Facts</td>\n",
              "    </tr>\n",
              "  </tbody>\n",
              "</table>\n",
              "</div>"
            ],
            "text/plain": [
              "   Unnamed: 0                                           Sentence    Target\n",
              "0         266                                       section 6 pl   Invalid\n",
              "1        3469  amended answer appellant alleged bond invalid ...  Analysis\n",
              "2        1471  evidence sufficient support conviction appella...  Analysis\n",
              "3        1990                                cases cited note 19   Invalid\n",
              "4        2757  july 8 1960 order entered revoking said probat...     Facts"
            ]
          },
          "metadata": {
            "tags": []
          },
          "execution_count": 11
        }
      ]
    },
    {
      "cell_type": "code",
      "metadata": {
        "colab": {
          "base_uri": "https://localhost:8080/",
          "height": 195
        },
        "id": "-dCJpImWtH8K",
        "outputId": "7a4f9dc6-54e4-497c-8523-463c13d5ad8e"
      },
      "source": [
        "unlabel_5.reset_index(inplace=True)\r\n",
        "del unlabel_5['index']\r\n",
        "unlabel_5.head()"
      ],
      "execution_count": null,
      "outputs": [
        {
          "output_type": "execute_result",
          "data": {
            "text/html": [
              "<div>\n",
              "<style scoped>\n",
              "    .dataframe tbody tr th:only-of-type {\n",
              "        vertical-align: middle;\n",
              "    }\n",
              "\n",
              "    .dataframe tbody tr th {\n",
              "        vertical-align: top;\n",
              "    }\n",
              "\n",
              "    .dataframe thead th {\n",
              "        text-align: right;\n",
              "    }\n",
              "</style>\n",
              "<table border=\"1\" class=\"dataframe\">\n",
              "  <thead>\n",
              "    <tr style=\"text-align: right;\">\n",
              "      <th></th>\n",
              "      <th>Unnamed: 0</th>\n",
              "      <th>Sentence</th>\n",
              "      <th>Target</th>\n",
              "    </tr>\n",
              "  </thead>\n",
              "  <tbody>\n",
              "    <tr>\n",
              "      <th>0</th>\n",
              "      <td>2979</td>\n",
              "      <td>overrule appellantâs contention court erred pe...</td>\n",
              "      <td>Analysis</td>\n",
              "    </tr>\n",
              "    <tr>\n",
              "      <th>1</th>\n",
              "      <td>2135</td>\n",
              "      <td>state regarded authority case</td>\n",
              "      <td>Invalid</td>\n",
              "    </tr>\n",
              "    <tr>\n",
              "      <th>2</th>\n",
              "      <td>1591</td>\n",
              "      <td>testimony adduced appellant mother lillie mae ...</td>\n",
              "      <td>Facts</td>\n",
              "    </tr>\n",
              "    <tr>\n",
              "      <th>3</th>\n",
              "      <td>658</td>\n",
              "      <td>appellant needle marks inside left elbow</td>\n",
              "      <td>Facts</td>\n",
              "    </tr>\n",
              "    <tr>\n",
              "      <th>4</th>\n",
              "      <td>2562</td>\n",
              "      <td>analysis contents 3 capsules chemist kenneth a...</td>\n",
              "      <td>Facts</td>\n",
              "    </tr>\n",
              "  </tbody>\n",
              "</table>\n",
              "</div>"
            ],
            "text/plain": [
              "   Unnamed: 0                                           Sentence    Target\n",
              "0        2979  overrule appellantâs contention court erred pe...  Analysis\n",
              "1        2135                      state regarded authority case   Invalid\n",
              "2        1591  testimony adduced appellant mother lillie mae ...     Facts\n",
              "3         658           appellant needle marks inside left elbow     Facts\n",
              "4        2562  analysis contents 3 capsules chemist kenneth a...     Facts"
            ]
          },
          "metadata": {
            "tags": []
          },
          "execution_count": 12
        }
      ]
    },
    {
      "cell_type": "code",
      "metadata": {
        "colab": {
          "base_uri": "https://localhost:8080/"
        },
        "id": "Nep-udrpCJOC",
        "outputId": "9b0a5bed-edbc-45eb-943f-1fbda2ba8d8d"
      },
      "source": [
        "from sklearn.model_selection import train_test_split\r\n",
        "from sklearn.ensemble import RandomForestClassifier\r\n",
        "from sklearn.metrics import accuracy_score\r\n",
        "from sklearn.metrics import classification_report\r\n",
        "from sklearn.calibration import CalibratedClassifierCV\r\n",
        "\r\n",
        "\r\n",
        "X_train, x_val, Y_train, y_val = train_test_split(train10_Xtfidf,train10['Target'],test_size=0.26,random_state=42)\r\n",
        "support = RandomForestClassifier()\r\n",
        "clf = support.fit(X_train, Y_train)\r\n",
        "calibrator = CalibratedClassifierCV(clf, cv='prefit')\r\n",
        "model=calibrator.fit(X_train, Y_train)\r\n",
        "pred_svm = model.predict(x_val)\r\n",
        "print('Accuracy %s' % accuracy_score(pred_svm,y_val))\r\n",
        "print(classification_report(y_val,pred_svm))"
      ],
      "execution_count": null,
      "outputs": [
        {
          "output_type": "stream",
          "text": [
            "Accuracy 0.6603982300884956\n",
            "                  precision    recall  f1-score   support\n",
            "\n",
            "        Analysis       0.52      0.34      0.41       131\n",
            "      Conclusion       0.78      0.40      0.53        45\n",
            "           Facts       0.74      0.86      0.80       485\n",
            "         Invalid       0.47      0.60      0.53       123\n",
            "           Issue       0.57      0.40      0.47        53\n",
            "Rule/Law/Holding       0.65      0.30      0.41        67\n",
            "\n",
            "        accuracy                           0.66       904\n",
            "       macro avg       0.62      0.48      0.52       904\n",
            "    weighted avg       0.65      0.66      0.64       904\n",
            "\n"
          ],
          "name": "stdout"
        }
      ]
    },
    {
      "cell_type": "code",
      "metadata": {
        "id": "7r9d3GPtCuWA"
      },
      "source": [
        "x_un1 = tfidf_vect.transform(unlabel_1['Sentence'])\r\n",
        "pred_unlabel_1 = model.predict_proba(x_un1)"
      ],
      "execution_count": null,
      "outputs": []
    },
    {
      "cell_type": "code",
      "metadata": {
        "colab": {
          "base_uri": "https://localhost:8080/"
        },
        "id": "wFMRO90AC6d2",
        "outputId": "002b89ab-d3e5-4616-cbff-ab74f0063afc"
      },
      "source": [
        "import numpy as np\r\n",
        "pos=[]\r\n",
        "large=[]\r\n",
        "ind = []\r\n",
        "i=0\r\n",
        "for j in pred_unlabel_1:\r\n",
        "  if max(j)> 0.98:\r\n",
        "    ind.append(np.argmax(j))\r\n",
        "    large.append(max(j))\r\n",
        "    pos.append(i)\r\n",
        "  i+=1\r\n",
        "\r\n",
        "\r\n",
        "print(ind)\r\n",
        "print(large)\r\n",
        "print(pos)\r\n",
        "print(len(ind))\r\n",
        "print(len(large))\r\n",
        "print(len(pos))"
      ],
      "execution_count": null,
      "outputs": [
        {
          "output_type": "stream",
          "text": [
            "[2, 3, 2, 3, 2, 2, 3, 2, 2, 2, 2, 2, 2, 2, 3, 2, 3, 3, 2, 2, 2, 0, 1, 2, 2, 2, 2, 2, 2, 2, 3, 3, 2, 3, 3, 2, 2, 2, 2, 2, 2, 2, 2, 2, 2, 2, 3, 2, 2, 3, 3, 2, 2, 2, 2, 3, 5, 2, 2, 2, 5, 3, 2]\n",
            "[0.9975637697831035, 0.9956917397470824, 0.9850473642376405, 0.9987989260185687, 0.9989135904035754, 0.9954245735314573, 0.9971457736510522, 0.9976565027805304, 0.9880095125646129, 0.9916180332622563, 0.9971917824573795, 0.9910238528432778, 0.9956174284625358, 0.996032962403671, 0.9979815605411663, 0.9975887913508585, 0.9884436282812256, 0.9973551569279617, 0.9926355391085008, 0.9955277962705943, 0.9983333137643484, 0.9954856868733662, 0.9992130402195266, 0.9986977671361498, 0.9896977067908468, 0.9895832476557075, 0.9956098902656375, 0.9936055100843854, 0.9937904721137646, 0.9963495497982022, 0.9955356342057663, 0.9822004626466155, 0.9953364465898693, 0.987924667023794, 0.9912260548300564, 0.9984494040764936, 0.9822504980943094, 0.9803931753476011, 0.9955932160283634, 0.9885872542345514, 0.9979273736785079, 0.9884277305369378, 0.9985260008238321, 0.9813039968376523, 0.9940728947991148, 0.9894248056753067, 0.9977370914058142, 0.9951932543474047, 0.9984389571587374, 0.9963663356682881, 0.9982121945183924, 0.996120654546332, 0.9969286999804167, 0.9983491580670918, 0.994581621355243, 0.9934860263269337, 0.9943677286178645, 0.9985351958636705, 0.9982639288310394, 0.9980511092485779, 0.9890110645884597, 0.9979615137888052, 0.9950757262859141]\n",
            "[0, 2, 3, 4, 5, 6, 8, 11, 14, 16, 17, 18, 19, 21, 22, 23, 25, 26, 27, 28, 29, 30, 31, 34, 35, 36, 37, 39, 40, 41, 43, 46, 48, 49, 51, 52, 53, 54, 55, 56, 59, 60, 62, 64, 69, 70, 72, 73, 76, 80, 84, 87, 88, 89, 91, 92, 93, 94, 95, 96, 97, 98, 99]\n",
            "63\n",
            "63\n",
            "63\n"
          ],
          "name": "stdout"
        }
      ]
    },
    {
      "cell_type": "code",
      "metadata": {
        "colab": {
          "base_uri": "https://localhost:8080/",
          "height": 195
        },
        "id": "WQo3GF7nC_7W",
        "outputId": "adb9fc34-8c2c-4820-a0a0-952ecd55bdfb"
      },
      "source": [
        "unlabel_1=unlabel_1.loc[pos,:]\r\n",
        "unlabel_1.head()"
      ],
      "execution_count": null,
      "outputs": [
        {
          "output_type": "execute_result",
          "data": {
            "text/html": [
              "<div>\n",
              "<style scoped>\n",
              "    .dataframe tbody tr th:only-of-type {\n",
              "        vertical-align: middle;\n",
              "    }\n",
              "\n",
              "    .dataframe tbody tr th {\n",
              "        vertical-align: top;\n",
              "    }\n",
              "\n",
              "    .dataframe thead th {\n",
              "        text-align: right;\n",
              "    }\n",
              "</style>\n",
              "<table border=\"1\" class=\"dataframe\">\n",
              "  <thead>\n",
              "    <tr style=\"text-align: right;\">\n",
              "      <th></th>\n",
              "      <th>Unnamed: 0</th>\n",
              "      <th>Sentence</th>\n",
              "      <th>Target</th>\n",
              "    </tr>\n",
              "  </thead>\n",
              "  <tbody>\n",
              "    <tr>\n",
              "      <th>0</th>\n",
              "      <td>2173</td>\n",
              "      <td>darden sr testified âœi saw staggering â prett...</td>\n",
              "      <td>Facts</td>\n",
              "    </tr>\n",
              "    <tr>\n",
              "      <th>2</th>\n",
              "      <td>525</td>\n",
              "      <td>85 22 sw 140 wherein accused acting upon advic...</td>\n",
              "      <td>Rule/Law/Holding</td>\n",
              "    </tr>\n",
              "    <tr>\n",
              "      <th>3</th>\n",
              "      <td>2199</td>\n",
              "      <td>proper instruction court murder malice murder ...</td>\n",
              "      <td>Facts</td>\n",
              "    </tr>\n",
              "    <tr>\n",
              "      <th>4</th>\n",
              "      <td>79</td>\n",
              "      <td>eligible leaves renew contacts family</td>\n",
              "      <td>Facts</td>\n",
              "    </tr>\n",
              "    <tr>\n",
              "      <th>5</th>\n",
              "      <td>1955</td>\n",
              "      <td>got downstairs ponce went car wife left home</td>\n",
              "      <td>Facts</td>\n",
              "    </tr>\n",
              "  </tbody>\n",
              "</table>\n",
              "</div>"
            ],
            "text/plain": [
              "   Unnamed: 0  ...            Target\n",
              "0        2173  ...             Facts\n",
              "2         525  ...  Rule/Law/Holding\n",
              "3        2199  ...             Facts\n",
              "4          79  ...             Facts\n",
              "5        1955  ...             Facts\n",
              "\n",
              "[5 rows x 3 columns]"
            ]
          },
          "metadata": {
            "tags": []
          },
          "execution_count": 16
        }
      ]
    },
    {
      "cell_type": "code",
      "metadata": {
        "colab": {
          "base_uri": "https://localhost:8080/"
        },
        "id": "vfZ0vrIMDje2",
        "outputId": "b06efe1e-5909-4967-f2ce-243e79755cc6"
      },
      "source": [
        "frame_1 = [train10,unlabel_1]\r\n",
        "train10_1 = pd.concat(frame_1)\r\n",
        "len(train10_1)"
      ],
      "execution_count": null,
      "outputs": [
        {
          "output_type": "execute_result",
          "data": {
            "text/plain": [
              "3539"
            ]
          },
          "metadata": {
            "tags": []
          },
          "execution_count": 17
        }
      ]
    },
    {
      "cell_type": "code",
      "metadata": {
        "colab": {
          "base_uri": "https://localhost:8080/"
        },
        "id": "a5zkcYr5Dvoc",
        "outputId": "dace43e5-ae97-472c-e495-ada48ba9868c"
      },
      "source": [
        "x_train_1 = tfidf_vect.transform(train10_1['Sentence'])\r\n",
        "x_train_1.shape\r\n",
        "X_train, x_val, Y_train, y_val = train_test_split(x_train_1,train10_1['Target'],test_size=0.2,random_state=42)\r\n",
        "support = RandomForestClassifier()\r\n",
        "clf = support.fit(X_train, Y_train)\r\n",
        "calibrator = CalibratedClassifierCV(clf, cv='prefit')\r\n",
        "model_1=calibrator.fit(X_train, Y_train)\r\n",
        "pred_svm = model_1.predict(x_val)\r\n",
        "print('Accuracy %s' % accuracy_score(pred_svm,y_val))\r\n",
        "print(classification_report(y_val,pred_svm))"
      ],
      "execution_count": null,
      "outputs": [
        {
          "output_type": "stream",
          "text": [
            "Accuracy 0.6567796610169492\n",
            "                  precision    recall  f1-score   support\n",
            "\n",
            "        Analysis       0.49      0.33      0.40        93\n",
            "      Conclusion       0.67      0.45      0.54        31\n",
            "           Facts       0.72      0.86      0.79       377\n",
            "         Invalid       0.53      0.57      0.55       107\n",
            "           Issue       0.50      0.33      0.40        45\n",
            "Rule/Law/Holding       0.64      0.33      0.43        55\n",
            "\n",
            "        accuracy                           0.66       708\n",
            "       macro avg       0.59      0.48      0.52       708\n",
            "    weighted avg       0.64      0.66      0.64       708\n",
            "\n"
          ],
          "name": "stdout"
        }
      ]
    },
    {
      "cell_type": "code",
      "metadata": {
        "colab": {
          "base_uri": "https://localhost:8080/"
        },
        "id": "QEY_x7YFD9D4",
        "outputId": "c273fdca-765c-45a6-fd55-f006c9f656b1"
      },
      "source": [
        "x_un2 = tfidf_vect.transform(unlabel_2['Sentence'])\r\n",
        "pred_unlabel_2 = model_1.predict_proba(x_un2)\r\n",
        "pos=[]\r\n",
        "large=[]\r\n",
        "ind = []\r\n",
        "i=0\r\n",
        "for j in pred_unlabel_2:\r\n",
        "  if max(j)> 0.98:\r\n",
        "    ind.append(np.argmax(j))\r\n",
        "    large.append(max(j))\r\n",
        "    pos.append(i)\r\n",
        "  i+=1\r\n",
        "\r\n",
        "\r\n",
        "print(ind)\r\n",
        "print(large)\r\n",
        "print(pos)\r\n",
        "print(len(ind))\r\n",
        "print(len(large))\r\n",
        "print(len(pos))"
      ],
      "execution_count": null,
      "outputs": [
        {
          "output_type": "stream",
          "text": [
            "[2, 2, 2, 2, 2, 2, 2, 2, 2, 2, 2, 2, 2, 2, 2, 2, 5, 3, 2, 3, 2, 3, 5, 1, 2, 2, 2, 2, 2, 2, 3, 2, 2, 2, 2, 2, 2, 2, 3, 3, 4, 3, 2, 2, 2, 5, 3, 4, 2]\n",
            "[0.998670503276418, 0.9990357777046353, 0.9888528744148133, 0.9965977703224234, 0.9986936171217878, 0.9982863428872342, 0.9989692369859018, 0.993756212835184, 0.9946114302812876, 0.9984102128143654, 0.9916552301634145, 0.989878569524415, 0.9910158507826065, 0.9975611113128652, 0.99628146187845, 0.9967678099118586, 0.992676777042977, 0.9981798705053964, 0.9990094145730171, 0.9990704727086327, 0.991709768683615, 0.9989901360679307, 0.9982924665638118, 0.999128121471244, 0.9963919975442893, 0.9987559484419162, 0.9960960553120597, 0.994217849609322, 0.9986896496561359, 0.9866852891862711, 0.9914697941509955, 0.9989127081065883, 0.9988407304494576, 0.9982536162601212, 0.9988086933721947, 0.9951727224430134, 0.9978509207441297, 0.9965684847062753, 0.9966464932733043, 0.9990067109239986, 0.9979333199486473, 0.998945614498025, 0.989559326374356, 0.9967484224554125, 0.9977254509123684, 0.998418339086174, 0.9954478479976618, 0.9863106637291831, 0.9979912908504033]\n",
            "[1, 2, 3, 6, 7, 8, 12, 15, 17, 20, 24, 25, 26, 27, 29, 32, 33, 35, 37, 42, 44, 46, 48, 49, 50, 54, 55, 56, 59, 60, 61, 63, 64, 66, 69, 70, 71, 77, 79, 80, 82, 83, 85, 88, 91, 93, 95, 96, 99]\n",
            "49\n",
            "49\n",
            "49\n"
          ],
          "name": "stdout"
        }
      ]
    },
    {
      "cell_type": "code",
      "metadata": {
        "colab": {
          "base_uri": "https://localhost:8080/",
          "height": 195
        },
        "id": "cuHrgR4KEEh5",
        "outputId": "2e80128f-7162-4bfe-a0a9-868459a19ce2"
      },
      "source": [
        "unlabel_2 = unlabel_2.loc[pos,:]\r\n",
        "unlabel_2.head()"
      ],
      "execution_count": null,
      "outputs": [
        {
          "output_type": "execute_result",
          "data": {
            "text/html": [
              "<div>\n",
              "<style scoped>\n",
              "    .dataframe tbody tr th:only-of-type {\n",
              "        vertical-align: middle;\n",
              "    }\n",
              "\n",
              "    .dataframe tbody tr th {\n",
              "        vertical-align: top;\n",
              "    }\n",
              "\n",
              "    .dataframe thead th {\n",
              "        text-align: right;\n",
              "    }\n",
              "</style>\n",
              "<table border=\"1\" class=\"dataframe\">\n",
              "  <thead>\n",
              "    <tr style=\"text-align: right;\">\n",
              "      <th></th>\n",
              "      <th>Unnamed: 0</th>\n",
              "      <th>Sentence</th>\n",
              "      <th>Target</th>\n",
              "    </tr>\n",
              "  </thead>\n",
              "  <tbody>\n",
              "    <tr>\n",
              "      <th>1</th>\n",
              "      <td>3400</td>\n",
              "      <td>undisputed testimony reflects appellant drivin...</td>\n",
              "      <td>Facts</td>\n",
              "    </tr>\n",
              "    <tr>\n",
              "      <th>2</th>\n",
              "      <td>2072</td>\n",
              "      <td>appellant testify offer evidence behalf</td>\n",
              "      <td>Facts</td>\n",
              "    </tr>\n",
              "    <tr>\n",
              "      <th>3</th>\n",
              "      <td>517</td>\n",
              "      <td>56 uniform act regulating traffic highways gis...</td>\n",
              "      <td>Rule/Law/Holding</td>\n",
              "    </tr>\n",
              "    <tr>\n",
              "      <th>6</th>\n",
              "      <td>570</td>\n",
              "      <td>appellant performed work asked 7500 money ther...</td>\n",
              "      <td>Facts</td>\n",
              "    </tr>\n",
              "    <tr>\n",
              "      <th>7</th>\n",
              "      <td>3150</td>\n",
              "      <td>finding door facing street seen man walking pr...</td>\n",
              "      <td>Facts</td>\n",
              "    </tr>\n",
              "  </tbody>\n",
              "</table>\n",
              "</div>"
            ],
            "text/plain": [
              "   Unnamed: 0  ...            Target\n",
              "1        3400  ...             Facts\n",
              "2        2072  ...             Facts\n",
              "3         517  ...  Rule/Law/Holding\n",
              "6         570  ...             Facts\n",
              "7        3150  ...             Facts\n",
              "\n",
              "[5 rows x 3 columns]"
            ]
          },
          "metadata": {
            "tags": []
          },
          "execution_count": 20
        }
      ]
    },
    {
      "cell_type": "code",
      "metadata": {
        "colab": {
          "base_uri": "https://localhost:8080/"
        },
        "id": "0QOzPxMPER3c",
        "outputId": "73dc0dde-8d61-45c8-9c2b-9ac1475c885c"
      },
      "source": [
        "frame_2 = [train10_1,unlabel_2]\r\n",
        "train10_2 = pd.concat(frame_2)\r\n",
        "len(train10_2)"
      ],
      "execution_count": null,
      "outputs": [
        {
          "output_type": "execute_result",
          "data": {
            "text/plain": [
              "3588"
            ]
          },
          "metadata": {
            "tags": []
          },
          "execution_count": 21
        }
      ]
    },
    {
      "cell_type": "code",
      "metadata": {
        "colab": {
          "base_uri": "https://localhost:8080/"
        },
        "id": "hSaWvUz4EbM3",
        "outputId": "4e49f88d-c6db-40d1-e6db-86f0cd046750"
      },
      "source": [
        "x_train_2 = tfidf_vect.transform(train10_2['Sentence'])\r\n",
        "X_train, x_val, Y_train, y_val = train_test_split(x_train_2,train10_2['Target'],test_size=0.24,random_state=2)\r\n",
        "support = RandomForestClassifier()\r\n",
        "clf = support.fit(X_train, Y_train)\r\n",
        "calibrator = CalibratedClassifierCV(clf, cv='prefit')\r\n",
        "model_2=calibrator.fit(X_train, Y_train)\r\n",
        "pred_svm = model_2.predict(x_val)\r\n",
        "print('Accuracy %s' % accuracy_score(pred_svm,y_val))\r\n",
        "print(classification_report(y_val,pred_svm))"
      ],
      "execution_count": null,
      "outputs": [
        {
          "output_type": "stream",
          "text": [
            "Accuracy 0.6194895591647331\n",
            "                  precision    recall  f1-score   support\n",
            "\n",
            "        Analysis       0.52      0.32      0.40       136\n",
            "      Conclusion       0.74      0.30      0.43        46\n",
            "           Facts       0.65      0.88      0.75       417\n",
            "         Invalid       0.51      0.50      0.50       150\n",
            "           Issue       0.78      0.27      0.40        52\n",
            "Rule/Law/Holding       0.66      0.34      0.45        61\n",
            "\n",
            "        accuracy                           0.62       862\n",
            "       macro avg       0.64      0.44      0.49       862\n",
            "    weighted avg       0.62      0.62      0.59       862\n",
            "\n"
          ],
          "name": "stdout"
        }
      ]
    },
    {
      "cell_type": "code",
      "metadata": {
        "colab": {
          "base_uri": "https://localhost:8080/"
        },
        "id": "KOEPX84mFDmX",
        "outputId": "97f9f8ed-116f-4cdb-e45d-5a21b1684584"
      },
      "source": [
        "x_un3 = tfidf_vect.transform(unlabel_3['Sentence'])\r\n",
        "pred_unlabel_3 = model_2.predict_proba(x_un3)\r\n",
        "\r\n",
        "pos=[]\r\n",
        "large=[]\r\n",
        "ind = []\r\n",
        "i=0\r\n",
        "for j in pred_unlabel_3:\r\n",
        "  if max(j)> 0.98:\r\n",
        "    ind.append(np.argmax(j))\r\n",
        "    large.append(max(j))\r\n",
        "    pos.append(i)\r\n",
        "  i+=1\r\n",
        "\r\n",
        "\r\n",
        "print(ind)\r\n",
        "print(large)\r\n",
        "print(pos)\r\n",
        "print(len(ind))\r\n",
        "print(len(large))\r\n",
        "print(len(pos))"
      ],
      "execution_count": null,
      "outputs": [
        {
          "output_type": "stream",
          "text": [
            "[0, 2, 2, 2, 3, 3, 2, 2, 2, 2, 3, 3, 4, 2, 2, 2, 2, 2, 2, 2, 2, 2, 2, 2, 2, 2, 2, 2, 2, 2, 2, 2, 2, 2, 2, 2, 2, 3, 2, 2, 1, 3, 3, 1, 5, 2, 5, 2, 2, 2, 2, 2, 2, 3, 2, 2, 3, 2, 2, 2, 3, 0, 2, 2, 2, 4, 2, 2, 2, 2, 2]\n",
            "[0.9930304233396382, 0.9970837251976017, 0.9976477547820372, 0.9981703349382595, 0.9888541009832401, 0.9856168595952568, 0.9977274132015113, 0.9974549939954827, 0.9826447618780344, 0.9985261949780468, 0.998383709332281, 0.998511376368448, 0.9810706063308443, 0.9986024529316304, 0.9877573857192457, 0.9981415206491833, 0.9912420673569335, 0.9965957194097201, 0.9959023926677874, 0.998137766765913, 0.9806807518117812, 0.9804537440362676, 0.9983261751998599, 0.9924575020143264, 0.9874515365133456, 0.9969360985904333, 0.9966480556534693, 0.9980297610565207, 0.9839225396931355, 0.9957563857888256, 0.996110375618039, 0.9920471181636656, 0.9971185097685025, 0.9976272982695834, 0.9850956174234936, 0.9962047519928027, 0.9980748951549333, 0.9931167725614277, 0.9962274681900358, 0.9980655185989097, 0.9967463552361426, 0.9977743514394867, 0.9870710181913657, 0.9984919522972805, 0.9930923820087678, 0.9832272647741618, 0.9858074597651978, 0.9984554908766802, 0.9920500680302102, 0.9982952918776591, 0.9967167335143473, 0.9977103645994382, 0.9977643655991462, 0.9971864109663368, 0.9982868409971859, 0.9878439895238976, 0.9892683724877408, 0.998128161690879, 0.9971851683769223, 0.9968228204535182, 0.9896817160597389, 0.9900838810338249, 0.9959718000167245, 0.998234350819026, 0.9962541508948661, 0.9964027187926883, 0.9949179541365257, 0.9808988570722667, 0.9985001799269944, 0.9961137777466129, 0.9923842505440801]\n",
            "[0, 2, 3, 4, 5, 6, 7, 8, 10, 12, 14, 15, 16, 17, 18, 20, 24, 25, 26, 27, 28, 29, 30, 31, 33, 34, 35, 36, 38, 39, 40, 41, 42, 43, 44, 46, 49, 50, 51, 52, 53, 54, 55, 56, 58, 59, 61, 63, 64, 65, 67, 68, 70, 71, 72, 73, 74, 75, 78, 79, 81, 85, 86, 88, 89, 90, 91, 93, 96, 97, 98]\n",
            "71\n",
            "71\n",
            "71\n"
          ],
          "name": "stdout"
        }
      ]
    },
    {
      "cell_type": "code",
      "metadata": {
        "colab": {
          "base_uri": "https://localhost:8080/"
        },
        "id": "OfMhW3EkFN_e",
        "outputId": "345e1a2e-852d-4d5b-b8d3-f01dabb24f7e"
      },
      "source": [
        "unlabel_3=unlabel_3.loc[pos,:]\r\n",
        "frame_3 = [train10_2,unlabel_3]\r\n",
        "train10_3 = pd.concat(frame_3)\r\n",
        "\r\n",
        "x_train_3 = tfidf_vect.transform(train10_3['Sentence'])\r\n",
        "X_train, x_val, Y_train, y_val = train_test_split(x_train_3,train10_3['Target'],test_size=0.2,random_state=42)\r\n",
        "support = RandomForestClassifier()\r\n",
        "clf = support.fit(X_train, Y_train)\r\n",
        "calibrator = CalibratedClassifierCV(clf, cv='prefit')\r\n",
        "model_3=calibrator.fit(X_train, Y_train)\r\n",
        "pred_svm = model_3.predict(x_val)\r\n",
        "print('Accuracy %s' % accuracy_score(pred_svm,y_val))\r\n",
        "print(classification_report(y_val,pred_svm))"
      ],
      "execution_count": null,
      "outputs": [
        {
          "output_type": "stream",
          "text": [
            "Accuracy 0.6489071038251366\n",
            "                  precision    recall  f1-score   support\n",
            "\n",
            "        Analysis       0.41      0.30      0.35        96\n",
            "      Conclusion       0.73      0.41      0.52        39\n",
            "           Facts       0.72      0.85      0.78       392\n",
            "         Invalid       0.54      0.59      0.56       121\n",
            "           Issue       0.50      0.38      0.43        34\n",
            "Rule/Law/Holding       0.64      0.28      0.39        50\n",
            "\n",
            "        accuracy                           0.65       732\n",
            "       macro avg       0.59      0.47      0.51       732\n",
            "    weighted avg       0.64      0.65      0.63       732\n",
            "\n"
          ],
          "name": "stdout"
        }
      ]
    },
    {
      "cell_type": "code",
      "metadata": {
        "colab": {
          "base_uri": "https://localhost:8080/"
        },
        "id": "CRr8oe3pFpJ2",
        "outputId": "9e536bdd-642f-433f-d769-4152c8697857"
      },
      "source": [
        "x_un4 = tfidf_vect.transform(unlabel_4['Sentence'])\r\n",
        "pred_unlabel_4 = model_3.predict_proba(x_un4)\r\n",
        "\r\n",
        "\r\n",
        "pos=[]\r\n",
        "large=[]\r\n",
        "ind = []\r\n",
        "i=0\r\n",
        "for j in pred_unlabel_4:\r\n",
        "  if max(j)> 0.98:\r\n",
        "    ind.append(np.argmax(j))\r\n",
        "    large.append(max(j))\r\n",
        "    pos.append(i)\r\n",
        "  i+=1\r\n",
        "\r\n",
        "\r\n",
        "print(ind)\r\n",
        "print(large)\r\n",
        "print(pos)\r\n",
        "print(len(ind))\r\n",
        "print(len(large))\r\n",
        "print(len(pos))"
      ],
      "execution_count": null,
      "outputs": [
        {
          "output_type": "stream",
          "text": [
            "[3, 2, 0, 3, 2, 5, 2, 2, 2, 2, 2, 4, 2, 2, 2, 2, 3, 2, 2, 3, 0, 2, 2, 2, 2, 3, 2, 2, 2, 2, 2, 2, 2, 2, 2, 2, 3, 3, 0, 3, 2, 3, 0, 2, 2, 2, 2, 2, 2, 3, 2, 2, 2, 2, 2, 3, 2, 2, 2, 2, 2, 2, 2]\n",
            "[0.9947927952120709, 0.9922317973114981, 0.9878514244042013, 0.9831798264789372, 0.9980536747266645, 0.9972865387310099, 0.9976776599714573, 0.9973776227687414, 0.986051091357452, 0.9988721027343721, 0.9985127432893122, 0.9963435337787794, 0.9971106913321891, 0.9975957441562014, 0.9941362362923144, 0.9988462297749349, 0.9983362583421823, 0.9984273379934862, 0.998443039080071, 0.9926898904244457, 0.9812606360573655, 0.9961394285204951, 0.9986601410561032, 0.9982774030702535, 0.9987522634971827, 0.9989784885575902, 0.9976292759793634, 0.998423347787355, 0.9987886760908469, 0.9983348067457569, 0.9986405134934695, 0.9954770082295563, 0.9984290503201688, 0.9866917442891964, 0.9968434782464667, 0.9962476370475055, 0.9845436457344883, 0.9974659107224642, 0.9894239220868654, 0.9954788888688589, 0.9987708314855175, 0.9950704837200643, 0.9973411492818259, 0.9986394395552024, 0.9973863073705066, 0.9985300532010153, 0.991611971691857, 0.9986423738389459, 0.9987410509084471, 0.9940201613233736, 0.9943883375303301, 0.9977094035553136, 0.9805050213775981, 0.9989704646386627, 0.9970183923471726, 0.9949579864355255, 0.9979795030724675, 0.996660146001575, 0.997196288546127, 0.9837764728003988, 0.9982689063273618, 0.9890140152002941, 0.9949094170180747]\n",
            "[0, 1, 2, 3, 4, 6, 7, 8, 9, 10, 11, 12, 15, 16, 17, 18, 20, 21, 22, 23, 25, 27, 29, 30, 31, 32, 34, 35, 37, 38, 40, 42, 49, 53, 55, 56, 57, 58, 59, 61, 63, 66, 67, 69, 70, 71, 72, 74, 75, 78, 79, 82, 83, 85, 87, 88, 89, 91, 93, 96, 97, 98, 99]\n",
            "63\n",
            "63\n",
            "63\n"
          ],
          "name": "stdout"
        }
      ]
    },
    {
      "cell_type": "code",
      "metadata": {
        "id": "-p3HfSQ2FwV_"
      },
      "source": [
        "unlabel_4=unlabel_4.loc[pos,:]"
      ],
      "execution_count": null,
      "outputs": []
    },
    {
      "cell_type": "code",
      "metadata": {
        "colab": {
          "base_uri": "https://localhost:8080/"
        },
        "id": "iR8Ghl7oF5E6",
        "outputId": "c3d2f9ce-7828-46cd-a6b1-fd8b1484e44b"
      },
      "source": [
        "frame_4 = [train10_3,unlabel_4]\r\n",
        "train10_4 = pd.concat(frame_4)\r\n",
        "len(train10_4)\r\n",
        "x_train_4 = tfidf_vect.transform(train10_4['Sentence'])\r\n",
        "X_train, x_val, Y_train, y_val = train_test_split(x_train_4,train10_4['Target'],test_size=0.27,random_state=42)\r\n",
        "support = RandomForestClassifier()\r\n",
        "clf = support.fit(X_train, Y_train)\r\n",
        "calibrator = CalibratedClassifierCV(clf, cv='prefit')\r\n",
        "model_4=calibrator.fit(X_train, Y_train)\r\n",
        "pred_svm = model_4.predict(x_val)\r\n",
        "print('Accuracy %s' % accuracy_score(pred_svm,y_val))\r\n",
        "print(classification_report(y_val,pred_svm))"
      ],
      "execution_count": null,
      "outputs": [
        {
          "output_type": "stream",
          "text": [
            "Accuracy 0.663681592039801\n",
            "                  precision    recall  f1-score   support\n",
            "\n",
            "        Analysis       0.51      0.32      0.39       146\n",
            "      Conclusion       0.74      0.47      0.57        53\n",
            "           Facts       0.71      0.87      0.78       525\n",
            "         Invalid       0.55      0.59      0.57       160\n",
            "           Issue       0.67      0.38      0.48        53\n",
            "Rule/Law/Holding       0.65      0.38      0.48        68\n",
            "\n",
            "        accuracy                           0.66      1005\n",
            "       macro avg       0.64      0.50      0.55      1005\n",
            "    weighted avg       0.65      0.66      0.64      1005\n",
            "\n"
          ],
          "name": "stdout"
        }
      ]
    },
    {
      "cell_type": "code",
      "metadata": {
        "colab": {
          "base_uri": "https://localhost:8080/"
        },
        "id": "LquDQOH_GPad",
        "outputId": "9eb73713-dab2-40b2-ae7c-767a2744f4a1"
      },
      "source": [
        "x_un5 = tfidf_vect.transform(unlabel_5['Sentence'])\r\n",
        "\r\n",
        "pred_unlabel_5 = model_4.predict_proba(x_un5)\r\n",
        "pos=[]\r\n",
        "large=[]\r\n",
        "ind = []\r\n",
        "i=0\r\n",
        "for j in pred_unlabel_5:\r\n",
        "  if max(j)> 0.98:\r\n",
        "    ind.append(np.argmax(j))\r\n",
        "    large.append(max(j))\r\n",
        "    pos.append(i)\r\n",
        "  i+=1\r\n",
        "\r\n",
        "\r\n",
        "print(ind)\r\n",
        "print(large)\r\n",
        "print(pos)\r\n",
        "print(len(ind))\r\n",
        "print(len(large))\r\n",
        "print(len(pos))"
      ],
      "execution_count": null,
      "outputs": [
        {
          "output_type": "stream",
          "text": [
            "[2, 3, 2, 3, 1, 2, 5, 3, 3, 2, 2, 2, 2, 2, 2, 2, 1, 2, 2, 1, 1, 2, 2, 2, 3, 3, 2, 3, 3, 2, 2, 2, 1, 2, 2, 2, 3, 2, 5, 3, 2, 2, 2, 2, 2, 2, 2, 2, 2, 2, 2, 2, 2, 3, 3, 0, 2, 3, 2, 2]\n",
            "[0.9989454458118044, 0.9988944453305719, 0.9933615237121325, 0.9973354791274438, 0.986895444195542, 0.9986342592542171, 0.9883234778056826, 0.9984790835192252, 0.9988944453305719, 0.9949104934953177, 0.9985154006655227, 0.9898952515785389, 0.9854225397478448, 0.9917963187395854, 0.9938739676392444, 0.9951784455298043, 0.999192273301865, 0.9988426974546482, 0.9955161242739858, 0.9982094141867911, 0.9908332636928052, 0.9960483240041882, 0.9987951972762629, 0.9987821146161957, 0.9987754087179749, 0.9988944453305719, 0.9985687778666963, 0.9978136466995357, 0.994940930614204, 0.9935252019006598, 0.9986831175280605, 0.9968597862676507, 0.999192273301865, 0.9859080629868926, 0.99648132251667, 0.9976142464806979, 0.9972622613612293, 0.9963741779447272, 0.9931443404591704, 0.9938776052778427, 0.9956012972096683, 0.9955192965999229, 0.9985566083636748, 0.9896013564560243, 0.9930405144044163, 0.998904433929141, 0.9927516085465483, 0.9981819200071353, 0.9985407262703306, 0.9988426974546482, 0.9963576935196815, 0.9947373893157485, 0.9981697744853557, 0.9924892200658099, 0.9961073624211907, 0.9923924857158394, 0.9865022110074256, 0.996284243279703, 0.9924967049126001, 0.990373016863568]\n",
            "[3, 5, 7, 8, 10, 17, 18, 19, 20, 22, 23, 26, 27, 28, 29, 30, 31, 32, 33, 36, 41, 50, 52, 53, 54, 55, 56, 57, 58, 59, 60, 63, 64, 65, 67, 68, 69, 73, 74, 76, 77, 78, 82, 84, 85, 86, 90, 92, 94, 95, 99, 101, 102, 106, 107, 110, 111, 115, 116, 118]\n",
            "60\n",
            "60\n",
            "60\n"
          ],
          "name": "stdout"
        }
      ]
    },
    {
      "cell_type": "code",
      "metadata": {
        "id": "P1MxKadbHypp"
      },
      "source": [
        "unlabel_5 = unlabel_5.loc[pos,:]"
      ],
      "execution_count": null,
      "outputs": []
    },
    {
      "cell_type": "code",
      "metadata": {
        "colab": {
          "base_uri": "https://localhost:8080/"
        },
        "id": "DKlIotQ2H59h",
        "outputId": "e77a5516-9b26-4dfe-b1fb-0b34faa4c4de"
      },
      "source": [
        "frame_5 = [train10_4,unlabel_5]\r\n",
        "train10_5 = pd.concat(frame_5)\r\n",
        "len(train10_5)\r\n",
        "x_train_5 = tfidf_vect.transform(train10_5['Sentence'])\r\n",
        "X_train, x_val, Y_train, y_val = train_test_split(x_train_5,train10_5['Target'],test_size=0.24,random_state=42)\r\n",
        "support = RandomForestClassifier()\r\n",
        "clf = support.fit(X_train, Y_train)\r\n",
        "calibrator = CalibratedClassifierCV(clf, cv='prefit')\r\n",
        "model_5=calibrator.fit(X_train, Y_train)\r\n",
        "pred_svm = model_5.predict(x_val)\r\n",
        "print('Accuracy %s' % accuracy_score(pred_svm,y_val))\r\n",
        "print(classification_report(y_val,pred_svm))"
      ],
      "execution_count": null,
      "outputs": [
        {
          "output_type": "stream",
          "text": [
            "Accuracy 0.6916299559471366\n",
            "                  precision    recall  f1-score   support\n",
            "\n",
            "        Analysis       0.53      0.42      0.47       124\n",
            "      Conclusion       0.85      0.52      0.65        44\n",
            "           Facts       0.72      0.89      0.80       485\n",
            "         Invalid       0.61      0.54      0.57       141\n",
            "           Issue       0.75      0.44      0.56        54\n",
            "Rule/Law/Holding       0.73      0.32      0.44        60\n",
            "\n",
            "        accuracy                           0.69       908\n",
            "       macro avg       0.70      0.52      0.58       908\n",
            "    weighted avg       0.69      0.69      0.67       908\n",
            "\n"
          ],
          "name": "stdout"
        }
      ]
    },
    {
      "cell_type": "code",
      "metadata": {
        "colab": {
          "base_uri": "https://localhost:8080/"
        },
        "id": "WwXcxHFUIBUX",
        "outputId": "7de25941-2690-4ffe-c525-2b631b18db0e"
      },
      "source": [
        "t_p = tfidf_vect.transform(test['Sentence'])\r\n",
        "test_pred = model_5.predict(t_p)\r\n",
        "print('Accuracy %s' % accuracy_score(test_pred,test['Target']))\r\n"
      ],
      "execution_count": null,
      "outputs": [
        {
          "output_type": "stream",
          "text": [
            "Accuracy 0.7658349328214972\n"
          ],
          "name": "stdout"
        }
      ]
    },
    {
      "cell_type": "code",
      "metadata": {
        "id": "i6lFWdudx5Rp",
        "colab": {
          "base_uri": "https://localhost:8080/"
        },
        "outputId": "068ab395-ba2d-4e6e-cbfb-a86ebf929b2a"
      },
      "source": [
        "from sklearn.metrics import precision_recall_fscore_support\r\n",
        "print(precision_recall_fscore_support(test['Target'],test_pred,average='macro'))"
      ],
      "execution_count": null,
      "outputs": [
        {
          "output_type": "stream",
          "text": [
            "(0.7612144991278619, 0.6608741222191719, 0.6990095198709868, None)\n"
          ],
          "name": "stdout"
        }
      ]
    }
  ]
}