{
  "nbformat": 4,
  "nbformat_minor": 0,
  "metadata": {
    "colab": {
      "name": "train9_rf.ipynb",
      "provenance": [],
      "authorship_tag": "ABX9TyMCUPGO9KHVri+t0pvXOJ3x",
      "include_colab_link": true
    },
    "kernelspec": {
      "name": "python3",
      "display_name": "Python 3"
    }
  },
  "cells": [
    {
      "cell_type": "markdown",
      "metadata": {
        "id": "view-in-github",
        "colab_type": "text"
      },
      "source": [
        "<a href=\"https://colab.research.google.com/github/sundarp17/semi-supervised/blob/main/train9_rf.ipynb\" target=\"_parent\"><img src=\"https://colab.research.google.com/assets/colab-badge.svg\" alt=\"Open In Colab\"/></a>"
      ]
    },
    {
      "cell_type": "code",
      "metadata": {
        "id": "BSNaH-G5e9XK"
      },
      "source": [
        "import numpy as np\r\n",
        "import pandas as pd"
      ],
      "execution_count": null,
      "outputs": []
    },
    {
      "cell_type": "code",
      "metadata": {
        "id": "yMMnSj98r48p"
      },
      "source": [
        "\r\n",
        "train9 = pd.read_csv(r'/content/train_data9.csv')\r\n",
        "test = pd.read_csv(r'/content/test_data.csv')"
      ],
      "execution_count": null,
      "outputs": []
    },
    {
      "cell_type": "code",
      "metadata": {
        "id": "YXsEmIOrr8sa"
      },
      "source": [
        "\r\n",
        "train9['Target'] = train9['Target'].replace(['Others'],'Invalid')\r\n"
      ],
      "execution_count": null,
      "outputs": []
    },
    {
      "cell_type": "code",
      "metadata": {
        "colab": {
          "base_uri": "https://localhost:8080/"
        },
        "id": "gyCyM6OHsExq",
        "outputId": "4f8e2b25-373b-406f-f7ad-4cbe6b54c93b"
      },
      "source": [
        "train9['Target'].unique()"
      ],
      "execution_count": null,
      "outputs": [
        {
          "output_type": "execute_result",
          "data": {
            "text/plain": [
              "array(['Invalid', 'Issue', 'Analysis', 'Facts', 'Conclusion',\n",
              "       'Rule/Law/Holding'], dtype=object)"
            ]
          },
          "metadata": {
            "tags": []
          },
          "execution_count": 4
        }
      ]
    },
    {
      "cell_type": "code",
      "metadata": {
        "colab": {
          "base_uri": "https://localhost:8080/"
        },
        "id": "XRWq-Ak9sGCr",
        "outputId": "f2d0b5f1-0ff9-45f9-cb45-d0c55c0a73fa"
      },
      "source": [
        "#cleaning\r\n",
        "import nltk\r\n",
        "import re\r\n",
        "import string\r\n",
        "nltk.download('stopwords')\r\n",
        "nltk.download('wordnet')\r\n",
        "stopword=nltk.corpus.stopwords.words('english')\r\n",
        "from nltk.stem import WordNetLemmatizer\r\n",
        "wl= WordNetLemmatizer()\r\n",
        "\r\n",
        "def clean_text(text):\r\n",
        "  text=\"\".join([word.lower() for word in text if word not in string.punctuation])\r\n",
        "  tokens = re.split('\\W+',text)\r\n",
        "  text = [wl.lemmatize(word) for word in tokens if word not in stopword]\r\n",
        "  return text"
      ],
      "execution_count": null,
      "outputs": [
        {
          "output_type": "stream",
          "text": [
            "[nltk_data] Downloading package stopwords to /root/nltk_data...\n",
            "[nltk_data]   Unzipping corpora/stopwords.zip.\n",
            "[nltk_data] Downloading package wordnet to /root/nltk_data...\n",
            "[nltk_data]   Unzipping corpora/wordnet.zip.\n"
          ],
          "name": "stdout"
        }
      ]
    },
    {
      "cell_type": "code",
      "metadata": {
        "id": "fAVBbrf8sLpd"
      },
      "source": [
        "from sklearn.feature_extraction.text import TfidfVectorizer\r\n",
        "\r\n",
        "tfidf_vect = TfidfVectorizer(analyzer = clean_text)\r\n",
        "\r\n",
        "train9_Xtfidf = tfidf_vect.fit_transform(train9['Sentence'])\r\n"
      ],
      "execution_count": null,
      "outputs": []
    },
    {
      "cell_type": "code",
      "metadata": {
        "id": "LiDNOGMlsXjn"
      },
      "source": [
        "test['Target']=test['Target'].replace(['Others'],'Invalid')\r\n",
        "test['Sentence'] = test['Sentence'].apply(lambda x: \" \".join(x.lower() for x in str(x).split()))\r\n",
        "test['Sentence'] = test['Sentence'].str.replace('[^\\w\\s]','')\r\n",
        "from nltk.corpus import stopwords\r\n",
        "words = stopwords.words('english')\r\n",
        "test['Sentence'] = test['Sentence'].apply(lambda x: \" \".join(x for x in x.split() if x not in words))"
      ],
      "execution_count": null,
      "outputs": []
    },
    {
      "cell_type": "code",
      "metadata": {
        "colab": {
          "base_uri": "https://localhost:8080/"
        },
        "id": "kiXsxzUysh_t",
        "outputId": "51d3603c-12e3-411f-f7e1-891bc7e9e8c5"
      },
      "source": [
        "unlabel_1 = test.loc[:100]\r\n",
        "print(\"length of unlabel_1\",len(unlabel_1))\r\n",
        "unlabel_2 = test.loc[101:200]\r\n",
        "print(\"length of unlabel_2\",len(unlabel_2))\r\n",
        "unlabel_3 = test.loc[201:300]\r\n",
        "print(\"length of unlabel_3\",len(unlabel_3))\r\n",
        "unlabel_4 = test.loc[301:400]\r\n",
        "print(\"length of unlabel_4\",len(unlabel_4))\r\n",
        "unlabel_5 = test.loc[401:]\r\n",
        "print(\"length of unlabel_5\",len(unlabel_5))"
      ],
      "execution_count": null,
      "outputs": [
        {
          "output_type": "stream",
          "text": [
            "length of unlabel_1 101\n",
            "length of unlabel_2 100\n",
            "length of unlabel_3 100\n",
            "length of unlabel_4 100\n",
            "length of unlabel_5 120\n"
          ],
          "name": "stdout"
        }
      ]
    },
    {
      "cell_type": "code",
      "metadata": {
        "colab": {
          "base_uri": "https://localhost:8080/",
          "height": 195
        },
        "id": "fjmpfwMKsnAk",
        "outputId": "ff3efa4f-8500-49c9-ec14-71c0103e9180"
      },
      "source": [
        "unlabel_2.reset_index(inplace=True)\r\n",
        "del unlabel_2['index']\r\n",
        "unlabel_2.head()"
      ],
      "execution_count": null,
      "outputs": [
        {
          "output_type": "execute_result",
          "data": {
            "text/html": [
              "<div>\n",
              "<style scoped>\n",
              "    .dataframe tbody tr th:only-of-type {\n",
              "        vertical-align: middle;\n",
              "    }\n",
              "\n",
              "    .dataframe tbody tr th {\n",
              "        vertical-align: top;\n",
              "    }\n",
              "\n",
              "    .dataframe thead th {\n",
              "        text-align: right;\n",
              "    }\n",
              "</style>\n",
              "<table border=\"1\" class=\"dataframe\">\n",
              "  <thead>\n",
              "    <tr style=\"text-align: right;\">\n",
              "      <th></th>\n",
              "      <th>Unnamed: 0</th>\n",
              "      <th>Sentence</th>\n",
              "      <th>Target</th>\n",
              "    </tr>\n",
              "  </thead>\n",
              "  <tbody>\n",
              "    <tr>\n",
              "      <th>0</th>\n",
              "      <td>1207</td>\n",
              "      <td>examination occurred night middle may testifie...</td>\n",
              "      <td>Invalid</td>\n",
              "    </tr>\n",
              "    <tr>\n",
              "      <th>1</th>\n",
              "      <td>3400</td>\n",
              "      <td>undisputed testimony reflects appellant drivin...</td>\n",
              "      <td>Facts</td>\n",
              "    </tr>\n",
              "    <tr>\n",
              "      <th>2</th>\n",
              "      <td>2072</td>\n",
              "      <td>appellant testify offer evidence behalf</td>\n",
              "      <td>Facts</td>\n",
              "    </tr>\n",
              "    <tr>\n",
              "      <th>3</th>\n",
              "      <td>517</td>\n",
              "      <td>56 uniform act regulating traffic highways gis...</td>\n",
              "      <td>Rule/Law/Holding</td>\n",
              "    </tr>\n",
              "    <tr>\n",
              "      <th>4</th>\n",
              "      <td>906</td>\n",
              "      <td>agreed accompany gave pawn ticket money reclai...</td>\n",
              "      <td>Facts</td>\n",
              "    </tr>\n",
              "  </tbody>\n",
              "</table>\n",
              "</div>"
            ],
            "text/plain": [
              "   Unnamed: 0  ...            Target\n",
              "0        1207  ...           Invalid\n",
              "1        3400  ...             Facts\n",
              "2        2072  ...             Facts\n",
              "3         517  ...  Rule/Law/Holding\n",
              "4         906  ...             Facts\n",
              "\n",
              "[5 rows x 3 columns]"
            ]
          },
          "metadata": {
            "tags": []
          },
          "execution_count": 9
        }
      ]
    },
    {
      "cell_type": "code",
      "metadata": {
        "colab": {
          "base_uri": "https://localhost:8080/",
          "height": 195
        },
        "id": "or3mI32wsupE",
        "outputId": "817bfcb3-8649-4180-df49-0d0013f475dc"
      },
      "source": [
        "unlabel_3.reset_index(inplace=True)\r\n",
        "del unlabel_3['index']\r\n",
        "unlabel_3.head()"
      ],
      "execution_count": null,
      "outputs": [
        {
          "output_type": "execute_result",
          "data": {
            "text/html": [
              "<div>\n",
              "<style scoped>\n",
              "    .dataframe tbody tr th:only-of-type {\n",
              "        vertical-align: middle;\n",
              "    }\n",
              "\n",
              "    .dataframe tbody tr th {\n",
              "        vertical-align: top;\n",
              "    }\n",
              "\n",
              "    .dataframe thead th {\n",
              "        text-align: right;\n",
              "    }\n",
              "</style>\n",
              "<table border=\"1\" class=\"dataframe\">\n",
              "  <thead>\n",
              "    <tr style=\"text-align: right;\">\n",
              "      <th></th>\n",
              "      <th>Unnamed: 0</th>\n",
              "      <th>Sentence</th>\n",
              "      <th>Target</th>\n",
              "    </tr>\n",
              "  </thead>\n",
              "  <tbody>\n",
              "    <tr>\n",
              "      <th>0</th>\n",
              "      <td>1882</td>\n",
              "      <td>find evidence amply sufficient sustain juryâs ...</td>\n",
              "      <td>Analysis</td>\n",
              "    </tr>\n",
              "    <tr>\n",
              "      <th>1</th>\n",
              "      <td>964</td>\n",
              "      <td>actions show thatâ</td>\n",
              "      <td>Invalid</td>\n",
              "    </tr>\n",
              "    <tr>\n",
              "      <th>2</th>\n",
              "      <td>1417</td>\n",
              "      <td>certification attending physician shown filed ...</td>\n",
              "      <td>Facts</td>\n",
              "    </tr>\n",
              "    <tr>\n",
              "      <th>3</th>\n",
              "      <td>2932</td>\n",
              "      <td>testified agent bland first left automobile wa...</td>\n",
              "      <td>Facts</td>\n",
              "    </tr>\n",
              "    <tr>\n",
              "      <th>4</th>\n",
              "      <td>1584</td>\n",
              "      <td>officer testified could smell odor alcohol app...</td>\n",
              "      <td>Facts</td>\n",
              "    </tr>\n",
              "  </tbody>\n",
              "</table>\n",
              "</div>"
            ],
            "text/plain": [
              "   Unnamed: 0                                           Sentence    Target\n",
              "0        1882  find evidence amply sufficient sustain juryâs ...  Analysis\n",
              "1         964                                 actions show thatâ   Invalid\n",
              "2        1417  certification attending physician shown filed ...     Facts\n",
              "3        2932  testified agent bland first left automobile wa...     Facts\n",
              "4        1584  officer testified could smell odor alcohol app...     Facts"
            ]
          },
          "metadata": {
            "tags": []
          },
          "execution_count": 10
        }
      ]
    },
    {
      "cell_type": "code",
      "metadata": {
        "colab": {
          "base_uri": "https://localhost:8080/",
          "height": 195
        },
        "id": "2xe3MWluszTz",
        "outputId": "d611dc27-8e07-4fc7-9d3a-25362898ca71"
      },
      "source": [
        "unlabel_4.reset_index(inplace=True)\r\n",
        "del unlabel_4['index']\r\n",
        "unlabel_4.head()"
      ],
      "execution_count": null,
      "outputs": [
        {
          "output_type": "execute_result",
          "data": {
            "text/html": [
              "<div>\n",
              "<style scoped>\n",
              "    .dataframe tbody tr th:only-of-type {\n",
              "        vertical-align: middle;\n",
              "    }\n",
              "\n",
              "    .dataframe tbody tr th {\n",
              "        vertical-align: top;\n",
              "    }\n",
              "\n",
              "    .dataframe thead th {\n",
              "        text-align: right;\n",
              "    }\n",
              "</style>\n",
              "<table border=\"1\" class=\"dataframe\">\n",
              "  <thead>\n",
              "    <tr style=\"text-align: right;\">\n",
              "      <th></th>\n",
              "      <th>Unnamed: 0</th>\n",
              "      <th>Sentence</th>\n",
              "      <th>Target</th>\n",
              "    </tr>\n",
              "  </thead>\n",
              "  <tbody>\n",
              "    <tr>\n",
              "      <th>0</th>\n",
              "      <td>266</td>\n",
              "      <td>section 6 pl</td>\n",
              "      <td>Invalid</td>\n",
              "    </tr>\n",
              "    <tr>\n",
              "      <th>1</th>\n",
              "      <td>3469</td>\n",
              "      <td>amended answer appellant alleged bond invalid ...</td>\n",
              "      <td>Analysis</td>\n",
              "    </tr>\n",
              "    <tr>\n",
              "      <th>2</th>\n",
              "      <td>1471</td>\n",
              "      <td>evidence sufficient support conviction appella...</td>\n",
              "      <td>Analysis</td>\n",
              "    </tr>\n",
              "    <tr>\n",
              "      <th>3</th>\n",
              "      <td>1990</td>\n",
              "      <td>cases cited note 19</td>\n",
              "      <td>Invalid</td>\n",
              "    </tr>\n",
              "    <tr>\n",
              "      <th>4</th>\n",
              "      <td>2757</td>\n",
              "      <td>july 8 1960 order entered revoking said probat...</td>\n",
              "      <td>Facts</td>\n",
              "    </tr>\n",
              "  </tbody>\n",
              "</table>\n",
              "</div>"
            ],
            "text/plain": [
              "   Unnamed: 0                                           Sentence    Target\n",
              "0         266                                       section 6 pl   Invalid\n",
              "1        3469  amended answer appellant alleged bond invalid ...  Analysis\n",
              "2        1471  evidence sufficient support conviction appella...  Analysis\n",
              "3        1990                                cases cited note 19   Invalid\n",
              "4        2757  july 8 1960 order entered revoking said probat...     Facts"
            ]
          },
          "metadata": {
            "tags": []
          },
          "execution_count": 11
        }
      ]
    },
    {
      "cell_type": "code",
      "metadata": {
        "colab": {
          "base_uri": "https://localhost:8080/",
          "height": 195
        },
        "id": "-dCJpImWtH8K",
        "outputId": "8320417b-6bba-436c-f5e3-e4c647f5e42b"
      },
      "source": [
        "unlabel_5.reset_index(inplace=True)\r\n",
        "del unlabel_5['index']\r\n",
        "unlabel_5.head()"
      ],
      "execution_count": null,
      "outputs": [
        {
          "output_type": "execute_result",
          "data": {
            "text/html": [
              "<div>\n",
              "<style scoped>\n",
              "    .dataframe tbody tr th:only-of-type {\n",
              "        vertical-align: middle;\n",
              "    }\n",
              "\n",
              "    .dataframe tbody tr th {\n",
              "        vertical-align: top;\n",
              "    }\n",
              "\n",
              "    .dataframe thead th {\n",
              "        text-align: right;\n",
              "    }\n",
              "</style>\n",
              "<table border=\"1\" class=\"dataframe\">\n",
              "  <thead>\n",
              "    <tr style=\"text-align: right;\">\n",
              "      <th></th>\n",
              "      <th>Unnamed: 0</th>\n",
              "      <th>Sentence</th>\n",
              "      <th>Target</th>\n",
              "    </tr>\n",
              "  </thead>\n",
              "  <tbody>\n",
              "    <tr>\n",
              "      <th>0</th>\n",
              "      <td>2979</td>\n",
              "      <td>overrule appellantâs contention court erred pe...</td>\n",
              "      <td>Analysis</td>\n",
              "    </tr>\n",
              "    <tr>\n",
              "      <th>1</th>\n",
              "      <td>2135</td>\n",
              "      <td>state regarded authority case</td>\n",
              "      <td>Invalid</td>\n",
              "    </tr>\n",
              "    <tr>\n",
              "      <th>2</th>\n",
              "      <td>1591</td>\n",
              "      <td>testimony adduced appellant mother lillie mae ...</td>\n",
              "      <td>Facts</td>\n",
              "    </tr>\n",
              "    <tr>\n",
              "      <th>3</th>\n",
              "      <td>658</td>\n",
              "      <td>appellant needle marks inside left elbow</td>\n",
              "      <td>Facts</td>\n",
              "    </tr>\n",
              "    <tr>\n",
              "      <th>4</th>\n",
              "      <td>2562</td>\n",
              "      <td>analysis contents 3 capsules chemist kenneth a...</td>\n",
              "      <td>Facts</td>\n",
              "    </tr>\n",
              "  </tbody>\n",
              "</table>\n",
              "</div>"
            ],
            "text/plain": [
              "   Unnamed: 0                                           Sentence    Target\n",
              "0        2979  overrule appellantâs contention court erred pe...  Analysis\n",
              "1        2135                      state regarded authority case   Invalid\n",
              "2        1591  testimony adduced appellant mother lillie mae ...     Facts\n",
              "3         658           appellant needle marks inside left elbow     Facts\n",
              "4        2562  analysis contents 3 capsules chemist kenneth a...     Facts"
            ]
          },
          "metadata": {
            "tags": []
          },
          "execution_count": 12
        }
      ]
    },
    {
      "cell_type": "code",
      "metadata": {
        "colab": {
          "base_uri": "https://localhost:8080/"
        },
        "id": "Nep-udrpCJOC",
        "outputId": "e90b2f05-0de7-43ae-9744-97934d9e9535"
      },
      "source": [
        "from sklearn.model_selection import train_test_split\r\n",
        "from sklearn.ensemble import RandomForestClassifier\r\n",
        "from sklearn.metrics import accuracy_score\r\n",
        "from sklearn.metrics import classification_report\r\n",
        "from sklearn.calibration import CalibratedClassifierCV\r\n",
        "\r\n",
        "\r\n",
        "X_train, x_val, Y_train, y_val = train_test_split(train9_Xtfidf,train9['Target'],test_size=0.26,random_state=42)\r\n",
        "support = RandomForestClassifier()\r\n",
        "clf =support.fit(X_train, Y_train)\r\n",
        "calibrator = CalibratedClassifierCV(clf, cv='prefit')\r\n",
        "model=calibrator.fit(X_train, Y_train)\r\n",
        "pred_svm = model.predict(x_val)\r\n",
        "print('Accuracy %s' % accuracy_score(pred_svm,y_val))\r\n",
        "print(classification_report(y_val,pred_svm))"
      ],
      "execution_count": null,
      "outputs": [
        {
          "output_type": "stream",
          "text": [
            "Accuracy 0.6504424778761062\n",
            "                  precision    recall  f1-score   support\n",
            "\n",
            "        Analysis       0.49      0.35      0.41       127\n",
            "      Conclusion       0.64      0.33      0.44        48\n",
            "           Facts       0.72      0.87      0.79       476\n",
            "         Invalid       0.49      0.53      0.51       131\n",
            "           Issue       0.54      0.38      0.45        52\n",
            "Rule/Law/Holding       0.73      0.31      0.44        70\n",
            "\n",
            "        accuracy                           0.65       904\n",
            "       macro avg       0.60      0.47      0.51       904\n",
            "    weighted avg       0.64      0.65      0.63       904\n",
            "\n"
          ],
          "name": "stdout"
        }
      ]
    },
    {
      "cell_type": "code",
      "metadata": {
        "id": "7r9d3GPtCuWA"
      },
      "source": [
        "x_un1 = tfidf_vect.transform(unlabel_1['Sentence'])\r\n",
        "pred_unlabel_1 = model.predict_proba(x_un1)"
      ],
      "execution_count": null,
      "outputs": []
    },
    {
      "cell_type": "code",
      "metadata": {
        "colab": {
          "base_uri": "https://localhost:8080/"
        },
        "id": "wFMRO90AC6d2",
        "outputId": "957ae8e2-acf0-4fee-fd72-70acebf973db"
      },
      "source": [
        "import numpy as np\r\n",
        "pos=[]\r\n",
        "large=[]\r\n",
        "ind = []\r\n",
        "i=0\r\n",
        "for j in pred_unlabel_1:\r\n",
        "  if max(j)> 0.98:\r\n",
        "    ind.append(np.argmax(j))\r\n",
        "    large.append(max(j))\r\n",
        "    pos.append(i)\r\n",
        "  i+=1\r\n",
        "\r\n",
        "\r\n",
        "print(ind)\r\n",
        "print(large)\r\n",
        "print(pos)\r\n",
        "print(len(ind))\r\n",
        "print(len(large))\r\n",
        "print(len(pos))"
      ],
      "execution_count": null,
      "outputs": [
        {
          "output_type": "stream",
          "text": [
            "[2, 0, 3, 3, 2, 2, 1, 3, 0, 2, 2, 2, 2, 2, 2, 2, 3, 2, 3, 3, 2, 2, 0, 1, 2, 2, 2, 2, 2, 2, 2, 3, 3, 2, 2, 2, 2, 2, 2, 2, 2, 2, 3, 2, 1, 3, 3, 2, 2, 2, 2, 2, 2, 2, 2, 2, 3, 2]\n",
            "[0.9972440293444291, 0.9964979025035215, 0.9961330968955769, 0.9983724526346707, 0.9986315320614843, 0.9920193987897329, 0.9820093866955332, 0.9986031131101668, 0.9904676927229271, 0.9977494900405155, 0.9922395398431559, 0.9843102167775232, 0.995611843390831, 0.996991772546113, 0.9932791838053627, 0.9887684357766177, 0.9958874418552041, 0.9960255929111506, 0.9961606719784224, 0.9986450003667924, 0.9963860124674282, 0.9972299582897722, 0.9958456151017819, 0.9990950173917988, 0.9982844842565749, 0.9952543541117063, 0.9964282111708676, 0.9925750414184288, 0.9926998399059127, 0.9876768519284489, 0.9913922054805677, 0.9922176632859185, 0.9959266478097593, 0.99638816106161, 0.9824234874513426, 0.9973332301473028, 0.9963804181235976, 0.9927353315762582, 0.9965979433928385, 0.9880508493848118, 0.9984792800011134, 0.9954446173443564, 0.9979331601223099, 0.9985038139584663, 0.9832449724903883, 0.9952735845641026, 0.995782487977477, 0.9839293246814762, 0.9960663958140424, 0.996217881686073, 0.9977363982002734, 0.9960045453775332, 0.9876904997040942, 0.9979026987173187, 0.9985948573336775, 0.997661532784023, 0.9978531628974044, 0.9899924189301433]\n",
            "[0, 1, 2, 4, 5, 6, 7, 8, 10, 11, 12, 14, 16, 17, 19, 21, 22, 23, 25, 26, 28, 29, 30, 31, 34, 36, 37, 39, 40, 41, 48, 49, 51, 52, 54, 55, 56, 57, 59, 60, 62, 70, 72, 76, 78, 80, 84, 86, 87, 88, 89, 91, 93, 94, 95, 96, 98, 99]\n",
            "58\n",
            "58\n",
            "58\n"
          ],
          "name": "stdout"
        }
      ]
    },
    {
      "cell_type": "code",
      "metadata": {
        "colab": {
          "base_uri": "https://localhost:8080/",
          "height": 195
        },
        "id": "WQo3GF7nC_7W",
        "outputId": "b96b9bc2-f278-47ca-ab35-845724425865"
      },
      "source": [
        "unlabel_1=unlabel_1.loc[pos,:]\r\n",
        "unlabel_1.head()"
      ],
      "execution_count": null,
      "outputs": [
        {
          "output_type": "execute_result",
          "data": {
            "text/html": [
              "<div>\n",
              "<style scoped>\n",
              "    .dataframe tbody tr th:only-of-type {\n",
              "        vertical-align: middle;\n",
              "    }\n",
              "\n",
              "    .dataframe tbody tr th {\n",
              "        vertical-align: top;\n",
              "    }\n",
              "\n",
              "    .dataframe thead th {\n",
              "        text-align: right;\n",
              "    }\n",
              "</style>\n",
              "<table border=\"1\" class=\"dataframe\">\n",
              "  <thead>\n",
              "    <tr style=\"text-align: right;\">\n",
              "      <th></th>\n",
              "      <th>Unnamed: 0</th>\n",
              "      <th>Sentence</th>\n",
              "      <th>Target</th>\n",
              "    </tr>\n",
              "  </thead>\n",
              "  <tbody>\n",
              "    <tr>\n",
              "      <th>0</th>\n",
              "      <td>2173</td>\n",
              "      <td>darden sr testified âœi saw staggering â prett...</td>\n",
              "      <td>Facts</td>\n",
              "    </tr>\n",
              "    <tr>\n",
              "      <th>1</th>\n",
              "      <td>466</td>\n",
              "      <td>additional moral justification may due complai...</td>\n",
              "      <td>Analysis</td>\n",
              "    </tr>\n",
              "    <tr>\n",
              "      <th>2</th>\n",
              "      <td>525</td>\n",
              "      <td>85 22 sw 140 wherein accused acting upon advic...</td>\n",
              "      <td>Rule/Law/Holding</td>\n",
              "    </tr>\n",
              "    <tr>\n",
              "      <th>4</th>\n",
              "      <td>79</td>\n",
              "      <td>eligible leaves renew contacts family</td>\n",
              "      <td>Facts</td>\n",
              "    </tr>\n",
              "    <tr>\n",
              "      <th>5</th>\n",
              "      <td>1955</td>\n",
              "      <td>got downstairs ponce went car wife left home</td>\n",
              "      <td>Facts</td>\n",
              "    </tr>\n",
              "  </tbody>\n",
              "</table>\n",
              "</div>"
            ],
            "text/plain": [
              "   Unnamed: 0  ...            Target\n",
              "0        2173  ...             Facts\n",
              "1         466  ...          Analysis\n",
              "2         525  ...  Rule/Law/Holding\n",
              "4          79  ...             Facts\n",
              "5        1955  ...             Facts\n",
              "\n",
              "[5 rows x 3 columns]"
            ]
          },
          "metadata": {
            "tags": []
          },
          "execution_count": 19
        }
      ]
    },
    {
      "cell_type": "code",
      "metadata": {
        "colab": {
          "base_uri": "https://localhost:8080/"
        },
        "id": "vfZ0vrIMDje2",
        "outputId": "b64b96d0-1996-4e3f-c20c-8427de1b2fd1"
      },
      "source": [
        "frame_1 = [train9,unlabel_1]\r\n",
        "train9_1 = pd.concat(frame_1)\r\n",
        "len(train9_1)"
      ],
      "execution_count": null,
      "outputs": [
        {
          "output_type": "execute_result",
          "data": {
            "text/plain": [
              "3534"
            ]
          },
          "metadata": {
            "tags": []
          },
          "execution_count": 20
        }
      ]
    },
    {
      "cell_type": "code",
      "metadata": {
        "colab": {
          "base_uri": "https://localhost:8080/"
        },
        "id": "a5zkcYr5Dvoc",
        "outputId": "29ad22b3-b330-4f35-81f0-7f38e16a3f50"
      },
      "source": [
        "x_train_1 = tfidf_vect.transform(train9_1['Sentence'])\r\n",
        "x_train_1.shape\r\n",
        "X_train, x_val, Y_train, y_val = train_test_split(x_train_1,train9_1['Target'],test_size=0.2,random_state=42)\r\n",
        "support = RandomForestClassifier()\r\n",
        "clf = support.fit(X_train, Y_train)\r\n",
        "calibrator = CalibratedClassifierCV(clf, cv='prefit')\r\n",
        "model_1=calibrator.fit(X_train, Y_train)\r\n",
        "pred_svm = model_1.predict(x_val)\r\n",
        "print('Accuracy %s' % accuracy_score(pred_svm,y_val))\r\n",
        "print(classification_report(y_val,pred_svm))"
      ],
      "execution_count": null,
      "outputs": [
        {
          "output_type": "stream",
          "text": [
            "Accuracy 0.652050919377652\n",
            "                  precision    recall  f1-score   support\n",
            "\n",
            "        Analysis       0.36      0.38      0.37        92\n",
            "      Conclusion       0.67      0.40      0.50        30\n",
            "           Facts       0.75      0.83      0.79       387\n",
            "         Invalid       0.55      0.57      0.56       107\n",
            "           Issue       0.64      0.38      0.48        42\n",
            "Rule/Law/Holding       0.52      0.29      0.37        49\n",
            "\n",
            "        accuracy                           0.65       707\n",
            "       macro avg       0.58      0.48      0.51       707\n",
            "    weighted avg       0.64      0.65      0.64       707\n",
            "\n"
          ],
          "name": "stdout"
        }
      ]
    },
    {
      "cell_type": "code",
      "metadata": {
        "colab": {
          "base_uri": "https://localhost:8080/"
        },
        "id": "QEY_x7YFD9D4",
        "outputId": "3d57b867-14a0-4922-a7a6-1e487bb88784"
      },
      "source": [
        "x_un2 = tfidf_vect.transform(unlabel_2['Sentence'])\r\n",
        "pred_unlabel_2 = model_1.predict_proba(x_un2)\r\n",
        "pos=[]\r\n",
        "large=[]\r\n",
        "ind = []\r\n",
        "i=0\r\n",
        "for j in pred_unlabel_2:\r\n",
        "  if max(j)> 0.98:\r\n",
        "    ind.append(np.argmax(j))\r\n",
        "    large.append(max(j))\r\n",
        "    pos.append(i)\r\n",
        "  i+=1\r\n",
        "\r\n",
        "\r\n",
        "print(ind)\r\n",
        "print(large)\r\n",
        "print(pos)\r\n",
        "print(len(ind))\r\n",
        "print(len(large))\r\n",
        "print(len(pos))"
      ],
      "execution_count": null,
      "outputs": [
        {
          "output_type": "stream",
          "text": [
            "[2, 2, 2, 2, 2, 2, 2, 2, 2, 2, 2, 2, 2, 2, 2, 2, 2, 3, 3, 3, 1, 1, 2, 2, 2, 2, 2, 2, 2, 3, 2, 2, 2, 2, 2, 3, 3, 3, 3, 2, 2, 2, 5, 3, 5, 2]\n",
            "[0.9978674574238234, 0.9988537372132273, 0.9896424866944035, 0.9919786824839953, 0.9978220678483234, 0.9984889264176025, 0.9966575022416814, 0.9986893504729666, 0.9904502792734791, 0.9984631946171051, 0.995762900939057, 0.9851592272689178, 0.9891720062454739, 0.9965336873507544, 0.9974080158399845, 0.9914273911365082, 0.9987836246971236, 0.9864358488471147, 0.9987426058269998, 0.9984677750039936, 0.9882758897218279, 0.9967362941152444, 0.9945022266293827, 0.9965297801835389, 0.9952023115762496, 0.9987836246971236, 0.9907172385594547, 0.9986962337146392, 0.9988433756467976, 0.9841147777531081, 0.9982574923471733, 0.9987391889064543, 0.9921091589791899, 0.9947379570066978, 0.9945910677726814, 0.9966154311545249, 0.9927077065412296, 0.9985898138942831, 0.9985427879920199, 0.9955903718902918, 0.9958959947970004, 0.997426196590502, 0.9989773853896411, 0.9904192340629386, 0.9820030299954458, 0.9983060341917256]\n",
            "[1, 2, 3, 5, 6, 7, 8, 12, 15, 17, 20, 23, 25, 26, 29, 32, 37, 40, 42, 46, 49, 52, 54, 55, 56, 59, 60, 63, 64, 65, 66, 69, 70, 71, 77, 78, 79, 80, 83, 86, 88, 91, 93, 95, 98, 99]\n",
            "46\n",
            "46\n",
            "46\n"
          ],
          "name": "stdout"
        }
      ]
    },
    {
      "cell_type": "code",
      "metadata": {
        "colab": {
          "base_uri": "https://localhost:8080/",
          "height": 195
        },
        "id": "cuHrgR4KEEh5",
        "outputId": "63273cfd-1aff-4981-c86d-678fc9ec7ffd"
      },
      "source": [
        "unlabel_2 = unlabel_2.loc[pos,:]\r\n",
        "unlabel_2.head()"
      ],
      "execution_count": null,
      "outputs": [
        {
          "output_type": "execute_result",
          "data": {
            "text/html": [
              "<div>\n",
              "<style scoped>\n",
              "    .dataframe tbody tr th:only-of-type {\n",
              "        vertical-align: middle;\n",
              "    }\n",
              "\n",
              "    .dataframe tbody tr th {\n",
              "        vertical-align: top;\n",
              "    }\n",
              "\n",
              "    .dataframe thead th {\n",
              "        text-align: right;\n",
              "    }\n",
              "</style>\n",
              "<table border=\"1\" class=\"dataframe\">\n",
              "  <thead>\n",
              "    <tr style=\"text-align: right;\">\n",
              "      <th></th>\n",
              "      <th>Unnamed: 0</th>\n",
              "      <th>Sentence</th>\n",
              "      <th>Target</th>\n",
              "    </tr>\n",
              "  </thead>\n",
              "  <tbody>\n",
              "    <tr>\n",
              "      <th>1</th>\n",
              "      <td>3400</td>\n",
              "      <td>undisputed testimony reflects appellant drivin...</td>\n",
              "      <td>Facts</td>\n",
              "    </tr>\n",
              "    <tr>\n",
              "      <th>2</th>\n",
              "      <td>2072</td>\n",
              "      <td>appellant testify offer evidence behalf</td>\n",
              "      <td>Facts</td>\n",
              "    </tr>\n",
              "    <tr>\n",
              "      <th>3</th>\n",
              "      <td>517</td>\n",
              "      <td>56 uniform act regulating traffic highways gis...</td>\n",
              "      <td>Rule/Law/Holding</td>\n",
              "    </tr>\n",
              "    <tr>\n",
              "      <th>5</th>\n",
              "      <td>2278</td>\n",
              "      <td>evidence state appellant shows appellant alleg...</td>\n",
              "      <td>Analysis</td>\n",
              "    </tr>\n",
              "    <tr>\n",
              "      <th>6</th>\n",
              "      <td>570</td>\n",
              "      <td>appellant performed work asked 7500 money ther...</td>\n",
              "      <td>Facts</td>\n",
              "    </tr>\n",
              "  </tbody>\n",
              "</table>\n",
              "</div>"
            ],
            "text/plain": [
              "   Unnamed: 0  ...            Target\n",
              "1        3400  ...             Facts\n",
              "2        2072  ...             Facts\n",
              "3         517  ...  Rule/Law/Holding\n",
              "5        2278  ...          Analysis\n",
              "6         570  ...             Facts\n",
              "\n",
              "[5 rows x 3 columns]"
            ]
          },
          "metadata": {
            "tags": []
          },
          "execution_count": 23
        }
      ]
    },
    {
      "cell_type": "code",
      "metadata": {
        "colab": {
          "base_uri": "https://localhost:8080/"
        },
        "id": "0QOzPxMPER3c",
        "outputId": "acbfc934-a456-402e-ad72-f6d3aa20c01f"
      },
      "source": [
        "frame_2 = [train9_1,unlabel_2]\r\n",
        "train9_2 = pd.concat(frame_2)\r\n",
        "len(train9_2)"
      ],
      "execution_count": null,
      "outputs": [
        {
          "output_type": "execute_result",
          "data": {
            "text/plain": [
              "3580"
            ]
          },
          "metadata": {
            "tags": []
          },
          "execution_count": 24
        }
      ]
    },
    {
      "cell_type": "code",
      "metadata": {
        "colab": {
          "base_uri": "https://localhost:8080/"
        },
        "id": "hSaWvUz4EbM3",
        "outputId": "d9e820be-20b8-4d17-feb9-98597e037e20"
      },
      "source": [
        "x_train_2 = tfidf_vect.transform(train9_2['Sentence'])\r\n",
        "X_train, x_val, Y_train, y_val = train_test_split(x_train_2,train9_2['Target'],test_size=0.27,random_state=2)\r\n",
        "support = RandomForestClassifier()\r\n",
        "clf = support.fit(X_train, Y_train)\r\n",
        "calibrator = CalibratedClassifierCV(clf, cv='prefit')\r\n",
        "model_2=calibrator.fit(X_train, Y_train)\r\n",
        "pred_svm = model_2.predict(x_val)\r\n",
        "print('Accuracy %s' % accuracy_score(pred_svm,y_val))\r\n",
        "print(classification_report(y_val,pred_svm))"
      ],
      "execution_count": null,
      "outputs": [
        {
          "output_type": "stream",
          "text": [
            "Accuracy 0.6349534643226473\n",
            "                  precision    recall  f1-score   support\n",
            "\n",
            "        Analysis       0.50      0.33      0.40       150\n",
            "      Conclusion       0.75      0.41      0.53        44\n",
            "           Facts       0.68      0.88      0.77       496\n",
            "         Invalid       0.53      0.47      0.50       161\n",
            "           Issue       0.64      0.35      0.46        51\n",
            "Rule/Law/Holding       0.51      0.28      0.36        65\n",
            "\n",
            "        accuracy                           0.63       967\n",
            "       macro avg       0.60      0.45      0.50       967\n",
            "    weighted avg       0.62      0.63      0.61       967\n",
            "\n"
          ],
          "name": "stdout"
        }
      ]
    },
    {
      "cell_type": "code",
      "metadata": {
        "colab": {
          "base_uri": "https://localhost:8080/"
        },
        "id": "KOEPX84mFDmX",
        "outputId": "114b7f55-4701-45d5-c7fc-99fce44b530a"
      },
      "source": [
        "x_un3 = tfidf_vect.transform(unlabel_3['Sentence'])\r\n",
        "pred_unlabel_3 = model_2.predict_proba(x_un3)\r\n",
        "\r\n",
        "pos=[]\r\n",
        "large=[]\r\n",
        "ind = []\r\n",
        "i=0\r\n",
        "for j in pred_unlabel_3:\r\n",
        "  if max(j)> 0.98:\r\n",
        "    ind.append(np.argmax(j))\r\n",
        "    large.append(max(j))\r\n",
        "    pos.append(i)\r\n",
        "  i+=1\r\n",
        "\r\n",
        "\r\n",
        "print(ind)\r\n",
        "print(large)\r\n",
        "print(pos)\r\n",
        "print(len(ind))\r\n",
        "print(len(large))\r\n",
        "print(len(pos))"
      ],
      "execution_count": null,
      "outputs": [
        {
          "output_type": "stream",
          "text": [
            "[0, 2, 2, 2, 3, 3, 2, 2, 3, 2, 2, 3, 3, 2, 2, 2, 2, 2, 2, 2, 2, 2, 2, 0, 2, 2, 2, 2, 2, 2, 2, 2, 2, 2, 3, 2, 3, 2, 2, 3, 1, 5, 2, 2, 2, 2, 2, 2, 2, 3, 2, 3, 2, 2, 2, 2, 0, 3, 0, 2, 2, 4, 2, 2, 2, 2, 2]\n",
            "[0.9973206719663372, 0.996293923396472, 0.9974769433466453, 0.997168002964363, 0.9933682984615817, 0.9913476520322057, 0.998487469068388, 0.9982510625975011, 0.9932126818994291, 0.9857628927560089, 0.9988040151840573, 0.9987730568507099, 0.9988977412751666, 0.9984875094100456, 0.9957381155461976, 0.998293745236125, 0.9862284989058661, 0.9968898602869556, 0.9969274928480397, 0.9987807045979098, 0.987734153111402, 0.9800316626381685, 0.9985354149453538, 0.9982767195974864, 0.9937563848704373, 0.9960085747731514, 0.9968342459443403, 0.998668965338729, 0.9955470328882898, 0.9937438163453713, 0.9959329319288968, 0.9955722754684907, 0.9983836229973884, 0.997103745490932, 0.987224705484115, 0.9985158038203968, 0.9948852678730941, 0.9938566137705038, 0.9983585682428157, 0.9978927770725301, 0.998481220940649, 0.990056402369149, 0.9985120201718128, 0.9895071717117867, 0.9985161331513718, 0.9869599780760432, 0.9961177789619342, 0.9982214639783307, 0.9984158155329097, 0.9986447843709022, 0.9982483868814304, 0.9940609757779119, 0.9985602841946053, 0.997200451713298, 0.9967928309395255, 0.9974513425841902, 0.9840627424815129, 0.9899483779857664, 0.9956754451438673, 0.9958168467469269, 0.9985347916439695, 0.9983530472054328, 0.9983370188254062, 0.9850059596978636, 0.9986699517868103, 0.9926638966568242, 0.996558799810417]\n",
            "[0, 2, 3, 4, 5, 6, 7, 8, 9, 10, 12, 14, 15, 17, 18, 20, 24, 25, 26, 27, 28, 29, 30, 32, 33, 34, 35, 36, 39, 40, 41, 42, 43, 46, 48, 49, 50, 51, 52, 54, 56, 58, 63, 64, 65, 66, 67, 68, 70, 71, 72, 74, 75, 78, 79, 80, 81, 82, 85, 88, 89, 90, 91, 93, 96, 97, 98]\n",
            "67\n",
            "67\n",
            "67\n"
          ],
          "name": "stdout"
        }
      ]
    },
    {
      "cell_type": "code",
      "metadata": {
        "colab": {
          "base_uri": "https://localhost:8080/"
        },
        "id": "OfMhW3EkFN_e",
        "outputId": "2b920721-4e95-422d-fec8-f52173f18193"
      },
      "source": [
        "unlabel_3=unlabel_3.loc[pos,:]\r\n",
        "frame_3 = [train9_2,unlabel_3]\r\n",
        "train9_3 = pd.concat(frame_3)\r\n",
        "\r\n",
        "x_train_3 = tfidf_vect.transform(train9_3['Sentence'])\r\n",
        "X_train, x_val, Y_train, y_val = train_test_split(x_train_3,train9_3['Target'],test_size=0.2,random_state=42)\r\n",
        "support = RandomForestClassifier()\r\n",
        "clf = support.fit(X_train, Y_train)\r\n",
        "calibrator = CalibratedClassifierCV(clf, cv='prefit')\r\n",
        "model_3=calibrator.fit(X_train, Y_train)\r\n",
        "pred_svm = model_3.predict(x_val)\r\n",
        "print('Accuracy %s' % accuracy_score(pred_svm,y_val))\r\n",
        "print(classification_report(y_val,pred_svm))"
      ],
      "execution_count": null,
      "outputs": [
        {
          "output_type": "stream",
          "text": [
            "Accuracy 0.6465753424657534\n",
            "                  precision    recall  f1-score   support\n",
            "\n",
            "        Analysis       0.38      0.32      0.34        98\n",
            "      Conclusion       0.63      0.45      0.52        38\n",
            "           Facts       0.72      0.87      0.79       377\n",
            "         Invalid       0.56      0.54      0.55       109\n",
            "           Issue       0.58      0.38      0.46        48\n",
            "Rule/Law/Holding       0.66      0.32      0.43        60\n",
            "\n",
            "        accuracy                           0.65       730\n",
            "       macro avg       0.59      0.48      0.51       730\n",
            "    weighted avg       0.63      0.65      0.63       730\n",
            "\n"
          ],
          "name": "stdout"
        }
      ]
    },
    {
      "cell_type": "code",
      "metadata": {
        "colab": {
          "base_uri": "https://localhost:8080/"
        },
        "id": "CRr8oe3pFpJ2",
        "outputId": "0ce63a14-acb6-4fe4-bbf6-b2792d634239"
      },
      "source": [
        "x_un4 = tfidf_vect.transform(unlabel_4['Sentence'])\r\n",
        "pred_unlabel_4 = model_3.predict_proba(x_un4)\r\n",
        "\r\n",
        "\r\n",
        "pos=[]\r\n",
        "large=[]\r\n",
        "ind = []\r\n",
        "i=0\r\n",
        "for j in pred_unlabel_4:\r\n",
        "  if max(j)> 0.98:\r\n",
        "    ind.append(np.argmax(j))\r\n",
        "    large.append(max(j))\r\n",
        "    pos.append(i)\r\n",
        "  i+=1\r\n",
        "\r\n",
        "\r\n",
        "print(ind)\r\n",
        "print(large)\r\n",
        "print(pos)\r\n",
        "print(len(ind))\r\n",
        "print(len(large))\r\n",
        "print(len(pos))"
      ],
      "execution_count": null,
      "outputs": [
        {
          "output_type": "stream",
          "text": [
            "[3, 2, 0, 3, 2, 5, 2, 2, 2, 2, 2, 3, 3, 2, 2, 2, 2, 3, 2, 2, 2, 2, 2, 2, 3, 2, 2, 2, 2, 2, 2, 2, 2, 2, 3, 0, 2, 2, 5, 3, 0, 2, 2, 2, 2, 3, 2, 2, 2, 2, 2, 2, 3, 2, 3, 2, 2, 2, 2, 2, 2]\n",
            "[0.9981630781351405, 0.9893841826553714, 0.9823718362872865, 0.9809877662834804, 0.9983357823105012, 0.9956624493720856, 0.9985373622137133, 0.9948074337135837, 0.987696618533047, 0.9989399109983386, 0.9986890472085322, 0.9944735065406899, 0.9906694216603605, 0.9985504906164662, 0.9983283125243047, 0.9854630516119373, 0.9988917445391199, 0.9984506875678912, 0.9980864867918161, 0.9976879624838597, 0.9932512007292349, 0.9985400687079422, 0.9983281734431787, 0.9986470012562021, 0.9970801817679793, 0.9954858045563438, 0.9987973038258394, 0.998459051225272, 0.99791294662026, 0.9984708225910747, 0.9905784938423785, 0.9987567928530673, 0.996285821262385, 0.9948550613222723, 0.9949096304185612, 0.990815225734065, 0.9965175884674856, 0.9970676072580452, 0.985454887858881, 0.9950259096800607, 0.9987863302095944, 0.9985585454946441, 0.9963938770843539, 0.9983004890688973, 0.9943895710148165, 0.9989541826268467, 0.9981769145321241, 0.9988017782373508, 0.9920981406478105, 0.9972620320872413, 0.98688964806578, 0.998527614334341, 0.996917677613933, 0.9916523017568843, 0.9987009440386458, 0.9978414747583514, 0.9906468665640065, 0.9960761508619556, 0.9906074527160497, 0.9981200826102676, 0.9873893971544975]\n",
            "[0, 1, 2, 3, 4, 6, 7, 8, 9, 10, 11, 13, 14, 15, 16, 17, 18, 20, 21, 22, 27, 29, 30, 31, 32, 34, 35, 37, 38, 40, 42, 49, 55, 56, 58, 59, 60, 63, 65, 66, 67, 69, 70, 71, 72, 73, 74, 75, 79, 82, 83, 85, 86, 87, 88, 89, 90, 91, 93, 97, 99]\n",
            "61\n",
            "61\n",
            "61\n"
          ],
          "name": "stdout"
        }
      ]
    },
    {
      "cell_type": "code",
      "metadata": {
        "id": "-p3HfSQ2FwV_"
      },
      "source": [
        "unlabel_4=unlabel_4.loc[pos,:]"
      ],
      "execution_count": null,
      "outputs": []
    },
    {
      "cell_type": "code",
      "metadata": {
        "colab": {
          "base_uri": "https://localhost:8080/"
        },
        "id": "iR8Ghl7oF5E6",
        "outputId": "30a17cc5-9fa4-47b9-ef0a-95da9771f4e9"
      },
      "source": [
        "frame_4 = [train9_3,unlabel_4]\r\n",
        "train9_4 = pd.concat(frame_4)\r\n",
        "len(train9_4)\r\n",
        "x_train_4 = tfidf_vect.transform(train9_4['Sentence'])\r\n",
        "X_train, x_val, Y_train, y_val = train_test_split(x_train_4,train9_4['Target'],test_size=0.27,random_state=42)\r\n",
        "support = RandomForestClassifier()\r\n",
        "clf = support.fit(X_train, Y_train)\r\n",
        "calibrator = CalibratedClassifierCV(clf, cv='prefit')\r\n",
        "model_4=calibrator.fit(X_train, Y_train)\r\n",
        "pred_svm = model_4.predict(x_val)\r\n",
        "print('Accuracy %s' % accuracy_score(pred_svm,y_val))\r\n",
        "print(classification_report(y_val,pred_svm))"
      ],
      "execution_count": null,
      "outputs": [
        {
          "output_type": "stream",
          "text": [
            "Accuracy 0.6586826347305389\n",
            "                  precision    recall  f1-score   support\n",
            "\n",
            "        Analysis       0.46      0.29      0.36       143\n",
            "      Conclusion       0.66      0.45      0.53        56\n",
            "           Facts       0.72      0.91      0.80       530\n",
            "         Invalid       0.56      0.50      0.53       150\n",
            "           Issue       0.57      0.38      0.45        56\n",
            "Rule/Law/Holding       0.50      0.19      0.28        67\n",
            "\n",
            "        accuracy                           0.66      1002\n",
            "       macro avg       0.58      0.45      0.49      1002\n",
            "    weighted avg       0.63      0.66      0.63      1002\n",
            "\n"
          ],
          "name": "stdout"
        }
      ]
    },
    {
      "cell_type": "code",
      "metadata": {
        "colab": {
          "base_uri": "https://localhost:8080/"
        },
        "id": "LquDQOH_GPad",
        "outputId": "b84d4905-12ef-4bb8-cd3f-3a60875c16fc"
      },
      "source": [
        "x_un5 = tfidf_vect.transform(unlabel_5['Sentence'])\r\n",
        "\r\n",
        "pred_unlabel_5 = model_4.predict_proba(x_un5)\r\n",
        "pos=[]\r\n",
        "large=[]\r\n",
        "ind = []\r\n",
        "i=0\r\n",
        "for j in pred_unlabel_5:\r\n",
        "  if max(j)> 0.98:\r\n",
        "    ind.append(np.argmax(j))\r\n",
        "    large.append(max(j))\r\n",
        "    pos.append(i)\r\n",
        "  i+=1\r\n",
        "\r\n",
        "\r\n",
        "print(ind)\r\n",
        "print(large)\r\n",
        "print(pos)\r\n",
        "print(len(ind))\r\n",
        "print(len(large))\r\n",
        "print(len(pos))"
      ],
      "execution_count": null,
      "outputs": [
        {
          "output_type": "stream",
          "text": [
            "[3, 2, 3, 3, 2, 3, 1, 4, 2, 5, 3, 3, 2, 2, 2, 2, 2, 2, 2, 2, 0, 2, 2, 1, 2, 2, 2, 2, 2, 3, 3, 2, 3, 2, 2, 2, 0, 2, 2, 2, 3, 2, 5, 2, 2, 2, 2, 2, 2, 2, 2, 2, 2, 2, 2, 2, 3, 0, 2, 3, 2, 2]\n",
            "[0.9908100571622775, 0.9989287464961317, 0.9962174598248675, 0.9929546147010921, 0.9897603575669376, 0.9928925265912741, 0.9956008085344945, 0.9919348015058187, 0.9978250755399719, 0.9957068955790697, 0.9988351149400142, 0.9896506418453791, 0.9984209069675626, 0.9979374079384161, 0.9823401410806418, 0.9972643986347364, 0.9929895022003975, 0.9966039120379129, 0.9892052242629548, 0.9960177872213705, 0.989060198728218, 0.998944843386434, 0.9961280081380425, 0.9982265755392767, 0.9954752182643649, 0.9921142806905165, 0.9967002653608105, 0.998944843386434, 0.998747892797089, 0.9949544138170232, 0.9929546147010921, 0.9974771845648147, 0.9984283572722563, 0.9948567813225633, 0.9983181473559503, 0.9948835310699173, 0.989060198728218, 0.9969117533691779, 0.9976760666196193, 0.9975962421318979, 0.9979880030286569, 0.9967460509731132, 0.9984100533596258, 0.9933491270389458, 0.9964181822423729, 0.9987462538408092, 0.9888006598562606, 0.985250238237962, 0.9984943952742191, 0.9917201509444109, 0.9976754541954601, 0.9986903941590702, 0.9987377898035419, 0.9931352570179313, 0.988117330383765, 0.9967909299284379, 0.9947057903033708, 0.9901503504543531, 0.9839501543093276, 0.9921046556870349, 0.9955964474776505, 0.9959998623104663]\n",
            "[1, 3, 4, 5, 7, 8, 10, 15, 17, 18, 19, 20, 22, 23, 25, 26, 27, 28, 29, 30, 31, 32, 33, 36, 39, 40, 50, 52, 53, 54, 55, 56, 57, 59, 60, 63, 64, 65, 67, 68, 69, 73, 74, 77, 78, 82, 84, 85, 86, 90, 92, 94, 95, 97, 101, 102, 107, 110, 111, 115, 116, 118]\n",
            "62\n",
            "62\n",
            "62\n"
          ],
          "name": "stdout"
        }
      ]
    },
    {
      "cell_type": "code",
      "metadata": {
        "id": "P1MxKadbHypp"
      },
      "source": [
        "unlabel_5 = unlabel_5.loc[pos,:]"
      ],
      "execution_count": null,
      "outputs": []
    },
    {
      "cell_type": "code",
      "metadata": {
        "colab": {
          "base_uri": "https://localhost:8080/"
        },
        "id": "DKlIotQ2H59h",
        "outputId": "d29bdd6b-c245-4b02-bab2-59ff9ead4d6d"
      },
      "source": [
        "frame_5 = [train9_4,unlabel_5]\r\n",
        "train9_5 = pd.concat(frame_5)\r\n",
        "len(train9_5)\r\n",
        "x_train_5 = tfidf_vect.transform(train9_5['Sentence'])\r\n",
        "X_train, x_val, Y_train, y_val = train_test_split(x_train_5,train9_5['Target'],test_size=0.27,random_state=42)\r\n",
        "support = RandomForestClassifier()\r\n",
        "clf = support.fit(X_train, Y_train)\r\n",
        "calibrator = CalibratedClassifierCV(clf, cv='prefit')\r\n",
        "model_5=calibrator.fit(X_train, Y_train)\r\n",
        "pred_svm = model_5.predict(x_val)\r\n",
        "print('Accuracy %s' % accuracy_score(pred_svm,y_val))\r\n",
        "print(classification_report(y_val,pred_svm))"
      ],
      "execution_count": null,
      "outputs": [
        {
          "output_type": "stream",
          "text": [
            "Accuracy 0.6669941060903732\n",
            "                  precision    recall  f1-score   support\n",
            "\n",
            "        Analysis       0.49      0.35      0.40       142\n",
            "      Conclusion       0.83      0.46      0.60        54\n",
            "           Facts       0.72      0.89      0.80       543\n",
            "         Invalid       0.51      0.55      0.53       143\n",
            "           Issue       0.62      0.43      0.51        54\n",
            "Rule/Law/Holding       0.71      0.27      0.39        82\n",
            "\n",
            "        accuracy                           0.67      1018\n",
            "       macro avg       0.65      0.49      0.54      1018\n",
            "    weighted avg       0.66      0.67      0.65      1018\n",
            "\n"
          ],
          "name": "stdout"
        }
      ]
    },
    {
      "cell_type": "code",
      "metadata": {
        "colab": {
          "base_uri": "https://localhost:8080/"
        },
        "id": "WwXcxHFUIBUX",
        "outputId": "59b798d7-0c57-417c-8034-8b83b3f2f4bf"
      },
      "source": [
        "t_p = tfidf_vect.transform(test['Sentence'])\r\n",
        "test_pred = model_5.predict(t_p)\r\n",
        "print('Accuracy %s' % accuracy_score(test_pred,test['Target']))"
      ],
      "execution_count": null,
      "outputs": [
        {
          "output_type": "stream",
          "text": [
            "Accuracy 0.72552783109405\n"
          ],
          "name": "stdout"
        }
      ]
    },
    {
      "cell_type": "code",
      "metadata": {
        "id": "Uv1bYL7DffVm",
        "colab": {
          "base_uri": "https://localhost:8080/"
        },
        "outputId": "387743d3-fd70-4682-859c-ac5a72d89b8f"
      },
      "source": [
        "from sklearn.metrics import precision_recall_fscore_support\r\n",
        "print(precision_recall_fscore_support(test['Target'],test_pred,average='macro'))"
      ],
      "execution_count": null,
      "outputs": [
        {
          "output_type": "stream",
          "text": [
            "(0.6979592702484215, 0.5876939609689512, 0.6257567597350074, None)\n"
          ],
          "name": "stdout"
        }
      ]
    }
  ]
}